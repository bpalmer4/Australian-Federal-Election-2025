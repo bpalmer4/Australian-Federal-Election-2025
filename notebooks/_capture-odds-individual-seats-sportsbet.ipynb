{
 "cells": [
  {
   "cell_type": "markdown",
   "id": "f6e6834d",
   "metadata": {},
   "source": [
    "# Capture odds - individual seats at sportsbet\n",
    "\n",
    "Note: this notebook is for ease of testing. Convert to a python file and move to the automated directory.\n",
    "\n",
    "To do this ...\n",
    "```\n",
    "jupyter nbconvert \"_capture-odds-individual-seats-sportsbet.ipynb\" --to python \n",
    "chmod 700 \"_capture-odds-individual-seats-sportsbet.py\"\n",
    "mv \"_capture-odds-individual-seats-sportsbet.py\" ../automated ```"
   ]
  },
  {
   "cell_type": "markdown",
   "id": "a3274aea",
   "metadata": {},
   "source": [
    "Shell file called by cron:\n",
    "```\n",
    "#!/bin/zsh\n",
    "#crontab: 57 7 * * * /Users/bryanpalmer/Australian-Federal-Election-2025/automated/electorate-betting.sh\n",
    "\n",
    "# set-up parameters\n",
    "home=/Users/bryanpalmer\n",
    "working=Australian-Federal-Election-2025/automated\n",
    "runrun=_capture-odds-individual-seats-sportsbet.py\n",
    "mmenv=313\n",
    "\n",
    "# move to the home directory\n",
    "cd $home\n",
    "\n",
    "# move to the working directory\n",
    "cd $working\n",
    "\n",
    "#initiate the data capture\n",
    "$home/micromamba/envs/$mmenv/bin/python ./$runrun >>log-en.log 2>> err-eb.log\n",
    "\n",
    "# update git\n",
    "git commit \"../betting-data/sportsbet-2025-electorate-betting.csv\" -m \"data update\"\n",
    "git push\n",
    "```"
   ]
  },
  {
   "cell_type": "markdown",
   "id": "e9b68c04",
   "metadata": {},
   "source": [
    "## Python setup"
   ]
  },
  {
   "cell_type": "code",
   "execution_count": 1,
   "id": "564a76be",
   "metadata": {
    "ExecuteTime": {
     "end_time": "2022-01-28T00:14:56.005758Z",
     "start_time": "2022-01-28T00:14:49.402489Z"
    }
   },
   "outputs": [
    {
     "name": "stdout",
     "output_type": "stream",
     "text": [
      "webdriver_manager version: 4.0.2\n"
     ]
    }
   ],
   "source": [
    "# System imports\n",
    "import re\n",
    "import datetime\n",
    "from pathlib import Path\n",
    "from time import sleep\n",
    "\n",
    "# data science imports\n",
    "import numpy as np\n",
    "import pandas as pd\n",
    "import matplotlib.pyplot as plt\n",
    "\n",
    "# web scraping imports\n",
    "from bs4 import BeautifulSoup\n",
    "import webdriver_manager\n",
    "from webdriver_manager.chrome import ChromeDriverManager\n",
    "from selenium import webdriver\n",
    "from selenium.webdriver.common.by import By\n",
    "from selenium.webdriver.chrome.service import Service as ChromeService\n",
    "from selenium.webdriver.common.keys import Keys\n",
    "from webdriver_manager.chrome import ChromeDriverManager\n",
    "print(f\"webdriver_manager version: {webdriver_manager.__version__}\")\n"
   ]
  },
  {
   "cell_type": "markdown",
   "id": "cef501ea",
   "metadata": {
    "ExecuteTime": {
     "end_time": "2021-12-19T03:37:57.611094Z",
     "start_time": "2021-12-19T03:37:57.608964Z"
    }
   },
   "source": [
    "## Selenium - get web page"
   ]
  },
  {
   "cell_type": "code",
   "execution_count": null,
   "id": "14a3e18d",
   "metadata": {
    "ExecuteTime": {
     "end_time": "2022-01-28T00:14:56.018388Z",
     "start_time": "2022-01-28T00:14:56.011669Z"
    }
   },
   "outputs": [
    {
     "ename": "WebDriverException",
     "evalue": "Message: Service /Users/bryanpalmer/.wdm/drivers/chromedriver/mac64/134.0.6998.165/chromedriver-mac-arm64/chromedriver unexpectedly exited. Status code was: -9\n",
     "output_type": "error",
     "traceback": [
      "\u001b[31m---------------------------------------------------------------------------\u001b[39m",
      "\u001b[31mWebDriverException\u001b[39m                        Traceback (most recent call last)",
      "\u001b[36mCell\u001b[39m\u001b[36m \u001b[39m\u001b[32mIn[2]\u001b[39m\u001b[32m, line 44\u001b[39m\n\u001b[32m     39\u001b[39m     driver.close()\n\u001b[32m     41\u001b[39m     \u001b[38;5;28;01mreturn\u001b[39;00m soup\n\u001b[32m---> \u001b[39m\u001b[32m44\u001b[39m SOUP = \u001b[43mcapture_url\u001b[49m\u001b[43m(\u001b[49m\u001b[43m)\u001b[49m\n",
      "\u001b[36mCell\u001b[39m\u001b[36m \u001b[39m\u001b[32mIn[2]\u001b[39m\u001b[32m, line 18\u001b[39m, in \u001b[36mcapture_url\u001b[39m\u001b[34m(url)\u001b[39m\n\u001b[32m     16\u001b[39m options.add_argument(\u001b[33m\"\u001b[39m\u001b[33m--incognito\u001b[39m\u001b[33m\"\u001b[39m)\n\u001b[32m     17\u001b[39m options.add_argument(\u001b[33m\"\u001b[39m\u001b[33m--headless\u001b[39m\u001b[33m\"\u001b[39m)\n\u001b[32m---> \u001b[39m\u001b[32m18\u001b[39m driver = \u001b[43mwebdriver\u001b[49m\u001b[43m.\u001b[49m\u001b[43mChrome\u001b[49m\u001b[43m(\u001b[49m\u001b[43mservice\u001b[49m\u001b[43m=\u001b[49m\u001b[43mservice\u001b[49m\u001b[43m,\u001b[49m\u001b[43m \u001b[49m\u001b[43moptions\u001b[49m\u001b[43m=\u001b[49m\u001b[43moptions\u001b[49m\u001b[43m)\u001b[49m\n\u001b[32m     19\u001b[39m driver.implicitly_wait(\u001b[32m15\u001b[39m)\n\u001b[32m     21\u001b[39m \u001b[38;5;66;03m# get the page\u001b[39;00m\n",
      "\u001b[36mFile \u001b[39m\u001b[32m~/micromamba/envs/313/lib/python3.13/site-packages/selenium/webdriver/chrome/webdriver.py:45\u001b[39m, in \u001b[36mWebDriver.__init__\u001b[39m\u001b[34m(self, options, service, keep_alive)\u001b[39m\n\u001b[32m     42\u001b[39m service = service \u001b[38;5;28;01mif\u001b[39;00m service \u001b[38;5;28;01melse\u001b[39;00m Service()\n\u001b[32m     43\u001b[39m options = options \u001b[38;5;28;01mif\u001b[39;00m options \u001b[38;5;28;01melse\u001b[39;00m Options()\n\u001b[32m---> \u001b[39m\u001b[32m45\u001b[39m \u001b[38;5;28;43msuper\u001b[39;49m\u001b[43m(\u001b[49m\u001b[43m)\u001b[49m\u001b[43m.\u001b[49m\u001b[34;43m__init__\u001b[39;49m\u001b[43m(\u001b[49m\n\u001b[32m     46\u001b[39m \u001b[43m    \u001b[49m\u001b[43mbrowser_name\u001b[49m\u001b[43m=\u001b[49m\u001b[43mDesiredCapabilities\u001b[49m\u001b[43m.\u001b[49m\u001b[43mCHROME\u001b[49m\u001b[43m[\u001b[49m\u001b[33;43m\"\u001b[39;49m\u001b[33;43mbrowserName\u001b[39;49m\u001b[33;43m\"\u001b[39;49m\u001b[43m]\u001b[49m\u001b[43m,\u001b[49m\n\u001b[32m     47\u001b[39m \u001b[43m    \u001b[49m\u001b[43mvendor_prefix\u001b[49m\u001b[43m=\u001b[49m\u001b[33;43m\"\u001b[39;49m\u001b[33;43mgoog\u001b[39;49m\u001b[33;43m\"\u001b[39;49m\u001b[43m,\u001b[49m\n\u001b[32m     48\u001b[39m \u001b[43m    \u001b[49m\u001b[43moptions\u001b[49m\u001b[43m=\u001b[49m\u001b[43moptions\u001b[49m\u001b[43m,\u001b[49m\n\u001b[32m     49\u001b[39m \u001b[43m    \u001b[49m\u001b[43mservice\u001b[49m\u001b[43m=\u001b[49m\u001b[43mservice\u001b[49m\u001b[43m,\u001b[49m\n\u001b[32m     50\u001b[39m \u001b[43m    \u001b[49m\u001b[43mkeep_alive\u001b[49m\u001b[43m=\u001b[49m\u001b[43mkeep_alive\u001b[49m\u001b[43m,\u001b[49m\n\u001b[32m     51\u001b[39m \u001b[43m\u001b[49m\u001b[43m)\u001b[49m\n",
      "\u001b[36mFile \u001b[39m\u001b[32m~/micromamba/envs/313/lib/python3.13/site-packages/selenium/webdriver/chromium/webdriver.py:55\u001b[39m, in \u001b[36mChromiumDriver.__init__\u001b[39m\u001b[34m(self, browser_name, vendor_prefix, options, service, keep_alive)\u001b[39m\n\u001b[32m     52\u001b[39m     options.browser_version = \u001b[38;5;28;01mNone\u001b[39;00m\n\u001b[32m     54\u001b[39m \u001b[38;5;28mself\u001b[39m.service.path = \u001b[38;5;28mself\u001b[39m.service.env_path() \u001b[38;5;129;01mor\u001b[39;00m finder.get_driver_path()\n\u001b[32m---> \u001b[39m\u001b[32m55\u001b[39m \u001b[38;5;28;43mself\u001b[39;49m\u001b[43m.\u001b[49m\u001b[43mservice\u001b[49m\u001b[43m.\u001b[49m\u001b[43mstart\u001b[49m\u001b[43m(\u001b[49m\u001b[43m)\u001b[49m\n\u001b[32m     57\u001b[39m executor = ChromiumRemoteConnection(\n\u001b[32m     58\u001b[39m     remote_server_addr=\u001b[38;5;28mself\u001b[39m.service.service_url,\n\u001b[32m     59\u001b[39m     browser_name=browser_name,\n\u001b[32m   (...)\u001b[39m\u001b[32m     62\u001b[39m     ignore_proxy=options._ignore_local_proxy,\n\u001b[32m     63\u001b[39m )\n\u001b[32m     65\u001b[39m \u001b[38;5;28;01mtry\u001b[39;00m:\n",
      "\u001b[36mFile \u001b[39m\u001b[32m~/micromamba/envs/313/lib/python3.13/site-packages/selenium/webdriver/common/service.py:113\u001b[39m, in \u001b[36mService.start\u001b[39m\u001b[34m(self)\u001b[39m\n\u001b[32m    111\u001b[39m count = \u001b[32m0\u001b[39m\n\u001b[32m    112\u001b[39m \u001b[38;5;28;01mwhile\u001b[39;00m \u001b[38;5;28;01mTrue\u001b[39;00m:\n\u001b[32m--> \u001b[39m\u001b[32m113\u001b[39m     \u001b[38;5;28;43mself\u001b[39;49m\u001b[43m.\u001b[49m\u001b[43massert_process_still_running\u001b[49m\u001b[43m(\u001b[49m\u001b[43m)\u001b[49m\n\u001b[32m    114\u001b[39m     \u001b[38;5;28;01mif\u001b[39;00m \u001b[38;5;28mself\u001b[39m.is_connectable():\n\u001b[32m    115\u001b[39m         \u001b[38;5;28;01mbreak\u001b[39;00m\n",
      "\u001b[36mFile \u001b[39m\u001b[32m~/micromamba/envs/313/lib/python3.13/site-packages/selenium/webdriver/common/service.py:126\u001b[39m, in \u001b[36mService.assert_process_still_running\u001b[39m\u001b[34m(self)\u001b[39m\n\u001b[32m    124\u001b[39m return_code = \u001b[38;5;28mself\u001b[39m.process.poll()\n\u001b[32m    125\u001b[39m \u001b[38;5;28;01mif\u001b[39;00m return_code:\n\u001b[32m--> \u001b[39m\u001b[32m126\u001b[39m     \u001b[38;5;28;01mraise\u001b[39;00m WebDriverException(\u001b[33mf\u001b[39m\u001b[33m\"\u001b[39m\u001b[33mService \u001b[39m\u001b[38;5;132;01m{\u001b[39;00m\u001b[38;5;28mself\u001b[39m._path\u001b[38;5;132;01m}\u001b[39;00m\u001b[33m unexpectedly exited. Status code was: \u001b[39m\u001b[38;5;132;01m{\u001b[39;00mreturn_code\u001b[38;5;132;01m}\u001b[39;00m\u001b[33m\"\u001b[39m)\n",
      "\u001b[31mWebDriverException\u001b[39m: Message: Service /Users/bryanpalmer/.wdm/drivers/chromedriver/mac64/134.0.6998.165/chromedriver-mac-arm64/chromedriver unexpectedly exited. Status code was: -9\n"
     ]
    }
   ],
   "source": [
    "def capture_url(\n",
    "    url: str = (\n",
    "        \"https://www.sportsbet.com.au/betting/politics/\"\n",
    "        + \"australian-federal-politics/electorate-betting-8866861\"\n",
    "    )\n",
    ") -> BeautifulSoup:\n",
    "    \"\"\"Get the web page and return a BeautifulSoup object.\"\"\"\n",
    "\n",
    "    # Note you might need to delete the webdriver-manager cache if you get an error\n",
    "    # rm -rf ~/.wdm\n",
    "\n",
    "    # set up the webdriver\n",
    "    service = ChromeService(ChromeDriverManager().install())\n",
    "    options = webdriver.ChromeOptions()\n",
    "    options.add_argument(\"--ignore-certificate-errors\")\n",
    "    options.add_argument(\"--incognito\")\n",
    "    options.add_argument(\"--headless\")\n",
    "\n",
    "    # fire up the driver\n",
    "    driver = webdriver.Chrome(service=service, options=options)\n",
    "    driver.implicitly_wait(15)\n",
    "\n",
    "    # get the page\n",
    "    driver.get(url)\n",
    "\n",
    "    # open up all of the chevrons ...\n",
    "    action = webdriver.ActionChains(driver)\n",
    "    for rounds in range(3):\n",
    "        unexpanded_divs = driver.find_elements(By.XPATH, \"//div[@data-automation-id='chevron-closed']\")\n",
    "        if len(unexpanded_divs) == 0:\n",
    "            break\n",
    "        print(f\"Found {len(unexpanded_divs)} unexpanded divs\")\n",
    "        for div in unexpanded_divs:\n",
    "            action.move_to_element(div)\n",
    "            action.click()\n",
    "            action.perform()\n",
    "            sleep(1)\n",
    "\n",
    "    # convert to soup\n",
    "    soup = BeautifulSoup(driver.page_source, \"lxml\")\n",
    "    driver.close()\n",
    "    \n",
    "    return soup\n",
    "\n",
    "\n",
    "SOUP = capture_url()"
   ]
  },
  {
   "cell_type": "code",
   "execution_count": null,
   "id": "94593a63",
   "metadata": {},
   "outputs": [],
   "source": [
    "# to see what we are working with\n",
    "if False:\n",
    "    with open(\"scraped-data.html\", \"w\") as f:\n",
    "        f.write(SOUP.prettify())"
   ]
  },
  {
   "cell_type": "markdown",
   "id": "13486e4c",
   "metadata": {},
   "source": [
    "## Extract seat odds"
   ]
  },
  {
   "cell_type": "code",
   "execution_count": null,
   "id": "a424e897",
   "metadata": {},
   "outputs": [],
   "source": [
    "def extract_seat_data(soup: BeautifulSoup) -> pd.DataFrame:\n",
    "    \"\"\"Extract the seat data from the soup object.\"\"\"\n",
    "\n",
    "    # find all the seat divs\n",
    "    divs = (\n",
    "        soup.find_all(\"div\", {\"class\": \"content_f1sk4ot6 divider_ffir01h\"})\n",
    "        + soup.find_all(\"div\", {\"class\": \"contentWithRoundedBottomBorders_fm4pkx\"})\n",
    "    )\n",
    "    print(f\"Found {len(divs)} divs\")\n",
    "\n",
    "    # extract the candidates and odds data\n",
    "    mow = pd.Timestamp.now()\n",
    "    extract = pd.DataFrame()\n",
    "    for div in divs:\n",
    "        seat = div.find(\"span\", {\"data-automation-id\": \"event-accordion-title\"}).text.strip()\n",
    "        parties_soup = div.find_all(\"div\", {\"class\": \"eventMarketTextWrapper_fkhz08q\"})\n",
    "        if not len(parties_soup):\n",
    "            parties_soup =  div.find_all(\"div\", {\"class\": \"outcomeName_f2fqq0v\"})\n",
    "        parties = [party.text.strip() for party in parties_soup]\n",
    "        prices_soup = div.find_all(\"div\", {\"class\": \"priceText_f71sibe\"})\n",
    "        prices = [price.text.strip() for price in prices_soup]\n",
    "        \n",
    "        for party, price in zip(parties, prices):\n",
    "            row = pd.DataFrame({\n",
    "                \"seat\": [seat],\n",
    "                \"party\": [party],\n",
    "                \"price\": [price],\n",
    "                \"timestamp\": [mow],\n",
    "            })\n",
    "            extract = pd.concat([extract, row], ignore_index=True)\n",
    "    extract = extract.sort_values(by=[\"seat\", \"price\"]).reset_index(drop=True)\n",
    "    return extract\n",
    "\n",
    "\n",
    "ODDS = extract_seat_data(SOUP)"
   ]
  },
  {
   "cell_type": "markdown",
   "id": "8bc0964d",
   "metadata": {},
   "source": [
    "## Append this data to a CSV file"
   ]
  },
  {
   "cell_type": "code",
   "execution_count": null,
   "id": "79bd1309",
   "metadata": {
    "ExecuteTime": {
     "end_time": "2022-01-28T00:17:34.700618Z",
     "start_time": "2022-01-28T00:17:34.700610Z"
    }
   },
   "outputs": [],
   "source": [
    "# save to file\n",
    "FILE = '../betting-data/sportsbet-2025-electorate-betting.csv'\n",
    "ODDS.to_csv(FILE, mode='a', index=True, header=False)"
   ]
  }
 ],
 "metadata": {
  "kernelspec": {
   "display_name": "313",
   "language": "python",
   "name": "python3"
  },
  "language_info": {
   "codemirror_mode": {
    "name": "ipython",
    "version": 3
   },
   "file_extension": ".py",
   "mimetype": "text/x-python",
   "name": "python",
   "nbconvert_exporter": "python",
   "pygments_lexer": "ipython3",
   "version": "3.13.2"
  },
  "toc": {
   "base_numbering": 1,
   "nav_menu": {},
   "number_sections": true,
   "sideBar": true,
   "skip_h1_title": true,
   "title_cell": "Table of Contents",
   "title_sidebar": "Contents",
   "toc_cell": true,
   "toc_position": {},
   "toc_section_display": true,
   "toc_window_display": true
  },
  "varInspector": {
   "cols": {
    "lenName": 16,
    "lenType": 16,
    "lenVar": 40
   },
   "kernels_config": {
    "python": {
     "delete_cmd_postfix": "",
     "delete_cmd_prefix": "del ",
     "library": "var_list.py",
     "varRefreshCmd": "print(var_dic_list())"
    },
    "r": {
     "delete_cmd_postfix": ") ",
     "delete_cmd_prefix": "rm(",
     "library": "var_list.r",
     "varRefreshCmd": "cat(var_dic_list()) "
    }
   },
   "types_to_exclude": [
    "module",
    "function",
    "builtin_function_or_method",
    "instance",
    "_Feature"
   ],
   "window_display": false
  }
 },
 "nbformat": 4,
 "nbformat_minor": 5
}
