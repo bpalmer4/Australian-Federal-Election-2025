{
 "cells": [
  {
   "cell_type": "markdown",
   "id": "f6e6834d",
   "metadata": {},
   "source": [
    "# Capture odds - individual seats at sportsbet\n",
    "\n",
    "Note: this notebook is for ease of testing. Convert to a python file and move to the automated directory.\n",
    "\n",
    "To do this ...\n",
    "```\n",
    "jupyter nbconvert \"_capture-odds-individual-seats-sportsbet.ipynb\" --to python \n",
    "chmod 700 \"_capture-odds-individual-seats-sportsbet.py\"\n",
    "mv \"_capture-odds-individual-seats-sportsbet.py\" ../automated \n",
    "```"
   ]
  },
  {
   "cell_type": "markdown",
   "id": "a3274aea",
   "metadata": {},
   "source": [
    "Shell file called by cron:\n",
    "```\n",
    "#!/bin/zsh\n",
    "#crontab: 57 7 * * * /Users/bryanpalmer/Australian-Federal-Election-2025/automated/electorate-betting.sh\n",
    "\n",
    "# set-up parameters\n",
    "home=/Users/bryanpalmer\n",
    "working=Australian-Federal-Election-2025/automated\n",
    "runrun=_capture-odds-individual-seats-sportsbet.py\n",
    "mmenv=313\n",
    "\n",
    "# move to the home directory\n",
    "cd $home\n",
    "\n",
    "# move to the working directory\n",
    "cd $working\n",
    "\n",
    "#initiate the data capture\n",
    "$home/micromamba/envs/$mmenv/bin/python ./$runrun >>log-eb.log 2>> err-eb.log\n",
    "\n",
    "# update git\n",
    "git commit \"../betting-data/sportsbet-2025-electorate-betting.csv\" -m \"data update\"\n",
    "git push\n",
    "```"
   ]
  },
  {
   "cell_type": "markdown",
   "id": "e9b68c04",
   "metadata": {},
   "source": [
    "## Python setup"
   ]
  },
  {
   "cell_type": "code",
   "execution_count": 1,
   "id": "564a76be",
   "metadata": {
    "ExecuteTime": {
     "end_time": "2022-01-28T00:14:56.005758Z",
     "start_time": "2022-01-28T00:14:49.402489Z"
    }
   },
   "outputs": [
    {
     "name": "stdout",
     "output_type": "stream",
     "text": [
      "webdriver_manager version: 4.0.2\n"
     ]
    }
   ],
   "source": [
    "# System imports\n",
    "from time import sleep\n",
    "\n",
    "# data science imports\n",
    "import pandas as pd\n",
    "\n",
    "# web scraping imports\n",
    "from bs4 import BeautifulSoup\n",
    "import webdriver_manager\n",
    "from webdriver_manager.chrome import ChromeDriverManager\n",
    "from selenium import webdriver\n",
    "from selenium.webdriver.common.by import By\n",
    "from selenium.webdriver.chrome.service import Service as ChromeService\n",
    "\n",
    "print(f\"webdriver_manager version: {webdriver_manager.__version__}\")"
   ]
  },
  {
   "cell_type": "markdown",
   "id": "cef501ea",
   "metadata": {
    "ExecuteTime": {
     "end_time": "2021-12-19T03:37:57.611094Z",
     "start_time": "2021-12-19T03:37:57.608964Z"
    }
   },
   "source": [
    "## Selenium - get web page"
   ]
  },
  {
   "cell_type": "code",
   "execution_count": 2,
   "id": "14a3e18d",
   "metadata": {
    "ExecuteTime": {
     "end_time": "2022-01-28T00:14:56.018388Z",
     "start_time": "2022-01-28T00:14:56.011669Z"
    }
   },
   "outputs": [
    {
     "name": "stdout",
     "output_type": "stream",
     "text": [
      "Found 7 unexpanded divs\n",
      "Found 104 unexpanded divs\n"
     ]
    }
   ],
   "source": [
    "def capture_url(\n",
    "    url: str = (\n",
    "        \"https://www.sportsbet.com.au/betting/politics/\"\n",
    "        + \"australian-federal-politics/electorate-betting-8866861\"\n",
    "    ),\n",
    ") -> BeautifulSoup:\n",
    "    \"\"\"Get the web page and return a BeautifulSoup object.\"\"\"\n",
    "\n",
    "    # Note you might need to delete the webdriver-manager cache if you get an error\n",
    "    # rm -rf ~/.wdm\n",
    "\n",
    "    # set up the webdriver\n",
    "    service = ChromeService(ChromeDriverManager().install())\n",
    "    options = webdriver.ChromeOptions()\n",
    "    options.add_argument(\"--ignore-certificate-errors\")\n",
    "    options.add_argument(\"--incognito\")\n",
    "    options.add_argument(\"--headless\")\n",
    "\n",
    "    # fire up the driver\n",
    "    driver = webdriver.Chrome(service=service, options=options)\n",
    "    driver.implicitly_wait(15)\n",
    "\n",
    "    # get the page\n",
    "    driver.get(url)\n",
    "\n",
    "    # open up all of the chevrons ...\n",
    "    action = webdriver.ActionChains(driver)\n",
    "    for rounds in range(3):\n",
    "        unexpanded_divs = driver.find_elements(\n",
    "            By.XPATH, \"//div[@data-automation-id='chevron-closed']\"\n",
    "        )\n",
    "        if len(unexpanded_divs) == 0:\n",
    "            break\n",
    "        print(f\"Found {len(unexpanded_divs)} unexpanded divs\")\n",
    "        for div in unexpanded_divs:\n",
    "            action.move_to_element(div)\n",
    "            action.click()\n",
    "            action.perform()\n",
    "            sleep(1)\n",
    "\n",
    "    # convert to soup\n",
    "    soup = BeautifulSoup(driver.page_source, \"lxml\")\n",
    "    driver.close()\n",
    "\n",
    "    return soup\n",
    "\n",
    "\n",
    "SOUP = capture_url()"
   ]
  },
  {
   "cell_type": "code",
   "execution_count": 3,
   "id": "94593a63",
   "metadata": {},
   "outputs": [],
   "source": [
    "# to see what we are working with\n",
    "if False:\n",
    "    with open(\"scraped-data.html\", \"w\") as f:\n",
    "        f.write(SOUP.prettify())"
   ]
  },
  {
   "cell_type": "markdown",
   "id": "13486e4c",
   "metadata": {},
   "source": [
    "## Extract seat odds"
   ]
  },
  {
   "cell_type": "code",
   "execution_count": 4,
   "id": "a424e897",
   "metadata": {},
   "outputs": [
    {
     "name": "stdout",
     "output_type": "stream",
     "text": [
      "Found 150 divs\n"
     ]
    }
   ],
   "source": [
    "def extract_seat_data(soup: BeautifulSoup) -> pd.DataFrame:\n",
    "    \"\"\"Extract the seat data from the soup object.\"\"\"\n",
    "\n",
    "    # find all the seat divs\n",
    "    divs = soup.find_all(\n",
    "        \"div\", {\"class\": \"content_f1sk4ot6 divider_ffir01h\"}\n",
    "    ) + soup.find_all(\"div\", {\"class\": \"contentWithRoundedBottomBorders_fm4pkx\"})\n",
    "    print(f\"Found {len(divs)} divs\")\n",
    "\n",
    "    # extract the candidates and odds data\n",
    "    mow = pd.Timestamp.now()\n",
    "    extract = pd.DataFrame()\n",
    "    for div in divs:\n",
    "        seat = div.find(\n",
    "            \"span\", {\"data-automation-id\": \"event-accordion-title\"}\n",
    "        ).text.strip()\n",
    "        parties_soup = div.find_all(\"div\", {\"class\": \"eventMarketTextWrapper_fkhz08q\"})\n",
    "        if not len(parties_soup):\n",
    "            parties_soup = div.find_all(\"div\", {\"class\": \"outcomeName_f2fqq0v\"})\n",
    "        parties = [party.text.strip() for party in parties_soup]\n",
    "        prices_soup = div.find_all(\"div\", {\"class\": \"priceText_f71sibe\"})\n",
    "        prices = [price.text.strip() for price in prices_soup]\n",
    "\n",
    "        for party, price in zip(parties, prices):\n",
    "            row = pd.DataFrame(\n",
    "                {\n",
    "                    \"seat\": [seat],\n",
    "                    \"party\": [party],\n",
    "                    \"price\": [price],\n",
    "                    \"timestamp\": [mow],\n",
    "                }\n",
    "            )\n",
    "            extract = pd.concat([extract, row], ignore_index=True)\n",
    "    extract = extract.sort_values(by=[\"seat\", \"price\"]).reset_index(drop=True)\n",
    "    return extract\n",
    "\n",
    "\n",
    "ODDS = extract_seat_data(SOUP)"
   ]
  },
  {
   "cell_type": "markdown",
   "id": "8bc0964d",
   "metadata": {},
   "source": [
    "## Append this data to a CSV file"
   ]
  },
  {
   "cell_type": "code",
   "execution_count": 5,
   "id": "79bd1309",
   "metadata": {
    "ExecuteTime": {
     "end_time": "2022-01-28T00:17:34.700618Z",
     "start_time": "2022-01-28T00:17:34.700610Z"
    }
   },
   "outputs": [],
   "source": [
    "# save to file\n",
    "FILE = \"../betting-data/sportsbet-2025-electorate-betting.csv\"\n",
    "ODDS.to_csv(FILE, mode=\"a\", index=True, header=False)"
   ]
  }
 ],
 "metadata": {
  "kernelspec": {
   "display_name": "313",
   "language": "python",
   "name": "python3"
  },
  "language_info": {
   "codemirror_mode": {
    "name": "ipython",
    "version": 3
   },
   "file_extension": ".py",
   "mimetype": "text/x-python",
   "name": "python",
   "nbconvert_exporter": "python",
   "pygments_lexer": "ipython3",
   "version": "3.13.2"
  },
  "toc": {
   "base_numbering": 1,
   "nav_menu": {},
   "number_sections": true,
   "sideBar": true,
   "skip_h1_title": true,
   "title_cell": "Table of Contents",
   "title_sidebar": "Contents",
   "toc_cell": true,
   "toc_position": {},
   "toc_section_display": true,
   "toc_window_display": true
  },
  "varInspector": {
   "cols": {
    "lenName": 16,
    "lenType": 16,
    "lenVar": 40
   },
   "kernels_config": {
    "python": {
     "delete_cmd_postfix": "",
     "delete_cmd_prefix": "del ",
     "library": "var_list.py",
     "varRefreshCmd": "print(var_dic_list())"
    },
    "r": {
     "delete_cmd_postfix": ") ",
     "delete_cmd_prefix": "rm(",
     "library": "var_list.r",
     "varRefreshCmd": "cat(var_dic_list()) "
    }
   },
   "types_to_exclude": [
    "module",
    "function",
    "builtin_function_or_method",
    "instance",
    "_Feature"
   ],
   "window_display": false
  }
 },
 "nbformat": 4,
 "nbformat_minor": 5
}
