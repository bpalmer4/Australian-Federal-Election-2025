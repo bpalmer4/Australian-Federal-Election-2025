{
 "cells": [
  {
   "cell_type": "markdown",
   "id": "7b00fd31",
   "metadata": {},
   "source": [
    "# Chart election winner at sportsbet"
   ]
  },
  {
   "cell_type": "markdown",
   "id": "ca41c267",
   "metadata": {},
   "source": [
    "## Python set-up"
   ]
  },
  {
   "cell_type": "code",
   "execution_count": null,
   "id": "7d3bc55b",
   "metadata": {
    "ExecuteTime": {
     "end_time": "2022-03-22T19:52:01.178597Z",
     "start_time": "2022-03-22T19:51:44.732031Z"
    }
   },
   "outputs": [],
   "source": [
    "import matplotlib.pyplot as plt\n",
    "import pandas as pd"
   ]
  },
  {
   "cell_type": "code",
   "execution_count": null,
   "id": "e175b3b1-d858-42bf-9bb8-a258ef69c67e",
   "metadata": {},
   "outputs": [],
   "source": [
    "import plotting"
   ]
  },
  {
   "cell_type": "code",
   "execution_count": null,
   "id": "83a66611-5498-49c8-bdc9-fd556d3b9b26",
   "metadata": {},
   "outputs": [],
   "source": [
    "LFOOTER = \"Betting odds observed daily at sportsbet.com.au (gaps = missing observations).\"\n",
    "footers = plotting.footers | {\"lfooter\": LFOOTER}\n",
    "SHOW = True\n",
    "\n",
    "\n",
    "def set_up_plotting() -> None:\n",
    "    \"\"\"Set up plotting.\"\"\"\n",
    "\n",
    "    p = plotting.get_chart_dir()\n",
    "    plotting.set_chart_dir(p + \"/election-winner/\")\n",
    "    plotting.clear_chart_dir()\n",
    "\n",
    "\n",
    "set_up_plotting()"
   ]
  },
  {
   "cell_type": "markdown",
   "id": "b6ec3056",
   "metadata": {},
   "source": [
    "## Get data"
   ]
  },
  {
   "cell_type": "code",
   "execution_count": null,
   "id": "3747b16d",
   "metadata": {
    "ExecuteTime": {
     "end_time": "2022-03-22T19:52:01.226870Z",
     "start_time": "2022-03-22T19:52:01.185106Z"
    }
   },
   "outputs": [],
   "source": [
    "FILE = \"../betting-data/sportsbet-2025-election-winner.csv\"\n",
    "data = pd.read_csv(FILE, index_col=0, header=0, skiprows=None)\n",
    "data = (\n",
    "    data.pivot(columns=\"Party\")\n",
    "    .droplevel(level=0, axis=1)  # remove hierarchical column index\n",
    ")\n",
    "data['Any Other Result'] = data['Any Other Result'].where(\n",
    "    data['Any Other Result'].notna(),\n",
    "    other=data['Any Other Party']\n",
    ")\n",
    "# convert raw text date-times to period index\n",
    "data.index = pd.PeriodIndex(data.index, freq=\"D\") \n",
    "\n",
    "# remove any duplicate indices and sort\n",
    "data = data[~data.index.duplicated(keep=\"first\")].sort_index() \n",
    "\n",
    "# fill in missing dates - this will be useful for plotting\n",
    "new_index = pd.period_range(start=data.index.min(), end=data.index.max(), freq=\"D\")\n",
    "data = data.reindex(new_index, fill_value=None)\n",
    "\n",
    "any_other_result = data['Any Other Result']\n",
    "data = data.drop(columns=[\"Any Other Party\", 'Any Other Result'])\n",
    "\n",
    "if SHOW:\n",
    "    display(data.tail(10))\n",
    "    display(any_other_result.tail())"
   ]
  },
  {
   "cell_type": "markdown",
   "id": "f63caceb-bc2e-4976-856e-1e0251ca9e82",
   "metadata": {},
   "source": [
    "## Make some charts"
   ]
  },
  {
   "cell_type": "code",
   "execution_count": null,
   "id": "8e180a07-a0df-4912-8e3c-0251724ba2df",
   "metadata": {},
   "outputs": [],
   "source": [
    "colors = plotting.colorise(data.columns)\n",
    "for start in (None, \"2024-11-02\"):\n",
    "    ax = None\n",
    "    this_data = data if start is None else data.loc[start:]\n",
    "    print(this_data.index[0], this_data.index[-1])\n",
    "    for column, color in zip(this_data.columns, colors):\n",
    "        ax = this_data[column].plot.line(color=color, ax=ax)\n",
    "    plotting.finalise_plot(\n",
    "        ax,\n",
    "        title=\"Odds to win the next Australian Federal election\",\n",
    "        xlabel=None,\n",
    "        ylabel=\"$\",\n",
    "        legend=plotting.LEGEND_SET,\n",
    "        concise_dates=True,\n",
    "        tag=\"\" if start is None else start,\n",
    "        **footers,\n",
    "        show=SHOW,\n",
    "    )"
   ]
  },
  {
   "cell_type": "code",
   "execution_count": null,
   "id": "d0a8949a",
   "metadata": {
    "ExecuteTime": {
     "end_time": "2022-03-22T19:52:01.284756Z",
     "start_time": "2022-03-22T19:52:01.282126Z"
    }
   },
   "outputs": [],
   "source": [
    "def convert(odds: pd.DataFrame) -> pd.DataFrame:\n",
    "    # get raw probabilities\n",
    "    raw_probs = 1 / odds\n",
    "\n",
    "    # remove the bookmakers over-round\n",
    "    total = raw_probs.sum(axis=1)\n",
    "    adj_probs = raw_probs.div(total, axis=0)\n",
    "\n",
    "    return adj_probs\n",
    "adj_probs = convert(data) * 100\n",
    "\n",
    "if SHOW:\n",
    "    display(adj_probs.tail().round(2))"
   ]
  },
  {
   "cell_type": "code",
   "execution_count": null,
   "id": "1e69b5d3-f59a-41f6-9046-c2b65e4796a6",
   "metadata": {},
   "outputs": [],
   "source": [
    "for start in (None, \"2024-11-02\"):\n",
    "    ax = None\n",
    "    this_data = adj_probs if start is None else adj_probs.loc[start:]\n",
    "    for column, color in zip(adj_probs.columns, colors):\n",
    "        ax = this_data[column].plot.line(color=color, ax=ax)\n",
    "\n",
    "    LFOOTER = (\n",
    "        \"Probabilities adjusted for bookmaker's overround. \"\n",
    "        \"Long-shot odds ignored when calculating probabilities. \"\n",
    "    )\n",
    "\n",
    "    plotting.finalise_plot(\n",
    "        ax,\n",
    "        title=\"Probability to win the next Australian Federal election\",\n",
    "        xlabel=None,\n",
    "        ylabel=\"Probability (%)\",\n",
    "        legend=plotting.LEGEND_SET,\n",
    "        concise_dates=True,\n",
    "        y50=True,\n",
    "        tag=\"\" if start is None else start,\n",
    "        rfooter=plotting.RFOOTER,\n",
    "        lfooter=LFOOTER,\n",
    "        show=SHOW,\n",
    "    )"
   ]
  },
  {
   "cell_type": "markdown",
   "id": "27680ec7-61f8-41e0-b518-bdaf23e74a15",
   "metadata": {},
   "source": [
    "## Finished"
   ]
  },
  {
   "cell_type": "code",
   "execution_count": null,
   "id": "164b1e93-89a0-4bc8-b578-ba19de4e3a18",
   "metadata": {},
   "outputs": [],
   "source": [
    "%load_ext watermark\n",
    "%watermark --python --machine --conda --iversions --watermark"
   ]
  },
  {
   "cell_type": "code",
   "execution_count": null,
   "id": "2d92a673-64f5-4d67-a1b9-893bc1be4cc6",
   "metadata": {},
   "outputs": [],
   "source": [
    "print(\"It is done\")"
   ]
  }
 ],
 "metadata": {
  "kernelspec": {
   "display_name": "313",
   "language": "python",
   "name": "python3"
  },
  "language_info": {
   "codemirror_mode": {
    "name": "ipython",
    "version": 3
   },
   "file_extension": ".py",
   "mimetype": "text/x-python",
   "name": "python",
   "nbconvert_exporter": "python",
   "pygments_lexer": "ipython3",
   "version": "3.13.3"
  },
  "toc": {
   "base_numbering": 1,
   "nav_menu": {},
   "number_sections": true,
   "sideBar": true,
   "skip_h1_title": true,
   "title_cell": "Table of Contents",
   "title_sidebar": "Contents",
   "toc_cell": true,
   "toc_position": {},
   "toc_section_display": true,
   "toc_window_display": true
  }
 },
 "nbformat": 4,
 "nbformat_minor": 5
}
