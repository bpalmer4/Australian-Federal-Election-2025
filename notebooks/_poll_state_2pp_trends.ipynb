{
 "cells": [
  {
   "cell_type": "markdown",
   "id": "c3373391",
   "metadata": {},
   "source": [
    "# State-by-state 2pp voting trends\n",
    "- Gaussian Random Walk model\n",
    "- but no house-effects model\n",
    "- and not constrained back to any national model"
   ]
  },
  {
   "cell_type": "markdown",
   "id": "17deba81-0a52-461e-a50b-ea1489aeefa3",
   "metadata": {},
   "source": [
    "__NOTE:__\n",
    "* Please run the *_data_capture.ipynb* notebook before running this notebook."
   ]
  },
  {
   "cell_type": "markdown",
   "id": "707e4242-81c1-417e-a9aa-4e0b1fccc639",
   "metadata": {},
   "source": [
    "## Set-up"
   ]
  },
  {
   "cell_type": "code",
   "execution_count": null,
   "id": "f339aa15-4783-4269-8d7e-8daecc453361",
   "metadata": {},
   "outputs": [],
   "source": [
    "# system imports\n",
    "from pathlib import Path\n",
    "from typing import Any, NotRequired, TypedDict\n",
    "from functools import cache\n",
    "\n",
    "# analytic imports\n",
    "import numpy as np\n",
    "import pandas as pd\n",
    "import matplotlib.pyplot as plt\n",
    "from IPython.display import display\n",
    "\n",
    "# PyMC imports\n",
    "import arviz as az  # type: ignore[import-untyped]\n",
    "import pymc as pm  # type: ignore[import-untyped]"
   ]
  },
  {
   "cell_type": "code",
   "execution_count": null,
   "id": "d5bfa5fe-e3da-45a6-a1c2-ca3c326eb18a",
   "metadata": {},
   "outputs": [],
   "source": [
    "# local import\n",
    "import bayes_tools\n",
    "import plotting\n",
    "from common import (\n",
    "    MIDDLE_DATE,\n",
    "    VOTING_INTENTION,\n",
    "    ensure,\n",
    ")\n",
    "from data_capture import retrieve"
   ]
  },
  {
   "cell_type": "code",
   "execution_count": null,
   "id": "fe8b3830-ca4b-4206-b3b2-591eed9038ac",
   "metadata": {},
   "outputs": [],
   "source": [
    "# plotting related\n",
    "SHOW = False  # show charts in the notebook\n",
    "\n",
    "# model diagram\n",
    "MODEL_DIR = \"../model-images/\"\n",
    "Path(MODEL_DIR).mkdir(parents=True, exist_ok=True)"
   ]
  },
  {
   "cell_type": "markdown",
   "id": "ec06486d",
   "metadata": {},
   "source": [
    "### Check operating environment"
   ]
  },
  {
   "cell_type": "code",
   "execution_count": null,
   "id": "f7cac945",
   "metadata": {},
   "outputs": [],
   "source": [
    "%load_ext watermark\n",
    "%watermark --python --machine --conda --iversions --watermark"
   ]
  },
  {
   "cell_type": "markdown",
   "id": "112dc629-7ca1-4635-82e6-a3cbeb113177",
   "metadata": {},
   "source": [
    "## Get data"
   ]
  },
  {
   "cell_type": "code",
   "execution_count": null,
   "id": "4d0c3094",
   "metadata": {},
   "outputs": [],
   "source": [
    "ORDERED_STATES = [\"NSW\", \"VIC\", \"QLD\", \"WA\", \"SA\", \"TAS\", \"NT\", \"ACT\"]"
   ]
  },
  {
   "cell_type": "markdown",
   "id": "dfb76163",
   "metadata": {},
   "source": [
    "### State poll results"
   ]
  },
  {
   "cell_type": "code",
   "execution_count": null,
   "id": "3e6e5c65",
   "metadata": {},
   "outputs": [],
   "source": [
    "def get_poll_data() -> dict[str, pd.DataFrame]:\n",
    "    \"\"\"Retrieve raw data after running the data capture notebook.\"\"\"\n",
    "\n",
    "    retrieved = retrieve()\n",
    "    ensure(retrieved, \"You must run the data capture notebook every day.\")\n",
    "    return retrieved"
   ]
  },
  {
   "cell_type": "code",
   "execution_count": null,
   "id": "1ec80c22",
   "metadata": {},
   "outputs": [],
   "source": [
    "def extract_state_polls(\n",
    "    raw: dict[str, pd.DataFrame] | None = None,\n",
    "    minimum: int = 10,  # minimum required number of polls\n",
    "    column: str = \"2pp vote ALP\",\n",
    ") -> dict[str, pd.DataFrame]:\n",
    "    \"\"\"Retrieve the 2pp state polls.\"\"\"\n",
    "\n",
    "    if raw is None:\n",
    "        raw = get_poll_data()\n",
    "\n",
    "    cooked_data = {}\n",
    "    for state in [VOTING_INTENTION] + ORDERED_STATES:\n",
    "        if state not in raw:\n",
    "            print(f\"Missing {state} data\")\n",
    "            continue\n",
    "        data = raw[state].copy()  # don't modify the raw data\n",
    "        data.index = pd.PeriodIndex(data[MIDDLE_DATE], freq=\"M\")\n",
    "        data = data.sort_index(ascending=True)[column]\n",
    "\n",
    "        if len(data) < minimum:\n",
    "            print(f\"Not enough data for {state}: n={len(data)}\")\n",
    "            continue\n",
    "\n",
    "        cooked_data[state if state in ORDERED_STATES else \"Australia\"] = data\n",
    "\n",
    "    return cooked_data\n",
    "\n",
    "\n",
    "POLLS = extract_state_polls()\n",
    "print(POLLS.keys())"
   ]
  },
  {
   "cell_type": "markdown",
   "id": "36b83f03",
   "metadata": {},
   "source": [
    "### Previous election - state and national starting points"
   ]
  },
  {
   "cell_type": "code",
   "execution_count": null,
   "id": "6c6999be",
   "metadata": {},
   "outputs": [],
   "source": [
    "previous_election = {\n",
    "    # 2pp vote ALP\n",
    "    \"Australia\": 52.13,\n",
    "    \"NSW\": 51.42,\n",
    "    \"VIC\": 54.83,\n",
    "    \"QLD\": 45.95,\n",
    "    \"WA\": 55,\n",
    "    \"SA\": 53.97,\n",
    "    \"TAS\": 54.33,\n",
    "    \"ACT\": 66.95,\n",
    "    \"NT\": 55.54,\n",
    "}"
   ]
  },
  {
   "cell_type": "markdown",
   "id": "5cc5087a",
   "metadata": {},
   "source": [
    "## Data preparation"
   ]
  },
  {
   "cell_type": "markdown",
   "id": "998e2276",
   "metadata": {},
   "source": [
    "### National Data"
   ]
  },
  {
   "cell_type": "code",
   "execution_count": null,
   "id": "247fcd6a",
   "metadata": {},
   "outputs": [],
   "source": [
    "def get_timeline() -> tuple[pd.Period, pd.Period]:\n",
    "    \"\"\"Get the start and end of the timeline for the national data.\"\"\"\n",
    "\n",
    "    national = retrieve()\n",
    "    national_dates = pd.PeriodIndex(\n",
    "        national[VOTING_INTENTION][MIDDLE_DATE].dropna(), freq=\"M\"\n",
    "    )\n",
    "\n",
    "    # - time frames\n",
    "    first_month = national_dates.min() - 1 # 1 month before the first poll\n",
    "    last_month = national_dates.max()\n",
    "    return first_month, last_month\n",
    "\n",
    "\n",
    "FIRST_MONTH, LAST_MONTH = get_timeline()\n",
    "N_MONTHS = (LAST_MONTH - FIRST_MONTH).n + 1\n",
    "assert N_MONTHS > 1"
   ]
  },
  {
   "cell_type": "markdown",
   "id": "b9718df3",
   "metadata": {},
   "source": [
    "### State data"
   ]
  },
  {
   "cell_type": "code",
   "execution_count": null,
   "id": "e8a16a6a",
   "metadata": {},
   "outputs": [],
   "source": [
    "def build_states_data() -> dict[str, dict[str, Any]]:\n",
    "    \"\"\"Build the state data for the model.\"\"\"\n",
    "\n",
    "    states_data: dict[str, dict[str, Any]] = {}\n",
    "    for state in POLLS.keys():\n",
    "        state_data: dict[str, Any] = {}\n",
    "        y = POLLS[state]\n",
    "        assert y.index.min() >= FIRST_MONTH\n",
    "        assert y.index.max() <= LAST_MONTH\n",
    "        state_data[\"y\"] = y.to_numpy()\n",
    "        state_data[\"n_polls\"] = len(POLLS[state])\n",
    "        state_data[\"start\"] = previous_election[state]\n",
    "        state_data[\"poll_month\"] = [(x - FIRST_MONTH).n for x in y.index]\n",
    "        states_data[state] = state_data\n",
    "\n",
    "    return states_data\n",
    "\n",
    "\n",
    "STATES_DATA = build_states_data()\n",
    "print(STATES_DATA.keys())"
   ]
  },
  {
   "cell_type": "markdown",
   "id": "1373d6eb",
   "metadata": {},
   "source": [
    "## Build a model to estimate state based voting intention"
   ]
  },
  {
   "cell_type": "markdown",
   "id": "ceff7d29",
   "metadata": {},
   "source": [
    "### Sampler settings"
   ]
  },
  {
   "cell_type": "code",
   "execution_count": null,
   "id": "ad70bb72",
   "metadata": {},
   "outputs": [],
   "source": [
    "class SampleSettings(TypedDict):\n",
    "    \"\"\"The settings for the Bayesian model.\"\"\"\n",
    "\n",
    "    draws: int\n",
    "    tune: int\n",
    "    cores: int\n",
    "    chains: int\n",
    "    nuts_sampler: str\n",
    "    nuts: NotRequired[dict[str, Any]]\n",
    "    plot_trace: NotRequired[bool]\n",
    "\n",
    "\n",
    "def sampler_settings() -> SampleSettings:\n",
    "    \"\"\"Return the settings for sampling.\"\"\"\n",
    "\n",
    "    core_chains = 5\n",
    "    settings: SampleSettings = {\n",
    "        \"draws\": 2_000,  # number of samples per core\n",
    "        \"tune\": 2_000,  # number of tuning steps per core\n",
    "        \"cores\": core_chains,\n",
    "        \"chains\": core_chains,\n",
    "        \"nuts_sampler\": \"numpyro\",\n",
    "        \"plot_trace\": False,\n",
    "    }\n",
    "\n",
    "    return settings"
   ]
  },
  {
   "cell_type": "markdown",
   "id": "fd0b10f3",
   "metadata": {},
   "source": [
    "### Model build"
   ]
  },
  {
   "cell_type": "code",
   "execution_count": null,
   "id": "6d398015",
   "metadata": {},
   "outputs": [],
   "source": [
    "def build_model(\n",
    "    for_state: str,\n",
    ") -> pm.Model:\n",
    "    \"\"\"Builds a simple PyMC model for a monthly Gaussian Random Walk.\n",
    "    NOTE: model is working with whole percentage points, not fractions.\"\"\"\n",
    "    \n",
    "    # -- state specifiv data\n",
    "    assert for_state in STATES_DATA\n",
    "    params = STATES_DATA[for_state]\n",
    "    start = params[\"start\"]\n",
    "    print(for_state)\n",
    "\n",
    "    # -- model\n",
    "    n_polls = params[\"n_polls\"]\n",
    "    coords = {\n",
    "        \"months\": range(N_MONTHS),\n",
    "        \"polls\": range(n_polls),\n",
    "    }\n",
    "\n",
    "    with (model := pm.Model(coords=coords)):\n",
    "        # -- temporal model\n",
    "        vi = pm.GaussianRandomWalk(\n",
    "            \"vi\",\n",
    "            mu=0,\n",
    "            # anchor firmly to the previous election result\n",
    "            init_dist=pm.Normal.dist(mu=start, sigma=0.0001),\n",
    "            sigma=0.75,\n",
    "            dims=\"months\",\n",
    "        )\n",
    "\n",
    "        # -- likelihood / observational model\n",
    "        y = pm.Normal(\n",
    "            \"y\",\n",
    "            mu=vi[params[\"poll_month\"]],\n",
    "            sigma=1,\n",
    "            observed=params[\"y\"],\n",
    "            dims=\"polls\",\n",
    "        )\n",
    "\n",
    "    return model\n",
    "\n",
    "\n",
    "# quick check\n",
    "_test = build_model(\"Australia\")"
   ]
  },
  {
   "cell_type": "markdown",
   "id": "9015de48",
   "metadata": {},
   "source": [
    "### Run the model for each State"
   ]
  },
  {
   "cell_type": "code",
   "execution_count": null,
   "id": "1e9533b0",
   "metadata": {},
   "outputs": [],
   "source": [
    "def run_the_model(make_map: bool = False) -> dict[str, tuple]:\n",
    "    \"\"\"Run the model for each state and return the results.\"\"\"\n",
    "\n",
    "    results: dict[str, tuple] = {}\n",
    "    for state in STATES_DATA.keys():\n",
    "        a_model = build_model(state)\n",
    "\n",
    "        if make_map:\n",
    "            bayes_tools.generate_model_map(\n",
    "                a_model, f\"dirichlet_state_vi_{state}\", MODEL_DIR, display_images=True\n",
    "            )\n",
    "\n",
    "        with a_model:\n",
    "            sampling = sampler_settings()\n",
    "            idata, glitches = bayes_tools.draw_samples(a_model, **sampling)\n",
    "            results[state] = idata, glitches\n",
    "\n",
    "    return results\n",
    "\n",
    "\n",
    "model_results = run_the_model()"
   ]
  },
  {
   "cell_type": "markdown",
   "id": "40d4e930",
   "metadata": {},
   "source": [
    "## Charts"
   ]
  },
  {
   "cell_type": "code",
   "execution_count": null,
   "id": "804f4cef",
   "metadata": {},
   "outputs": [],
   "source": [
    "@cache\n",
    "def _get_var(state: str, var_name: str) -> pd.DataFrame:\n",
    "    \"\"\"Extract the chains/draws for a specified var_name.\"\"\"\n",
    "\n",
    "    idata, _glitches = model_results[state]\n",
    "    object = az.extract(idata)\n",
    "    return object.transpose(\"sample\", ...).to_dataframe()[var_name]"
   ]
  },
  {
   "cell_type": "code",
   "execution_count": null,
   "id": "3d915812",
   "metadata": {},
   "outputs": [],
   "source": [
    "# useful reminder of the index names\n",
    "for state_ in model_results:\n",
    "    data_ = _get_var(state_, \"vi\")\n",
    "    print(state_, data_.index.names)"
   ]
  },
  {
   "cell_type": "markdown",
   "id": "f46c40f5",
   "metadata": {},
   "source": [
    "### Raw plots"
   ]
  },
  {
   "cell_type": "code",
   "execution_count": null,
   "id": "adeb8f7e",
   "metadata": {},
   "outputs": [],
   "source": [
    "def plot_state_timeseries(\n",
    "    state: str, \n",
    "    vi_data: pd.DataFrame, \n",
    "    glitches: str\n",
    ") -> float:\n",
    "    \"\"\"Plot the state timeseries for the voting intention data.\n",
    "    Return the median (right-most) endpoint values for each party.\"\"\"\n",
    "\n",
    "    # set-up\n",
    "    percents = [2.5, 25, 47.5]\n",
    "    intensities = [\n",
    "        (p - min(percents)) / (max(percents) - min(percents)) for p in percents\n",
    "    ]\n",
    "    min_intensity = 0.25\n",
    "    intensity_fracs = [c * (1.0 - min_intensity) + min_intensity for c in intensities]\n",
    "    start_month: pd.Period = pd.Period(FIRST_MONTH, freq=\"M\")\n",
    "\n",
    "    # plot\n",
    "    _fig, ax = plt.subplots()\n",
    "    month_data = vi_data.unstack(level=\"months\")\n",
    "    month_data.columns = month_data.columns.droplevel().astype(int)\n",
    "    medians = month_data.median()\n",
    "    color = plt.get_cmap(\"Reds\")\n",
    "\n",
    "    for i, pct in enumerate(percents):\n",
    "        quants = pct, 100 - pct\n",
    "        label = f\"{quants[1] - quants[0]:0.0f}% HDI\"\n",
    "\n",
    "        x, y1, y2 = [], [], []\n",
    "        for month in month_data.columns:\n",
    "            period = month + start_month\n",
    "            vi = month_data[month]\n",
    "\n",
    "            lower, upper = [vi.quantile(q=q / 100.0) for q in quants]\n",
    "            x.append(str(period)[2:])\n",
    "            y1.append(lower)\n",
    "            y2.append(upper)\n",
    "\n",
    "        intensity = intensity_fracs[i]\n",
    "        ax.fill_between(\n",
    "            x=x,  # type: ignore[arg-type]\n",
    "            y1=y1,\n",
    "            y2=y2,\n",
    "            color=color(intensity),\n",
    "            alpha=0.5,\n",
    "            label=label,\n",
    "            zorder=i + 1,\n",
    "        )\n",
    "    ax.axhline(\n",
    "        y=previous_election[state],\n",
    "        color=\"#333333\",\n",
    "        linestyle=\"--\",\n",
    "        linewidth=0.75,\n",
    "        label=\"Previous election\",\n",
    "    )\n",
    "    ax.text(\n",
    "        x=medians.index[-1],\n",
    "        y=medians.iloc[-1],\n",
    "        s=f\" {medians.iloc[-1]:0.1f}%\",\n",
    "        color=\"#333333\",\n",
    "        fontsize=\"xx-small\",\n",
    "        ha=\"left\",\n",
    "        va=\"center\",       \n",
    "    )\n",
    "    ax.tick_params(axis=\"x\", rotation=90, labelsize=\"x-small\")\n",
    "    poll_count = STATES_DATA[state][\"n_polls\"]\n",
    "    plotting.finalise_plot(\n",
    "        ax,\n",
    "        title=f\"Bayesian Aggregation: {state} ALP 2pp Voting Intention (Monthly)\",\n",
    "        ylabel=\"Per cent first preference votes\",\n",
    "        xlabel=\"Year-Month\",\n",
    "        legend={\"loc\": \"upper right\", \"fontsize\": \"xx-small\", \"ncol\": 4},\n",
    "        lfooter=\"Data sourced from Wikipedia. House effects ignored. GRW. \"\n",
    "        + f\"Based on {poll_count} poll{'s' if poll_count > 1 else ''}. \"\n",
    "        + \"2pp=Pollster Estimates. \",\n",
    "        rfooter=\"marktheballot.blogspot.com\",\n",
    "        rheader=glitches if glitches else None,\n",
    "        y50=True,\n",
    "        show=True,\n",
    "    )\n",
    "\n",
    "    return medians.iloc[-1] - previous_election[state]"
   ]
  },
  {
   "cell_type": "code",
   "execution_count": null,
   "id": "98fb1513",
   "metadata": {},
   "outputs": [],
   "source": [
    "def plot_changes(movements: dict[str, float]) -> None:\n",
    "    \"\"\"Plot the changes in the voting intention data\n",
    "    since the 2022 Election.\"\"\"\n",
    "\n",
    "    series = pd.Series(movements)\n",
    "    _fig, ax = plt.subplots()\n",
    "    ax.bar(\n",
    "        x=series.index,\n",
    "        height=series,\n",
    "        color=\"red\",\n",
    "        alpha=0.67,\n",
    "    )\n",
    "    #labels = ax.get_xticklabels()\n",
    "    #ax.set_xticklabels(labels, rotation=0)\n",
    "    inc = abs(series.min() - series.max()) * 0.01\n",
    "    for state, c in movements.items():\n",
    "        ax.text(\n",
    "            x=state,  # type: ignore[arg-type]\n",
    "            y=inc if c < 0 else -inc,\n",
    "            s=f\"{c:.1f}\",\n",
    "            va=\"bottom\" if c < 0 else \"top\",\n",
    "            ha=\"center\",\n",
    "            color=\"#444444\",\n",
    "            fontsize=\"small\",\n",
    "        )\n",
    "\n",
    "    plotting.finalise_plot(\n",
    "        ax,\n",
    "        title=\"Change in ALP 2pp Voting Intention since the 2022 Election\",\n",
    "        xlabel=None,\n",
    "        ylabel=\"Percentage points\",\n",
    "        lfooter=\"Data sourced from Wikipedia. House effects ignored. Monthly GRW. \"\n",
    "        + \"2pp=Pollster Estimates. \",\n",
    "        rfooter=\"marktheballot.blogspot.com\",\n",
    "        y0=True,\n",
    "        show=True,\n",
    "    )"
   ]
  },
  {
   "cell_type": "code",
   "execution_count": null,
   "id": "133cfc19",
   "metadata": {},
   "outputs": [],
   "source": [
    "def state_plots() -> None:\n",
    "    \"\"\"Plot the state level results.\"\"\"\n",
    "\n",
    "    movements = {}\n",
    "    for state in STATES_DATA.keys():\n",
    "        if state not in model_results:\n",
    "            continue\n",
    "        _, glitches = model_results[state]\n",
    "        vi_data: pd.DataFrame = pd.DataFrame(\n",
    "            _get_var(state, \"vi\")\n",
    "        )\n",
    "\n",
    "        movements[state] = plot_state_timeseries(state, vi_data, glitches)\n",
    "    plot_changes(movements)\n",
    "\n",
    "\n",
    "state_plots()"
   ]
  },
  {
   "cell_type": "markdown",
   "id": "4234d3bd-e617-4d2a-9dbf-9bd0b826f55d",
   "metadata": {},
   "source": [
    "## Finished"
   ]
  },
  {
   "cell_type": "code",
   "execution_count": null,
   "id": "89fda6ee-1daf-4402-9cca-0d21d7435fa2",
   "metadata": {},
   "outputs": [],
   "source": [
    "print(\"Finished\")"
   ]
  }
 ],
 "metadata": {
  "kernelspec": {
   "display_name": "313",
   "language": "python",
   "name": "python3"
  },
  "language_info": {
   "codemirror_mode": {
    "name": "ipython",
    "version": 3
   },
   "file_extension": ".py",
   "mimetype": "text/x-python",
   "name": "python",
   "nbconvert_exporter": "python",
   "pygments_lexer": "ipython3",
   "version": "3.13.2"
  }
 },
 "nbformat": 4,
 "nbformat_minor": 5
}
