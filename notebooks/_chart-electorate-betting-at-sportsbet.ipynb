{
 "cells": [
  {
   "cell_type": "markdown",
   "id": "7b00fd31",
   "metadata": {},
   "source": [
    "# Chart individual seat probabilities"
   ]
  },
  {
   "cell_type": "code",
   "execution_count": 1,
   "id": "70a62c0d",
   "metadata": {},
   "outputs": [
    {
     "data": {
      "text/plain": [
       "'This notebook converts the odds from Sportsbet.com.au to probabilities,\\nAnd then sums those probabilities to find the new Parliament makeup that punters\\nbelieve is most likely.'"
      ]
     },
     "execution_count": 1,
     "metadata": {},
     "output_type": "execute_result"
    }
   ],
   "source": [
    "\"\"\"This notebook converts the odds from Sportsbet.com.au to probabilities,\n",
    "And then sums those probabilities to find the new Parliament makeup that punters\n",
    "believe is most likely.\"\"\""
   ]
  },
  {
   "cell_type": "markdown",
   "id": "ca41c267",
   "metadata": {},
   "source": [
    "## Python set-up"
   ]
  },
  {
   "cell_type": "markdown",
   "id": "bc90c021",
   "metadata": {},
   "source": [
    "### Imports"
   ]
  },
  {
   "cell_type": "code",
   "execution_count": 2,
   "id": "7d3bc55b",
   "metadata": {
    "ExecuteTime": {
     "end_time": "2022-03-22T19:53:27.022287Z",
     "start_time": "2022-03-22T19:53:25.033739Z"
    }
   },
   "outputs": [],
   "source": [
    "import re\n",
    "from functools import reduce\n",
    "from typing import Callable, Final\n",
    "\n",
    "import pandas as pd\n",
    "import numpy as np\n",
    "import matplotlib.pyplot as plt\n",
    "\n",
    "import seaborn as sns\n",
    "from IPython.display import display\n",
    "import plotting"
   ]
  },
  {
   "cell_type": "markdown",
   "id": "0c7e6169",
   "metadata": {},
   "source": [
    "### Report on the operating environment"
   ]
  },
  {
   "cell_type": "code",
   "execution_count": 3,
   "id": "6d6c4c0a",
   "metadata": {
    "ExecuteTime": {
     "end_time": "2022-03-22T19:53:27.092679Z",
     "start_time": "2022-03-22T19:53:27.023519Z"
    }
   },
   "outputs": [
    {
     "name": "stdout",
     "output_type": "stream",
     "text": [
      "Python implementation: CPython\n",
      "Python version       : 3.13.3\n",
      "IPython version      : 9.2.0\n",
      "\n",
      "conda environment: 313\n",
      "\n",
      "Compiler    : Clang 18.1.8 \n",
      "OS          : Darwin\n",
      "Release     : 24.4.0\n",
      "Machine     : arm64\n",
      "Processor   : arm\n",
      "CPU cores   : 14\n",
      "Architecture: 64bit\n",
      "\n",
      "pandas    : 2.2.3\n",
      "matplotlib: 3.10.1\n",
      "seaborn   : 0.13.2\n",
      "re        : 2.2.1\n",
      "IPython   : 9.2.0\n",
      "numpy     : 2.2.5\n",
      "\n"
     ]
    }
   ],
   "source": [
    "%load_ext watermark\n",
    "%watermark --machine --python --iversions --conda"
   ]
  },
  {
   "cell_type": "markdown",
   "id": "43054edf",
   "metadata": {},
   "source": [
    "### Plotting initialisation"
   ]
  },
  {
   "cell_type": "code",
   "execution_count": 4,
   "id": "029c7653",
   "metadata": {},
   "outputs": [],
   "source": [
    "def set_up_plotting() -> None:\n",
    "    \"\"\"Set up plotting.\"\"\"\n",
    "\n",
    "    p = plotting.get_chart_dir()\n",
    "    plotting.set_chart_dir(p + \"/individual-seats/\")\n",
    "    plotting.clear_chart_dir()\n",
    "\n",
    "\n",
    "set_up_plotting()\n",
    "SHOW = False"
   ]
  },
  {
   "cell_type": "markdown",
   "id": "450303a7",
   "metadata": {},
   "source": [
    "### Other initialisation"
   ]
  },
  {
   "cell_type": "code",
   "execution_count": 5,
   "id": "b38b6681",
   "metadata": {},
   "outputs": [],
   "source": [
    "REMOVE_BRACKETS: Final[str] = r\"\\s*\\(.*?\\)\""
   ]
  },
  {
   "cell_type": "markdown",
   "id": "b6ec3056",
   "metadata": {},
   "source": [
    "## Get raw electorate betting data"
   ]
  },
  {
   "cell_type": "code",
   "execution_count": 6,
   "id": "9011cbf4",
   "metadata": {},
   "outputs": [],
   "source": [
    "def get_betting_data() -> pd.DataFrame:\n",
    "    \"\"\"Get the betting data from the local data file.\"\"\"\n",
    "\n",
    "    filename = \"../betting-data/sportsbet-2025-electorate-betting.csv\"\n",
    "    df = pd.read_csv(\n",
    "        filename, na_values=[\"SUS\", \"Suspended\"], parse_dates=[\"timestamp\"]\n",
    "    )\n",
    "\n",
    "    return df\n",
    "\n",
    "\n",
    "BETTING_DF: Final[pd.DataFrame] = get_betting_data()"
   ]
  },
  {
   "cell_type": "markdown",
   "id": "b90362bd",
   "metadata": {},
   "source": [
    "### Quick diagnostics on captured data"
   ]
  },
  {
   "cell_type": "code",
   "execution_count": 7,
   "id": "3747b16d",
   "metadata": {
    "ExecuteTime": {
     "end_time": "2022-03-22T19:53:27.172096Z",
     "start_time": "2022-03-22T19:53:27.093675Z"
    },
    "scrolled": true
   },
   "outputs": [
    {
     "name": "stdout",
     "output_type": "stream",
     "text": [
      "data shape: (17560, 5)\n",
      "data length: 17560\n",
      "data start: 2025-03-30 23:21:13.467650\n",
      "data end: 2025-05-03 07:01:09.321535\n",
      "data columns: Index(['Unnamed: 0', 'seat', 'party', 'price', 'timestamp'], dtype='object')\n",
      "Latest seat count: 150 rows)\n",
      "Party groups: ['Labor' 'Coalition' 'Greens' 'Any Other Candidate' 'Independent'\n",
      " 'One Nation' \"Katter's Australian Party\" 'Centre Alliance']\n"
     ]
    }
   ],
   "source": [
    "def diagnostics(df: pd.DataFrame) -> None:\n",
    "    \"\"\"Print diagnostics for the dataframe.\"\"\"\n",
    "    print(f\"data shape: {df.shape}\")\n",
    "    print(f\"data length: {len(df)}\")\n",
    "    print(f\"data start: {df['timestamp'].min()}\")\n",
    "    print(f\"data end: {df['timestamp'].max()}\")\n",
    "    print(f\"data columns: {df.columns}\")\n",
    "    last = df[\"timestamp\"].max()\n",
    "    last_count = len(df[df[\"timestamp\"] == last].seat.unique())\n",
    "    print(\n",
    "        f\"Latest seat count: {last_count} rows)\",\n",
    "    )\n",
    "    if last_count < 150:\n",
    "        missing = set(df.seat) - set(df[df[\"timestamp\"] == last].seat)\n",
    "        print(f\"Missing seats for most recent collection: {missing}\")\n",
    "    print(\n",
    "        \"Party groups:\",\n",
    "        df.party.str.replace(REMOVE_BRACKETS, \"\", regex=True).unique(),\n",
    "    )\n",
    "\n",
    "\n",
    "diagnostics(BETTING_DF)"
   ]
  },
  {
   "cell_type": "code",
   "execution_count": 8,
   "id": "3051cf05",
   "metadata": {},
   "outputs": [],
   "source": [
    "def display_raw(\n",
    "    df: pd.DataFrame,  # seat betting data\n",
    "    do_it: bool,  # whether to display the data\n",
    ") -> None:\n",
    "    \"\"\"A useful presentation for checking the raw data.\n",
    "    This is useful for understanding the data and checking\n",
    "    for missing values.\"\"\"\n",
    "\n",
    "    if do_it:\n",
    "        display(\n",
    "            df.pivot(columns=\"timestamp\", index=[\"seat\", \"party\"], values=\"price\")\n",
    "            .T.tail(2)\n",
    "            .T\n",
    "        )\n",
    "\n",
    "\n",
    "display_raw(df=BETTING_DF, do_it=False)"
   ]
  },
  {
   "cell_type": "markdown",
   "id": "91c682b1",
   "metadata": {},
   "source": [
    "## Plot distribution of simple overrounds"
   ]
  },
  {
   "cell_type": "code",
   "execution_count": 9,
   "id": "2b91e80f",
   "metadata": {},
   "outputs": [],
   "source": [
    "def calculate_overrounds(\n",
    "    df: pd.DataFrame,  # betting data\n",
    "    seat: str,  # seat name\n",
    ") -> pd.Series:\n",
    "    \"\"\"Calculate the bookmaker's overround at each timestamp\n",
    "    for a given seat.  Returns a series with the overround for each\n",
    "    timestamp.\n",
    "    Arguments:\n",
    "    df: pd.DataFrame - The dataframe containing the betting data.\n",
    "    seat: str - The name of the seat to calculate overrounds for.\n",
    "    Returns:\n",
    "    pd.Series - A series containing the overround for each timestamp\n",
    "    (the series index).\"\"\"\n",
    "\n",
    "    seat_data = df[df[\"seat\"] == seat]\n",
    "    seat_overrounds = (\n",
    "        seat_data.dropna(subset=[\"price\"])  # Remove rows with no price\n",
    "        .pivot(index=\"timestamp\", columns=\"party\", values=\"price\")\n",
    "        .pipe(lambda x: 1 / x)\n",
    "        .sum(axis=1)\n",
    "    )\n",
    "\n",
    "    return seat_overrounds"
   ]
  },
  {
   "cell_type": "code",
   "execution_count": 10,
   "id": "93700dc3",
   "metadata": {
    "ExecuteTime": {
     "end_time": "2022-03-22T19:53:27.661406Z",
     "start_time": "2022-03-22T19:53:27.177619Z"
    }
   },
   "outputs": [],
   "source": [
    "def capture_latest_overrounds(\n",
    "    df: pd.DataFrame,\n",
    "    min_threshold: float = 1.06,\n",
    ") -> pd.Series:\n",
    "    \"\"\"Capture the latest overrounds for each seat in the dataframe.\n",
    "    In this process, report any seats with an overround less than\n",
    "    the minimum threshold.  Note: overrounds may not all be for the\n",
    "    exact same timestamp if some seats are missing data.\n",
    "    Arguments:\n",
    "    df: pd.DataFrame - The dataframe containing the betting data.\n",
    "    min_threshold: float - The minimum expected bookmaker's overround.\n",
    "    Returns:\n",
    "    pd.Series - A series containing the overround for each seat,\n",
    "    for that seat's latest timestamp.\"\"\"\n",
    "\n",
    "    # Filter out rows with missing prices\n",
    "    df = df.dropna(subset=[\"price\"])\n",
    "\n",
    "    # Calculate the overround for each seat\n",
    "    overrounds = {}\n",
    "    for seat in df.seat.unique():\n",
    "        overrounds[seat] = calculate_overrounds(df, seat).dropna().iloc[-1]\n",
    "    series = pd.Series(overrounds)\n",
    "\n",
    "    # Report any seats with an overround less than the minimum threshold\n",
    "    too_low = series[series <= min_threshold]\n",
    "    if len(too_low):\n",
    "        print(\"We have some low (<= {min_threshold}) overrounds for:\")\n",
    "        for seat in too_low.index:\n",
    "            print(\n",
    "                seat,\n",
    "                df[df.seat == seat]\n",
    "                .pivot(index=\"timestamp\", columns=\"party\", values=\"price\")\n",
    "                .iloc[-1],\n",
    "            )\n",
    "        print(\"-\" * 30)\n",
    "\n",
    "    return series"
   ]
  },
  {
   "cell_type": "code",
   "execution_count": 11,
   "id": "58c65bb9",
   "metadata": {
    "ExecuteTime": {
     "end_time": "2022-03-22T19:53:27.923507Z",
     "start_time": "2022-03-22T19:53:27.668681Z"
    }
   },
   "outputs": [
    {
     "data": {
      "image/png": "[encoded data removed]",
      "text/plain": [
       "<Figure size 900x450 with 1 Axes>"
      ]
     },
     "metadata": {},
     "output_type": "display_data"
    }
   ],
   "source": [
    "def plot_overrounds(df: pd.DataFrame) -> None:\n",
    "    \"\"\"\n",
    "    Plot the latest overrounds for each seat in the dataframe.\n",
    "    \"\"\"\n",
    "    overround_series = capture_latest_overrounds(df)\n",
    "    ax = sns.violinplot(x=overround_series, orient=\"h\")\n",
    "    title = \"Violin plot of Bookmaker Overrounds in the Individual Seats Market\"\n",
    "    plotting.finalise_plot(\n",
    "        ax,\n",
    "        title=title,\n",
    "        ylabel=\"Density\",\n",
    "        xlabel=\"Overround (where 1 means fair odds)\",\n",
    "        rfooter=\"marktheballot.blogspot.com\",\n",
    "        lfooter=\"Data captured from Sportsbet.com.au \"\n",
    "        + f'{df[\"timestamp\"].max().date()}. ',\n",
    "        show=True,\n",
    "    )\n",
    "\n",
    "\n",
    "plot_overrounds(BETTING_DF)"
   ]
  },
  {
   "cell_type": "markdown",
   "id": "00623a9d",
   "metadata": {},
   "source": [
    "## Summarise latest results and identify seats of interest"
   ]
  },
  {
   "cell_type": "code",
   "execution_count": 12,
   "id": "3ac03e9c",
   "metadata": {},
   "outputs": [],
   "source": [
    "def calc_probability(\n",
    "    df: pd.DataFrame,  # DataFrame containing betting data\n",
    "    seat: str,  # The seat to calculate probabilities for\n",
    "    **kwargs,\n",
    ") -> tuple[pd.DataFrame, str, pd.Index] | None:\n",
    "    \"\"\"Calculate the probability of winning for each party in a given seat.\n",
    "    Note: this function makes some adjustments for (1) the bookmaker's\n",
    "    overround, and (2) the favourite-longshot bias.\n",
    "    Arguments:\n",
    "    df: pd.DataFrame - The dataframe containing the betting data.\n",
    "    seat: str - The seat to calculate probabilities for.\n",
    "    exclude_above: float - Exclude any odds above this value.\n",
    "    lsb_cap: float - Only inflate odds if they are > lsb_cap.\n",
    "    lsb_method: Callable | None - The method to use for inflating odds.\n",
    "    Returns a tuple comprising:\n",
    "    1. A DataFrame of seat probabilities\n",
    "    2. A string explaining how the favourite-longshot bias was treated, and\n",
    "    3. An index of dates with interpolated probabilities for missing odds.\"\"\"\n",
    "\n",
    "    # Favourite-Longshot Bias management:\n",
    "    exclude_above: float = kwargs.get(\"exclude_above\", 25.0)\n",
    "    lsb_cap: float = kwargs.get(\"lsb_cap\", 7.5)\n",
    "    lsb_method: Callable | None = kwargs.get(\"lsb_method\", lambda x: x * np.sqrt(x))\n",
    "    method_text: str = kwargs.get(\"method_text\", \"raw-odds * sqrt(raw-odds)\")\n",
    "\n",
    "    # assume bookmaker's overround is at least 6%\n",
    "    minimum_overround = 1.06\n",
    "\n",
    "    # get the data for the seat\n",
    "    seat_df = df[df.seat == seat]\n",
    "    if seat_df.empty:\n",
    "        print(f\"No data for seat {seat}\")\n",
    "        return None\n",
    "\n",
    "    # identify and replace missing odds, based on overround\n",
    "    complete = pd.DatetimeIndex(sorted(df.timestamp.unique()))\n",
    "    overs = calculate_overrounds(seat_df, seat)\n",
    "    overs = overs.reindex(complete).fillna(minimum_overround - 1)\n",
    "    pivot = seat_df.pivot(index=\"timestamp\", columns=\"party\", values=\"price\")\n",
    "    pivot = pivot.reindex(complete)\n",
    "    pivot2 = pivot.where(overs >= minimum_overround, other=pivot.ffill())\n",
    "\n",
    "    adjusted = (pivot.fillna(0) != pivot2.fillna(0)).sum(axis=1)\n",
    "    adjusted_index = adjusted[adjusted > 0].index\n",
    "\n",
    "    # remove any odds above the exclude_above threshold\n",
    "    pivot2[pivot2 > exclude_above] = np.nan\n",
    "    pivot2 = pivot2.dropna(axis=1, how=\"all\")\n",
    "\n",
    "    # get seat probabilities - treat for favourite-longshot bias\n",
    "    seat_prob = (\n",
    "        pivot2.pipe(  # type: ignore[call-overload]\n",
    "            (\n",
    "                lambda x: (\n",
    "                    x\n",
    "                    if lsb_method is None\n",
    "                    else x.where(\n",
    "                        x <= lsb_cap, other=lsb_method(x)  # type: ignore[arg-type, misc]\n",
    "                    )\n",
    "                )\n",
    "            )\n",
    "        )\n",
    "        .pipe(lambda x: 1 / x)  # convert from odds to probability\n",
    "        .pipe(lambda x: x.div(other=x.sum(axis=1), axis=0))  # normalise probabilities\n",
    "    ) * 100  # per cent\n",
    "\n",
    "    explainer = \"\"\n",
    "    explanations = []\n",
    "    if exclude_above > 0:\n",
    "        explanations.append(f\"Odds excluded above \\\\${exclude_above}\")\n",
    "    if lsb_method is not None:\n",
    "        odds_cap = f\", where odds > \\\\${lsb_cap}\" if lsb_cap else \"\"\n",
    "        explanations.append(f\"{method_text}{odds_cap}\")\n",
    "    if explanations:\n",
    "        explainer = \"Favourite-Longshot Bias treatment: \" + \"; \".join(explanations)\n",
    "\n",
    "    return seat_prob, explainer, adjusted_index"
   ]
  },
  {
   "cell_type": "code",
   "execution_count": 13,
   "id": "a1d29569",
   "metadata": {},
   "outputs": [
    {
     "name": "stdout",
     "output_type": "stream",
     "text": [
      "('darkorange', 'v')\n",
      "('orange', '>')\n"
     ]
    }
   ],
   "source": [
    "def colourise(s: str, count: int = 0) -> tuple[str, str]:\n",
    "    \"\"\"A standard color and marker scheme for parties.\"\"\"\n",
    "\n",
    "    settings = {\n",
    "        \"coalition\": (\"royalblue\", \"s\"),\n",
    "        \"labor\": (\"#dd0000\", \"d\"),\n",
    "        \"green\": (\"mediumseagreen\", \"o\"),\n",
    "        \"independent\": (\n",
    "            [\"darkorange\", \"orange\", \"purple\", \"teal\"][count],\n",
    "            \"v>^<\"[count],\n",
    "        ),\n",
    "        \"one nation\": (\"darkkhaki\", \"H\"),\n",
    "        \"jacqui lambie\": (\"darkorchid\", \"P\"),\n",
    "        \"katter\": (\"hotpink\", \"X\"),\n",
    "        \"centre alliance\": (\"brown\", \"P\"),\n",
    "        \"other\": (\"skyblue\", \"|\"),  # must be last\n",
    "    }\n",
    "    for party, setting in settings.items():\n",
    "        if party in s.lower():\n",
    "            return setting\n",
    "\n",
    "    return (\"gray\", \"*\")\n",
    "\n",
    "\n",
    "class Coloriser:\n",
    "    \"\"\"A class to handle colorisation of party names.\n",
    "    Note: this is a bit of a hack, but it works for now.\n",
    "    It allows for multiple independents to be colourised differently.\"\"\"\n",
    "\n",
    "    def __init__(self):\n",
    "        self.x = {}\n",
    "\n",
    "    def __call__(self, s: str) -> tuple[str, str]:\n",
    "        core = re.sub(REMOVE_BRACKETS, \"\", s).strip()\n",
    "        count = self.x.get(core, -1) + 1\n",
    "        self.x[core] = count\n",
    "        return colourise(s, count)\n",
    "\n",
    "\n",
    "_color = Coloriser()\n",
    "print(_color(\"Independent\"))\n",
    "print(_color(\"Independent\"))"
   ]
  },
  {
   "cell_type": "code",
   "execution_count": 14,
   "id": "399bf505",
   "metadata": {},
   "outputs": [
    {
     "name": "stdout",
     "output_type": "stream",
     "text": [
      "Grouped probabilities for Calare (NSW): Index(['Coalition', 'Independent (Andrew Gee)', 'Independent (Kate Hook)'], dtype='object', name='party')\n",
      "Grouped probabilities for Monash (VIC): Index(['Coalition', 'Independent (Deb Leonard)',\n",
      "       'Independent (Russell Broadbent)', 'Labor'],\n",
      "      dtype='object', name='party')\n",
      "Close seats:\n"
     ]
    },
    {
     "data": {
      "application/vnd.microsoft.datawrangler.viewer.v0+json": {
       "columns": [
        {
         "name": "index",
         "rawType": "int64",
         "type": "integer"
        },
        {
         "name": "index",
         "rawType": "object",
         "type": "string"
        },
        {
         "name": "Top probability %",
         "rawType": "float64",
         "type": "float"
        },
        {
         "name": "ahead",
         "rawType": "object",
         "type": "string"
        }
       ],
       "conversionMethod": "pd.DataFrame",
       "ref": "5fe4846a-d00b-41f9-8484-58f149d74137",
       "rows": [
        [
         "29",
         "Ryan (QLD)",
         "43.4",
         "Coalition"
        ],
        [
         "4",
         "Brisbane (QLD)",
         "46.7",
         "Labor"
        ],
        [
         "30",
         "Sturt  (SA)",
         "49.2",
         "Coalition"
        ],
        [
         "17",
         "Kooyong (VIC)",
         "50.0",
         "Coalition, Independent (Monique Ryan)"
        ],
        [
         "31",
         "Wannon (VIC)",
         "50.0",
         "Coalition, Independent (Alex Dyson)"
        ],
        [
         "14",
         "Gilmore (NSW)",
         "51.0",
         "Coalition"
        ],
        [
         "21",
         "Macnamara (VIC)",
         "51.9",
         "Labor"
        ],
        [
         "26",
         "Moore (WA)",
         "52.5",
         "Coalition"
        ],
        [
         "9",
         "Cowper (NSW)",
         "55.3",
         "Independent (Caz Heise)"
        ],
        [
         "6",
         "Calare (NSW)",
         "55.7",
         "Coalition"
        ],
        [
         "10",
         "Curtin (WA)",
         "55.9",
         "Independent (Kate Chaney)"
        ],
        [
         "15",
         "Goldstein (VIC)",
         "56.3",
         "Independent (Zoe Daniel)"
        ],
        [
         "3",
         "Bradfield (NSW)",
         "56.9",
         "Independent (Nicolette Boele)"
        ],
        [
         "27",
         "Paterson (NSW)",
         "57.0",
         "Labor"
        ],
        [
         "16",
         "Griffith (QLD)",
         "57.1",
         "Greens"
        ],
        [
         "32",
         "Wills (VIC)",
         "57.3",
         "Labor"
        ],
        [
         "5",
         "Bullwinkel (WA)",
         "57.3",
         "Labor"
        ],
        [
         "19",
         "Lingiari (NT)",
         "58.4",
         "Labor"
        ],
        [
         "1",
         "Bennelong (NSW)",
         "58.4",
         "Labor"
        ],
        [
         "25",
         "Monash (VIC)",
         "59.2",
         "Coalition"
        ],
        [
         "22",
         "McEwen (VIC)",
         "59.6",
         "Labor"
        ],
        [
         "11",
         "Deakin (VIC)",
         "61.2",
         "Coalition"
        ],
        [
         "18",
         "Leichhardt (QLD)",
         "61.5",
         "Coalition"
        ],
        [
         "13",
         "Fowler (NSW)",
         "65.4",
         "Independent (Dai Le)"
        ],
        [
         "24",
         "Menzies (VIC)",
         "66.6",
         "Coalition"
        ],
        [
         "2",
         "Bonner (QLD)",
         "66.6",
         "Coalition"
        ],
        [
         "0",
         "Bass (TAS)",
         "66.6",
         "Coalition"
        ],
        [
         "8",
         "Chisholm (VIC)",
         "66.6",
         "Labor"
        ],
        [
         "20",
         "Lyons (TAS)",
         "66.6",
         "Labor"
        ],
        [
         "7",
         "Canning (WA)",
         "66.6",
         "Coalition"
        ],
        [
         "28",
         "Richmond (NSW)",
         "66.8",
         "Labor"
        ],
        [
         "12",
         "Dickson (QLD)",
         "68.7",
         "Coalition"
        ],
        [
         "23",
         "McPherson (QLD)",
         "69.3",
         "Coalition"
        ]
       ],
       "shape": {
        "columns": 3,
        "rows": 33
       }
      },
      "text/html": [
       "<div>\n",
       "<style scoped>\n",
       "    .dataframe tbody tr th:only-of-type {\n",
       "        vertical-align: middle;\n",
       "    }\n",
       "\n",
       "    .dataframe tbody tr th {\n",
       "        vertical-align: top;\n",
       "    }\n",
       "\n",
       "    .dataframe thead th {\n",
       "        text-align: right;\n",
       "    }\n",
       "</style>\n",
       "<table border=\"1\" class=\"dataframe\">\n",
       "  <thead>\n",
       "    <tr style=\"text-align: right;\">\n",
       "      <th></th>\n",
       "      <th>index</th>\n",
       "      <th>Top probability %</th>\n",
       "      <th>ahead</th>\n",
       "    </tr>\n",
       "  </thead>\n",
       "  <tbody>\n",
       "    <tr>\n",
       "      <th>29</th>\n",
       "      <td>Ryan (QLD)</td>\n",
       "      <td>43.4</td>\n",
       "      <td>Coalition</td>\n",
       "    </tr>\n",
       "    <tr>\n",
       "      <th>4</th>\n",
       "      <td>Brisbane (QLD)</td>\n",
       "      <td>46.7</td>\n",
       "      <td>Labor</td>\n",
       "    </tr>\n",
       "    <tr>\n",
       "      <th>30</th>\n",
       "      <td>Sturt  (SA)</td>\n",
       "      <td>49.2</td>\n",
       "      <td>Coalition</td>\n",
       "    </tr>\n",
       "    <tr>\n",
       "      <th>17</th>\n",
       "      <td>Kooyong (VIC)</td>\n",
       "      <td>50.0</td>\n",
       "      <td>Coalition, Independent (Monique Ryan)</td>\n",
       "    </tr>\n",
       "    <tr>\n",
       "      <th>31</th>\n",
       "      <td>Wannon (VIC)</td>\n",
       "      <td>50.0</td>\n",
       "      <td>Coalition, Independent (Alex Dyson)</td>\n",
       "    </tr>\n",
       "    <tr>\n",
       "      <th>14</th>\n",
       "      <td>Gilmore (NSW)</td>\n",
       "      <td>51.0</td>\n",
       "      <td>Coalition</td>\n",
       "    </tr>\n",
       "    <tr>\n",
       "      <th>21</th>\n",
       "      <td>Macnamara (VIC)</td>\n",
       "      <td>51.9</td>\n",
       "      <td>Labor</td>\n",
       "    </tr>\n",
       "    <tr>\n",
       "      <th>26</th>\n",
       "      <td>Moore (WA)</td>\n",
       "      <td>52.5</td>\n",
       "      <td>Coalition</td>\n",
       "    </tr>\n",
       "    <tr>\n",
       "      <th>9</th>\n",
       "      <td>Cowper (NSW)</td>\n",
       "      <td>55.3</td>\n",
       "      <td>Independent (Caz Heise)</td>\n",
       "    </tr>\n",
       "    <tr>\n",
       "      <th>6</th>\n",
       "      <td>Calare (NSW)</td>\n",
       "      <td>55.7</td>\n",
       "      <td>Coalition</td>\n",
       "    </tr>\n",
       "    <tr>\n",
       "      <th>10</th>\n",
       "      <td>Curtin (WA)</td>\n",
       "      <td>55.9</td>\n",
       "      <td>Independent (Kate Chaney)</td>\n",
       "    </tr>\n",
       "    <tr>\n",
       "      <th>15</th>\n",
       "      <td>Goldstein (VIC)</td>\n",
       "      <td>56.3</td>\n",
       "      <td>Independent (Zoe Daniel)</td>\n",
       "    </tr>\n",
       "    <tr>\n",
       "      <th>3</th>\n",
       "      <td>Bradfield (NSW)</td>\n",
       "      <td>56.9</td>\n",
       "      <td>Independent (Nicolette Boele)</td>\n",
       "    </tr>\n",
       "    <tr>\n",
       "      <th>27</th>\n",
       "      <td>Paterson (NSW)</td>\n",
       "      <td>57.0</td>\n",
       "      <td>Labor</td>\n",
       "    </tr>\n",
       "    <tr>\n",
       "      <th>16</th>\n",
       "      <td>Griffith (QLD)</td>\n",
       "      <td>57.1</td>\n",
       "      <td>Greens</td>\n",
       "    </tr>\n",
       "    <tr>\n",
       "      <th>32</th>\n",
       "      <td>Wills (VIC)</td>\n",
       "      <td>57.3</td>\n",
       "      <td>Labor</td>\n",
       "    </tr>\n",
       "    <tr>\n",
       "      <th>5</th>\n",
       "      <td>Bullwinkel (WA)</td>\n",
       "      <td>57.3</td>\n",
       "      <td>Labor</td>\n",
       "    </tr>\n",
       "    <tr>\n",
       "      <th>19</th>\n",
       "      <td>Lingiari (NT)</td>\n",
       "      <td>58.4</td>\n",
       "      <td>Labor</td>\n",
       "    </tr>\n",
       "    <tr>\n",
       "      <th>1</th>\n",
       "      <td>Bennelong (NSW)</td>\n",
       "      <td>58.4</td>\n",
       "      <td>Labor</td>\n",
       "    </tr>\n",
       "    <tr>\n",
       "      <th>25</th>\n",
       "      <td>Monash (VIC)</td>\n",
       "      <td>59.2</td>\n",
       "      <td>Coalition</td>\n",
       "    </tr>\n",
       "    <tr>\n",
       "      <th>22</th>\n",
       "      <td>McEwen (VIC)</td>\n",
       "      <td>59.6</td>\n",
       "      <td>Labor</td>\n",
       "    </tr>\n",
       "    <tr>\n",
       "      <th>11</th>\n",
       "      <td>Deakin (VIC)</td>\n",
       "      <td>61.2</td>\n",
       "      <td>Coalition</td>\n",
       "    </tr>\n",
       "    <tr>\n",
       "      <th>18</th>\n",
       "      <td>Leichhardt (QLD)</td>\n",
       "      <td>61.5</td>\n",
       "      <td>Coalition</td>\n",
       "    </tr>\n",
       "    <tr>\n",
       "      <th>13</th>\n",
       "      <td>Fowler (NSW)</td>\n",
       "      <td>65.4</td>\n",
       "      <td>Independent (Dai Le)</td>\n",
       "    </tr>\n",
       "    <tr>\n",
       "      <th>24</th>\n",
       "      <td>Menzies (VIC)</td>\n",
       "      <td>66.6</td>\n",
       "      <td>Coalition</td>\n",
       "    </tr>\n",
       "    <tr>\n",
       "      <th>2</th>\n",
       "      <td>Bonner (QLD)</td>\n",
       "      <td>66.6</td>\n",
       "      <td>Coalition</td>\n",
       "    </tr>\n",
       "    <tr>\n",
       "      <th>0</th>\n",
       "      <td>Bass (TAS)</td>\n",
       "      <td>66.6</td>\n",
       "      <td>Coalition</td>\n",
       "    </tr>\n",
       "    <tr>\n",
       "      <th>8</th>\n",
       "      <td>Chisholm (VIC)</td>\n",
       "      <td>66.6</td>\n",
       "      <td>Labor</td>\n",
       "    </tr>\n",
       "    <tr>\n",
       "      <th>20</th>\n",
       "      <td>Lyons (TAS)</td>\n",
       "      <td>66.6</td>\n",
       "      <td>Labor</td>\n",
       "    </tr>\n",
       "    <tr>\n",
       "      <th>7</th>\n",
       "      <td>Canning (WA)</td>\n",
       "      <td>66.6</td>\n",
       "      <td>Coalition</td>\n",
       "    </tr>\n",
       "    <tr>\n",
       "      <th>28</th>\n",
       "      <td>Richmond (NSW)</td>\n",
       "      <td>66.8</td>\n",
       "      <td>Labor</td>\n",
       "    </tr>\n",
       "    <tr>\n",
       "      <th>12</th>\n",
       "      <td>Dickson (QLD)</td>\n",
       "      <td>68.7</td>\n",
       "      <td>Coalition</td>\n",
       "    </tr>\n",
       "    <tr>\n",
       "      <th>23</th>\n",
       "      <td>McPherson (QLD)</td>\n",
       "      <td>69.3</td>\n",
       "      <td>Coalition</td>\n",
       "    </tr>\n",
       "  </tbody>\n",
       "</table>\n",
       "</div>"
      ],
      "text/plain": [
       "               index  Top probability %                                  ahead\n",
       "29        Ryan (QLD)               43.4                              Coalition\n",
       "4     Brisbane (QLD)               46.7                                  Labor\n",
       "30       Sturt  (SA)               49.2                              Coalition\n",
       "17     Kooyong (VIC)               50.0  Coalition, Independent (Monique Ryan)\n",
       "31      Wannon (VIC)               50.0    Coalition, Independent (Alex Dyson)\n",
       "14     Gilmore (NSW)               51.0                              Coalition\n",
       "21   Macnamara (VIC)               51.9                                  Labor\n",
       "26        Moore (WA)               52.5                              Coalition\n",
       "9       Cowper (NSW)               55.3                Independent (Caz Heise)\n",
       "6       Calare (NSW)               55.7                              Coalition\n",
       "10       Curtin (WA)               55.9              Independent (Kate Chaney)\n",
       "15   Goldstein (VIC)               56.3               Independent (Zoe Daniel)\n",
       "3    Bradfield (NSW)               56.9          Independent (Nicolette Boele)\n",
       "27    Paterson (NSW)               57.0                                  Labor\n",
       "16    Griffith (QLD)               57.1                                 Greens\n",
       "32       Wills (VIC)               57.3                                  Labor\n",
       "5    Bullwinkel (WA)               57.3                                  Labor\n",
       "19     Lingiari (NT)               58.4                                  Labor\n",
       "1    Bennelong (NSW)               58.4                                  Labor\n",
       "25      Monash (VIC)               59.2                              Coalition\n",
       "22      McEwen (VIC)               59.6                                  Labor\n",
       "11      Deakin (VIC)               61.2                              Coalition\n",
       "18  Leichhardt (QLD)               61.5                              Coalition\n",
       "13      Fowler (NSW)               65.4                   Independent (Dai Le)\n",
       "24     Menzies (VIC)               66.6                              Coalition\n",
       "2       Bonner (QLD)               66.6                              Coalition\n",
       "0         Bass (TAS)               66.6                              Coalition\n",
       "8     Chisholm (VIC)               66.6                                  Labor\n",
       "20       Lyons (TAS)               66.6                                  Labor\n",
       "7       Canning (WA)               66.6                              Coalition\n",
       "28    Richmond (NSW)               66.8                                  Labor\n",
       "12     Dickson (QLD)               68.7                              Coalition\n",
       "23   McPherson (QLD)               69.3                              Coalition"
      ]
     },
     "metadata": {},
     "output_type": "display_data"
    },
    {
     "name": "stdout",
     "output_type": "stream",
     "text": [
      "Seats where Greens might be competitive:\n"
     ]
    },
    {
     "data": {
      "application/vnd.microsoft.datawrangler.viewer.v0+json": {
       "columns": [
        {
         "name": "index",
         "rawType": "object",
         "type": "string"
        },
        {
         "name": "Greens win probability %",
         "rawType": "float64",
         "type": "float"
        }
       ],
       "conversionMethod": "pd.DataFrame",
       "ref": "142caf6e-99ef-4fe4-96d8-1e2c78c21a05",
       "rows": [
        [
         "Melbourne (VIC)",
         "86.7"
        ],
        [
         "Griffith (QLD)",
         "57.1"
        ],
        [
         "Wills (VIC)",
         "42.7"
        ],
        [
         "Macnamara (VIC)",
         "34.3"
        ],
        [
         "Ryan (QLD)",
         "33.2"
        ],
        [
         "Brisbane (QLD)",
         "32.2"
        ],
        [
         "Richmond (NSW)",
         "31.2"
        ]
       ],
       "shape": {
        "columns": 1,
        "rows": 7
       }
      },
      "text/html": [
       "<div>\n",
       "<style scoped>\n",
       "    .dataframe tbody tr th:only-of-type {\n",
       "        vertical-align: middle;\n",
       "    }\n",
       "\n",
       "    .dataframe tbody tr th {\n",
       "        vertical-align: top;\n",
       "    }\n",
       "\n",
       "    .dataframe thead th {\n",
       "        text-align: right;\n",
       "    }\n",
       "</style>\n",
       "<table border=\"1\" class=\"dataframe\">\n",
       "  <thead>\n",
       "    <tr style=\"text-align: right;\">\n",
       "      <th></th>\n",
       "      <th>Greens win probability %</th>\n",
       "    </tr>\n",
       "  </thead>\n",
       "  <tbody>\n",
       "    <tr>\n",
       "      <th>Melbourne (VIC)</th>\n",
       "      <td>86.7</td>\n",
       "    </tr>\n",
       "    <tr>\n",
       "      <th>Griffith (QLD)</th>\n",
       "      <td>57.1</td>\n",
       "    </tr>\n",
       "    <tr>\n",
       "      <th>Wills (VIC)</th>\n",
       "      <td>42.7</td>\n",
       "    </tr>\n",
       "    <tr>\n",
       "      <th>Macnamara (VIC)</th>\n",
       "      <td>34.3</td>\n",
       "    </tr>\n",
       "    <tr>\n",
       "      <th>Ryan (QLD)</th>\n",
       "      <td>33.2</td>\n",
       "    </tr>\n",
       "    <tr>\n",
       "      <th>Brisbane (QLD)</th>\n",
       "      <td>32.2</td>\n",
       "    </tr>\n",
       "    <tr>\n",
       "      <th>Richmond (NSW)</th>\n",
       "      <td>31.2</td>\n",
       "    </tr>\n",
       "  </tbody>\n",
       "</table>\n",
       "</div>"
      ],
      "text/plain": [
       "                 Greens win probability %\n",
       "Melbourne (VIC)                      86.7\n",
       "Griffith (QLD)                       57.1\n",
       "Wills (VIC)                          42.7\n",
       "Macnamara (VIC)                      34.3\n",
       "Ryan (QLD)                           33.2\n",
       "Brisbane (QLD)                       32.2\n",
       "Richmond (NSW)                       31.2"
      ]
     },
     "metadata": {},
     "output_type": "display_data"
    },
    {
     "name": "stdout",
     "output_type": "stream",
     "text": [
      "Seats where Others might be competitive:\n"
     ]
    },
    {
     "data": {
      "application/vnd.microsoft.datawrangler.viewer.v0+json": {
       "columns": [
        {
         "name": "index",
         "rawType": "object",
         "type": "string"
        },
        {
         "name": "Others win probability %",
         "rawType": "float64",
         "type": "float"
        }
       ],
       "conversionMethod": "pd.DataFrame",
       "ref": "52ee03e2-5d20-4704-b835-ba6a11a7bc05",
       "rows": [
        [
         "Clark (TAS)",
         "100.0"
        ],
        [
         "Kennedy (QLD)",
         "96.3"
        ],
        [
         "Warringah (NSW)",
         "86.8"
        ],
        [
         "Mayo (SA)",
         "85.2"
        ],
        [
         "Indi (VIC)",
         "82.5"
        ],
        [
         "Wentworth (NSW)",
         "78.4"
        ],
        [
         "Mackellar  (NSW)",
         "73.7"
        ],
        [
         "Fowler (NSW)",
         "65.4"
        ],
        [
         "Bradfield (NSW)",
         "56.9"
        ],
        [
         "Goldstein (VIC)",
         "56.3"
        ],
        [
         "Curtin (WA)",
         "55.9"
        ],
        [
         "Cowper (NSW)",
         "55.3"
        ],
        [
         "Kooyong (VIC)",
         "50.0"
        ],
        [
         "Wannon (VIC)",
         "50.0"
        ],
        [
         "Calare (NSW)",
         "44.3"
        ],
        [
         "Monash (VIC)",
         "38.9"
        ],
        [
         "McPherson (QLD)",
         "30.7"
        ],
        [
         "Flinders (VIC)",
         "25.1"
        ],
        [
         "Forrest (WA)",
         "24.3"
        ]
       ],
       "shape": {
        "columns": 1,
        "rows": 19
       }
      },
      "text/html": [
       "<div>\n",
       "<style scoped>\n",
       "    .dataframe tbody tr th:only-of-type {\n",
       "        vertical-align: middle;\n",
       "    }\n",
       "\n",
       "    .dataframe tbody tr th {\n",
       "        vertical-align: top;\n",
       "    }\n",
       "\n",
       "    .dataframe thead th {\n",
       "        text-align: right;\n",
       "    }\n",
       "</style>\n",
       "<table border=\"1\" class=\"dataframe\">\n",
       "  <thead>\n",
       "    <tr style=\"text-align: right;\">\n",
       "      <th></th>\n",
       "      <th>Others win probability %</th>\n",
       "    </tr>\n",
       "  </thead>\n",
       "  <tbody>\n",
       "    <tr>\n",
       "      <th>Clark (TAS)</th>\n",
       "      <td>100.0</td>\n",
       "    </tr>\n",
       "    <tr>\n",
       "      <th>Kennedy (QLD)</th>\n",
       "      <td>96.3</td>\n",
       "    </tr>\n",
       "    <tr>\n",
       "      <th>Warringah (NSW)</th>\n",
       "      <td>86.8</td>\n",
       "    </tr>\n",
       "    <tr>\n",
       "      <th>Mayo (SA)</th>\n",
       "      <td>85.2</td>\n",
       "    </tr>\n",
       "    <tr>\n",
       "      <th>Indi (VIC)</th>\n",
       "      <td>82.5</td>\n",
       "    </tr>\n",
       "    <tr>\n",
       "      <th>Wentworth (NSW)</th>\n",
       "      <td>78.4</td>\n",
       "    </tr>\n",
       "    <tr>\n",
       "      <th>Mackellar  (NSW)</th>\n",
       "      <td>73.7</td>\n",
       "    </tr>\n",
       "    <tr>\n",
       "      <th>Fowler (NSW)</th>\n",
       "      <td>65.4</td>\n",
       "    </tr>\n",
       "    <tr>\n",
       "      <th>Bradfield (NSW)</th>\n",
       "      <td>56.9</td>\n",
       "    </tr>\n",
       "    <tr>\n",
       "      <th>Goldstein (VIC)</th>\n",
       "      <td>56.3</td>\n",
       "    </tr>\n",
       "    <tr>\n",
       "      <th>Curtin (WA)</th>\n",
       "      <td>55.9</td>\n",
       "    </tr>\n",
       "    <tr>\n",
       "      <th>Cowper (NSW)</th>\n",
       "      <td>55.3</td>\n",
       "    </tr>\n",
       "    <tr>\n",
       "      <th>Kooyong (VIC)</th>\n",
       "      <td>50.0</td>\n",
       "    </tr>\n",
       "    <tr>\n",
       "      <th>Wannon (VIC)</th>\n",
       "      <td>50.0</td>\n",
       "    </tr>\n",
       "    <tr>\n",
       "      <th>Calare (NSW)</th>\n",
       "      <td>44.3</td>\n",
       "    </tr>\n",
       "    <tr>\n",
       "      <th>Monash (VIC)</th>\n",
       "      <td>38.9</td>\n",
       "    </tr>\n",
       "    <tr>\n",
       "      <th>McPherson (QLD)</th>\n",
       "      <td>30.7</td>\n",
       "    </tr>\n",
       "    <tr>\n",
       "      <th>Flinders (VIC)</th>\n",
       "      <td>25.1</td>\n",
       "    </tr>\n",
       "    <tr>\n",
       "      <th>Forrest (WA)</th>\n",
       "      <td>24.3</td>\n",
       "    </tr>\n",
       "  </tbody>\n",
       "</table>\n",
       "</div>"
      ],
      "text/plain": [
       "                  Others win probability %\n",
       "Clark (TAS)                          100.0\n",
       "Kennedy (QLD)                         96.3\n",
       "Warringah (NSW)                       86.8\n",
       "Mayo (SA)                             85.2\n",
       "Indi (VIC)                            82.5\n",
       "Wentworth (NSW)                       78.4\n",
       "Mackellar  (NSW)                      73.7\n",
       "Fowler (NSW)                          65.4\n",
       "Bradfield (NSW)                       56.9\n",
       "Goldstein (VIC)                       56.3\n",
       "Curtin (WA)                           55.9\n",
       "Cowper (NSW)                          55.3\n",
       "Kooyong (VIC)                         50.0\n",
       "Wannon (VIC)                          50.0\n",
       "Calare (NSW)                          44.3\n",
       "Monash (VIC)                          38.9\n",
       "McPherson (QLD)                       30.7\n",
       "Flinders (VIC)                        25.1\n",
       "Forrest (WA)                          24.3"
      ]
     },
     "metadata": {},
     "output_type": "display_data"
    },
    {
     "data": {
      "image/png": "[encoded data removed]",
      "text/plain": [
       "<Figure size 900x450 with 1 Axes>"
      ]
     },
     "metadata": {},
     "output_type": "display_data"
    },
    {
     "data": {
      "image/png": "[encoded data removed]",
      "text/plain": [
       "<Figure size 900x450 with 1 Axes>"
      ]
     },
     "metadata": {},
     "output_type": "display_data"
    },
    {
     "data": {
      "image/png": "[encoded data removed]",
      "text/plain": [
       "<Figure size 900x450 with 1 Axes>"
      ]
     },
     "metadata": {},
     "output_type": "display_data"
    }
   ],
   "source": [
    "def plot_ahead_count(\n",
    "    df: pd.DataFrame, party_count: dict[str, float], method: str  # betting data\n",
    ") -> None:\n",
    "    \"\"\"Plot the count of the ahead party in each seat.\"\"\"\n",
    "\n",
    "    winners = pd.Series(party_count).sort_values(ascending=False)\n",
    "    assert (\n",
    "        winners.sum() == 150\n",
    "    ), f\"Count of ahead parties does not sum to 150; n={winners.sum()}\"\n",
    "    colors = [colourise(x)[0] for x in winners.index]\n",
    "    _fig, ax = plt.subplots()\n",
    "    ax.barh(winners.index, winners, color=colors)\n",
    "    for i, v in enumerate(winners):\n",
    "        rounded: str = f\"{v:.1f}\".rstrip(\"0\").rstrip(\".\")\n",
    "        ax.text(v, i, f\" {rounded}\", color=\"black\", va=\"center\", ha=\"left\")  # type: ignore[arg-type]\n",
    "    plotting.finalise_plot(\n",
    "        ax,\n",
    "        title=\"Count of Ahead Parties (Favourites) across all Seats\",\n",
    "        ylabel=None,\n",
    "        xlabel=\"Number of Seats\",\n",
    "        rfooter=\"marktheballot.blogspot.com\",\n",
    "        lfooter=\"Data captured from Sportsbet.com.au \"\n",
    "        + f'{df[\"timestamp\"].max().date()}. ',\n",
    "        rheader=method,\n",
    "        show=True,\n",
    "    )\n",
    "\n",
    "\n",
    "def plot_party_prob_sum(\n",
    "    df: pd.DataFrame, all_seats_probs: dict[str, pd.Series], method: str  # betting data\n",
    ") -> None:\n",
    "    \"\"\"Plot the party-probability sums.\"\"\"\n",
    "\n",
    "    party_probs = pd.DataFrame(all_seats_probs).T.sum().sort_values(ascending=False)\n",
    "    assert (\n",
    "        149.9 < party_probs.sum() < 150.1\n",
    "    ).all(), f\"Probabilities do not sum to 150 seats; n={party_probs.sum()}\"\n",
    "    colors = [colourise(x)[0] for x in party_probs.index]\n",
    "    _fig, ax = plt.subplots()\n",
    "    ax.barh(party_probs.index, party_probs, color=colors)\n",
    "    for i, v in enumerate(party_probs):\n",
    "        ax.text(v, i, f\" {v:0.1f}\", color=\"black\", va=\"center\", ha=\"left\")\n",
    "    plotting.finalise_plot(\n",
    "        ax,\n",
    "        title=\"Sum of Party Probabilities Across All Seats\",\n",
    "        ylabel=None,\n",
    "        xlabel=\"Number of seats\",\n",
    "        rfooter=\"marktheballot.blogspot.com\",\n",
    "        lfooter=\"Data captured from Sportsbet.com.au \"\n",
    "        + f'{df[\"timestamp\"].max().date()}. ',\n",
    "        rheader=method,\n",
    "        show=True,\n",
    "    )\n",
    "\n",
    "\n",
    "def tables_of_interest(\n",
    "    all_seats_probs: dict[str, pd.Series],\n",
    "    individual_leaders: dict[str, str],\n",
    ") -> None:\n",
    "    \"\"\"Create tables of interest from the betting data.\"\"\"\n",
    "\n",
    "    # tavulate close seats\n",
    "    seat_probs = pd.DataFrame(all_seats_probs).T * 100\n",
    "    close_threshold = 70\n",
    "    close_seats = seat_probs[seat_probs.max(axis=1) <= close_threshold]\n",
    "    maxima = close_seats.max(axis=1).round(1)\n",
    "    ahead = pd.Series(individual_leaders)[maxima.index]\n",
    "    results = pd.DataFrame(\n",
    "        {\n",
    "            \"Top probability %\": maxima,\n",
    "            \"ahead\": ahead,\n",
    "        }\n",
    "    )\n",
    "    results = results.reset_index().sort_values(by=\"Top probability %\", ascending=True)\n",
    "    print(\"Close seats:\")\n",
    "    display(results)\n",
    "\n",
    "    # Green possible seats\n",
    "    green_threshold = 20\n",
    "    greens = seat_probs[\"Greens\"]\n",
    "    green_competitive = (\n",
    "        greens[greens >= green_threshold].sort_values(ascending=False).round(1)\n",
    "    )\n",
    "    print(\"Seats where Greens might be competitive:\")\n",
    "    frame = pd.DataFrame(green_competitive)\n",
    "    frame.columns = pd.Index([\"Greens win probability %\"])\n",
    "    display(frame)\n",
    "\n",
    "    # Others possible\n",
    "    other_threshold = 20\n",
    "    others = seat_probs.drop(columns=[\"Greens\", \"Labor\", \"Coalition\"]).sum(axis=1)\n",
    "    other_competitive = others[others >= other_threshold].sort_values(ascending=False)\n",
    "    print(\"Seats where Others might be competitive:\")\n",
    "    display(\n",
    "        pd.DataFrame(other_competitive, columns=[\"Others win probability %\"]).round(1)\n",
    "    )\n",
    "\n",
    "\n",
    "def order_columns(df: pd.DataFrame) -> pd.DataFrame:\n",
    "    \"\"\"Order the columns of the DataFrame by party name.\"\"\"\n",
    "\n",
    "    first_columns = [\n",
    "        f\n",
    "        for f in (\n",
    "            \"Coalition\",\n",
    "            \"One Nation\",\n",
    "            \"Katter's Australian Party\",\n",
    "            \"Centre Alliance\",\n",
    "        )\n",
    "        if f in df.columns\n",
    "    ]\n",
    "    last_columns = [\n",
    "        f for f in (\"Any Other Candidate\", \"Greens\", \"Labor\") if f in df.columns\n",
    "    ]\n",
    "    order = (\n",
    "        first_columns\n",
    "        + [x for x in df.columns if x not in first_columns + last_columns]\n",
    "        + last_columns\n",
    "    )\n",
    "    return df.reindex(columns=order)\n",
    "\n",
    "\n",
    "def plot_stacked_probs(\n",
    "    df: pd.DataFrame,  # betting data\n",
    "    all_seats_probs: dict[str, pd.Series],\n",
    "    method: str,\n",
    ") -> None:\n",
    "    \"\"\"Plot the stacked probabilities for each party.\"\"\"\n",
    "\n",
    "    # Create a DataFrame from the dictionary\n",
    "    seat_probs = (pd.DataFrame(all_seats_probs).T * 100).sort_values(\n",
    "        by=\"Labor\", ascending=False\n",
    "    )\n",
    "\n",
    "    seat_probs = order_columns(seat_probs)\n",
    "    colours = [colourise(x)[0] for x in seat_probs.columns]\n",
    "\n",
    "    slices = [slice(0, 150), slice(0, 50), slice(50, 100), slice(100, 150)]\n",
    "    for i, s in enumerate(slices):\n",
    "        suffix = {0: \"\", 1: \"(C)\", 2: \"(B)\", 3: \"(A)\"}[i]\n",
    "        size = {0: (9, 25), 1: (9, 9), 2: (9, 9), 3: (9, 9)}[i]\n",
    "        lpos = {0: \"lower right\", 1: \"lower right\", 2: \"lower right\", 3: \"lower left\"}[\n",
    "            i\n",
    "        ]\n",
    "\n",
    "        ax = seat_probs.iloc[s].plot.barh(stacked=True, color=colours)  # type: ignore[arg-type]\n",
    "        ax.axvline(50, color=\"black\", linestyle=\"-\", linewidth=0.75)\n",
    "        ax.margins(0.002)\n",
    "        plotting.finalise_plot(\n",
    "            ax,\n",
    "            title=f\"Stacked Win Probabilities for Each Seat {suffix}\".strip(),\n",
    "            ylabel=None,\n",
    "            xlabel=\"Win Probability %\",\n",
    "            rfooter=\"marktheballot.blogspot.com\",\n",
    "            lfooter=\"Data captured from Sportsbet.com.au \"\n",
    "            + f'{df[\"timestamp\"].max().date()}. ',\n",
    "            rheader=method,\n",
    "            show=False,\n",
    "            legend={\"loc\": lpos, \"fontsize\": \"x-small\", \"framealpha\": 1.0},\n",
    "            figsize=size,\n",
    "        )\n",
    "\n",
    "\n",
    "def data_collate(\n",
    "    df: pd.DataFrame,\n",
    ") -> tuple[\n",
    "    dict[str, pd.Series], dict[str, str], dict[str, float], str, dict[str, pd.DataFrame]\n",
    "]:\n",
    "    \"\"\"Collate the data for each seat, for the last avaiulable timestamp.\"\"\"\n",
    "\n",
    "    cum_seat_probs = {}  # {seat: dataframe_of_probabilities}\n",
    "    latest_seat_probs = {}  # {seat: series_of_probabilities}\n",
    "    party_ahead_count: dict[str, float] = {}  # {party: count}\n",
    "    individual_leaders = {}  # {seat: party}\n",
    "\n",
    "    for seat in df.seat.unique():\n",
    "        # get latest seat probabilities\n",
    "        p = calc_probability(df, seat)\n",
    "        if p is None:\n",
    "            print(f\"CAUTION - THIS SHOULD NOT HAPPEN: No data for seat {seat}\")\n",
    "            continue\n",
    "        seat_probs, method, _dates_missing_odds = p\n",
    "\n",
    "        # agregate the probabilities over time\n",
    "        probabs = seat_probs.copy()\n",
    "        renamer = {}\n",
    "        for col in probabs.columns:\n",
    "            new_name = re.sub(REMOVE_BRACKETS, \"\", col).strip()\n",
    "            if new_name != col:\n",
    "                renamer[col] = new_name\n",
    "        if renamer:\n",
    "            probabs = probabs.rename(columns=renamer)\n",
    "            probabs = probabs.T.groupby(probabs.columns).sum().T\n",
    "        cum_seat_probs[seat] = probabs / 100  # convert to simplex\n",
    "\n",
    "        # get and count the party/ies ahead - allow for fractional counts when tied\n",
    "        latest = seat_probs.iloc[-1].dropna()\n",
    "        maxima = latest.max()\n",
    "        leaders = latest[latest == maxima].index.tolist()\n",
    "        for leader in leaders:\n",
    "            party = re.sub(REMOVE_BRACKETS, \"\", leader).strip()\n",
    "            party_ahead_count[party] = party_ahead_count.get(party, 0) + (\n",
    "                1 / len(leaders)\n",
    "            )\n",
    "        individual_leaders[seat] = \", \".join(leaders)\n",
    "\n",
    "        # let's group probabilities by party name (ignore candidate names)\n",
    "        renamer = {x: re.sub(REMOVE_BRACKETS, \"\", x).strip() for x in latest.index}\n",
    "        groups = latest.rename(index=renamer)\n",
    "        groups_combined = groups.groupby(\n",
    "            groups.index\n",
    "        ).sum()  # eg. more than one independent candidate\n",
    "        if len(groups_combined) < len(groups):\n",
    "            print(f\"Grouped probabilities for {seat}: {latest.index}\")\n",
    "        latest_seat_probs[seat] = groups_combined / 100  # convert to simplex\n",
    "\n",
    "    return (\n",
    "        latest_seat_probs,\n",
    "        individual_leaders,\n",
    "        party_ahead_count,\n",
    "        method,\n",
    "        cum_seat_probs,\n",
    "    )\n",
    "\n",
    "\n",
    "def plot_prob_progres(\n",
    "    seat_probs: dict[str, pd.DataFrame],  # betting data\n",
    "    method: str,  # method used to calculate probabilities\n",
    ") -> None:\n",
    "    \"\"\"Plot the progress of the probabilities for all seats over time.\"\"\"\n",
    "\n",
    "    aggregated = reduce(lambda a, b: a.add(b, fill_value=0), seat_probs.values())\n",
    "    aggregated.index = pd.PeriodIndex(aggregated.index, freq=\"D\")\n",
    "    aggregated = aggregated[~aggregated.index.duplicated(keep=\"last\")]\n",
    "    aggregated = order_columns(aggregated).fillna(0)\n",
    "    check = aggregated.sum(axis=1)\n",
    "    assert (check > 149.9).all() and (\n",
    "        check < 150.1\n",
    "    ).all(), f\"Probabilities do not sum to 150 seats; n={check}\"\n",
    "\n",
    "    _fig, ax = plt.subplots()\n",
    "    ax.set_yticks(list(range(0, 151, 15)))\n",
    "    ceiling = pd.Series(0, index=aggregated.index)\n",
    "    color = Coloriser()\n",
    "    x_ord = [x.ordinal for x in aggregated.index]\n",
    "    x_ord[0] -= 0.5\n",
    "    x_ord[-1] += 0.5\n",
    "\n",
    "    for col in aggregated.columns:\n",
    "        floor = ceiling\n",
    "        ceiling = ceiling.add(aggregated[col])\n",
    "        c, _m = color(col)\n",
    "        ceiling.plot(ax=ax, color=c, linewidth=0.5, label=\"_\")  # oddly required?\n",
    "        # manage endpoints - so that we can write within the area\n",
    "        # plot the area\n",
    "        ax.fill_between(\n",
    "            x_ord,\n",
    "            floor,\n",
    "            ceiling,\n",
    "            label=col,\n",
    "            color=c,\n",
    "        )\n",
    "        # add text/annotations for the larger values\n",
    "        larger = 15\n",
    "        if aggregated[col].mean() > larger:\n",
    "            for x, y, s in zip(floor.index, floor, aggregated[col]):\n",
    "                ax.text(\n",
    "                    x,\n",
    "                    y + 3,\n",
    "                    f\"{s:.1f}\",\n",
    "                    color=\"white\",\n",
    "                    va=\"bottom\",\n",
    "                    ha=\"center\",\n",
    "                    fontsize=\"small\",\n",
    "                    rotation=90,\n",
    "                )\n",
    "    # complete the plot\n",
    "    plotting.finalise_plot(\n",
    "        ax,\n",
    "        title=\"Sum of Win Probabilities for all Seats by Party by Date\",\n",
    "        ylabel=\"Number of Seats\",\n",
    "        xlabel=None,\n",
    "        rfooter=\"marktheballot.blogspot.com\",\n",
    "        rheader=method,\n",
    "        lfooter=\"Data captured from Sportsbet.com.au. \",\n",
    "        concise_dates=True,\n",
    "        axhline={\n",
    "            \"y\": 75.5,\n",
    "            \"color\": \"black\",\n",
    "            \"linestyle\": \"--\",\n",
    "            \"linewidth\": 0.75,\n",
    "        },\n",
    "        legend={\n",
    "            \"loc\": \"upper center\",\n",
    "            \"fontsize\": \"x-small\",\n",
    "            \"framealpha\": 1.0,\n",
    "            \"ncol\": 3,\n",
    "        },\n",
    "        show=True,\n",
    "    )\n",
    "\n",
    "\n",
    "def summarise_seats_data(df: pd.DataFrame) -> None:\n",
    "    \"\"\"Summarise the individual seat betting data.\"\"\"\n",
    "\n",
    "    latest_seat_probs, individual_leaders, party_ahead_count, method, seat_probs = (\n",
    "        data_collate(df)\n",
    "    )\n",
    "\n",
    "    tables_of_interest(latest_seat_probs, individual_leaders)\n",
    "\n",
    "    plot_ahead_count(df, party_ahead_count, method)\n",
    "\n",
    "    plot_party_prob_sum(df, latest_seat_probs, method)\n",
    "\n",
    "    plot_prob_progres(seat_probs, method)\n",
    "\n",
    "    plot_stacked_probs(df, latest_seat_probs, method)\n",
    "\n",
    "\n",
    "summarise_seats_data(BETTING_DF)"
   ]
  },
  {
   "cell_type": "markdown",
   "id": "790b780e",
   "metadata": {},
   "source": [
    "## Plot individual seats"
   ]
  },
  {
   "cell_type": "code",
   "execution_count": 15,
   "id": "442896d0",
   "metadata": {
    "ExecuteTime": {
     "end_time": "2022-03-22T19:53:27.931226Z",
     "start_time": "2022-03-22T19:53:27.924696Z"
    }
   },
   "outputs": [
    {
     "name": "stdout",
     "output_type": "stream",
     "text": [
      "Seats with changes from penultimate day: ['Ballarat (VIC)', 'Banks (NSW)', 'Bass (TAS)', 'Bendigo (VIC)', 'Bennelong (NSW)', 'Bonner (QLD)', 'Braddon (TAS)', 'Bradfield (NSW)', 'Brisbane (QLD)', 'Bullwinkel (WA)', 'Calare (NSW)', 'Chisholm (VIC)', 'Cowper (NSW)', 'Cunningham (NSW)', 'Curtin (WA)', 'Dickson (QLD)', 'Dobell (NSW)', 'Eden-Monaro (NSW)', 'Farrer (NSW)', 'Fisher (QLD)', 'Flinders (VIC)', 'Fowler (NSW)', 'Franklin (TAS)', 'Fremantle (WA)', 'Gilmore (NSW)', 'Grey (SA)', 'Groom (QLD)', 'Hawke (VIC)', 'Hindmarsh (SA)', 'Hunter (NSW)', 'Lindsay (NSW)', 'Longman (QLD)', 'Lyons (TAS)', 'Macquarie (NSW)', 'McEwen (VIC)', 'McMahon (NSW)', 'Melbourne (VIC)', 'Menzies (VIC)', 'Monash (VIC)', 'Paterson (NSW)', 'Richmond (NSW)', 'Sturt  (SA)', 'Wannon (VIC)', 'Whitlam (NSW)']\n"
     ]
    }
   ],
   "source": [
    "CHANGES = []  # list of seats with changes in the last two days - ugly hack\n",
    "\n",
    "\n",
    "def plot_seat_probs(df: pd.DataFrame, seat: str) -> None:\n",
    "    \"\"\"\n",
    "    Plot the seat probabilities for a given seat.\n",
    "    Arguments:\n",
    "    df: pd.DataFrame - The dataframe containing the betting data.\n",
    "    seat: str - The seat to plot.\n",
    "    \"\"\"\n",
    "\n",
    "    # get seat probabilities - treat for favourite-longshot bias\n",
    "    p = calc_probability(df, seat)\n",
    "    if p is None:\n",
    "        print(f\"No data for seat {seat}\")\n",
    "        return\n",
    "    seat_probs, flb_method, dates_missing_odds = p\n",
    "\n",
    "    # make the index a daily period index and de-duplicate.\n",
    "    seat_probs.index = pd.PeriodIndex(seat_probs.index, freq=\"D\")\n",
    "    seat_probs = seat_probs[~seat_probs.index.duplicated(keep=\"last\")]\n",
    "    if len(seat_probs) > 2 and (seat_probs.iloc[-1] != seat_probs.iloc[-2]).any():\n",
    "        CHANGES.append(seat)\n",
    "    missing_periods = pd.PeriodIndex(dates_missing_odds, freq=\"D\")\n",
    "\n",
    "    # plot\n",
    "    ax = None\n",
    "    color = Coloriser()\n",
    "    for column in seat_probs.columns:\n",
    "        c, m = color(column)\n",
    "        ax = seat_probs[column].plot(\n",
    "            ax=ax,\n",
    "            markersize=6,\n",
    "            lw=2.5,\n",
    "            color=c,\n",
    "            marker=m,\n",
    "        )\n",
    "        if seat_probs[column].iloc[-1] >= 10:\n",
    "            ax.text(\n",
    "                seat_probs.index[-1],\n",
    "                seat_probs[column].iloc[-1],\n",
    "                f\"  {seat_probs[column].iloc[-1]:.0f}\",\n",
    "                fontsize=9,\n",
    "                color=\"#444444\",\n",
    "                ha=\"left\",\n",
    "                va=\"center\",\n",
    "            )\n",
    "    if ax is None:\n",
    "        print(f\"No data for seat {seat}\")\n",
    "        return\n",
    "\n",
    "    if missing_periods is not None and len(missing_periods) > 0:\n",
    "        label = \"Missing odds\"\n",
    "        for period in missing_periods:  # type: ignore[attr-defined]\n",
    "            ax.axvspan(\n",
    "                period.ordinal - 0.5,\n",
    "                period.ordinal + 0.5,\n",
    "                color=\"gray\",\n",
    "                alpha=0.25,\n",
    "                label=label,\n",
    "            )\n",
    "            label = \"_nolegend_\"\n",
    "\n",
    "    plotting.finalise_plot(\n",
    "        ax,\n",
    "        title=f\"Sportsbet seat win probabilities over time - {seat}\",\n",
    "        ylabel=\"Implied Win Probability (%)\",\n",
    "        lfooter=flb_method,\n",
    "        rheader=\"marktheballot.blogspot.com\",\n",
    "        legend={\"loc\": \"best\", \"ncol\": 2, \"fontsize\": \"small\"},\n",
    "        ylim=(-5, 105),\n",
    "        y50=True,\n",
    "        pre_tag=\"yy\",\n",
    "        show=SHOW,\n",
    "    )\n",
    "\n",
    "\n",
    "def plot_seat_odds(df: pd.DataFrame, seat: str) -> None:\n",
    "    \"\"\"\n",
    "    Plot the seat odds for a given seat.\n",
    "    Arguments:\n",
    "    df: pd.DataFrame - The dataframe containing the betting data.\n",
    "    seat: str - The seat to plot.\n",
    "    \"\"\"\n",
    "\n",
    "    # get seat odds - without FLB treatment\n",
    "    df = df[df.seat == seat]\n",
    "    odds = df.pivot(index=\"timestamp\", columns=\"party\", values=\"price\")\n",
    "    odds.index = pd.PeriodIndex(odds.index, freq=\"D\")\n",
    "    odds = odds[~odds.index.duplicated(keep=\"last\")]\n",
    "    odds = odds.sort_index(ascending=True)\n",
    "\n",
    "    ax = None\n",
    "    color = Coloriser()\n",
    "    for column in odds.columns:\n",
    "        c, m = color(column)\n",
    "        ax = odds[column].plot(\n",
    "            ax=ax,\n",
    "            markersize=6,\n",
    "            lw=2.5,\n",
    "            color=c,\n",
    "            marker=m,\n",
    "        )\n",
    "        value = odds[column].iloc[-1]\n",
    "        if odds[column].iloc[-1] <= 31:\n",
    "            rounding = 2 if value >= 1.01 else 3\n",
    "            ax.text(\n",
    "                odds.index[-1],\n",
    "                value,\n",
    "                f\"  \\\\${value:.{rounding}f}\",\n",
    "                fontsize=9,\n",
    "                color=\"#444444\",\n",
    "                ha=\"left\",\n",
    "                va=\"center\",\n",
    "            )\n",
    "\n",
    "    if ax is None:\n",
    "        print(f\"No data for seat {seat}\")\n",
    "        return\n",
    "\n",
    "    use_log_scale = False\n",
    "    if use_log_scale:\n",
    "        ax.set_yscale(\"log\")\n",
    "    minmax = ax.get_ylim()\n",
    "    minmax = (0.9 if use_log_scale else 0, minmax[1])\n",
    "\n",
    "    plotting.finalise_plot(\n",
    "        ax,\n",
    "        title=f\"Sportsbet seat odds over time - {seat}\",\n",
    "        ylabel=\"$ Odds\" + (\" on a log scale\" if use_log_scale else \"\"),\n",
    "        lfooter=\"Decimal odds from Sportsbet.com.au\",\n",
    "        rfooter=\"marktheballot.blogspot.com\",\n",
    "        legend={\"loc\": \"best\", \"ncol\": 2, \"fontsize\": \"small\"},\n",
    "        pre_tag=\"zz\",\n",
    "        ylim=minmax,\n",
    "        show=SHOW,\n",
    "    )\n",
    "\n",
    "\n",
    "def plot_all_seats(df: pd.DataFrame) -> None:\n",
    "    \"\"\"Plot the seat probabilities for all seats.\"\"\"\n",
    "\n",
    "    for seat in df.seat.unique():\n",
    "        plot_seat_probs(df, seat)\n",
    "        plot_seat_odds(df, seat)\n",
    "\n",
    "    if CHANGES:\n",
    "        print(\"Seats with changes from penultimate day:\", CHANGES)\n",
    "\n",
    "\n",
    "plot_all_seats(BETTING_DF)"
   ]
  },
  {
   "cell_type": "markdown",
   "id": "ecf2a812",
   "metadata": {},
   "source": [
    "## Finished"
   ]
  },
  {
   "cell_type": "code",
   "execution_count": 16,
   "id": "dce00412",
   "metadata": {},
   "outputs": [
    {
     "name": "stdout",
     "output_type": "stream",
     "text": [
      "finished\n"
     ]
    }
   ],
   "source": [
    "print(\"finished\")"
   ]
  }
 ],
 "metadata": {
  "kernelspec": {
   "display_name": "313",
   "language": "python",
   "name": "python3"
  },
  "language_info": {
   "codemirror_mode": {
    "name": "ipython",
    "version": 3
   },
   "file_extension": ".py",
   "mimetype": "text/x-python",
   "name": "python",
   "nbconvert_exporter": "python",
   "pygments_lexer": "ipython3",
   "version": "3.13.3"
  },
  "toc": {
   "base_numbering": 1,
   "nav_menu": {},
   "number_sections": true,
   "sideBar": true,
   "skip_h1_title": true,
   "title_cell": "Table of Contents",
   "title_sidebar": "Contents",
   "toc_cell": true,
   "toc_position": {
    "height": "calc(100% - 180px)",
    "left": "10px",
    "top": "150px",
    "width": "277.3660583496094px"
   },
   "toc_section_display": true,
   "toc_window_display": true
  }
 },
 "nbformat": 4,
 "nbformat_minor": 5
}
