{
 "cells": [
  {
   "cell_type": "markdown",
   "id": "7b00fd31",
   "metadata": {},
   "source": [
    "# Chart individual seat probabilities"
   ]
  },
  {
   "cell_type": "markdown",
   "id": "ca41c267",
   "metadata": {},
   "source": [
    "## Python set-up"
   ]
  },
  {
   "cell_type": "code",
   "execution_count": 1,
   "id": "7d3bc55b",
   "metadata": {
    "ExecuteTime": {
     "end_time": "2022-03-22T19:53:27.022287Z",
     "start_time": "2022-03-22T19:53:25.033739Z"
    }
   },
   "outputs": [],
   "source": [
    "import re\n",
    "from typing import Callable\n",
    "\n",
    "import pandas as pd\n",
    "import numpy as np\n",
    "import matplotlib.pyplot as plt\n",
    "\n",
    "import seaborn as sns\n",
    "from IPython.display import display\n",
    "import plotting"
   ]
  },
  {
   "cell_type": "code",
   "execution_count": 2,
   "id": "6d6c4c0a",
   "metadata": {
    "ExecuteTime": {
     "end_time": "2022-03-22T19:53:27.092679Z",
     "start_time": "2022-03-22T19:53:27.023519Z"
    }
   },
   "outputs": [
    {
     "name": "stdout",
     "output_type": "stream",
     "text": [
      "Python implementation: CPython\n",
      "Python version       : 3.13.3\n",
      "IPython version      : 9.1.0\n",
      "\n",
      "conda environment: 313\n",
      "\n",
      "Compiler    : Clang 18.1.8 \n",
      "OS          : Darwin\n",
      "Release     : 24.3.0\n",
      "Machine     : arm64\n",
      "Processor   : arm\n",
      "CPU cores   : 14\n",
      "Architecture: 64bit\n",
      "\n",
      "IPython   : 9.1.0\n",
      "numpy     : 2.2.4\n",
      "matplotlib: 3.10.1\n",
      "pandas    : 2.2.3\n",
      "seaborn   : 0.13.2\n",
      "re        : 2.2.1\n",
      "\n"
     ]
    }
   ],
   "source": [
    "%load_ext watermark\n",
    "%watermark --machine --python --iversions --conda"
   ]
  },
  {
   "cell_type": "code",
   "execution_count": 3,
   "id": "029c7653",
   "metadata": {},
   "outputs": [],
   "source": [
    "## Plotting initialisation\n",
    "def set_up_plotting() -> None:\n",
    "    \"\"\"Set up plotting.\"\"\"\n",
    "\n",
    "    p = plotting.get_chart_dir()\n",
    "    plotting.set_chart_dir(p + \"/individual-seats/\")\n",
    "    plotting.clear_chart_dir()\n",
    "\n",
    "\n",
    "set_up_plotting()\n",
    "SHOW = False"
   ]
  },
  {
   "cell_type": "markdown",
   "id": "b6ec3056",
   "metadata": {},
   "source": [
    "## Get data"
   ]
  },
  {
   "cell_type": "code",
   "execution_count": 4,
   "id": "9011cbf4",
   "metadata": {},
   "outputs": [],
   "source": [
    "FILE = \"../betting-data/sportsbet-2025-electorate-betting.csv\"\n",
    "REMOVE_BRACKETS = r\"\\s*\\(.*?\\)\""
   ]
  },
  {
   "cell_type": "code",
   "execution_count": 5,
   "id": "3747b16d",
   "metadata": {
    "ExecuteTime": {
     "end_time": "2022-03-22T19:53:27.172096Z",
     "start_time": "2022-03-22T19:53:27.093675Z"
    },
    "scrolled": true
   },
   "outputs": [
    {
     "name": "stdout",
     "output_type": "stream",
     "text": [
      "data shape: (10021, 5)\n",
      "data length: 10021\n",
      "data start: 2025-03-30 23:21:13.467650\n",
      "data end: 2025-04-18 07:01:07.456075\n",
      "data columns: Index(['Unnamed: 0', 'seat', 'party', 'price', 'timestamp'], dtype='object')\n",
      "Latest seat count: 149 rows)\n",
      "Missing seats for most recent collection: {'Franklin (TAS)'}\n",
      "Party groups: ['Labor' 'Coalition' 'Greens' 'Any Other Candidate' 'Independent'\n",
      " 'One Nation' \"Katter's Australian Party\" 'Centre Alliance']\n"
     ]
    }
   ],
   "source": [
    "betting_df = pd.read_csv(\n",
    "    FILE, na_values=[\"SUS\", \"Suspended\"], parse_dates=[\"timestamp\"]\n",
    ")\n",
    "\n",
    "\n",
    "def diagnostics(df: pd.DataFrame) -> None:\n",
    "    \"\"\"Print diagnostics for the dataframe.\"\"\"\n",
    "    print(f\"data shape: {df.shape}\")\n",
    "    print(f\"data length: {len(df)}\")\n",
    "    print(f\"data start: {df['timestamp'].min()}\")\n",
    "    print(f\"data end: {df['timestamp'].max()}\")\n",
    "    print(f\"data columns: {df.columns}\")\n",
    "    last = df[\"timestamp\"].max()\n",
    "    last_count = len(df[df[\"timestamp\"] == last].seat.unique())\n",
    "    print(\n",
    "        f\"Latest seat count: {last_count} rows)\",\n",
    "    )\n",
    "    if last_count < 150:\n",
    "        missing = set(df.seat) - set(df[df[\"timestamp\"] == last].seat)\n",
    "        print(f\"Missing seats for most recent collection: {missing}\")\n",
    "    print(\n",
    "        \"Party groups:\",\n",
    "        betting_df.party.str.replace(REMOVE_BRACKETS, \"\", regex=True).unique(),\n",
    "    )\n",
    "\n",
    "\n",
    "diagnostics(betting_df)"
   ]
  },
  {
   "cell_type": "code",
   "execution_count": 6,
   "id": "3051cf05",
   "metadata": {},
   "outputs": [],
   "source": [
    "# A useful presentation for checking the raw data\n",
    "DO_THIS = False\n",
    "if DO_THIS:\n",
    "    display(\n",
    "        betting_df.pivot(columns=\"timestamp\", index=[\"seat\", \"party\"], values=\"price\")\n",
    "        .T.tail(2)\n",
    "        .T\n",
    "    )"
   ]
  },
  {
   "cell_type": "markdown",
   "id": "91c682b1",
   "metadata": {},
   "source": [
    "## Plot distribution of simple overrounds"
   ]
  },
  {
   "cell_type": "code",
   "execution_count": 7,
   "id": "2b91e80f",
   "metadata": {},
   "outputs": [],
   "source": [
    "def calculate_overrounds(\n",
    "    df: pd.DataFrame,\n",
    "    seat: str,\n",
    ") -> pd.Series:\n",
    "    \"\"\"Calculate the bookmaker's overround for a given seat.\"\"\"\n",
    "\n",
    "    seat_data = df[df[\"seat\"] == seat]\n",
    "    seat_overrounds = (\n",
    "        seat_data.dropna(subset=[\"price\"])  # Remove rows with no price\n",
    "        .pivot(index=\"timestamp\", columns=\"party\", values=\"price\")\n",
    "        .pipe(lambda x: 1 / x)\n",
    "        .sum(axis=1)\n",
    "    )\n",
    "\n",
    "    return seat_overrounds"
   ]
  },
  {
   "cell_type": "code",
   "execution_count": 8,
   "id": "93700dc3",
   "metadata": {
    "ExecuteTime": {
     "end_time": "2022-03-22T19:53:27.661406Z",
     "start_time": "2022-03-22T19:53:27.177619Z"
    }
   },
   "outputs": [],
   "source": [
    "def capture_latest_overrounds(\n",
    "    df: pd.DataFrame,\n",
    "    min_threshold: float = 1.05,\n",
    ") -> pd.Series:\n",
    "    \"\"\"Capture the latest overrounds for each seat in the dataframe.\n",
    "    The overround is calculated as the sum of the inverse of the\n",
    "    prices for each party.\n",
    "    Report any seats with an overround less than the minimum threshold\n",
    "    for the latest data collection.\n",
    "    Arguments:\n",
    "    df: pd.DataFrame - The dataframe containing the betting data.\n",
    "    min_threshold: float - The minimum expected bookmaker's overround.\"\"\"\n",
    "\n",
    "    # Filter out rows with missing prices\n",
    "    df = df.dropna(subset=[\"price\"])\n",
    "\n",
    "    # Calculate the overround for each seat\n",
    "    overrounds = {}\n",
    "    for seat in df.seat.unique():\n",
    "        overrounds[seat] = (\n",
    "            calculate_overrounds(df, seat).dropna(how=\"all\", axis=0).iloc[-1]\n",
    "        )\n",
    "    series = pd.Series(overrounds)\n",
    "\n",
    "    # Report any seats with an overround less than the minimum threshold\n",
    "    too_low = series[series <= min_threshold]\n",
    "    if len(too_low):\n",
    "        print(\"We have some low overrounds in the latest collection:\")\n",
    "        for seat in too_low.index:\n",
    "            print(\n",
    "                seat,\n",
    "            )\n",
    "            print(\n",
    "                df[df.seat == seat]\n",
    "                .pivot(index=\"timestamp\", columns=\"party\", values=\"price\")\n",
    "                .iloc[-1]\n",
    "            )\n",
    "        print(\"-\" * 30)\n",
    "\n",
    "    return series"
   ]
  },
  {
   "cell_type": "code",
   "execution_count": 9,
   "id": "58c65bb9",
   "metadata": {
    "ExecuteTime": {
     "end_time": "2022-03-22T19:53:27.923507Z",
     "start_time": "2022-03-22T19:53:27.668681Z"
    }
   },
   "outputs": [
    {
     "name": "stdout",
     "output_type": "stream",
     "text": [
      "We have some low overrounds in the latest collection:\n",
      "Bendigo (VIC)\n",
      "party\n",
      "Any Other Candidate    26.00\n",
      "Coalition                NaN\n",
      "Labor                   1.03\n",
      "Name: 2025-04-18 07:01:07.456075, dtype: float64\n",
      "Lyons (TAS)\n",
      "party\n",
      "Any Other Candidate    26.0\n",
      "Coalition               1.7\n",
      "Labor                   NaN\n",
      "Name: 2025-04-18 07:01:07.456075, dtype: float64\n",
      "------------------------------\n"
     ]
    },
    {
     "data": {
      "image/png": "[encoded data removed]",
      "text/plain": [
       "<Figure size 900x450 with 1 Axes>"
      ]
     },
     "metadata": {},
     "output_type": "display_data"
    }
   ],
   "source": [
    "def plot_overrounds() -> None:\n",
    "    \"\"\"\n",
    "    Plot the latest overrounds for each seat in the dataframe.\n",
    "    \"\"\"\n",
    "    overround_series = capture_latest_overrounds(betting_df)\n",
    "    ax = sns.violinplot(x=overround_series, orient=\"h\")\n",
    "    title = \"Violin plot of Bookmaker Overrounds in the Individual Seats Market\"\n",
    "    plotting.finalise_plot(\n",
    "        ax,\n",
    "        title=title,\n",
    "        ylabel=\"Density\",\n",
    "        xlabel=\"Overround (where 1 means fair odds)\",\n",
    "        rfooter=\"marktheballot.blogspot.com\",\n",
    "        lfooter=\"Data captured from Sportsbet.com.au \"\n",
    "        + f'{betting_df[\"timestamp\"].max().date()}. ',\n",
    "        show=True,\n",
    "    )\n",
    "\n",
    "\n",
    "plot_overrounds()"
   ]
  },
  {
   "cell_type": "markdown",
   "id": "00623a9d",
   "metadata": {},
   "source": [
    "## Summarise likely result and identify seats of interest"
   ]
  },
  {
   "cell_type": "code",
   "execution_count": 10,
   "id": "3ac03e9c",
   "metadata": {},
   "outputs": [],
   "source": [
    "def calc_probability(\n",
    "    df: pd.DataFrame,  # DataFrame containing betting data\n",
    "    seat: str,  # The seat to calculate probabilities for\n",
    "    # Favourite-Longshot Bias management:\n",
    "    exclude_above: float = 25.0,  # exclude any odds above this value\n",
    "    lsb_cap: float = 7.5,  # only inflate odds if they are > lsb_cap\n",
    "    lsb_method: Callable | None = lambda x: x * np.sqrt(x),  # odds inflation method\n",
    "    method_text: str = \"raw-odds * sqrt(raw-odds)\",\n",
    ") -> tuple[pd.DataFrame, str, pd.Index] | None:\n",
    "    \"\"\"Calculate the probability of winning for each party in a given seat.\n",
    "    Arguments:\n",
    "    df: pd.DataFrame - The dataframe containing the betting data.\n",
    "    seat: str - The seat to calculate probabilities for.\n",
    "    exclude_above: float - Exclude any odds above this value.\n",
    "    lsb_cap: float - Only inflate odds if they are > lsb_cap.\n",
    "    lsb_method: Callable | None - The method to use for inflating odds.\n",
    "    Returns a tuple comprising:\n",
    "    1. A DataFrame of seat probabilities\n",
    "    2. A string explaining how the favourite-longshot bias was treated, and\n",
    "    3. An index of dates with interpolated probabilities for missing odds.\"\"\"\n",
    "\n",
    "    # assume bookmaker's overround is at least 5%\n",
    "    minimum_overround = 1.05\n",
    "\n",
    "    # get the data for the seat\n",
    "    seat_df = df[df.seat == seat]\n",
    "    if seat_df.empty:\n",
    "        print(f\"No data for seat {seat}\")\n",
    "        return None\n",
    "\n",
    "    # identify and replace missing odds, based on overround\n",
    "    overs = calculate_overrounds(seat_df, seat)\n",
    "\n",
    "    pivot = seat_df.pivot(index=\"timestamp\", columns=\"party\", values=\"price\")\n",
    "    pivot2 = pivot.where(overs >= minimum_overround, other=pivot.ffill())\n",
    "    adjusted = (pivot.fillna(0) != pivot2.fillna(0)).sum(axis=1)\n",
    "    adjusted_index = adjusted[adjusted > 0].index\n",
    "\n",
    "    # remove any odds above the exclude_above threshold\n",
    "    pivot2[pivot2 > exclude_above] = np.nan\n",
    "    pivot2 = pivot2.dropna(axis=1, how=\"all\")\n",
    "\n",
    "    # get seat probabilities - treat for favourite-longshot bias\n",
    "    seat_prob = (\n",
    "        pivot2.pipe(  # type: ignore[call-overload]\n",
    "            (\n",
    "                lambda x: (\n",
    "                    x\n",
    "                    if lsb_method is None\n",
    "                    else x.where(\n",
    "                        x <= lsb_cap, other=lsb_method(x)  # type: ignore[arg-type, misc]\n",
    "                    )\n",
    "                )\n",
    "            )\n",
    "        )\n",
    "        .pipe(lambda x: 1 / x)  # convert from odds to probability\n",
    "        .pipe(lambda x: x.div(other=x.sum(axis=1), axis=0))  # normalise probabilities\n",
    "    ) * 100  # per cent\n",
    "\n",
    "    explainer = \"\"\n",
    "    explanations = []\n",
    "    if exclude_above > 0:\n",
    "        explanations.append(f\"Odds excluded above \\\\${exclude_above}\")\n",
    "    if lsb_method is not None:\n",
    "        odds_cap = f\", where odds > \\\\${lsb_cap}\" if lsb_cap else \"\"\n",
    "        explanations.append(f\"{method_text}{odds_cap}\")\n",
    "    if explanations:\n",
    "        explainer = \"Favourite-Longshot Bias treatment: \" + \"; \".join(explanations)\n",
    "\n",
    "    return seat_prob, explainer, adjusted_index"
   ]
  },
  {
   "cell_type": "code",
   "execution_count": 11,
   "id": "a1d29569",
   "metadata": {},
   "outputs": [
    {
     "name": "stdout",
     "output_type": "stream",
     "text": [
      "('darkorange', 'v')\n",
      "('orange', '>')\n"
     ]
    }
   ],
   "source": [
    "def colourise(s: str, count: int = 0) -> tuple[str, str]:\n",
    "    \"\"\"A standard color and marker scheme for parties.\"\"\"\n",
    "\n",
    "    settings = {\n",
    "        \"coalition\": (\"royalblue\", \"s\"),\n",
    "        \"labor\": (\"#dd0000\", \"d\"),\n",
    "        \"green\": (\"mediumseagreen\", \"o\"),\n",
    "        \"independent\": (\n",
    "            [\"darkorange\", \"orange\", \"purple\", \"teal\"][count],\n",
    "            \"v>^<\"[count],\n",
    "        ),\n",
    "        \"one nation\": (\"darkkhaki\", \"H\"),\n",
    "        \"jacqui lambie\": (\"darkorchid\", \"P\"),\n",
    "        \"katter\": (\"hotpink\", \"X\"),\n",
    "        \"centre alliance\": (\"brown\", \"P\"),\n",
    "        \"other\": (\"skyblue\", \"|\"),  # must be last\n",
    "    }\n",
    "    for party, setting in settings.items():\n",
    "        if party in s.lower():\n",
    "            return setting\n",
    "\n",
    "    return (\"gray\", \"*\")\n",
    "\n",
    "\n",
    "class Coloriser:\n",
    "    \"\"\"A class to handle colorisation of party names.\n",
    "    Note: this is a bit of a hack, but it works for now.\n",
    "    It allows for multiple independents to be colourised differently.\"\"\"\n",
    "\n",
    "    def __init__(self):\n",
    "        self.x = {}\n",
    "\n",
    "    def __call__(self, s: str) -> tuple[str, str]:\n",
    "        core = re.sub(REMOVE_BRACKETS, \"\", s).strip()\n",
    "        count = self.x.get(core, -1) + 1\n",
    "        self.x[core] = count\n",
    "        return colourise(s, count)\n",
    "\n",
    "\n",
    "_color = Coloriser()\n",
    "print(_color(\"Independent\"))\n",
    "print(_color(\"Independent\"))"
   ]
  },
  {
   "cell_type": "code",
   "execution_count": 12,
   "id": "399bf505",
   "metadata": {},
   "outputs": [
    {
     "name": "stdout",
     "output_type": "stream",
     "text": [
      "Grouped probabilities for Calare (NSW): Index(['Coalition', 'Independent (Andrew Gee)', 'Independent (Kate Hook)'], dtype='object', name='party')\n",
      "Grouped probabilities for Monash (VIC): Index(['Any Other Candidate', 'Coalition', 'Independent (Deb Leonard)',\n",
      "       'Independent (Russell Broadbent)'],\n",
      "      dtype='object', name='party')\n",
      "Close seats:\n"
     ]
    },
    {
     "data": {
      "application/vnd.microsoft.datawrangler.viewer.v0+json": {
       "columns": [
        {
         "name": "index",
         "rawType": "int64",
         "type": "integer"
        },
        {
         "name": "index",
         "rawType": "object",
         "type": "string"
        },
        {
         "name": "Top probability %",
         "rawType": "float64",
         "type": "float"
        },
        {
         "name": "ahead",
         "rawType": "object",
         "type": "string"
        }
       ],
       "conversionMethod": "pd.DataFrame",
       "ref": "35cb5c9d-3597-44c1-a4b1-a31126f1442e",
       "rows": [
        [
         "3",
         "Brisbane (QLD)",
         "40.4",
         "Labor"
        ],
        [
         "28",
         "Ryan (QLD)",
         "46.7",
         "Coalition"
        ],
        [
         "20",
         "Macnamara (VIC)",
         "47.0",
         "Labor"
        ],
        [
         "25",
         "Paterson (NSW)",
         "49.5",
         "Labor"
        ],
        [
         "2",
         "Bradfield (NSW)",
         "50.0",
         "Coalition=, Independent (Nicolette Boele)"
        ],
        [
         "0",
         "Bennelong (NSW)",
         "51.0",
         "Coalition"
        ],
        [
         "4",
         "Bullwinkel (WA)",
         "51.0",
         "Labor"
        ],
        [
         "6",
         "Chisholm (VIC)",
         "51.0",
         "Labor"
        ],
        [
         "7",
         "Cowper (NSW)",
         "51.0",
         "Independent (Caz Heise)"
        ],
        [
         "8",
         "Curtin (WA)",
         "51.0",
         "Independent (Kate Chaney)"
        ],
        [
         "21",
         "McEwen (VIC)",
         "51.0",
         "Labor"
        ],
        [
         "31",
         "Wannon (VIC)",
         "52.4",
         "Coalition"
        ],
        [
         "15",
         "Kooyong (VIC)",
         "52.4",
         "Coalition"
        ],
        [
         "18",
         "Lyons (TAS)",
         "54.1",
         "Coalition"
        ],
        [
         "13",
         "Goldstein (VIC)",
         "56.3",
         "Independent (Zoe Daniel)"
        ],
        [
         "12",
         "Gilmore (NSW)",
         "56.8",
         "Coalition"
        ],
        [
         "14",
         "Griffith (QLD)",
         "57.1",
         "Greens"
        ],
        [
         "17",
         "Lingiari (NT)",
         "57.2",
         "Labor"
        ],
        [
         "27",
         "Robertson (NSW)",
         "57.3",
         "Labor"
        ],
        [
         "33",
         "Wills (VIC)",
         "57.3",
         "Labor"
        ],
        [
         "5",
         "Calare (NSW)",
         "57.7",
         "Coalition"
        ],
        [
         "24",
         "Moore (WA)",
         "58.7",
         "Coalition"
        ],
        [
         "10",
         "Dickson (QLD)",
         "60.3",
         "Coalition"
        ],
        [
         "9",
         "Deakin (VIC)",
         "61.2",
         "Coalition"
        ],
        [
         "29",
         "Sturt  (SA)",
         "63.3",
         "Coalition"
        ],
        [
         "16",
         "Leichhardt (QLD)",
         "63.6",
         "Coalition"
        ],
        [
         "1",
         "Boothby (SA)",
         "64.1",
         "Labor"
        ],
        [
         "23",
         "Monash (VIC)",
         "64.2",
         "Coalition"
        ],
        [
         "30",
         "Tangney (WA)",
         "65.0",
         "Labor"
        ],
        [
         "32",
         "Werriwa (NSW)",
         "65.2",
         "Labor"
        ],
        [
         "11",
         "Fowler (NSW)",
         "66.4",
         "Independent (Dai Le)"
        ],
        [
         "26",
         "Richmond (NSW)",
         "67.0",
         "Labor"
        ],
        [
         "22",
         "McPherson (QLD)",
         "69.3",
         "Coalition"
        ],
        [
         "19",
         "Mackellar  (NSW)",
         "69.4",
         "Independent (Sophie Scamps)"
        ]
       ],
       "shape": {
        "columns": 3,
        "rows": 34
       }
      },
      "text/html": [
       "<div>\n",
       "<style scoped>\n",
       "    .dataframe tbody tr th:only-of-type {\n",
       "        vertical-align: middle;\n",
       "    }\n",
       "\n",
       "    .dataframe tbody tr th {\n",
       "        vertical-align: top;\n",
       "    }\n",
       "\n",
       "    .dataframe thead th {\n",
       "        text-align: right;\n",
       "    }\n",
       "</style>\n",
       "<table border=\"1\" class=\"dataframe\">\n",
       "  <thead>\n",
       "    <tr style=\"text-align: right;\">\n",
       "      <th></th>\n",
       "      <th>index</th>\n",
       "      <th>Top probability %</th>\n",
       "      <th>ahead</th>\n",
       "    </tr>\n",
       "  </thead>\n",
       "  <tbody>\n",
       "    <tr>\n",
       "      <th>3</th>\n",
       "      <td>Brisbane (QLD)</td>\n",
       "      <td>40.4</td>\n",
       "      <td>Labor</td>\n",
       "    </tr>\n",
       "    <tr>\n",
       "      <th>28</th>\n",
       "      <td>Ryan (QLD)</td>\n",
       "      <td>46.7</td>\n",
       "      <td>Coalition</td>\n",
       "    </tr>\n",
       "    <tr>\n",
       "      <th>20</th>\n",
       "      <td>Macnamara (VIC)</td>\n",
       "      <td>47.0</td>\n",
       "      <td>Labor</td>\n",
       "    </tr>\n",
       "    <tr>\n",
       "      <th>25</th>\n",
       "      <td>Paterson (NSW)</td>\n",
       "      <td>49.5</td>\n",
       "      <td>Labor</td>\n",
       "    </tr>\n",
       "    <tr>\n",
       "      <th>2</th>\n",
       "      <td>Bradfield (NSW)</td>\n",
       "      <td>50.0</td>\n",
       "      <td>Coalition=, Independent (Nicolette Boele)</td>\n",
       "    </tr>\n",
       "    <tr>\n",
       "      <th>0</th>\n",
       "      <td>Bennelong (NSW)</td>\n",
       "      <td>51.0</td>\n",
       "      <td>Coalition</td>\n",
       "    </tr>\n",
       "    <tr>\n",
       "      <th>4</th>\n",
       "      <td>Bullwinkel (WA)</td>\n",
       "      <td>51.0</td>\n",
       "      <td>Labor</td>\n",
       "    </tr>\n",
       "    <tr>\n",
       "      <th>6</th>\n",
       "      <td>Chisholm (VIC)</td>\n",
       "      <td>51.0</td>\n",
       "      <td>Labor</td>\n",
       "    </tr>\n",
       "    <tr>\n",
       "      <th>7</th>\n",
       "      <td>Cowper (NSW)</td>\n",
       "      <td>51.0</td>\n",
       "      <td>Independent (Caz Heise)</td>\n",
       "    </tr>\n",
       "    <tr>\n",
       "      <th>8</th>\n",
       "      <td>Curtin (WA)</td>\n",
       "      <td>51.0</td>\n",
       "      <td>Independent (Kate Chaney)</td>\n",
       "    </tr>\n",
       "    <tr>\n",
       "      <th>21</th>\n",
       "      <td>McEwen (VIC)</td>\n",
       "      <td>51.0</td>\n",
       "      <td>Labor</td>\n",
       "    </tr>\n",
       "    <tr>\n",
       "      <th>31</th>\n",
       "      <td>Wannon (VIC)</td>\n",
       "      <td>52.4</td>\n",
       "      <td>Coalition</td>\n",
       "    </tr>\n",
       "    <tr>\n",
       "      <th>15</th>\n",
       "      <td>Kooyong (VIC)</td>\n",
       "      <td>52.4</td>\n",
       "      <td>Coalition</td>\n",
       "    </tr>\n",
       "    <tr>\n",
       "      <th>18</th>\n",
       "      <td>Lyons (TAS)</td>\n",
       "      <td>54.1</td>\n",
       "      <td>Coalition</td>\n",
       "    </tr>\n",
       "    <tr>\n",
       "      <th>13</th>\n",
       "      <td>Goldstein (VIC)</td>\n",
       "      <td>56.3</td>\n",
       "      <td>Independent (Zoe Daniel)</td>\n",
       "    </tr>\n",
       "    <tr>\n",
       "      <th>12</th>\n",
       "      <td>Gilmore (NSW)</td>\n",
       "      <td>56.8</td>\n",
       "      <td>Coalition</td>\n",
       "    </tr>\n",
       "    <tr>\n",
       "      <th>14</th>\n",
       "      <td>Griffith (QLD)</td>\n",
       "      <td>57.1</td>\n",
       "      <td>Greens</td>\n",
       "    </tr>\n",
       "    <tr>\n",
       "      <th>17</th>\n",
       "      <td>Lingiari (NT)</td>\n",
       "      <td>57.2</td>\n",
       "      <td>Labor</td>\n",
       "    </tr>\n",
       "    <tr>\n",
       "      <th>27</th>\n",
       "      <td>Robertson (NSW)</td>\n",
       "      <td>57.3</td>\n",
       "      <td>Labor</td>\n",
       "    </tr>\n",
       "    <tr>\n",
       "      <th>33</th>\n",
       "      <td>Wills (VIC)</td>\n",
       "      <td>57.3</td>\n",
       "      <td>Labor</td>\n",
       "    </tr>\n",
       "    <tr>\n",
       "      <th>5</th>\n",
       "      <td>Calare (NSW)</td>\n",
       "      <td>57.7</td>\n",
       "      <td>Coalition</td>\n",
       "    </tr>\n",
       "    <tr>\n",
       "      <th>24</th>\n",
       "      <td>Moore (WA)</td>\n",
       "      <td>58.7</td>\n",
       "      <td>Coalition</td>\n",
       "    </tr>\n",
       "    <tr>\n",
       "      <th>10</th>\n",
       "      <td>Dickson (QLD)</td>\n",
       "      <td>60.3</td>\n",
       "      <td>Coalition</td>\n",
       "    </tr>\n",
       "    <tr>\n",
       "      <th>9</th>\n",
       "      <td>Deakin (VIC)</td>\n",
       "      <td>61.2</td>\n",
       "      <td>Coalition</td>\n",
       "    </tr>\n",
       "    <tr>\n",
       "      <th>29</th>\n",
       "      <td>Sturt  (SA)</td>\n",
       "      <td>63.3</td>\n",
       "      <td>Coalition</td>\n",
       "    </tr>\n",
       "    <tr>\n",
       "      <th>16</th>\n",
       "      <td>Leichhardt (QLD)</td>\n",
       "      <td>63.6</td>\n",
       "      <td>Coalition</td>\n",
       "    </tr>\n",
       "    <tr>\n",
       "      <th>1</th>\n",
       "      <td>Boothby (SA)</td>\n",
       "      <td>64.1</td>\n",
       "      <td>Labor</td>\n",
       "    </tr>\n",
       "    <tr>\n",
       "      <th>23</th>\n",
       "      <td>Monash (VIC)</td>\n",
       "      <td>64.2</td>\n",
       "      <td>Coalition</td>\n",
       "    </tr>\n",
       "    <tr>\n",
       "      <th>30</th>\n",
       "      <td>Tangney (WA)</td>\n",
       "      <td>65.0</td>\n",
       "      <td>Labor</td>\n",
       "    </tr>\n",
       "    <tr>\n",
       "      <th>32</th>\n",
       "      <td>Werriwa (NSW)</td>\n",
       "      <td>65.2</td>\n",
       "      <td>Labor</td>\n",
       "    </tr>\n",
       "    <tr>\n",
       "      <th>11</th>\n",
       "      <td>Fowler (NSW)</td>\n",
       "      <td>66.4</td>\n",
       "      <td>Independent (Dai Le)</td>\n",
       "    </tr>\n",
       "    <tr>\n",
       "      <th>26</th>\n",
       "      <td>Richmond (NSW)</td>\n",
       "      <td>67.0</td>\n",
       "      <td>Labor</td>\n",
       "    </tr>\n",
       "    <tr>\n",
       "      <th>22</th>\n",
       "      <td>McPherson (QLD)</td>\n",
       "      <td>69.3</td>\n",
       "      <td>Coalition</td>\n",
       "    </tr>\n",
       "    <tr>\n",
       "      <th>19</th>\n",
       "      <td>Mackellar  (NSW)</td>\n",
       "      <td>69.4</td>\n",
       "      <td>Independent (Sophie Scamps)</td>\n",
       "    </tr>\n",
       "  </tbody>\n",
       "</table>\n",
       "</div>"
      ],
      "text/plain": [
       "               index  Top probability %  \\\n",
       "3     Brisbane (QLD)               40.4   \n",
       "28        Ryan (QLD)               46.7   \n",
       "20   Macnamara (VIC)               47.0   \n",
       "25    Paterson (NSW)               49.5   \n",
       "2    Bradfield (NSW)               50.0   \n",
       "0    Bennelong (NSW)               51.0   \n",
       "4    Bullwinkel (WA)               51.0   \n",
       "6     Chisholm (VIC)               51.0   \n",
       "7       Cowper (NSW)               51.0   \n",
       "8        Curtin (WA)               51.0   \n",
       "21      McEwen (VIC)               51.0   \n",
       "31      Wannon (VIC)               52.4   \n",
       "15     Kooyong (VIC)               52.4   \n",
       "18       Lyons (TAS)               54.1   \n",
       "13   Goldstein (VIC)               56.3   \n",
       "12     Gilmore (NSW)               56.8   \n",
       "14    Griffith (QLD)               57.1   \n",
       "17     Lingiari (NT)               57.2   \n",
       "27   Robertson (NSW)               57.3   \n",
       "33       Wills (VIC)               57.3   \n",
       "5       Calare (NSW)               57.7   \n",
       "24        Moore (WA)               58.7   \n",
       "10     Dickson (QLD)               60.3   \n",
       "9       Deakin (VIC)               61.2   \n",
       "29       Sturt  (SA)               63.3   \n",
       "16  Leichhardt (QLD)               63.6   \n",
       "1       Boothby (SA)               64.1   \n",
       "23      Monash (VIC)               64.2   \n",
       "30      Tangney (WA)               65.0   \n",
       "32     Werriwa (NSW)               65.2   \n",
       "11      Fowler (NSW)               66.4   \n",
       "26    Richmond (NSW)               67.0   \n",
       "22   McPherson (QLD)               69.3   \n",
       "19  Mackellar  (NSW)               69.4   \n",
       "\n",
       "                                        ahead  \n",
       "3                                       Labor  \n",
       "28                                  Coalition  \n",
       "20                                      Labor  \n",
       "25                                      Labor  \n",
       "2   Coalition=, Independent (Nicolette Boele)  \n",
       "0                                   Coalition  \n",
       "4                                       Labor  \n",
       "6                                       Labor  \n",
       "7                     Independent (Caz Heise)  \n",
       "8                   Independent (Kate Chaney)  \n",
       "21                                      Labor  \n",
       "31                                  Coalition  \n",
       "15                                  Coalition  \n",
       "18                                  Coalition  \n",
       "13                   Independent (Zoe Daniel)  \n",
       "12                                  Coalition  \n",
       "14                                     Greens  \n",
       "17                                      Labor  \n",
       "27                                      Labor  \n",
       "33                                      Labor  \n",
       "5                                   Coalition  \n",
       "24                                  Coalition  \n",
       "10                                  Coalition  \n",
       "9                                   Coalition  \n",
       "29                                  Coalition  \n",
       "16                                  Coalition  \n",
       "1                                       Labor  \n",
       "23                                  Coalition  \n",
       "30                                      Labor  \n",
       "32                                      Labor  \n",
       "11                       Independent (Dai Le)  \n",
       "26                                      Labor  \n",
       "22                                  Coalition  \n",
       "19                Independent (Sophie Scamps)  "
      ]
     },
     "metadata": {},
     "output_type": "display_data"
    },
    {
     "name": "stdout",
     "output_type": "stream",
     "text": [
      "Seats where Greens might be competitive:\n"
     ]
    },
    {
     "data": {
      "application/vnd.microsoft.datawrangler.viewer.v0+json": {
       "columns": [
        {
         "name": "index",
         "rawType": "object",
         "type": "string"
        },
        {
         "name": "Greens win probability %",
         "rawType": "float64",
         "type": "float"
        }
       ],
       "conversionMethod": "pd.DataFrame",
       "ref": "cf70547a-ae81-49d5-b39d-b03ce67b1159",
       "rows": [
        [
         "Melbourne (VIC)",
         "87.7"
        ],
        [
         "Griffith (QLD)",
         "57.1"
        ],
        [
         "Wills (VIC)",
         "42.7"
        ],
        [
         "Macnamara (VIC)",
         "37.4"
        ],
        [
         "Brisbane (QLD)",
         "35.0"
        ],
        [
         "Ryan (QLD)",
         "32.2"
        ],
        [
         "Richmond (NSW)",
         "29.1"
        ]
       ],
       "shape": {
        "columns": 1,
        "rows": 7
       }
      },
      "text/html": [
       "<div>\n",
       "<style scoped>\n",
       "    .dataframe tbody tr th:only-of-type {\n",
       "        vertical-align: middle;\n",
       "    }\n",
       "\n",
       "    .dataframe tbody tr th {\n",
       "        vertical-align: top;\n",
       "    }\n",
       "\n",
       "    .dataframe thead th {\n",
       "        text-align: right;\n",
       "    }\n",
       "</style>\n",
       "<table border=\"1\" class=\"dataframe\">\n",
       "  <thead>\n",
       "    <tr style=\"text-align: right;\">\n",
       "      <th></th>\n",
       "      <th>Greens win probability %</th>\n",
       "    </tr>\n",
       "  </thead>\n",
       "  <tbody>\n",
       "    <tr>\n",
       "      <th>Melbourne (VIC)</th>\n",
       "      <td>87.7</td>\n",
       "    </tr>\n",
       "    <tr>\n",
       "      <th>Griffith (QLD)</th>\n",
       "      <td>57.1</td>\n",
       "    </tr>\n",
       "    <tr>\n",
       "      <th>Wills (VIC)</th>\n",
       "      <td>42.7</td>\n",
       "    </tr>\n",
       "    <tr>\n",
       "      <th>Macnamara (VIC)</th>\n",
       "      <td>37.4</td>\n",
       "    </tr>\n",
       "    <tr>\n",
       "      <th>Brisbane (QLD)</th>\n",
       "      <td>35.0</td>\n",
       "    </tr>\n",
       "    <tr>\n",
       "      <th>Ryan (QLD)</th>\n",
       "      <td>32.2</td>\n",
       "    </tr>\n",
       "    <tr>\n",
       "      <th>Richmond (NSW)</th>\n",
       "      <td>29.1</td>\n",
       "    </tr>\n",
       "  </tbody>\n",
       "</table>\n",
       "</div>"
      ],
      "text/plain": [
       "                 Greens win probability %\n",
       "Melbourne (VIC)                      87.7\n",
       "Griffith (QLD)                       57.1\n",
       "Wills (VIC)                          42.7\n",
       "Macnamara (VIC)                      37.4\n",
       "Brisbane (QLD)                       35.0\n",
       "Ryan (QLD)                           32.2\n",
       "Richmond (NSW)                       29.1"
      ]
     },
     "metadata": {},
     "output_type": "display_data"
    },
    {
     "name": "stdout",
     "output_type": "stream",
     "text": [
      "Seats where Others might be competitive:\n"
     ]
    },
    {
     "data": {
      "application/vnd.microsoft.datawrangler.viewer.v0+json": {
       "columns": [
        {
         "name": "index",
         "rawType": "object",
         "type": "string"
        },
        {
         "name": "Others win probability %",
         "rawType": "float64",
         "type": "float"
        }
       ],
       "conversionMethod": "pd.DataFrame",
       "ref": "0fa57b38-297d-40ab-a0d1-fde1a1bd7bed",
       "rows": [
        [
         "Clark (TAS)",
         "100.0"
        ],
        [
         "Kennedy (QLD)",
         "96.3"
        ],
        [
         "Warringah (NSW)",
         "86.8"
        ],
        [
         "Indi (VIC)",
         "80.3"
        ],
        [
         "Mayo (SA)",
         "79.9"
        ],
        [
         "Wentworth (NSW)",
         "78.4"
        ],
        [
         "Mackellar  (NSW)",
         "69.4"
        ],
        [
         "Fowler (NSW)",
         "66.4"
        ],
        [
         "Goldstein (VIC)",
         "56.3"
        ],
        [
         "Curtin (WA)",
         "51.0"
        ],
        [
         "Cowper (NSW)",
         "51.0"
        ],
        [
         "Bradfield (NSW)",
         "50.0"
        ],
        [
         "Kooyong (VIC)",
         "47.6"
        ],
        [
         "Wannon (VIC)",
         "47.6"
        ],
        [
         "Calare (NSW)",
         "42.3"
        ],
        [
         "Monash (VIC)",
         "35.8"
        ],
        [
         "McPherson (QLD)",
         "30.7"
        ],
        [
         "Flinders (VIC)",
         "25.1"
        ],
        [
         "McMahon (NSW)",
         "23.8"
        ],
        [
         "Forrest (WA)",
         "23.7"
        ],
        [
         "Fremantle (WA)",
         "21.6"
        ]
       ],
       "shape": {
        "columns": 1,
        "rows": 21
       }
      },
      "text/html": [
       "<div>\n",
       "<style scoped>\n",
       "    .dataframe tbody tr th:only-of-type {\n",
       "        vertical-align: middle;\n",
       "    }\n",
       "\n",
       "    .dataframe tbody tr th {\n",
       "        vertical-align: top;\n",
       "    }\n",
       "\n",
       "    .dataframe thead th {\n",
       "        text-align: right;\n",
       "    }\n",
       "</style>\n",
       "<table border=\"1\" class=\"dataframe\">\n",
       "  <thead>\n",
       "    <tr style=\"text-align: right;\">\n",
       "      <th></th>\n",
       "      <th>Others win probability %</th>\n",
       "    </tr>\n",
       "  </thead>\n",
       "  <tbody>\n",
       "    <tr>\n",
       "      <th>Clark (TAS)</th>\n",
       "      <td>100.0</td>\n",
       "    </tr>\n",
       "    <tr>\n",
       "      <th>Kennedy (QLD)</th>\n",
       "      <td>96.3</td>\n",
       "    </tr>\n",
       "    <tr>\n",
       "      <th>Warringah (NSW)</th>\n",
       "      <td>86.8</td>\n",
       "    </tr>\n",
       "    <tr>\n",
       "      <th>Indi (VIC)</th>\n",
       "      <td>80.3</td>\n",
       "    </tr>\n",
       "    <tr>\n",
       "      <th>Mayo (SA)</th>\n",
       "      <td>79.9</td>\n",
       "    </tr>\n",
       "    <tr>\n",
       "      <th>Wentworth (NSW)</th>\n",
       "      <td>78.4</td>\n",
       "    </tr>\n",
       "    <tr>\n",
       "      <th>Mackellar  (NSW)</th>\n",
       "      <td>69.4</td>\n",
       "    </tr>\n",
       "    <tr>\n",
       "      <th>Fowler (NSW)</th>\n",
       "      <td>66.4</td>\n",
       "    </tr>\n",
       "    <tr>\n",
       "      <th>Goldstein (VIC)</th>\n",
       "      <td>56.3</td>\n",
       "    </tr>\n",
       "    <tr>\n",
       "      <th>Curtin (WA)</th>\n",
       "      <td>51.0</td>\n",
       "    </tr>\n",
       "    <tr>\n",
       "      <th>Cowper (NSW)</th>\n",
       "      <td>51.0</td>\n",
       "    </tr>\n",
       "    <tr>\n",
       "      <th>Bradfield (NSW)</th>\n",
       "      <td>50.0</td>\n",
       "    </tr>\n",
       "    <tr>\n",
       "      <th>Kooyong (VIC)</th>\n",
       "      <td>47.6</td>\n",
       "    </tr>\n",
       "    <tr>\n",
       "      <th>Wannon (VIC)</th>\n",
       "      <td>47.6</td>\n",
       "    </tr>\n",
       "    <tr>\n",
       "      <th>Calare (NSW)</th>\n",
       "      <td>42.3</td>\n",
       "    </tr>\n",
       "    <tr>\n",
       "      <th>Monash (VIC)</th>\n",
       "      <td>35.8</td>\n",
       "    </tr>\n",
       "    <tr>\n",
       "      <th>McPherson (QLD)</th>\n",
       "      <td>30.7</td>\n",
       "    </tr>\n",
       "    <tr>\n",
       "      <th>Flinders (VIC)</th>\n",
       "      <td>25.1</td>\n",
       "    </tr>\n",
       "    <tr>\n",
       "      <th>McMahon (NSW)</th>\n",
       "      <td>23.8</td>\n",
       "    </tr>\n",
       "    <tr>\n",
       "      <th>Forrest (WA)</th>\n",
       "      <td>23.7</td>\n",
       "    </tr>\n",
       "    <tr>\n",
       "      <th>Fremantle (WA)</th>\n",
       "      <td>21.6</td>\n",
       "    </tr>\n",
       "  </tbody>\n",
       "</table>\n",
       "</div>"
      ],
      "text/plain": [
       "                  Others win probability %\n",
       "Clark (TAS)                          100.0\n",
       "Kennedy (QLD)                         96.3\n",
       "Warringah (NSW)                       86.8\n",
       "Indi (VIC)                            80.3\n",
       "Mayo (SA)                             79.9\n",
       "Wentworth (NSW)                       78.4\n",
       "Mackellar  (NSW)                      69.4\n",
       "Fowler (NSW)                          66.4\n",
       "Goldstein (VIC)                       56.3\n",
       "Curtin (WA)                           51.0\n",
       "Cowper (NSW)                          51.0\n",
       "Bradfield (NSW)                       50.0\n",
       "Kooyong (VIC)                         47.6\n",
       "Wannon (VIC)                          47.6\n",
       "Calare (NSW)                          42.3\n",
       "Monash (VIC)                          35.8\n",
       "McPherson (QLD)                       30.7\n",
       "Flinders (VIC)                        25.1\n",
       "McMahon (NSW)                         23.8\n",
       "Forrest (WA)                          23.7\n",
       "Fremantle (WA)                        21.6"
      ]
     },
     "metadata": {},
     "output_type": "display_data"
    },
    {
     "data": {
      "image/png": "[encoded data removed]",
      "text/plain": [
       "<Figure size 900x450 with 1 Axes>"
      ]
     },
     "metadata": {},
     "output_type": "display_data"
    },
    {
     "data": {
      "image/png": "[encoded data removed]",
      "text/plain": [
       "<Figure size 900x450 with 1 Axes>"
      ]
     },
     "metadata": {},
     "output_type": "display_data"
    }
   ],
   "source": [
    "def plot_ahead_count(party_count: dict[str, float], method: str) -> None:\n",
    "    \"\"\"Plot the count of the ahead party in each seat.\"\"\"\n",
    "\n",
    "    winners = pd.Series(party_count).sort_values(ascending=False)\n",
    "    assert (\n",
    "        winners.sum() == 150\n",
    "    ), f\"Count of ahead parties does not sum to 150 {winners.sum()}\"\n",
    "    colors = [colourise(x)[0] for x in winners.index]\n",
    "    _fig, ax = plt.subplots()\n",
    "    ax.barh(winners.index, winners, color=colors)\n",
    "    for i, v in enumerate(winners):\n",
    "        rounded: str = f\"{v:.1f}\".rstrip(\"0\").rstrip(\".\")\n",
    "        ax.text(v, i, f\" {rounded}\", color=\"black\", va=\"center\", ha=\"left\")  # type: ignore[arg-type]\n",
    "    plotting.finalise_plot(\n",
    "        ax,\n",
    "        title=\"Count of Ahead Party in Each Seat\",\n",
    "        ylabel=None,\n",
    "        xlabel=\"Number of Seats\",\n",
    "        rfooter=\"marktheballot.blogspot.com\",\n",
    "        lfooter=\"Data captured from Sportsbet.com.au \"\n",
    "        + f'{betting_df[\"timestamp\"].max().date()}. ',\n",
    "        rheader=method,\n",
    "        show=True,\n",
    "    )\n",
    "\n",
    "\n",
    "def plot_party_prob_sum(all_seats_probs: dict[str, pd.Series], method: str) -> None:\n",
    "    \"\"\"Plot the party-probability sums.\"\"\"\n",
    "\n",
    "    party_probs = pd.DataFrame(all_seats_probs).T.sum().sort_values(ascending=False)\n",
    "    assert (\n",
    "        149.9 < party_probs.sum() < 150.1\n",
    "    ), f\"Probabilities do not sum to 150 seats {party_probs.sum()}\"\n",
    "    colors = [colourise(x)[0] for x in party_probs.index]\n",
    "    _fig, ax = plt.subplots()\n",
    "    ax.barh(party_probs.index, party_probs, color=colors)\n",
    "    for i, v in enumerate(party_probs):\n",
    "        ax.text(v, i, f\" {v:0.1f}\", color=\"black\", va=\"center\", ha=\"left\")\n",
    "    plotting.finalise_plot(\n",
    "        ax,\n",
    "        title=\"Sum of Party Probabilities Across All Seats\",\n",
    "        ylabel=None,\n",
    "        xlabel=\"Number of seats\",\n",
    "        rfooter=\"marktheballot.blogspot.com\",\n",
    "        lfooter=\"Data captured from Sportsbet.com.au \"\n",
    "        + f'{betting_df[\"timestamp\"].max().date()}. ',\n",
    "        rheader=method,\n",
    "        show=True,\n",
    "    )\n",
    "\n",
    "\n",
    "def tables_of_interest(\n",
    "    all_seats_probs: dict[str, pd.Series], individual_leaders: dict[str, str]\n",
    ") -> None:\n",
    "    \"\"\"Create tables of interest from the betting data.\"\"\"\n",
    "\n",
    "    # tavulate close seats\n",
    "    seat_probs = pd.DataFrame(all_seats_probs).T * 100\n",
    "    close_threshold = 70\n",
    "    close_seats = seat_probs[seat_probs.max(axis=1) <= close_threshold]\n",
    "    maxima = close_seats.max(axis=1).round(1)\n",
    "    ahead = pd.Series(individual_leaders)[maxima.index]\n",
    "    results = pd.DataFrame(\n",
    "        {\n",
    "            \"Top probability %\": maxima,\n",
    "            \"ahead\": ahead,\n",
    "        }\n",
    "    )\n",
    "    results = results.reset_index().sort_values(by=\"Top probability %\", ascending=True)\n",
    "    print(\"Close seats:\")\n",
    "    display(results)\n",
    "\n",
    "    # Green possible seats\n",
    "    green_threshold = 20\n",
    "    greens = seat_probs[\"Greens\"]\n",
    "    green_competitive = (\n",
    "        greens[greens >= green_threshold].sort_values(ascending=False).round(1)\n",
    "    )\n",
    "    print(\"Seats where Greens might be competitive:\")\n",
    "    frame = pd.DataFrame(green_competitive)\n",
    "    frame.columns = pd.Index([\"Greens win probability %\"])\n",
    "    display(frame)\n",
    "\n",
    "    # Others possible\n",
    "    other_threshold = 20\n",
    "    others = seat_probs.drop(columns=[\"Greens\", \"Labor\", \"Coalition\"]).sum(axis=1)\n",
    "    other_competitive = others[others >= other_threshold].sort_values(ascending=False)\n",
    "    print(\"Seats where Others might be competitive:\")\n",
    "    display(\n",
    "        pd.DataFrame(other_competitive, columns=[\"Others win probability %\"]).round(1)\n",
    "    )\n",
    "\n",
    "\n",
    "def plot_stacked_probs(all_seats_probs: dict[str, pd.Series], method: str) -> None:\n",
    "    \"\"\"Plot the stacked probabilities for each party.\"\"\"\n",
    "\n",
    "    # Create a DataFrame from the dictionary\n",
    "    seat_probs = (pd.DataFrame(all_seats_probs).T * 100).sort_values(\n",
    "        by=\"Labor\", ascending=False\n",
    "    )\n",
    "\n",
    "    first_columns = [f for f in (\"Coalition\", \"One Nation\") if f in seat_probs.columns]\n",
    "    last_columns = [\n",
    "        f for f in (\"Any Other Candidate\", \"Greens\", \"Labor\") if f in seat_probs.columns\n",
    "    ]\n",
    "    order = (\n",
    "        first_columns\n",
    "        + [x for x in seat_probs.columns if x not in first_columns + last_columns]\n",
    "        + last_columns\n",
    "    )\n",
    "    seat_probs = seat_probs[order]\n",
    "    colours = [colourise(x)[0] for x in seat_probs.columns]\n",
    "\n",
    "    slices = [slice(0, 150), slice(0, 50), slice(50, 100), slice(100, 150)]\n",
    "    for i, s in enumerate(slices):\n",
    "        suffix = {0: \"\", 1: \"(C)\", 2: \"(B)\", 3: \"(A)\"}[i]\n",
    "        size = {0: (9, 25), 1: (9, 9), 2: (9, 9), 3: (9, 9)}[i]\n",
    "        lpos = {0: \"lower right\", 1: \"lower right\", 2: \"lower right\", 3: \"center left\"}[\n",
    "            i\n",
    "        ]\n",
    "\n",
    "        ax = seat_probs.iloc[s].plot.barh(stacked=True, color=colours)  # type: ignore[arg-type]\n",
    "        ax.axvline(50, color=\"black\", linestyle=\"-\", linewidth=0.75)\n",
    "        ax.margins(0.002)\n",
    "        plotting.finalise_plot(\n",
    "            ax,\n",
    "            title=f\"Stacked Win Probabilities for Each Seat {suffix}\".strip(),\n",
    "            ylabel=None,\n",
    "            xlabel=\"Win Probability %\",\n",
    "            rfooter=\"marktheballot.blogspot.com\",\n",
    "            lfooter=\"Data captured from Sportsbet.com.au \"\n",
    "            + f'{betting_df[\"timestamp\"].max().date()}. ',\n",
    "            rheader=method,\n",
    "            show=False,\n",
    "            legend={\"loc\": lpos, \"fontsize\": \"x-small\", \"framealpha\": 1.0},\n",
    "            figsize=size,\n",
    "        )\n",
    "\n",
    "\n",
    "def summarise_seats_data() -> None:\n",
    "    \"\"\"Summarise the individual seat betting data.\"\"\"\n",
    "\n",
    "    all_seats_probs = {}  # {seat: series_of_probabilities}\n",
    "    party_ahead_count: dict[str, float] = {}  # {party: count}\n",
    "    individual_leaders = {}  # {seat: party}\n",
    "    for seat in betting_df.seat.unique():\n",
    "        # get latest seat probabilities\n",
    "        p = calc_probability(betting_df, seat)\n",
    "        if p is None:\n",
    "            print(f\"No data for seat {seat}\")\n",
    "            continue\n",
    "        seat_probs, method, _dates_missing_odds = p\n",
    "        latest = seat_probs.iloc[-1].dropna()\n",
    "\n",
    "        # get and count the party/ies ahead - allow for fractional counts when tied\n",
    "        maxima = latest.max()\n",
    "        leaders = latest[latest == maxima].index.tolist()\n",
    "        for leader in leaders:\n",
    "            party = re.sub(REMOVE_BRACKETS, \"\", leader).strip()\n",
    "            party_ahead_count[party] = party_ahead_count.get(party, 0) + (\n",
    "                1 / len(leaders)\n",
    "            )\n",
    "        individual_leaders[seat] = \"=, \".join(leaders)\n",
    "\n",
    "        # let's group probabilities by party name (ignore candidate names)\n",
    "        renamer = {x: re.sub(REMOVE_BRACKETS, \"\", x).strip() for x in latest.index}\n",
    "        groups = latest.rename(index=renamer)\n",
    "        groups_combined = groups.groupby(\n",
    "            groups.index\n",
    "        ).sum()  # eg. more than one independent candidate\n",
    "        if len(groups_combined) < len(groups):\n",
    "            print(f\"Grouped probabilities for {seat}: {latest.index}\")\n",
    "        all_seats_probs[seat] = groups_combined / 100  # convert to simplex\n",
    "\n",
    "    tables_of_interest(all_seats_probs, individual_leaders)\n",
    "\n",
    "    plot_ahead_count(party_ahead_count, method)\n",
    "\n",
    "    plot_party_prob_sum(all_seats_probs, method)\n",
    "\n",
    "    plot_stacked_probs(all_seats_probs, method)\n",
    "\n",
    "\n",
    "summarise_seats_data()"
   ]
  },
  {
   "cell_type": "markdown",
   "id": "790b780e",
   "metadata": {},
   "source": [
    "## Plot individual seats"
   ]
  },
  {
   "cell_type": "code",
   "execution_count": 13,
   "id": "442896d0",
   "metadata": {
    "ExecuteTime": {
     "end_time": "2022-03-22T19:53:27.931226Z",
     "start_time": "2022-03-22T19:53:27.924696Z"
    }
   },
   "outputs": [
    {
     "name": "stdout",
     "output_type": "stream",
     "text": [
      "Seats with changes from penultimate day: ['Bass (TAS)', 'Calare (NSW)', 'Cunningham (NSW)', 'Dickson (QLD)', 'Dobell (NSW)', 'Eden-Monaro (NSW)', 'Farrer (NSW)', 'Fisher (QLD)', 'Flinders (VIC)', 'Franklin (TAS)', 'Fremantle (WA)', 'Gilmore (NSW)', 'Grey (SA)', 'Groom (QLD)', 'Hawke (VIC)', 'Hindmarsh (SA)', 'Hunter (NSW)', 'Longman (QLD)', 'Lyons (TAS)', 'Macquarie (NSW)', 'Melbourne (VIC)', 'Monash (VIC)', 'Paterson (NSW)', 'Whitlam (NSW)']\n"
     ]
    }
   ],
   "source": [
    "CHANGES = []\n",
    "\n",
    "\n",
    "def plot_seat_probs(df: pd.DataFrame, seat: str) -> None:\n",
    "    \"\"\"\n",
    "    Plot the seat probabilities for a given seat.\n",
    "    Arguments:\n",
    "    df: pd.DataFrame - The dataframe containing the betting data.\n",
    "    seat: str - The seat to plot.\n",
    "    \"\"\"\n",
    "\n",
    "    # get seat probabilities - treat for favourite-longshot bias\n",
    "    p = calc_probability(df, seat)\n",
    "    if p is None:\n",
    "        print(f\"No data for seat {seat}\")\n",
    "        return\n",
    "    seat_probs, flb_method, dates_missing_odds = p\n",
    "\n",
    "    # make the index a daily period index and de-duplicate.\n",
    "    seat_probs.index = pd.PeriodIndex(seat_probs.index, freq=\"D\")\n",
    "    seat_probs = seat_probs[~seat_probs.index.duplicated(keep=\"last\")]\n",
    "    if len(seat_probs) > 2 and (seat_probs.iloc[-1] != seat_probs.iloc[-2]).any():\n",
    "        CHANGES.append(seat)\n",
    "    missing_periods = pd.PeriodIndex(dates_missing_odds, freq=\"D\")\n",
    "\n",
    "    # plot\n",
    "    ax = None\n",
    "    color = Coloriser()\n",
    "    for column in seat_probs.columns:\n",
    "        c, m = color(column)\n",
    "        ax = seat_probs[column].plot(\n",
    "            ax=ax,\n",
    "            markersize=6,\n",
    "            lw=2.5,\n",
    "            color=c,\n",
    "            marker=m,\n",
    "        )\n",
    "        if seat_probs[column].iloc[-1] >= 10:\n",
    "            ax.text(\n",
    "                seat_probs.index[-1],\n",
    "                seat_probs[column].iloc[-1],\n",
    "                f\"  {seat_probs[column].iloc[-1]:.0f}\",\n",
    "                fontsize=9,\n",
    "                color=\"#444444\",\n",
    "                ha=\"left\",\n",
    "                va=\"center\",\n",
    "            )\n",
    "    if ax is None:\n",
    "        print(f\"No data for seat {seat}\")\n",
    "        return\n",
    "\n",
    "    if missing_periods is not None and len(missing_periods) > 0:\n",
    "        label = \"Missing odds\"\n",
    "        for period in missing_periods:  # type: ignore[attr-defined]\n",
    "            ax.axvspan(\n",
    "                period.ordinal - 0.5,\n",
    "                period.ordinal + 0.5,\n",
    "                color=\"gray\",\n",
    "                alpha=0.20,\n",
    "                label=label,\n",
    "            )\n",
    "            label = \"_nolegend_\"\n",
    "\n",
    "    plotting.finalise_plot(\n",
    "        ax,\n",
    "        title=f\"Sportsbet seat win probabilities over time - {seat}\",\n",
    "        ylabel=\"Implied Win Probability (%)\",\n",
    "        lfooter=flb_method,\n",
    "        rheader=\"marktheballot.blogspot.com\",\n",
    "        legend={\"loc\": \"best\", \"ncol\": 2, \"fontsize\": \"small\"},\n",
    "        ylim=(-5, 105),\n",
    "        y50=True,\n",
    "        pre_tag=\"yy\",\n",
    "        show=SHOW,\n",
    "    )\n",
    "\n",
    "\n",
    "def plot_seat_odds(df: pd.DataFrame, seat: str) -> None:\n",
    "    \"\"\"\n",
    "    Plot the seat odds for a given seat.\n",
    "    Arguments:\n",
    "    df: pd.DataFrame - The dataframe containing the betting data.\n",
    "    seat: str - The seat to plot.\n",
    "    \"\"\"\n",
    "\n",
    "    # get seat odds - without FLB treatment\n",
    "    df = df[df.seat == seat]\n",
    "    odds = df.pivot(index=\"timestamp\", columns=\"party\", values=\"price\")\n",
    "    odds.index = pd.PeriodIndex(odds.index, freq=\"D\")\n",
    "    odds = odds[~odds.index.duplicated(keep=\"last\")]\n",
    "    odds = odds.sort_index(ascending=True)\n",
    "\n",
    "    ax = None\n",
    "    color = Coloriser()\n",
    "    for column in odds.columns:\n",
    "        c, m = color(column)\n",
    "        ax = odds[column].plot(\n",
    "            ax=ax,\n",
    "            markersize=6,\n",
    "            lw=2.5,\n",
    "            color=c,\n",
    "            marker=m,\n",
    "        )\n",
    "        value = odds[column].iloc[-1]\n",
    "        if odds[column].iloc[-1] <= 31:\n",
    "            rounding = 2 if value >= 1.01 else 3\n",
    "            ax.text(\n",
    "                odds.index[-1],\n",
    "                value,\n",
    "                f\"  \\\\${value:.{rounding}f}\",\n",
    "                fontsize=9,\n",
    "                color=\"#444444\",\n",
    "                ha=\"left\",\n",
    "                va=\"center\",\n",
    "            )\n",
    "\n",
    "    if ax is None:\n",
    "        print(f\"No data for seat {seat}\")\n",
    "        return\n",
    "\n",
    "    use_log_scale = False\n",
    "    if use_log_scale:\n",
    "        ax.set_yscale(\"log\")\n",
    "    minmax = ax.get_ylim()\n",
    "    minmax = (0.9 if use_log_scale else 0, minmax[1])\n",
    "\n",
    "    plotting.finalise_plot(\n",
    "        ax,\n",
    "        title=f\"Sportsbet seat odds over time - {seat}\",\n",
    "        ylabel=\"$ Odds\" + (\" on a log scale\" if use_log_scale else \"\"),\n",
    "        lfooter=\"Decimal odds from Sportsbet.com.au\",\n",
    "        rfooter=\"marktheballot.blogspot.com\",\n",
    "        legend={\"loc\": \"best\", \"ncol\": 2, \"fontsize\": \"small\"},\n",
    "        pre_tag=\"zz\",\n",
    "        ylim=minmax,\n",
    "        show=SHOW,\n",
    "    )\n",
    "\n",
    "\n",
    "def plot_all_seats():\n",
    "    \"\"\"Plot the seat probabilities for all seats.\"\"\"\n",
    "\n",
    "    for seat in betting_df.seat.unique():\n",
    "        plot_seat_probs(betting_df, seat)\n",
    "        plot_seat_odds(betting_df, seat)\n",
    "\n",
    "    if CHANGES:\n",
    "        print(\"Seats with changes from penultimate day:\", CHANGES)\n",
    "\n",
    "\n",
    "plot_all_seats()"
   ]
  },
  {
   "cell_type": "markdown",
   "id": "ecf2a812",
   "metadata": {},
   "source": [
    "## Finished"
   ]
  },
  {
   "cell_type": "code",
   "execution_count": 14,
   "id": "dce00412",
   "metadata": {},
   "outputs": [
    {
     "name": "stdout",
     "output_type": "stream",
     "text": [
      "finished\n"
     ]
    }
   ],
   "source": [
    "print(\"finished\")"
   ]
  }
 ],
 "metadata": {
  "kernelspec": {
   "display_name": "313",
   "language": "python",
   "name": "python3"
  },
  "language_info": {
   "codemirror_mode": {
    "name": "ipython",
    "version": 3
   },
   "file_extension": ".py",
   "mimetype": "text/x-python",
   "name": "python",
   "nbconvert_exporter": "python",
   "pygments_lexer": "ipython3",
   "version": "3.13.3"
  },
  "toc": {
   "base_numbering": 1,
   "nav_menu": {},
   "number_sections": true,
   "sideBar": true,
   "skip_h1_title": true,
   "title_cell": "Table of Contents",
   "title_sidebar": "Contents",
   "toc_cell": true,
   "toc_position": {
    "height": "calc(100% - 180px)",
    "left": "10px",
    "top": "150px",
    "width": "277.3660583496094px"
   },
   "toc_section_display": true,
   "toc_window_display": true
  }
 },
 "nbformat": 4,
 "nbformat_minor": 5
}
