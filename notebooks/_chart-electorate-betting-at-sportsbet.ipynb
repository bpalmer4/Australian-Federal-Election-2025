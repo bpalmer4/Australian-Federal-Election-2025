{
 "cells": [
  {
   "cell_type": "markdown",
   "id": "7b00fd31",
   "metadata": {},
   "source": [
    "# Chart individual seat probabilities"
   ]
  },
  {
   "cell_type": "markdown",
   "id": "ca41c267",
   "metadata": {},
   "source": [
    "## Python set-up"
   ]
  },
  {
   "cell_type": "code",
   "execution_count": 1,
   "id": "7d3bc55b",
   "metadata": {
    "ExecuteTime": {
     "end_time": "2022-03-22T19:53:27.022287Z",
     "start_time": "2022-03-22T19:53:25.033739Z"
    }
   },
   "outputs": [],
   "source": [
    "import re\n",
    "\n",
    "import pandas as pd\n",
    "import numpy as np\n",
    "import matplotlib.pyplot as plt\n",
    "\n",
    "import seaborn as sns\n",
    "from IPython.display import display\n",
    "import plotting"
   ]
  },
  {
   "cell_type": "code",
   "execution_count": 2,
   "id": "6d6c4c0a",
   "metadata": {
    "ExecuteTime": {
     "end_time": "2022-03-22T19:53:27.092679Z",
     "start_time": "2022-03-22T19:53:27.023519Z"
    }
   },
   "outputs": [
    {
     "name": "stdout",
     "output_type": "stream",
     "text": [
      "Python implementation: CPython\n",
      "Python version       : 3.13.2\n",
      "IPython version      : 9.0.2\n",
      "\n",
      "conda environment: 313\n",
      "\n",
      "Compiler    : Clang 18.1.8 \n",
      "OS          : Darwin\n",
      "Release     : 24.3.0\n",
      "Machine     : arm64\n",
      "Processor   : arm\n",
      "CPU cores   : 14\n",
      "Architecture: 64bit\n",
      "\n",
      "matplotlib: 3.10.1\n",
      "numpy     : 2.2.4\n",
      "seaborn   : 0.13.2\n",
      "re        : 2.2.1\n",
      "IPython   : 9.0.2\n",
      "pandas    : 2.2.3\n",
      "\n"
     ]
    }
   ],
   "source": [
    "%load_ext watermark\n",
    "%watermark --machine --python --iversions --conda"
   ]
  },
  {
   "cell_type": "code",
   "execution_count": 3,
   "id": "029c7653",
   "metadata": {},
   "outputs": [],
   "source": [
    "## Plotting initialisation\n",
    "def set_up_plotting() -> None:\n",
    "    \"\"\"Set up plotting.\"\"\"\n",
    "\n",
    "    p = plotting.get_chart_dir()\n",
    "    plotting.set_chart_dir(p + '/individual-seats/')\n",
    "    plotting.clear_chart_dir()\n",
    "\n",
    "\n",
    "set_up_plotting()"
   ]
  },
  {
   "cell_type": "markdown",
   "id": "b6ec3056",
   "metadata": {},
   "source": [
    "## Get data"
   ]
  },
  {
   "cell_type": "code",
   "execution_count": 4,
   "id": "3747b16d",
   "metadata": {
    "ExecuteTime": {
     "end_time": "2022-03-22T19:53:27.172096Z",
     "start_time": "2022-03-22T19:53:27.093675Z"
    },
    "scrolled": true
   },
   "outputs": [
    {
     "name": "stdout",
     "output_type": "stream",
     "text": [
      "data length: 2465\n",
      "data start: 2025-03-30 23:21:13.467650\n",
      "data end: 2025-04-03 07:01:12.259743\n",
      "data columns: Index(['Unnamed: 0', 'seat', 'party', 'price', 'timestamp'], dtype='object')\n"
     ]
    }
   ],
   "source": [
    "FILE = \"../betting-data/sportsbet-2025-electorate-betting.csv\"\n",
    "betting_df = pd.read_csv(FILE, na_values=\"SUS\", parse_dates=[\"timestamp\"])\n",
    "print(f\"data length: {len(betting_df)}\")\n",
    "print(f\"data start: {betting_df['timestamp'].min()}\")\n",
    "print(f\"data end: {betting_df['timestamp'].max()}\")\n",
    "print(f\"data columns: {betting_df.columns}\")"
   ]
  },
  {
   "cell_type": "markdown",
   "id": "91c682b1",
   "metadata": {},
   "source": [
    "## Plot distribution of simple overrounds"
   ]
  },
  {
   "cell_type": "code",
   "execution_count": 5,
   "id": "93700dc3",
   "metadata": {
    "ExecuteTime": {
     "end_time": "2022-03-22T19:53:27.661406Z",
     "start_time": "2022-03-22T19:53:27.177619Z"
    }
   },
   "outputs": [],
   "source": [
    "def capture_latest_overrounds(df: pd.DataFrame) -> pd.Series:\n",
    "    \"\"\"\n",
    "    Capture the latest overrounds for each seat in the dataframe.\n",
    "    The overround is calculated as the sum of the inverse of the prices for each party.\n",
    "    Arguments:\n",
    "    df: pd.DataFrame - The dataframe containing the betting data.\n",
    "    \"\"\"\n",
    "    # Filter out rows with missing prices\n",
    "    df = df.dropna(subset=[\"price\"])\n",
    "\n",
    "    # Calculate the overround for each seat\n",
    "    overrounds = {}\n",
    "    for seat in df.seat.unique():\n",
    "        overrounds[seat] = (\n",
    "            df[df.seat == seat]\n",
    "            .dropna(subset=[\"price\"])\n",
    "            .pivot(index=\"timestamp\", columns=\"party\", values=\"price\")\n",
    "            .iloc[-1]\n",
    "            .pipe(lambda x: 1 / x)\n",
    "            .sum()\n",
    "        )\n",
    "    series = pd.Series(overrounds)\n",
    "\n",
    "    odd = series[series < 1.05]\n",
    "    if len(odd):\n",
    "        print(\"We have some odd overrounds:\")\n",
    "        for seat in odd.index:\n",
    "            print(\n",
    "                seat,\n",
    "            )\n",
    "            print(\n",
    "                df[df.seat == seat]\n",
    "                .pivot(index=\"timestamp\", columns=\"party\", values=\"price\")\n",
    "                .iloc[-1]\n",
    "            )\n",
    "        print(\"-\" * 30)\n",
    "\n",
    "    return series"
   ]
  },
  {
   "cell_type": "code",
   "execution_count": 6,
   "id": "58c65bb9",
   "metadata": {
    "ExecuteTime": {
     "end_time": "2022-03-22T19:53:27.923507Z",
     "start_time": "2022-03-22T19:53:27.668681Z"
    }
   },
   "outputs": [
    {
     "data": {
      "image/png": "[encoded data removed]",
      "text/plain": [
       "<Figure size 900x450 with 1 Axes>"
      ]
     },
     "metadata": {},
     "output_type": "display_data"
    }
   ],
   "source": [
    "def plot_overrounds() -> None:\n",
    "    \"\"\"\n",
    "    Plot the latest overrounds for each seat in the dataframe.\n",
    "    \"\"\"\n",
    "    overround_series = capture_latest_overrounds(betting_df)\n",
    "    ax = sns.violinplot(x=overround_series, orient=\"h\")\n",
    "    title = \"Violin plot of Bookmaker Overrounds in the Individual Seats Market\"\n",
    "    plotting.finalise_plot(\n",
    "        ax,\n",
    "        title=title,\n",
    "        ylabel=\"Density\",\n",
    "        xlabel=\"Overround (where 1 means fair odds)\",\n",
    "        rfooter=\"marktheballot.blogspot.com\",\n",
    "        lfooter=\"Data captured from Sportsbet.com.au \"\n",
    "        + f'{betting_df[\"timestamp\"].max().date()}. ',\n",
    "        show=True,\n",
    "    )\n",
    "\n",
    "\n",
    "plot_overrounds()"
   ]
  },
  {
   "cell_type": "markdown",
   "id": "00623a9d",
   "metadata": {},
   "source": [
    "## Summarise likely result and identify seats of interest"
   ]
  },
  {
   "cell_type": "code",
   "execution_count": 7,
   "id": "3ac03e9c",
   "metadata": {},
   "outputs": [],
   "source": [
    "def calc_probability(df: pd.DataFrame, seat: str) -> tuple[pd.DataFrame, str] | None:\n",
    "    \"\"\"\n",
    "    Calculate the probability of winning for each party in a given seat.\n",
    "    Arguments:\n",
    "    df: pd.DataFrame - The dataframe containing the betting data.\n",
    "    seat: str - The seat to calculate probabilities for.\n",
    "    Returns a Series with party names as index and probabilities as values.\n",
    "    \"\"\"\n",
    "    # Filter the dataframe for the given seat\n",
    "    df = df[df.seat == seat]\n",
    "\n",
    "    # Check if the dataframe is empty\n",
    "    if df.empty:\n",
    "        print(f\"No data for seat {seat}\")\n",
    "        return None\n",
    "\n",
    "    # get seat probabilities - treat for favourite-longshot bias\n",
    "    seat_probs = (\n",
    "        df[df.seat == seat]\n",
    "        .dropna(subset=[\"price\"])\n",
    "        .pivot(index=\"timestamp\", columns=\"party\", values=\"price\")\n",
    "        .sort_index(ascending=True)\n",
    "        .pipe(lambda x: x * np.sqrt(x))  # Favourite-Longshot Bias management\n",
    "        .dropna(how=\"all\", axis=1)\n",
    "        .pipe(lambda x: 1 / x)\n",
    "        .pipe(lambda x: x.div(other=x.sum(axis=1), axis=0))  # normalise\n",
    "    ) * 100  # per cent\n",
    "    method = \"Favourite-Longshot Bias treatment: raw-odds * sqrt(raw-odds)\"\n",
    "\n",
    "    return seat_probs, method"
   ]
  },
  {
   "cell_type": "code",
   "execution_count": 8,
   "id": "a1d29569",
   "metadata": {},
   "outputs": [],
   "source": [
    "def colourise(s: str) -> tuple[str, str]:\n",
    "    \"\"\"A standard color and marker scheme for parties.\"\"\"\n",
    "\n",
    "    settings = {\n",
    "        \"coalition\": (\"royalblue\", \"s\"),\n",
    "        \"labor\": (\"#dd0000\", \"d\"),\n",
    "        \"green\": (\"mediumseagreen\", \"o\"),\n",
    "        \"independent\": (\"orange\", \"v\"),\n",
    "        \"one nation\": (\"darkkhaki\", \"^\"),\n",
    "        \"jacqui lambie\": (\"darkorchid\", \"p\"),\n",
    "        \"katter\": (\"hotpink\", \">\"),\n",
    "        \"centre alliance\": (\"brown\", \">\"),\n",
    "        \"other\": (\"skyblue\", \"<\"),  # must be last\n",
    "    }\n",
    "    for party, setting in settings.items():\n",
    "        if party in s.lower():\n",
    "            return setting\n",
    "\n",
    "    return (\"gray\", \"*\")"
   ]
  },
  {
   "cell_type": "code",
   "execution_count": 9,
   "id": "399bf505",
   "metadata": {},
   "outputs": [
    {
     "name": "stdout",
     "output_type": "stream",
     "text": [
      "Close seats:\n"
     ]
    },
    {
     "data": {
      "application/vnd.microsoft.datawrangler.viewer.v0+json": {
       "columns": [
        {
         "name": "index",
         "rawType": "int64",
         "type": "integer"
        },
        {
         "name": "index",
         "rawType": "object",
         "type": "string"
        },
        {
         "name": "Top probability %",
         "rawType": "float64",
         "type": "float"
        },
        {
         "name": "ahead",
         "rawType": "object",
         "type": "string"
        }
       ],
       "conversionMethod": "pd.DataFrame",
       "ref": "63956958-30ab-4c78-94e1-7f6821266546",
       "rows": [
        [
         "2",
         "Brisbane (QLD)",
         "35.7",
         "Labor"
        ],
        [
         "13",
         "Macnamara (VIC)",
         "48.8",
         "Labor"
        ],
        [
         "0",
         "Boothby (SA)",
         "51.5",
         "Labor"
        ],
        [
         "5",
         "Cowper (NSW)",
         "52.3",
         "Coalition"
        ],
        [
         "1",
         "Bradfield (NSW)",
         "53.0",
         "Coalition"
        ],
        [
         "16",
         "Robertson (NSW)",
         "53.2",
         "Coalition"
        ],
        [
         "10",
         "Kooyong (VIC)",
         "53.7",
         "Coalition"
        ],
        [
         "17",
         "Ryan (QLD)",
         "55.0",
         "Coalition"
        ],
        [
         "19",
         "Tangney (WA)",
         "55.5",
         "Coalition"
        ],
        [
         "8",
         "Goldstein (VIC)",
         "58.3",
         "Independent (Zoe Daniel)"
        ],
        [
         "12",
         "Lyons (TAS)",
         "58.6",
         "Coalition"
        ],
        [
         "9",
         "Griffith (QLD)",
         "59.3",
         "Greens"
        ],
        [
         "15",
         "Paterson (NSW)",
         "60.9",
         "Coalition"
        ],
        [
         "22",
         "Wills (VIC)",
         "61.3",
         "Labor"
        ],
        [
         "4",
         "Calare (NSW)",
         "62.2",
         "Coalition"
        ],
        [
         "14",
         "McEwen (VIC)",
         "62.6",
         "Coalition"
        ],
        [
         "18",
         "Solomon (NT)",
         "62.7",
         "Labor"
        ],
        [
         "20",
         "Wannon (VIC)",
         "65.4",
         "Coalition"
        ],
        [
         "6",
         "Curtin (WA)",
         "66.2",
         "Coalition"
        ],
        [
         "11",
         "Lingiari (NT)",
         "68.7",
         "Coalition"
        ],
        [
         "7",
         "Dunkley (VIC)",
         "69.2",
         "Labor"
        ],
        [
         "3",
         "Bruce (VIC)",
         "69.2",
         "Labor"
        ],
        [
         "21",
         "Werriwa (NSW)",
         "69.2",
         "Labor"
        ]
       ],
       "shape": {
        "columns": 3,
        "rows": 23
       }
      },
      "text/html": [
       "<div>\n",
       "<style scoped>\n",
       "    .dataframe tbody tr th:only-of-type {\n",
       "        vertical-align: middle;\n",
       "    }\n",
       "\n",
       "    .dataframe tbody tr th {\n",
       "        vertical-align: top;\n",
       "    }\n",
       "\n",
       "    .dataframe thead th {\n",
       "        text-align: right;\n",
       "    }\n",
       "</style>\n",
       "<table border=\"1\" class=\"dataframe\">\n",
       "  <thead>\n",
       "    <tr style=\"text-align: right;\">\n",
       "      <th></th>\n",
       "      <th>index</th>\n",
       "      <th>Top probability %</th>\n",
       "      <th>ahead</th>\n",
       "    </tr>\n",
       "  </thead>\n",
       "  <tbody>\n",
       "    <tr>\n",
       "      <th>2</th>\n",
       "      <td>Brisbane (QLD)</td>\n",
       "      <td>35.7</td>\n",
       "      <td>Labor</td>\n",
       "    </tr>\n",
       "    <tr>\n",
       "      <th>13</th>\n",
       "      <td>Macnamara (VIC)</td>\n",
       "      <td>48.8</td>\n",
       "      <td>Labor</td>\n",
       "    </tr>\n",
       "    <tr>\n",
       "      <th>0</th>\n",
       "      <td>Boothby (SA)</td>\n",
       "      <td>51.5</td>\n",
       "      <td>Labor</td>\n",
       "    </tr>\n",
       "    <tr>\n",
       "      <th>5</th>\n",
       "      <td>Cowper (NSW)</td>\n",
       "      <td>52.3</td>\n",
       "      <td>Coalition</td>\n",
       "    </tr>\n",
       "    <tr>\n",
       "      <th>1</th>\n",
       "      <td>Bradfield (NSW)</td>\n",
       "      <td>53.0</td>\n",
       "      <td>Coalition</td>\n",
       "    </tr>\n",
       "    <tr>\n",
       "      <th>16</th>\n",
       "      <td>Robertson (NSW)</td>\n",
       "      <td>53.2</td>\n",
       "      <td>Coalition</td>\n",
       "    </tr>\n",
       "    <tr>\n",
       "      <th>10</th>\n",
       "      <td>Kooyong (VIC)</td>\n",
       "      <td>53.7</td>\n",
       "      <td>Coalition</td>\n",
       "    </tr>\n",
       "    <tr>\n",
       "      <th>17</th>\n",
       "      <td>Ryan (QLD)</td>\n",
       "      <td>55.0</td>\n",
       "      <td>Coalition</td>\n",
       "    </tr>\n",
       "    <tr>\n",
       "      <th>19</th>\n",
       "      <td>Tangney (WA)</td>\n",
       "      <td>55.5</td>\n",
       "      <td>Coalition</td>\n",
       "    </tr>\n",
       "    <tr>\n",
       "      <th>8</th>\n",
       "      <td>Goldstein (VIC)</td>\n",
       "      <td>58.3</td>\n",
       "      <td>Independent (Zoe Daniel)</td>\n",
       "    </tr>\n",
       "    <tr>\n",
       "      <th>12</th>\n",
       "      <td>Lyons (TAS)</td>\n",
       "      <td>58.6</td>\n",
       "      <td>Coalition</td>\n",
       "    </tr>\n",
       "    <tr>\n",
       "      <th>9</th>\n",
       "      <td>Griffith (QLD)</td>\n",
       "      <td>59.3</td>\n",
       "      <td>Greens</td>\n",
       "    </tr>\n",
       "    <tr>\n",
       "      <th>15</th>\n",
       "      <td>Paterson (NSW)</td>\n",
       "      <td>60.9</td>\n",
       "      <td>Coalition</td>\n",
       "    </tr>\n",
       "    <tr>\n",
       "      <th>22</th>\n",
       "      <td>Wills (VIC)</td>\n",
       "      <td>61.3</td>\n",
       "      <td>Labor</td>\n",
       "    </tr>\n",
       "    <tr>\n",
       "      <th>4</th>\n",
       "      <td>Calare (NSW)</td>\n",
       "      <td>62.2</td>\n",
       "      <td>Coalition</td>\n",
       "    </tr>\n",
       "    <tr>\n",
       "      <th>14</th>\n",
       "      <td>McEwen (VIC)</td>\n",
       "      <td>62.6</td>\n",
       "      <td>Coalition</td>\n",
       "    </tr>\n",
       "    <tr>\n",
       "      <th>18</th>\n",
       "      <td>Solomon (NT)</td>\n",
       "      <td>62.7</td>\n",
       "      <td>Labor</td>\n",
       "    </tr>\n",
       "    <tr>\n",
       "      <th>20</th>\n",
       "      <td>Wannon (VIC)</td>\n",
       "      <td>65.4</td>\n",
       "      <td>Coalition</td>\n",
       "    </tr>\n",
       "    <tr>\n",
       "      <th>6</th>\n",
       "      <td>Curtin (WA)</td>\n",
       "      <td>66.2</td>\n",
       "      <td>Coalition</td>\n",
       "    </tr>\n",
       "    <tr>\n",
       "      <th>11</th>\n",
       "      <td>Lingiari (NT)</td>\n",
       "      <td>68.7</td>\n",
       "      <td>Coalition</td>\n",
       "    </tr>\n",
       "    <tr>\n",
       "      <th>7</th>\n",
       "      <td>Dunkley (VIC)</td>\n",
       "      <td>69.2</td>\n",
       "      <td>Labor</td>\n",
       "    </tr>\n",
       "    <tr>\n",
       "      <th>3</th>\n",
       "      <td>Bruce (VIC)</td>\n",
       "      <td>69.2</td>\n",
       "      <td>Labor</td>\n",
       "    </tr>\n",
       "    <tr>\n",
       "      <th>21</th>\n",
       "      <td>Werriwa (NSW)</td>\n",
       "      <td>69.2</td>\n",
       "      <td>Labor</td>\n",
       "    </tr>\n",
       "  </tbody>\n",
       "</table>\n",
       "</div>"
      ],
      "text/plain": [
       "              index  Top probability %                     ahead\n",
       "2    Brisbane (QLD)               35.7                     Labor\n",
       "13  Macnamara (VIC)               48.8                     Labor\n",
       "0      Boothby (SA)               51.5                     Labor\n",
       "5      Cowper (NSW)               52.3                 Coalition\n",
       "1   Bradfield (NSW)               53.0                 Coalition\n",
       "16  Robertson (NSW)               53.2                 Coalition\n",
       "10    Kooyong (VIC)               53.7                 Coalition\n",
       "17       Ryan (QLD)               55.0                 Coalition\n",
       "19     Tangney (WA)               55.5                 Coalition\n",
       "8   Goldstein (VIC)               58.3  Independent (Zoe Daniel)\n",
       "12      Lyons (TAS)               58.6                 Coalition\n",
       "9    Griffith (QLD)               59.3                    Greens\n",
       "15   Paterson (NSW)               60.9                 Coalition\n",
       "22      Wills (VIC)               61.3                     Labor\n",
       "4      Calare (NSW)               62.2                 Coalition\n",
       "14     McEwen (VIC)               62.6                 Coalition\n",
       "18     Solomon (NT)               62.7                     Labor\n",
       "20     Wannon (VIC)               65.4                 Coalition\n",
       "6       Curtin (WA)               66.2                 Coalition\n",
       "11    Lingiari (NT)               68.7                 Coalition\n",
       "7     Dunkley (VIC)               69.2                     Labor\n",
       "3       Bruce (VIC)               69.2                     Labor\n",
       "21    Werriwa (NSW)               69.2                     Labor"
      ]
     },
     "metadata": {},
     "output_type": "display_data"
    },
    {
     "name": "stdout",
     "output_type": "stream",
     "text": [
      "Seats where Greens might be competitive:\n"
     ]
    },
    {
     "data": {
      "application/vnd.microsoft.datawrangler.viewer.v0+json": {
       "columns": [
        {
         "name": "index",
         "rawType": "object",
         "type": "string"
        },
        {
         "name": "Greens win probability %",
         "rawType": "float64",
         "type": "float"
        }
       ],
       "conversionMethod": "pd.DataFrame",
       "ref": "e4b24b01-22f4-4743-b7d2-4bd40ee61f7e",
       "rows": [
        [
         "Melbourne (VIC)",
         "93.7"
        ],
        [
         "Griffith (QLD)",
         "59.3"
        ],
        [
         "Macnamara (VIC)",
         "37.8"
        ],
        [
         "Wills (VIC)",
         "36.9"
        ],
        [
         "Ryan (QLD)",
         "33.4"
        ],
        [
         "Brisbane (QLD)",
         "30.3"
        ]
       ],
       "shape": {
        "columns": 1,
        "rows": 6
       }
      },
      "text/html": [
       "<div>\n",
       "<style scoped>\n",
       "    .dataframe tbody tr th:only-of-type {\n",
       "        vertical-align: middle;\n",
       "    }\n",
       "\n",
       "    .dataframe tbody tr th {\n",
       "        vertical-align: top;\n",
       "    }\n",
       "\n",
       "    .dataframe thead th {\n",
       "        text-align: right;\n",
       "    }\n",
       "</style>\n",
       "<table border=\"1\" class=\"dataframe\">\n",
       "  <thead>\n",
       "    <tr style=\"text-align: right;\">\n",
       "      <th></th>\n",
       "      <th>Greens win probability %</th>\n",
       "    </tr>\n",
       "  </thead>\n",
       "  <tbody>\n",
       "    <tr>\n",
       "      <th>Melbourne (VIC)</th>\n",
       "      <td>93.7</td>\n",
       "    </tr>\n",
       "    <tr>\n",
       "      <th>Griffith (QLD)</th>\n",
       "      <td>59.3</td>\n",
       "    </tr>\n",
       "    <tr>\n",
       "      <th>Macnamara (VIC)</th>\n",
       "      <td>37.8</td>\n",
       "    </tr>\n",
       "    <tr>\n",
       "      <th>Wills (VIC)</th>\n",
       "      <td>36.9</td>\n",
       "    </tr>\n",
       "    <tr>\n",
       "      <th>Ryan (QLD)</th>\n",
       "      <td>33.4</td>\n",
       "    </tr>\n",
       "    <tr>\n",
       "      <th>Brisbane (QLD)</th>\n",
       "      <td>30.3</td>\n",
       "    </tr>\n",
       "  </tbody>\n",
       "</table>\n",
       "</div>"
      ],
      "text/plain": [
       "                 Greens win probability %\n",
       "Melbourne (VIC)                      93.7\n",
       "Griffith (QLD)                       59.3\n",
       "Macnamara (VIC)                      37.8\n",
       "Wills (VIC)                          36.9\n",
       "Ryan (QLD)                           33.4\n",
       "Brisbane (QLD)                       30.3"
      ]
     },
     "metadata": {},
     "output_type": "display_data"
    },
    {
     "name": "stdout",
     "output_type": "stream",
     "text": [
      "Seats where Others might be competitive:\n"
     ]
    },
    {
     "data": {
      "application/vnd.microsoft.datawrangler.viewer.v0+json": {
       "columns": [
        {
         "name": "index",
         "rawType": "object",
         "type": "string"
        },
        {
         "name": "Others win probability %",
         "rawType": "float64",
         "type": "float"
        }
       ],
       "conversionMethod": "pd.DataFrame",
       "ref": "24f2a221-59c2-4c70-a628-81c05ea8e56d",
       "rows": [
        [
         "Clark (TAS)",
         "98.5"
        ],
        [
         "Kennedy (QLD)",
         "95.6"
        ],
        [
         "Warringah (NSW)",
         "88.7"
        ],
        [
         "Indi (VIC)",
         "88.6"
        ],
        [
         "Mayo (SA)",
         "87.2"
        ],
        [
         "Wentworth (NSW)",
         "84.8"
        ],
        [
         "Mackellar  (NSW)",
         "74.6"
        ],
        [
         "Fowler (NSW)",
         "73.7"
        ],
        [
         "Goldstein (VIC)",
         "59.2"
        ],
        [
         "Cowper (NSW)",
         "46.8"
        ],
        [
         "Bradfield (NSW)",
         "46.0"
        ],
        [
         "Kooyong (VIC)",
         "45.4"
        ],
        [
         "Calare (NSW)",
         "36.8"
        ],
        [
         "Wannon (VIC)",
         "33.7"
        ],
        [
         "Curtin (WA)",
         "32.9"
        ],
        [
         "McPherson (QLD)",
         "25.9"
        ]
       ],
       "shape": {
        "columns": 1,
        "rows": 16
       }
      },
      "text/html": [
       "<div>\n",
       "<style scoped>\n",
       "    .dataframe tbody tr th:only-of-type {\n",
       "        vertical-align: middle;\n",
       "    }\n",
       "\n",
       "    .dataframe tbody tr th {\n",
       "        vertical-align: top;\n",
       "    }\n",
       "\n",
       "    .dataframe thead th {\n",
       "        text-align: right;\n",
       "    }\n",
       "</style>\n",
       "<table border=\"1\" class=\"dataframe\">\n",
       "  <thead>\n",
       "    <tr style=\"text-align: right;\">\n",
       "      <th></th>\n",
       "      <th>Others win probability %</th>\n",
       "    </tr>\n",
       "  </thead>\n",
       "  <tbody>\n",
       "    <tr>\n",
       "      <th>Clark (TAS)</th>\n",
       "      <td>98.5</td>\n",
       "    </tr>\n",
       "    <tr>\n",
       "      <th>Kennedy (QLD)</th>\n",
       "      <td>95.6</td>\n",
       "    </tr>\n",
       "    <tr>\n",
       "      <th>Warringah (NSW)</th>\n",
       "      <td>88.7</td>\n",
       "    </tr>\n",
       "    <tr>\n",
       "      <th>Indi (VIC)</th>\n",
       "      <td>88.6</td>\n",
       "    </tr>\n",
       "    <tr>\n",
       "      <th>Mayo (SA)</th>\n",
       "      <td>87.2</td>\n",
       "    </tr>\n",
       "    <tr>\n",
       "      <th>Wentworth (NSW)</th>\n",
       "      <td>84.8</td>\n",
       "    </tr>\n",
       "    <tr>\n",
       "      <th>Mackellar  (NSW)</th>\n",
       "      <td>74.6</td>\n",
       "    </tr>\n",
       "    <tr>\n",
       "      <th>Fowler (NSW)</th>\n",
       "      <td>73.7</td>\n",
       "    </tr>\n",
       "    <tr>\n",
       "      <th>Goldstein (VIC)</th>\n",
       "      <td>59.2</td>\n",
       "    </tr>\n",
       "    <tr>\n",
       "      <th>Cowper (NSW)</th>\n",
       "      <td>46.8</td>\n",
       "    </tr>\n",
       "    <tr>\n",
       "      <th>Bradfield (NSW)</th>\n",
       "      <td>46.0</td>\n",
       "    </tr>\n",
       "    <tr>\n",
       "      <th>Kooyong (VIC)</th>\n",
       "      <td>45.4</td>\n",
       "    </tr>\n",
       "    <tr>\n",
       "      <th>Calare (NSW)</th>\n",
       "      <td>36.8</td>\n",
       "    </tr>\n",
       "    <tr>\n",
       "      <th>Wannon (VIC)</th>\n",
       "      <td>33.7</td>\n",
       "    </tr>\n",
       "    <tr>\n",
       "      <th>Curtin (WA)</th>\n",
       "      <td>32.9</td>\n",
       "    </tr>\n",
       "    <tr>\n",
       "      <th>McPherson (QLD)</th>\n",
       "      <td>25.9</td>\n",
       "    </tr>\n",
       "  </tbody>\n",
       "</table>\n",
       "</div>"
      ],
      "text/plain": [
       "                  Others win probability %\n",
       "Clark (TAS)                           98.5\n",
       "Kennedy (QLD)                         95.6\n",
       "Warringah (NSW)                       88.7\n",
       "Indi (VIC)                            88.6\n",
       "Mayo (SA)                             87.2\n",
       "Wentworth (NSW)                       84.8\n",
       "Mackellar  (NSW)                      74.6\n",
       "Fowler (NSW)                          73.7\n",
       "Goldstein (VIC)                       59.2\n",
       "Cowper (NSW)                          46.8\n",
       "Bradfield (NSW)                       46.0\n",
       "Kooyong (VIC)                         45.4\n",
       "Calare (NSW)                          36.8\n",
       "Wannon (VIC)                          33.7\n",
       "Curtin (WA)                           32.9\n",
       "McPherson (QLD)                       25.9"
      ]
     },
     "metadata": {},
     "output_type": "display_data"
    },
    {
     "data": {
      "image/png": "[encoded data removed]",
      "text/plain": [
       "<Figure size 900x450 with 1 Axes>"
      ]
     },
     "metadata": {},
     "output_type": "display_data"
    },
    {
     "data": {
      "image/png": "[encoded data removed]",
      "text/plain": [
       "<Figure size 900x450 with 1 Axes>"
      ]
     },
     "metadata": {},
     "output_type": "display_data"
    }
   ],
   "source": [
    "def plot_ahead_count(party_count: dict[str, str], method: str) -> None:\n",
    "    \"\"\"Plot the count of the ahead party in each seat.\"\"\"\n",
    "\n",
    "    winners = pd.Series(party_count).sort_values(ascending=False)\n",
    "    assert winners.sum() == 150, f\"Count of ahead parties does not sum to 150 {winners.sum()}\"\n",
    "    colors = [colourise(x)[0] for x in winners.index]\n",
    "    _fig, ax = plt.subplots()\n",
    "    ax.barh(winners.index, winners, color=colors)\n",
    "    for i, v in enumerate(winners):\n",
    "        rounded: str = f\"{v:.1f}\".rstrip('0').rstrip('.')\n",
    "        ax.text(v, i, f\" {rounded}\", color=\"black\", va=\"center\", ha=\"left\")\n",
    "    plotting.finalise_plot(\n",
    "        ax,\n",
    "        title=\"Count of Ahead Party in Each Seat\",\n",
    "        ylabel=None,\n",
    "        xlabel=\"Number of Seats\",\n",
    "        rfooter=\"marktheballot.blogspot.com\",\n",
    "        lfooter=\"Data captured from Sportsbet.com.au \"\n",
    "        + f'{betting_df[\"timestamp\"].max().date()}. ',\n",
    "        rheader=method,\n",
    "        show=True,\n",
    "    )\n",
    "\n",
    "\n",
    "def plot_party_prob_sum(all_seats_probs: dict[str, pd.Series], method: str) -> None:\n",
    "    \"\"\"Plot the party-probability sums.\"\"\"\n",
    "\n",
    "    party_probs = pd.DataFrame(all_seats_probs).T.sum().sort_values(ascending=False)\n",
    "    assert (\n",
    "        149.9 < party_probs.sum() < 150.1\n",
    "    ), f\"Probabilities do not sum to 150 seats {party_probs.sum()}\"\n",
    "    colors = [colourise(x)[0] for x in party_probs.index]\n",
    "    _fig, ax = plt.subplots()\n",
    "    ax.barh(party_probs.index, party_probs, color=colors)\n",
    "    for i, v in enumerate(party_probs):\n",
    "        ax.text(v, i, f\" {v:0.1f}\", color=\"black\", va=\"center\", ha=\"left\")\n",
    "    plotting.finalise_plot(\n",
    "        ax,\n",
    "        title=\"Sum of Party Probabilities Across All Seats\",\n",
    "        ylabel=None,\n",
    "        xlabel=\"Number of seats\",\n",
    "        rfooter=\"marktheballot.blogspot.com\",\n",
    "        lfooter=\"Data captured from Sportsbet.com.au \"\n",
    "        + f'{betting_df[\"timestamp\"].max().date()}. ',\n",
    "        rheader=method,\n",
    "        show=True,\n",
    "    )\n",
    "\n",
    "\n",
    "def tables_of_interest(\n",
    "    all_seats_probs: dict[str, pd.Series], individual_leaders: dict[str, str]\n",
    ") -> None:\n",
    "    \"\"\"Create tables of interest from the betting data.\"\"\"\n",
    "\n",
    "    # tavulate close seats\n",
    "    seat_probs = pd.DataFrame(all_seats_probs).T * 100\n",
    "    close_threshold = 70\n",
    "    close_seats = seat_probs[seat_probs.max(axis=1) <= close_threshold]\n",
    "    maxima = close_seats.max(axis=1).round(1)\n",
    "    ahead = pd.Series(individual_leaders)[maxima.index]\n",
    "    results = pd.DataFrame(\n",
    "        {\n",
    "            \"Top probability %\": maxima,\n",
    "            \"ahead\": ahead,\n",
    "        }\n",
    "    )\n",
    "    results = results.reset_index().sort_values(by=\"Top probability %\", ascending=True)\n",
    "    print(\"Close seats:\")\n",
    "    display(results)\n",
    "\n",
    "    # Green ahead seats\n",
    "    green_threshold = 25\n",
    "    greens = seat_probs[\"Greens\"]\n",
    "    green_competitive = (\n",
    "        greens[greens >= green_threshold].sort_values(ascending=False).round(1)\n",
    "    )\n",
    "    print(\"Seats where Greens might be competitive:\")\n",
    "    frame = pd.DataFrame(green_competitive)\n",
    "    frame.columns = pd.Index([\"Greens win probability %\"])\n",
    "    display(frame)\n",
    "\n",
    "    # Others ahead\n",
    "    other_threshold = 25\n",
    "    others = seat_probs.drop(columns=[\"Greens\", \"Labor\", \"Coalition\"]).sum(axis=1)\n",
    "    other_competitive = others[others >= other_threshold].sort_values(ascending=False)\n",
    "    print(\"Seats where Others might be competitive:\")\n",
    "    display(\n",
    "        pd.DataFrame(other_competitive, columns=[\"Others win probability %\"]).round(1)\n",
    "    )\n",
    "\n",
    "\n",
    "def plot_stacked_probs(all_seats_probs: dict[str, pd.Series], method: str) -> None:\n",
    "    \"\"\"Plot the stacked probabilities for each party.\"\"\"\n",
    "\n",
    "    # Create a DataFrame from the dictionary\n",
    "    seat_probs = (pd.DataFrame(all_seats_probs).T * 100).sort_values(\n",
    "        by=\"Labor\", ascending=False\n",
    "    )\n",
    "\n",
    "    first_columns = [\"Coalition\", \"One Nation\"]\n",
    "    last_columns = [\"Any Other Candidate\", \"Greens\", \"Labor\"]\n",
    "    order = (\n",
    "        first_columns\n",
    "        + [x for x in seat_probs.columns if x not in first_columns + last_columns]\n",
    "        + last_columns\n",
    "    )\n",
    "    seat_probs = seat_probs[order]\n",
    "    colours = [colourise(x)[0] for x in seat_probs.columns]\n",
    "\n",
    "    slices = [slice(0, 150), slice(0, 50), slice(50, 100), slice(100, 150)]\n",
    "    for i, s in enumerate(slices):\n",
    "        suffix = {0: \"\", 1: \"(C)\", 2: \"(B)\", 3: \"(A)\"}[i]\n",
    "        size = {0: (9, 25), 1: (9, 9), 2: (9, 9), 3: (9, 9)}[i]\n",
    "        lpos = {0: \"lower right\", 1: \"lower right\", 2: \"lower right\", 3: \"center left\"}[i]\n",
    "\n",
    "        ax = seat_probs.iloc[s].plot.barh(stacked=True, color=colours)  # type: ignore[arg-type]\n",
    "        ax.axvline(50, color=\"black\", linestyle=\"-\", linewidth=0.75)\n",
    "        ax.margins(0.002)\n",
    "        plotting.finalise_plot(\n",
    "            ax,\n",
    "            title=f\"Stacked Win Probabilities for Each Seat {suffix}\".strip(),\n",
    "            ylabel=None,\n",
    "            xlabel=\"Win Probability %\",\n",
    "            rfooter=\"marktheballot.blogspot.com\",\n",
    "            lfooter=\"Data captured from Sportsbet.com.au \"\n",
    "            + f'{betting_df[\"timestamp\"].max().date()}. ',\n",
    "            rheader=method,\n",
    "            show=False,\n",
    "            legend={\"loc\": lpos, \"fontsize\": \"x-small\", \"framealpha\": 1.0},\n",
    "            figsize=size,\n",
    "        )\n",
    "\n",
    "\n",
    "def summarise_seats_data() -> None:\n",
    "    \"\"\"Summarise the individual seat betting data.\"\"\"\n",
    "\n",
    "    all_seats_probs = {}  # {seat: series_of_probabilities}\n",
    "    party_ahead_count = {}  # {party: count}\n",
    "    individual_leaders = {}  # {seat: party}\n",
    "    for seat in betting_df.seat.unique():\n",
    "        # get latest seat probabilities\n",
    "        p = calc_probability(betting_df, seat)\n",
    "        if p is None:\n",
    "            print(f\"No data for seat {seat}\")\n",
    "            continue\n",
    "        seat_probs, method = p\n",
    "        latest = seat_probs.iloc[-1].dropna()\n",
    "\n",
    "        # get and count the party/ies ahead - allow for fractional counts when tied\n",
    "        maxima = latest.max()\n",
    "        leaders = latest[latest == maxima].index.tolist()\n",
    "        for leader in leaders:\n",
    "            party = re.sub(r\"\\(.*?\\)\", \"\", leader).strip()\n",
    "            party_ahead_count[party] = party_ahead_count.get(party, 0) + (1 / len(leaders))\n",
    "        individual_leaders[seat] = \"=, \".join(leaders)\n",
    "\n",
    "        # let's group probabilities by party name (ignore candidate names)\n",
    "        renamer = {x: re.sub(r\"\\(.*?\\)\", \"\", x).strip() for x in latest.index}\n",
    "        groups = latest.rename(index=renamer)\n",
    "        all_seats_probs[seat] = groups / 100  # convert to simplex\n",
    "\n",
    "    tables_of_interest(all_seats_probs, individual_leaders)\n",
    "\n",
    "    plot_ahead_count(party_ahead_count, method)\n",
    "\n",
    "    plot_party_prob_sum(all_seats_probs, method)\n",
    "\n",
    "    plot_stacked_probs(all_seats_probs, method)\n",
    "\n",
    "\n",
    "\n",
    "summarise_seats_data()"
   ]
  },
  {
   "cell_type": "markdown",
   "id": "790b780e",
   "metadata": {},
   "source": [
    "## Plot individual seats"
   ]
  },
  {
   "cell_type": "code",
   "execution_count": 10,
   "id": "442896d0",
   "metadata": {
    "ExecuteTime": {
     "end_time": "2022-03-22T19:53:27.931226Z",
     "start_time": "2022-03-22T19:53:27.924696Z"
    }
   },
   "outputs": [
    {
     "name": "stdout",
     "output_type": "stream",
     "text": [
      "Seats with changes from penultimate day: ['Hawke (VIC)', 'Kooyong (VIC)', 'Melbourne (VIC)']\n"
     ]
    }
   ],
   "source": [
    "CHANGES = []\n",
    "\n",
    "def plot_seat_probs(df: pd.DataFrame, seat: str) -> None:\n",
    "    \"\"\"\n",
    "    Plot the seat probabilities for a given seat.\n",
    "    Arguments:\n",
    "    df: pd.DataFrame - The dataframe containing the betting data.\n",
    "    seat: str - The seat to plot.\n",
    "    \"\"\"\n",
    "\n",
    "    # get seat probabilities - treat for favourite-longshot bias\n",
    "    p = calc_probability(df, seat)\n",
    "    if p is None:\n",
    "        print(f\"No data for seat {seat}\")\n",
    "        return\n",
    "    seat_probs, flb_method = p\n",
    "\n",
    "    # make the index a daily period index and de-duplicate.\n",
    "    seat_probs.index = pd.PeriodIndex(seat_probs.index, freq=\"D\")\n",
    "    seat_probs = seat_probs[~seat_probs.index.duplicated(keep='last')]\n",
    "    if len(seat_probs) > 2 and (seat_probs.iloc[-1] != seat_probs.iloc[-2]).any():\n",
    "        CHANGES.append(seat)\n",
    "\n",
    "    # plot\n",
    "    ax = None\n",
    "    for column in seat_probs.columns:\n",
    "        c, m = colourise(column)\n",
    "        ax = seat_probs[column].plot(\n",
    "            ax=ax,\n",
    "            markersize=6,\n",
    "            lw=2.5,\n",
    "            color=c,\n",
    "            marker=m,\n",
    "        )\n",
    "        if seat_probs[column].iloc[-1] >= 10:\n",
    "            ax.text(\n",
    "                seat_probs.index[-1],\n",
    "                seat_probs[column].iloc[-1],\n",
    "                f\"  {seat_probs[column].iloc[-1]:.0f}\",\n",
    "                fontsize=9,\n",
    "                color=\"#444444\",\n",
    "                ha=\"left\",\n",
    "                va=\"center\",\n",
    "            )\n",
    "    plotting.finalise_plot(\n",
    "        ax,\n",
    "        title=f\"Sportsbet seat win probabilities over time - {seat}\",\n",
    "        ylabel=\"Implied Win Probability (%)\",\n",
    "        lfooter=flb_method,\n",
    "        rfooter=\"marktheballot.blogspot.com\",\n",
    "        legend={\"loc\": \"best\", \"ncol\": 2, \"fontsize\": \"small\"},\n",
    "        ylim=(-0.5, 100.5),\n",
    "        y50=True,\n",
    "        pre_tag=\"yy\",\n",
    "        show=False,\n",
    "    )\n",
    "\n",
    "\n",
    "def plot_seat_odds(df: pd.DataFrame, seat: str) -> None:\n",
    "    \"\"\"\n",
    "    Plot the seat odds for a given seat.\n",
    "    Arguments:\n",
    "    df: pd.DataFrame - The dataframe containing the betting data.\n",
    "    seat: str - The seat to plot.\n",
    "    \"\"\"\n",
    "\n",
    "    # get seat odds - without FLB treatment\n",
    "    df = df[df.seat == seat]\n",
    "    odds = df.pivot(index=\"timestamp\", columns=\"party\", values=\"price\")\n",
    "    odds.index = pd.PeriodIndex(odds.index, freq=\"D\")\n",
    "    odds = odds[~odds.index.duplicated(keep='last')]\n",
    "    odds = odds.sort_index(ascending=True)\n",
    "\n",
    "    ax = None\n",
    "    for column in odds.columns:\n",
    "        c, m = colourise(column)\n",
    "        ax = odds[column].plot(\n",
    "            ax=ax,\n",
    "            markersize=6,\n",
    "            lw=2.5,\n",
    "            color=c,\n",
    "            marker=m,\n",
    "        )\n",
    "        value = odds[column].iloc[-1]\n",
    "        if odds[column].iloc[-1] <= 31:\n",
    "            round = 2 if value >=1.01 else 3\n",
    "            ax.text(\n",
    "                odds.index[-1],\n",
    "                value,\n",
    "                f\"  ${value:.{round}f}\",\n",
    "                fontsize=9,\n",
    "                color=\"#444444\",\n",
    "                ha=\"left\",\n",
    "                va=\"center\",\n",
    "            )\n",
    "\n",
    "    use_log_scale = False\n",
    "    if use_log_scale: \n",
    "        ax.set_yscale(\"log\")\n",
    "    minmax = ax.get_ylim()\n",
    "    minmax = (0.9 if use_log_scale else 0, minmax[1])\n",
    "\n",
    "    plotting.finalise_plot(\n",
    "        ax,\n",
    "        title=f\"Sportsbet seat odds over time - {seat}\",\n",
    "        ylabel=\"$ Odds\" + (\" on a log scale\" if use_log_scale else \"\"),\n",
    "        lfooter=\"Decimal odds from Sportsbet.com.au\",\n",
    "        rfooter=\"marktheballot.blogspot.com\",\n",
    "        legend={\"loc\": \"best\", \"ncol\": 2, \"fontsize\": \"small\"},\n",
    "        pre_tag=\"zz\",\n",
    "        ylim=minmax,\n",
    "        show=False,\n",
    "    )\n",
    "\n",
    "def plot_all_seats():\n",
    "    \"\"\"Plot the seat probabilities for all seats.\"\"\"\n",
    "\n",
    "    for seat in betting_df.seat.unique():\n",
    "        plot_seat_probs(betting_df, seat)\n",
    "        plot_seat_odds(betting_df, seat)\n",
    "\n",
    "    if CHANGES:\n",
    "        print(\"Seats with changes from penultimate day:\", CHANGES)\n",
    "\n",
    "plot_all_seats()"
   ]
  },
  {
   "cell_type": "markdown",
   "id": "ecf2a812",
   "metadata": {},
   "source": [
    "## Finished"
   ]
  },
  {
   "cell_type": "code",
   "execution_count": 11,
   "id": "dce00412",
   "metadata": {},
   "outputs": [
    {
     "name": "stdout",
     "output_type": "stream",
     "text": [
      "finished\n"
     ]
    }
   ],
   "source": [
    "print(\"finished\")"
   ]
  }
 ],
 "metadata": {
  "kernelspec": {
   "display_name": "313",
   "language": "python",
   "name": "python3"
  },
  "language_info": {
   "codemirror_mode": {
    "name": "ipython",
    "version": 3
   },
   "file_extension": ".py",
   "mimetype": "text/x-python",
   "name": "python",
   "nbconvert_exporter": "python",
   "pygments_lexer": "ipython3",
   "version": "3.13.2"
  },
  "toc": {
   "base_numbering": 1,
   "nav_menu": {},
   "number_sections": true,
   "sideBar": true,
   "skip_h1_title": true,
   "title_cell": "Table of Contents",
   "title_sidebar": "Contents",
   "toc_cell": true,
   "toc_position": {
    "height": "calc(100% - 180px)",
    "left": "10px",
    "top": "150px",
    "width": "277.3660583496094px"
   },
   "toc_section_display": true,
   "toc_window_display": true
  }
 },
 "nbformat": 4,
 "nbformat_minor": 5
}
