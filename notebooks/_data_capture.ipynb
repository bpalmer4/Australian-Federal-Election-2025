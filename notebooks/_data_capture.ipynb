{
 "cells": [
  {
   "cell_type": "markdown",
   "id": "2bb64488",
   "metadata": {},
   "source": [
    "# Polling data capture from Wikipedia\n",
    "\n",
    "**Purpose:**\n",
    " * Capture data from the Wiki Page on Opinion Polling\n",
    " * Adjust that data for anomalies (for example, ensureing voting intention sums to 100%)\n",
    " * Save the data as a bsis for further analysis\n",
    "\n",
    "**Make sure to:**\n",
    " * run before doing any analysis; and\n",
    " * check the data validation before moving on to the analysis."
   ]
  },
  {
   "cell_type": "markdown",
   "id": "1c6f7a2c",
   "metadata": {},
   "source": [
    "## Python setup"
   ]
  },
  {
   "cell_type": "code",
   "execution_count": 1,
   "id": "4b90d24a",
   "metadata": {
    "ExecuteTime": {
     "end_time": "2022-03-13T22:25:13.328981Z",
     "start_time": "2022-03-13T22:24:53.839884Z"
    }
   },
   "outputs": [],
   "source": [
    "# system imports\n",
    "from functools import cache\n",
    "\n",
    "# analytic imports\n",
    "import pandas as pd\n",
    "from IPython.display import display"
   ]
  },
  {
   "cell_type": "code",
   "execution_count": 2,
   "id": "8b669b39-b527-48b0-8022-58b33614ae8d",
   "metadata": {},
   "outputs": [],
   "source": [
    "# local imports\n",
    "import data_capture as dc\n",
    "from common import ATTITUDINAL, VOTING_INTENTION, NSW, VIC, QLD, SA, WA, TAS, NT"
   ]
  },
  {
   "cell_type": "code",
   "execution_count": 3,
   "id": "87fe393b",
   "metadata": {},
   "outputs": [],
   "source": [
    "STATES = [NSW, VIC, QLD, WA, SA, TAS, NT]"
   ]
  },
  {
   "cell_type": "markdown",
   "id": "3fe40d91-94ed-46a4-8e65-68b3d5e44ecf",
   "metadata": {},
   "source": [
    "## Get raw polling data from Wikipedia"
   ]
  },
  {
   "cell_type": "markdown",
   "id": "5e62901a-37eb-4193-af8a-c612c0d69015",
   "metadata": {},
   "source": [
    "### Get all tables from the Wikipedia web page"
   ]
  },
  {
   "cell_type": "code",
   "execution_count": 4,
   "id": "9cd6a171",
   "metadata": {},
   "outputs": [],
   "source": [
    "@cache\n",
    "def tables_from_wiki() -> list[pd.DataFrame]:\n",
    "    \"\"\"Get Opinion Polling Tables for the 2025 Australian\n",
    "    Federal Election from the Wikipedia page. Use the @cache\n",
    "    decorator to avoid repeated web-scraping (when testing).\n",
    "\n",
    "    Note: web-scraping is fragile, and depends on the page maintaining the\n",
    "    same structure.  This function will need to be updated if the Wikipedia\n",
    "    page is reorganised.\"\"\"\n",
    "\n",
    "    url = (\n",
    "        \"https://en.wikipedia.org/wiki/\"\n",
    "        + \"Opinion_polling_for_the_2025_Australian_federal_election\"\n",
    "    )\n",
    "    df_list = dc.get_table_list(url)\n",
    "    print(f\"Total number of tables on page: {len(df_list)}\")\n",
    "    return df_list"
   ]
  },
  {
   "cell_type": "code",
   "execution_count": 5,
   "id": "25b1a29f",
   "metadata": {},
   "outputs": [
    {
     "name": "stdout",
     "output_type": "stream",
     "text": [
      "Total number of tables on page: 43\n",
      "Looking for voting-intention tables - multiplicity=4 column_name='Primary vote ALP'\n",
      "About to extract table number(s): [1, 2, 3, 4]\n",
      "WARNING: with table 2, {'Primary vote UAP'} not in combined table.\n",
      "Found voting-intention table using wiki table(s): [1, 2, 3, 4]\n",
      "CHECK there may be a problem with these dates in get_dates(): 2025-12-30 00:00:00 2025-01-05 00:00:00 with these tokens ['30', 'Dec', '5', 'Jan', '2025']\n",
      "--> assuming first day is 2024-12-30 00:00:00\n",
      "Looking for attitudinal tables - multiplicity=4 column_name='Preferred prime minister Albanese'\n",
      "About to extract table number(s): [5, 6, 7, 8]\n",
      "Found attitudinal table using wiki table(s): [5, 6, 7, 8]\n",
      "Looking for NSW tables - multiplicity=1 column_name='Primary vote ALP'\n",
      "About to extract table number(s): [12]\n",
      "Found NSW table using wiki table(s): [12]\n",
      "Looking for VIC tables - multiplicity=1 column_name='Primary vote ALP'\n",
      "About to extract table number(s): [15]\n",
      "Found VIC table using wiki table(s): [15]\n",
      "Looking for QLD tables - multiplicity=1 column_name='Primary vote ALP'\n",
      "About to extract table number(s): [18]\n",
      "Found QLD table using wiki table(s): [18]\n",
      "Looking for WA tables - multiplicity=1 column_name='Primary vote ALP'\n",
      "About to extract table number(s): [21]\n",
      "Found WA table using wiki table(s): [21]\n",
      "Looking for SA tables - multiplicity=1 column_name='Primary vote ALP'\n",
      "About to extract table number(s): [24]\n",
      "Found SA table using wiki table(s): [24]\n",
      "Looking for TAS tables - multiplicity=1 column_name='Primary vote ALP'\n",
      "About to extract table number(s): [26]\n",
      "Found TAS table using wiki table(s): [26]\n",
      "Looking for NT tables - multiplicity=1 column_name='Primary vote ALP'\n",
      "About to extract table number(s): [27]\n",
      "Found NT table using wiki table(s): [27]\n"
     ]
    },
    {
     "name": "stderr",
     "output_type": "stream",
     "text": [
      "/Users/bryanpalmer/Australian-Federal-Election-2025/notebooks/data_capture.py:155: FutureWarning: Downcasting behavior in `replace` is deprecated and will be removed in a future version. To retain the old behavior, explicitly call `result.infer_objects(copy=False)`. To opt-in to the future behavior, set `pd.set_option('future.no_silent_downcasting', True)`\n",
      "  .replace(\"\", np.nan)  # NaN empty lines\n",
      "/Users/bryanpalmer/Australian-Federal-Election-2025/notebooks/data_capture.py:155: FutureWarning: Downcasting behavior in `replace` is deprecated and will be removed in a future version. To retain the old behavior, explicitly call `result.infer_objects(copy=False)`. To opt-in to the future behavior, set `pd.set_option('future.no_silent_downcasting', True)`\n",
      "  .replace(\"\", np.nan)  # NaN empty lines\n",
      "/Users/bryanpalmer/Australian-Federal-Election-2025/notebooks/data_capture.py:155: FutureWarning: Downcasting behavior in `replace` is deprecated and will be removed in a future version. To retain the old behavior, explicitly call `result.infer_objects(copy=False)`. To opt-in to the future behavior, set `pd.set_option('future.no_silent_downcasting', True)`\n",
      "  .replace(\"\", np.nan)  # NaN empty lines\n",
      "/Users/bryanpalmer/Australian-Federal-Election-2025/notebooks/data_capture.py:155: FutureWarning: Downcasting behavior in `replace` is deprecated and will be removed in a future version. To retain the old behavior, explicitly call `result.infer_objects(copy=False)`. To opt-in to the future behavior, set `pd.set_option('future.no_silent_downcasting', True)`\n",
      "  .replace(\"\", np.nan)  # NaN empty lines\n",
      "/Users/bryanpalmer/Australian-Federal-Election-2025/notebooks/data_capture.py:155: FutureWarning: Downcasting behavior in `replace` is deprecated and will be removed in a future version. To retain the old behavior, explicitly call `result.infer_objects(copy=False)`. To opt-in to the future behavior, set `pd.set_option('future.no_silent_downcasting', True)`\n",
      "  .replace(\"\", np.nan)  # NaN empty lines\n",
      "/Users/bryanpalmer/Australian-Federal-Election-2025/notebooks/data_capture.py:155: FutureWarning: Downcasting behavior in `replace` is deprecated and will be removed in a future version. To retain the old behavior, explicitly call `result.infer_objects(copy=False)`. To opt-in to the future behavior, set `pd.set_option('future.no_silent_downcasting', True)`\n",
      "  .replace(\"\", np.nan)  # NaN empty lines\n",
      "/Users/bryanpalmer/Australian-Federal-Election-2025/notebooks/data_capture.py:155: FutureWarning: Downcasting behavior in `replace` is deprecated and will be removed in a future version. To retain the old behavior, explicitly call `result.infer_objects(copy=False)`. To opt-in to the future behavior, set `pd.set_option('future.no_silent_downcasting', True)`\n",
      "  .replace(\"\", np.nan)  # NaN empty lines\n"
     ]
    }
   ],
   "source": [
    "def get_tables(verbose: bool = False) -> dict[str, pd.DataFrame]:\n",
    "    \"\"\"Scan through the captureed tables to find the ones we want.\n",
    "    The tables are identified by the column names they contain\n",
    "    and the order they appear on the Wikipedia page.\"\"\"\n",
    "\n",
    "    # capture the table-list from the Wikipedia page\n",
    "    df_list = tables_from_wiki()\n",
    "    print_tables = False\n",
    "    if print_tables:\n",
    "        for i, df in enumerate(df_list):\n",
    "            print(f\"Table {i}\")\n",
    "            display(df.head(3))\n",
    "\n",
    "    MAX_ANNUAL = 4\n",
    "    expected_tables = (\n",
    "        # (label: str, max_tables: int, must_have_flattened_column_name: str)\n",
    "        (VOTING_INTENTION, MAX_ANNUAL, \"Primary vote ALP\"),\n",
    "        # Ignore the three AGE based tables\n",
    "        (ATTITUDINAL, MAX_ANNUAL, \"Preferred prime minister Albanese\"),\n",
    "        # Note: states must be in the same order as they appear on the Wiki page\n",
    "        (NSW, 1, \"Primary vote ALP\"),\n",
    "        (VIC, 1, \"Primary vote ALP\"),\n",
    "        (QLD, 1, \"Primary vote ALP\"),\n",
    "        (WA, 1, \"Primary vote ALP\"),\n",
    "        (SA, 1, \"Primary vote ALP\"),\n",
    "        (TAS, 1, \"Primary vote ALP\"),\n",
    "        (NT, 1, \"Primary vote ALP\"),\n",
    "    )\n",
    "\n",
    "    def flatten(i: pd.MultiIndex) -> list[str]:\n",
    "        return [(\" \").join(a) if a[0] != a[1] else a[0] for a in i.to_flat_index()]\n",
    "\n",
    "    def get_cols(n: int) -> list[str]:\n",
    "        cols = df_list[n].columns\n",
    "        if isinstance(cols, pd.MultiIndex):\n",
    "            return flatten(cols)\n",
    "        return df_list[n].columns.tolist()\n",
    "\n",
    "    return_box = {}\n",
    "    table_number = 0\n",
    "    for label, multiplicity, column_name in expected_tables:\n",
    "        print(f\"Looking for {label} tables - {multiplicity=} {column_name=}\")\n",
    "        while table_number < len(df_list):\n",
    "            found = []\n",
    "            flat_cols = get_cols(table_number)\n",
    "            table_number += 1\n",
    "            if column_name in flat_cols:\n",
    "                found.append(table_number - 1)\n",
    "                if multiplicity > 1:\n",
    "                    capture_count = 1\n",
    "                    while table_number < len(df_list) and capture_count < multiplicity:\n",
    "                        flat_cols = get_cols(table_number)\n",
    "                        if column_name in flat_cols:\n",
    "                            found.append(table_number)\n",
    "                            table_number += 1\n",
    "                            capture_count += 1\n",
    "                        else:\n",
    "                            break\n",
    "                print(f\"About to extract table number(s): {found}\")\n",
    "                combined = dc.get_combined_table(df_list, found, verbose=verbose)\n",
    "                if combined is not None:\n",
    "                    print(f\"Found {label} table using wiki table(s): {found}\")\n",
    "                    return_box[label] = dc.clean(combined.copy())\n",
    "                break  # from outer while loop, so we can search for next table(s)\n",
    "    return return_box\n",
    "\n",
    "\n",
    "data = get_tables(verbose=False)"
   ]
  },
  {
   "cell_type": "markdown",
   "id": "b134ae39-c77f-4fbc-8cd0-00bf4e42186f",
   "metadata": {},
   "source": [
    "### Quick look at most recent N polls"
   ]
  },
  {
   "cell_type": "code",
   "execution_count": 6,
   "id": "8bec4be8-860e-47ff-a5c8-2a2e8defba0f",
   "metadata": {},
   "outputs": [
    {
     "name": "stdout",
     "output_type": "stream",
     "text": [
      "voting-intention:\n"
     ]
    },
    {
     "data": {
      "application/vnd.microsoft.datawrangler.viewer.v0+json": {
       "columns": [
        {
         "name": "index",
         "rawType": "int64",
         "type": "integer"
        },
        {
         "name": "Date",
         "rawType": "object",
         "type": "string"
        },
        {
         "name": "Brand",
         "rawType": "object",
         "type": "string"
        },
        {
         "name": "Interview mode",
         "rawType": "object",
         "type": "string"
        },
        {
         "name": "Sample size",
         "rawType": "float64",
         "type": "float"
        },
        {
         "name": "Primary vote L/NP",
         "rawType": "float64",
         "type": "float"
        },
        {
         "name": "Primary vote ALP",
         "rawType": "float64",
         "type": "float"
        },
        {
         "name": "Primary vote GRN",
         "rawType": "float64",
         "type": "float"
        },
        {
         "name": "Primary vote ONP",
         "rawType": "float64",
         "type": "float"
        },
        {
         "name": "Primary vote TOP",
         "rawType": "float64",
         "type": "float"
        },
        {
         "name": "Primary vote OTH",
         "rawType": "float64",
         "type": "float"
        },
        {
         "name": "Primary vote UND",
         "rawType": "float64",
         "type": "float"
        },
        {
         "name": "2pp vote ALP",
         "rawType": "float64",
         "type": "float"
        },
        {
         "name": "2pp vote L/NP",
         "rawType": "float64",
         "type": "float"
        },
        {
         "name": "Primary vote UAP",
         "rawType": "float64",
         "type": "float"
        },
        {
         "name": "First Date",
         "rawType": "datetime64[ns]",
         "type": "datetime"
        },
        {
         "name": "Mean Date",
         "rawType": "datetime64[ns]",
         "type": "datetime"
        },
        {
         "name": "Last Date",
         "rawType": "datetime64[ns]",
         "type": "datetime"
        }
       ],
       "conversionMethod": "pd.DataFrame",
       "ref": "8224c8e0-b87f-4dde-8f7e-6752f866e5e9",
       "rows": [
        [
         "258",
         "24–30 Mar 2025",
         "Roy Morgan",
         "Online",
         "1377.0",
         "35.0",
         "32.0",
         "13.0",
         "5.5",
         null,
         "14.5",
         null,
         "53.0",
         "47.0",
         null,
         "2025-03-24 00:00:00",
         "2025-03-27 00:00:00",
         "2025-03-30 00:00:00"
        ],
        [
         "259",
         "27–29 Mar 2025",
         "Newspoll",
         "Online",
         "1249.0",
         "37.0",
         "33.0",
         "12.0",
         "6.0",
         null,
         "12.0",
         null,
         "51.0",
         "49.0",
         null,
         "2025-03-27 00:00:00",
         "2025-03-28 00:00:00",
         "2025-03-29 00:00:00"
        ],
        [
         "260",
         "26–30 Mar 2025",
         "Essential",
         "Online",
         "1100.0",
         "34.0",
         "30.0",
         "12.0",
         "9.0",
         "2.0",
         "8.0",
         "5.0",
         "48.0",
         "47.0",
         null,
         "2025-03-26 00:00:00",
         "2025-03-28 00:00:00",
         "2025-03-30 00:00:00"
        ],
        [
         "261",
         "26–30 Mar 2025",
         "Resolve Strategic",
         "Online",
         "3237.0",
         "37.0",
         "29.0",
         "13.0",
         "7.0",
         null,
         "14.0",
         null,
         "50.0",
         "50.0",
         null,
         "2025-03-26 00:00:00",
         "2025-03-28 00:00:00",
         "2025-03-30 00:00:00"
        ],
        [
         "262",
         "28–30 Mar 2025",
         "Freshwater Strategy",
         "Online",
         "1059.0",
         "39.0",
         "32.0",
         "12.0",
         null,
         null,
         "17.0",
         null,
         "49.0",
         "51.0",
         null,
         "2025-03-28 00:00:00",
         "2025-03-29 00:00:00",
         "2025-03-30 00:00:00"
        ]
       ],
       "shape": {
        "columns": 17,
        "rows": 5
       }
      },
      "text/html": [
       "<div>\n",
       "<style scoped>\n",
       "    .dataframe tbody tr th:only-of-type {\n",
       "        vertical-align: middle;\n",
       "    }\n",
       "\n",
       "    .dataframe tbody tr th {\n",
       "        vertical-align: top;\n",
       "    }\n",
       "\n",
       "    .dataframe thead th {\n",
       "        text-align: right;\n",
       "    }\n",
       "</style>\n",
       "<table border=\"1\" class=\"dataframe\">\n",
       "  <thead>\n",
       "    <tr style=\"text-align: right;\">\n",
       "      <th></th>\n",
       "      <th>Date</th>\n",
       "      <th>Brand</th>\n",
       "      <th>Interview mode</th>\n",
       "      <th>Sample size</th>\n",
       "      <th>Primary vote L/NP</th>\n",
       "      <th>Primary vote ALP</th>\n",
       "      <th>Primary vote GRN</th>\n",
       "      <th>Primary vote ONP</th>\n",
       "      <th>Primary vote TOP</th>\n",
       "      <th>Primary vote OTH</th>\n",
       "      <th>Primary vote UND</th>\n",
       "      <th>2pp vote ALP</th>\n",
       "      <th>2pp vote L/NP</th>\n",
       "      <th>Primary vote UAP</th>\n",
       "      <th>First Date</th>\n",
       "      <th>Mean Date</th>\n",
       "      <th>Last Date</th>\n",
       "    </tr>\n",
       "  </thead>\n",
       "  <tbody>\n",
       "    <tr>\n",
       "      <th>258</th>\n",
       "      <td>24–30 Mar 2025</td>\n",
       "      <td>Roy Morgan</td>\n",
       "      <td>Online</td>\n",
       "      <td>1377.0</td>\n",
       "      <td>35.0</td>\n",
       "      <td>32.0</td>\n",
       "      <td>13.0</td>\n",
       "      <td>5.5</td>\n",
       "      <td>NaN</td>\n",
       "      <td>14.5</td>\n",
       "      <td>NaN</td>\n",
       "      <td>53.0</td>\n",
       "      <td>47.0</td>\n",
       "      <td>NaN</td>\n",
       "      <td>2025-03-24</td>\n",
       "      <td>2025-03-27</td>\n",
       "      <td>2025-03-30</td>\n",
       "    </tr>\n",
       "    <tr>\n",
       "      <th>259</th>\n",
       "      <td>27–29 Mar 2025</td>\n",
       "      <td>Newspoll</td>\n",
       "      <td>Online</td>\n",
       "      <td>1249.0</td>\n",
       "      <td>37.0</td>\n",
       "      <td>33.0</td>\n",
       "      <td>12.0</td>\n",
       "      <td>6.0</td>\n",
       "      <td>NaN</td>\n",
       "      <td>12.0</td>\n",
       "      <td>NaN</td>\n",
       "      <td>51.0</td>\n",
       "      <td>49.0</td>\n",
       "      <td>NaN</td>\n",
       "      <td>2025-03-27</td>\n",
       "      <td>2025-03-28</td>\n",
       "      <td>2025-03-29</td>\n",
       "    </tr>\n",
       "    <tr>\n",
       "      <th>260</th>\n",
       "      <td>26–30 Mar 2025</td>\n",
       "      <td>Essential</td>\n",
       "      <td>Online</td>\n",
       "      <td>1100.0</td>\n",
       "      <td>34.0</td>\n",
       "      <td>30.0</td>\n",
       "      <td>12.0</td>\n",
       "      <td>9.0</td>\n",
       "      <td>2.0</td>\n",
       "      <td>8.0</td>\n",
       "      <td>5.0</td>\n",
       "      <td>48.0</td>\n",
       "      <td>47.0</td>\n",
       "      <td>NaN</td>\n",
       "      <td>2025-03-26</td>\n",
       "      <td>2025-03-28</td>\n",
       "      <td>2025-03-30</td>\n",
       "    </tr>\n",
       "    <tr>\n",
       "      <th>261</th>\n",
       "      <td>26–30 Mar 2025</td>\n",
       "      <td>Resolve Strategic</td>\n",
       "      <td>Online</td>\n",
       "      <td>3237.0</td>\n",
       "      <td>37.0</td>\n",
       "      <td>29.0</td>\n",
       "      <td>13.0</td>\n",
       "      <td>7.0</td>\n",
       "      <td>NaN</td>\n",
       "      <td>14.0</td>\n",
       "      <td>NaN</td>\n",
       "      <td>50.0</td>\n",
       "      <td>50.0</td>\n",
       "      <td>NaN</td>\n",
       "      <td>2025-03-26</td>\n",
       "      <td>2025-03-28</td>\n",
       "      <td>2025-03-30</td>\n",
       "    </tr>\n",
       "    <tr>\n",
       "      <th>262</th>\n",
       "      <td>28–30 Mar 2025</td>\n",
       "      <td>Freshwater Strategy</td>\n",
       "      <td>Online</td>\n",
       "      <td>1059.0</td>\n",
       "      <td>39.0</td>\n",
       "      <td>32.0</td>\n",
       "      <td>12.0</td>\n",
       "      <td>NaN</td>\n",
       "      <td>NaN</td>\n",
       "      <td>17.0</td>\n",
       "      <td>NaN</td>\n",
       "      <td>49.0</td>\n",
       "      <td>51.0</td>\n",
       "      <td>NaN</td>\n",
       "      <td>2025-03-28</td>\n",
       "      <td>2025-03-29</td>\n",
       "      <td>2025-03-30</td>\n",
       "    </tr>\n",
       "  </tbody>\n",
       "</table>\n",
       "</div>"
      ],
      "text/plain": [
       "               Date                Brand Interview mode  Sample size  \\\n",
       "258  24–30 Mar 2025           Roy Morgan         Online       1377.0   \n",
       "259  27–29 Mar 2025             Newspoll         Online       1249.0   \n",
       "260  26–30 Mar 2025            Essential         Online       1100.0   \n",
       "261  26–30 Mar 2025    Resolve Strategic         Online       3237.0   \n",
       "262  28–30 Mar 2025  Freshwater Strategy         Online       1059.0   \n",
       "\n",
       "     Primary vote L/NP  Primary vote ALP  Primary vote GRN  Primary vote ONP  \\\n",
       "258               35.0              32.0              13.0               5.5   \n",
       "259               37.0              33.0              12.0               6.0   \n",
       "260               34.0              30.0              12.0               9.0   \n",
       "261               37.0              29.0              13.0               7.0   \n",
       "262               39.0              32.0              12.0               NaN   \n",
       "\n",
       "     Primary vote TOP  Primary vote OTH  Primary vote UND  2pp vote ALP  \\\n",
       "258               NaN              14.5               NaN          53.0   \n",
       "259               NaN              12.0               NaN          51.0   \n",
       "260               2.0               8.0               5.0          48.0   \n",
       "261               NaN              14.0               NaN          50.0   \n",
       "262               NaN              17.0               NaN          49.0   \n",
       "\n",
       "     2pp vote L/NP  Primary vote UAP First Date  Mean Date  Last Date  \n",
       "258           47.0               NaN 2025-03-24 2025-03-27 2025-03-30  \n",
       "259           49.0               NaN 2025-03-27 2025-03-28 2025-03-29  \n",
       "260           47.0               NaN 2025-03-26 2025-03-28 2025-03-30  \n",
       "261           50.0               NaN 2025-03-26 2025-03-28 2025-03-30  \n",
       "262           51.0               NaN 2025-03-28 2025-03-29 2025-03-30  "
      ]
     },
     "metadata": {},
     "output_type": "display_data"
    },
    {
     "name": "stdout",
     "output_type": "stream",
     "text": [
      "\n",
      "attitudinal:\n"
     ]
    },
    {
     "data": {
      "application/vnd.microsoft.datawrangler.viewer.v0+json": {
       "columns": [
        {
         "name": "index",
         "rawType": "int64",
         "type": "integer"
        },
        {
         "name": "Date",
         "rawType": "object",
         "type": "string"
        },
        {
         "name": "Firm",
         "rawType": "object",
         "type": "string"
        },
        {
         "name": "Interview mode",
         "rawType": "object",
         "type": "string"
        },
        {
         "name": "Sample",
         "rawType": "float64",
         "type": "float"
        },
        {
         "name": "Preferred prime minister Albanese",
         "rawType": "float64",
         "type": "float"
        },
        {
         "name": "Preferred prime minister Dutton",
         "rawType": "float64",
         "type": "float"
        },
        {
         "name": "Preferred prime minister Don't Know",
         "rawType": "float64",
         "type": "float"
        },
        {
         "name": "Preferred prime minister Net",
         "rawType": "float64",
         "type": "float"
        },
        {
         "name": "Albanese Satisfied",
         "rawType": "float64",
         "type": "float"
        },
        {
         "name": "Albanese Dissatisfied",
         "rawType": "float64",
         "type": "float"
        },
        {
         "name": "Albanese Don't Know",
         "rawType": "float64",
         "type": "float"
        },
        {
         "name": "Albanese Net",
         "rawType": "float64",
         "type": "float"
        },
        {
         "name": "Dutton Satisfied",
         "rawType": "float64",
         "type": "float"
        },
        {
         "name": "Dutton Dissatisfied",
         "rawType": "float64",
         "type": "float"
        },
        {
         "name": "Dutton Don't Know",
         "rawType": "float64",
         "type": "float"
        },
        {
         "name": "Dutton Net",
         "rawType": "float64",
         "type": "float"
        },
        {
         "name": "First Date",
         "rawType": "datetime64[ns]",
         "type": "datetime"
        },
        {
         "name": "Mean Date",
         "rawType": "datetime64[ns]",
         "type": "datetime"
        },
        {
         "name": "Last Date",
         "rawType": "datetime64[ns]",
         "type": "datetime"
        }
       ],
       "conversionMethod": "pd.DataFrame",
       "ref": "6f5ea74d-adba-46d1-b010-dde90cac47f5",
       "rows": [
        [
         "146",
         "17–21 Mar 2025",
         "DemosAU",
         "Online",
         null,
         "40.0",
         "37.0",
         "23.0",
         "3.0",
         null,
         null,
         null,
         null,
         null,
         null,
         null,
         null,
         "2025-03-17 00:00:00",
         "2025-03-19 00:00:00",
         "2025-03-21 00:00:00"
        ],
        [
         "147",
         "27–29 Mar 2025",
         "Newspoll",
         "Online",
         null,
         "49.0",
         "38.0",
         "13.0",
         "11.0",
         "43.0",
         "52.0",
         "5.0",
         "-9.0",
         "37.0",
         "55.0",
         "8.0",
         "-18.0",
         "2025-03-27 00:00:00",
         "2025-03-28 00:00:00",
         "2025-03-29 00:00:00"
        ],
        [
         "148",
         "26–30 Mar 2025",
         "Essential",
         "Online",
         null,
         null,
         null,
         null,
         null,
         "41.0",
         "47.0",
         "12.0",
         "-6.0",
         "44.0",
         "46.0",
         "10.0",
         "-2.0",
         "2025-03-26 00:00:00",
         "2025-03-28 00:00:00",
         "2025-03-30 00:00:00"
        ],
        [
         "149",
         "26–30 Mar 2025",
         "Resolve Strategic",
         "Online",
         null,
         "42.0",
         "33.0",
         "25.0",
         "9.0",
         "39.0",
         "49.0",
         "12.0",
         "-10.0",
         "37.0",
         "47.0",
         "16.0",
         "-10.0",
         "2025-03-26 00:00:00",
         "2025-03-28 00:00:00",
         "2025-03-30 00:00:00"
        ],
        [
         "150",
         "28–30 Mar 2025",
         "Freshwater Strategy",
         "Online",
         null,
         "46.0",
         "45.0",
         "9.0",
         "1.0",
         "37.0",
         "49.0",
         "14.0",
         "-12.0",
         "37.0",
         "47.0",
         "16.0",
         "-10.0",
         "2025-03-28 00:00:00",
         "2025-03-29 00:00:00",
         "2025-03-30 00:00:00"
        ]
       ],
       "shape": {
        "columns": 19,
        "rows": 5
       }
      },
      "text/html": [
       "<div>\n",
       "<style scoped>\n",
       "    .dataframe tbody tr th:only-of-type {\n",
       "        vertical-align: middle;\n",
       "    }\n",
       "\n",
       "    .dataframe tbody tr th {\n",
       "        vertical-align: top;\n",
       "    }\n",
       "\n",
       "    .dataframe thead th {\n",
       "        text-align: right;\n",
       "    }\n",
       "</style>\n",
       "<table border=\"1\" class=\"dataframe\">\n",
       "  <thead>\n",
       "    <tr style=\"text-align: right;\">\n",
       "      <th></th>\n",
       "      <th>Date</th>\n",
       "      <th>Firm</th>\n",
       "      <th>Interview mode</th>\n",
       "      <th>Sample</th>\n",
       "      <th>Preferred prime minister Albanese</th>\n",
       "      <th>Preferred prime minister Dutton</th>\n",
       "      <th>Preferred prime minister Don't Know</th>\n",
       "      <th>Preferred prime minister Net</th>\n",
       "      <th>Albanese Satisfied</th>\n",
       "      <th>Albanese Dissatisfied</th>\n",
       "      <th>Albanese Don't Know</th>\n",
       "      <th>Albanese Net</th>\n",
       "      <th>Dutton Satisfied</th>\n",
       "      <th>Dutton Dissatisfied</th>\n",
       "      <th>Dutton Don't Know</th>\n",
       "      <th>Dutton Net</th>\n",
       "      <th>First Date</th>\n",
       "      <th>Mean Date</th>\n",
       "      <th>Last Date</th>\n",
       "    </tr>\n",
       "  </thead>\n",
       "  <tbody>\n",
       "    <tr>\n",
       "      <th>146</th>\n",
       "      <td>17–21 Mar 2025</td>\n",
       "      <td>DemosAU</td>\n",
       "      <td>Online</td>\n",
       "      <td>NaN</td>\n",
       "      <td>40.0</td>\n",
       "      <td>37.0</td>\n",
       "      <td>23.0</td>\n",
       "      <td>3.0</td>\n",
       "      <td>NaN</td>\n",
       "      <td>NaN</td>\n",
       "      <td>NaN</td>\n",
       "      <td>NaN</td>\n",
       "      <td>NaN</td>\n",
       "      <td>NaN</td>\n",
       "      <td>NaN</td>\n",
       "      <td>NaN</td>\n",
       "      <td>2025-03-17</td>\n",
       "      <td>2025-03-19</td>\n",
       "      <td>2025-03-21</td>\n",
       "    </tr>\n",
       "    <tr>\n",
       "      <th>147</th>\n",
       "      <td>27–29 Mar 2025</td>\n",
       "      <td>Newspoll</td>\n",
       "      <td>Online</td>\n",
       "      <td>NaN</td>\n",
       "      <td>49.0</td>\n",
       "      <td>38.0</td>\n",
       "      <td>13.0</td>\n",
       "      <td>11.0</td>\n",
       "      <td>43.0</td>\n",
       "      <td>52.0</td>\n",
       "      <td>5.0</td>\n",
       "      <td>-9.0</td>\n",
       "      <td>37.0</td>\n",
       "      <td>55.0</td>\n",
       "      <td>8.0</td>\n",
       "      <td>-18.0</td>\n",
       "      <td>2025-03-27</td>\n",
       "      <td>2025-03-28</td>\n",
       "      <td>2025-03-29</td>\n",
       "    </tr>\n",
       "    <tr>\n",
       "      <th>148</th>\n",
       "      <td>26–30 Mar 2025</td>\n",
       "      <td>Essential</td>\n",
       "      <td>Online</td>\n",
       "      <td>NaN</td>\n",
       "      <td>NaN</td>\n",
       "      <td>NaN</td>\n",
       "      <td>NaN</td>\n",
       "      <td>NaN</td>\n",
       "      <td>41.0</td>\n",
       "      <td>47.0</td>\n",
       "      <td>12.0</td>\n",
       "      <td>-6.0</td>\n",
       "      <td>44.0</td>\n",
       "      <td>46.0</td>\n",
       "      <td>10.0</td>\n",
       "      <td>-2.0</td>\n",
       "      <td>2025-03-26</td>\n",
       "      <td>2025-03-28</td>\n",
       "      <td>2025-03-30</td>\n",
       "    </tr>\n",
       "    <tr>\n",
       "      <th>149</th>\n",
       "      <td>26–30 Mar 2025</td>\n",
       "      <td>Resolve Strategic</td>\n",
       "      <td>Online</td>\n",
       "      <td>NaN</td>\n",
       "      <td>42.0</td>\n",
       "      <td>33.0</td>\n",
       "      <td>25.0</td>\n",
       "      <td>9.0</td>\n",
       "      <td>39.0</td>\n",
       "      <td>49.0</td>\n",
       "      <td>12.0</td>\n",
       "      <td>-10.0</td>\n",
       "      <td>37.0</td>\n",
       "      <td>47.0</td>\n",
       "      <td>16.0</td>\n",
       "      <td>-10.0</td>\n",
       "      <td>2025-03-26</td>\n",
       "      <td>2025-03-28</td>\n",
       "      <td>2025-03-30</td>\n",
       "    </tr>\n",
       "    <tr>\n",
       "      <th>150</th>\n",
       "      <td>28–30 Mar 2025</td>\n",
       "      <td>Freshwater Strategy</td>\n",
       "      <td>Online</td>\n",
       "      <td>NaN</td>\n",
       "      <td>46.0</td>\n",
       "      <td>45.0</td>\n",
       "      <td>9.0</td>\n",
       "      <td>1.0</td>\n",
       "      <td>37.0</td>\n",
       "      <td>49.0</td>\n",
       "      <td>14.0</td>\n",
       "      <td>-12.0</td>\n",
       "      <td>37.0</td>\n",
       "      <td>47.0</td>\n",
       "      <td>16.0</td>\n",
       "      <td>-10.0</td>\n",
       "      <td>2025-03-28</td>\n",
       "      <td>2025-03-29</td>\n",
       "      <td>2025-03-30</td>\n",
       "    </tr>\n",
       "  </tbody>\n",
       "</table>\n",
       "</div>"
      ],
      "text/plain": [
       "               Date                 Firm Interview mode  Sample  \\\n",
       "146  17–21 Mar 2025              DemosAU         Online     NaN   \n",
       "147  27–29 Mar 2025             Newspoll         Online     NaN   \n",
       "148  26–30 Mar 2025            Essential         Online     NaN   \n",
       "149  26–30 Mar 2025    Resolve Strategic         Online     NaN   \n",
       "150  28–30 Mar 2025  Freshwater Strategy         Online     NaN   \n",
       "\n",
       "     Preferred prime minister Albanese  Preferred prime minister Dutton  \\\n",
       "146                               40.0                             37.0   \n",
       "147                               49.0                             38.0   \n",
       "148                                NaN                              NaN   \n",
       "149                               42.0                             33.0   \n",
       "150                               46.0                             45.0   \n",
       "\n",
       "     Preferred prime minister Don't Know  Preferred prime minister Net  \\\n",
       "146                                 23.0                           3.0   \n",
       "147                                 13.0                          11.0   \n",
       "148                                  NaN                           NaN   \n",
       "149                                 25.0                           9.0   \n",
       "150                                  9.0                           1.0   \n",
       "\n",
       "     Albanese Satisfied  Albanese Dissatisfied  Albanese Don't Know  \\\n",
       "146                 NaN                    NaN                  NaN   \n",
       "147                43.0                   52.0                  5.0   \n",
       "148                41.0                   47.0                 12.0   \n",
       "149                39.0                   49.0                 12.0   \n",
       "150                37.0                   49.0                 14.0   \n",
       "\n",
       "     Albanese Net  Dutton Satisfied  Dutton Dissatisfied  Dutton Don't Know  \\\n",
       "146           NaN               NaN                  NaN                NaN   \n",
       "147          -9.0              37.0                 55.0                8.0   \n",
       "148          -6.0              44.0                 46.0               10.0   \n",
       "149         -10.0              37.0                 47.0               16.0   \n",
       "150         -12.0              37.0                 47.0               16.0   \n",
       "\n",
       "     Dutton Net First Date  Mean Date  Last Date  \n",
       "146         NaN 2025-03-17 2025-03-19 2025-03-21  \n",
       "147       -18.0 2025-03-27 2025-03-28 2025-03-29  \n",
       "148        -2.0 2025-03-26 2025-03-28 2025-03-30  \n",
       "149       -10.0 2025-03-26 2025-03-28 2025-03-30  \n",
       "150       -10.0 2025-03-28 2025-03-29 2025-03-30  "
      ]
     },
     "metadata": {},
     "output_type": "display_data"
    },
    {
     "name": "stdout",
     "output_type": "stream",
     "text": [
      "\n",
      "NSW:\n"
     ]
    },
    {
     "data": {
      "application/vnd.microsoft.datawrangler.viewer.v0+json": {
       "columns": [
        {
         "name": "index",
         "rawType": "int64",
         "type": "integer"
        },
        {
         "name": "Date",
         "rawType": "object",
         "type": "string"
        },
        {
         "name": "Firm",
         "rawType": "object",
         "type": "string"
        },
        {
         "name": "Sample size",
         "rawType": "float64",
         "type": "float"
        },
        {
         "name": "Primary vote L/NP",
         "rawType": "float64",
         "type": "float"
        },
        {
         "name": "Primary vote ALP",
         "rawType": "float64",
         "type": "float"
        },
        {
         "name": "Primary vote GRN",
         "rawType": "float64",
         "type": "float"
        },
        {
         "name": "Primary vote ONP",
         "rawType": "float64",
         "type": "float"
        },
        {
         "name": "Primary vote UAP",
         "rawType": "float64",
         "type": "float"
        },
        {
         "name": "Primary vote IND",
         "rawType": "float64",
         "type": "float"
        },
        {
         "name": "Primary vote OTH",
         "rawType": "float64",
         "type": "float"
        },
        {
         "name": "2pp vote ALP",
         "rawType": "float64",
         "type": "float"
        },
        {
         "name": "2pp vote L/NP",
         "rawType": "float64",
         "type": "float"
        },
        {
         "name": "First Date",
         "rawType": "datetime64[ns]",
         "type": "datetime"
        },
        {
         "name": "Mean Date",
         "rawType": "datetime64[ns]",
         "type": "datetime"
        },
        {
         "name": "Last Date",
         "rawType": "datetime64[ns]",
         "type": "datetime"
        }
       ],
       "conversionMethod": "pd.DataFrame",
       "ref": "7523a3cf-853c-401b-8581-0b2a93670f33",
       "rows": [
        [
         "42",
         "21–27 Feb 2025",
         "YouGov",
         "506.0",
         "35.0",
         "26.0",
         "15.0",
         "12.0",
         null,
         null,
         "12.0",
         "48.5",
         "51.5",
         "2025-02-21 00:00:00",
         "2025-02-24 00:00:00",
         "2025-02-27 00:00:00"
        ],
        [
         "43",
         "28 Feb – 6 Mar 2025",
         "YouGov",
         "475.0",
         "35.0",
         "29.0",
         "15.0",
         "7.0",
         null,
         null,
         "14.0",
         "50.0",
         "50.0",
         "2025-02-28 00:00:00",
         "2025-03-03 00:00:00",
         "2025-03-06 00:00:00"
        ],
        [
         "44",
         "7–13 Mar 2025",
         "YouGov",
         "482.0",
         "36.0",
         "28.0",
         "15.5",
         "7.0",
         null,
         null,
         "13.5",
         "49.5",
         "50.5",
         "2025-03-07 00:00:00",
         "2025-03-10 00:00:00",
         "2025-03-13 00:00:00"
        ],
        [
         "45",
         "14–19 Mar 2025",
         "YouGov",
         "773.0",
         "36.0",
         "28.0",
         "16.0",
         "7.0",
         null,
         null,
         "13.0",
         "49.5",
         "50.5",
         "2025-03-14 00:00:00",
         "2025-03-16 00:00:00",
         "2025-03-19 00:00:00"
        ],
        [
         "46",
         "26–30 Mar 2025",
         "Resolve Strategic",
         "1027.0",
         "40.0",
         "30.0",
         "11.0",
         "6.0",
         null,
         "10.0",
         "4.0",
         "47.0",
         "53.0",
         "2025-03-26 00:00:00",
         "2025-03-28 00:00:00",
         "2025-03-30 00:00:00"
        ]
       ],
       "shape": {
        "columns": 15,
        "rows": 5
       }
      },
      "text/html": [
       "<div>\n",
       "<style scoped>\n",
       "    .dataframe tbody tr th:only-of-type {\n",
       "        vertical-align: middle;\n",
       "    }\n",
       "\n",
       "    .dataframe tbody tr th {\n",
       "        vertical-align: top;\n",
       "    }\n",
       "\n",
       "    .dataframe thead th {\n",
       "        text-align: right;\n",
       "    }\n",
       "</style>\n",
       "<table border=\"1\" class=\"dataframe\">\n",
       "  <thead>\n",
       "    <tr style=\"text-align: right;\">\n",
       "      <th></th>\n",
       "      <th>Date</th>\n",
       "      <th>Firm</th>\n",
       "      <th>Sample size</th>\n",
       "      <th>Primary vote L/NP</th>\n",
       "      <th>Primary vote ALP</th>\n",
       "      <th>Primary vote GRN</th>\n",
       "      <th>Primary vote ONP</th>\n",
       "      <th>Primary vote UAP</th>\n",
       "      <th>Primary vote IND</th>\n",
       "      <th>Primary vote OTH</th>\n",
       "      <th>2pp vote ALP</th>\n",
       "      <th>2pp vote L/NP</th>\n",
       "      <th>First Date</th>\n",
       "      <th>Mean Date</th>\n",
       "      <th>Last Date</th>\n",
       "    </tr>\n",
       "  </thead>\n",
       "  <tbody>\n",
       "    <tr>\n",
       "      <th>42</th>\n",
       "      <td>21–27 Feb 2025</td>\n",
       "      <td>YouGov</td>\n",
       "      <td>506.0</td>\n",
       "      <td>35.0</td>\n",
       "      <td>26.0</td>\n",
       "      <td>15.0</td>\n",
       "      <td>12.0</td>\n",
       "      <td>NaN</td>\n",
       "      <td>NaN</td>\n",
       "      <td>12.0</td>\n",
       "      <td>48.5</td>\n",
       "      <td>51.5</td>\n",
       "      <td>2025-02-21</td>\n",
       "      <td>2025-02-24</td>\n",
       "      <td>2025-02-27</td>\n",
       "    </tr>\n",
       "    <tr>\n",
       "      <th>43</th>\n",
       "      <td>28 Feb – 6 Mar 2025</td>\n",
       "      <td>YouGov</td>\n",
       "      <td>475.0</td>\n",
       "      <td>35.0</td>\n",
       "      <td>29.0</td>\n",
       "      <td>15.0</td>\n",
       "      <td>7.0</td>\n",
       "      <td>NaN</td>\n",
       "      <td>NaN</td>\n",
       "      <td>14.0</td>\n",
       "      <td>50.0</td>\n",
       "      <td>50.0</td>\n",
       "      <td>2025-02-28</td>\n",
       "      <td>2025-03-03</td>\n",
       "      <td>2025-03-06</td>\n",
       "    </tr>\n",
       "    <tr>\n",
       "      <th>44</th>\n",
       "      <td>7–13 Mar 2025</td>\n",
       "      <td>YouGov</td>\n",
       "      <td>482.0</td>\n",
       "      <td>36.0</td>\n",
       "      <td>28.0</td>\n",
       "      <td>15.5</td>\n",
       "      <td>7.0</td>\n",
       "      <td>NaN</td>\n",
       "      <td>NaN</td>\n",
       "      <td>13.5</td>\n",
       "      <td>49.5</td>\n",
       "      <td>50.5</td>\n",
       "      <td>2025-03-07</td>\n",
       "      <td>2025-03-10</td>\n",
       "      <td>2025-03-13</td>\n",
       "    </tr>\n",
       "    <tr>\n",
       "      <th>45</th>\n",
       "      <td>14–19 Mar 2025</td>\n",
       "      <td>YouGov</td>\n",
       "      <td>773.0</td>\n",
       "      <td>36.0</td>\n",
       "      <td>28.0</td>\n",
       "      <td>16.0</td>\n",
       "      <td>7.0</td>\n",
       "      <td>NaN</td>\n",
       "      <td>NaN</td>\n",
       "      <td>13.0</td>\n",
       "      <td>49.5</td>\n",
       "      <td>50.5</td>\n",
       "      <td>2025-03-14</td>\n",
       "      <td>2025-03-16</td>\n",
       "      <td>2025-03-19</td>\n",
       "    </tr>\n",
       "    <tr>\n",
       "      <th>46</th>\n",
       "      <td>26–30 Mar 2025</td>\n",
       "      <td>Resolve Strategic</td>\n",
       "      <td>1027.0</td>\n",
       "      <td>40.0</td>\n",
       "      <td>30.0</td>\n",
       "      <td>11.0</td>\n",
       "      <td>6.0</td>\n",
       "      <td>NaN</td>\n",
       "      <td>10.0</td>\n",
       "      <td>4.0</td>\n",
       "      <td>47.0</td>\n",
       "      <td>53.0</td>\n",
       "      <td>2025-03-26</td>\n",
       "      <td>2025-03-28</td>\n",
       "      <td>2025-03-30</td>\n",
       "    </tr>\n",
       "  </tbody>\n",
       "</table>\n",
       "</div>"
      ],
      "text/plain": [
       "                   Date               Firm  Sample size  Primary vote L/NP  \\\n",
       "42       21–27 Feb 2025             YouGov        506.0               35.0   \n",
       "43  28 Feb – 6 Mar 2025             YouGov        475.0               35.0   \n",
       "44        7–13 Mar 2025             YouGov        482.0               36.0   \n",
       "45       14–19 Mar 2025             YouGov        773.0               36.0   \n",
       "46       26–30 Mar 2025  Resolve Strategic       1027.0               40.0   \n",
       "\n",
       "    Primary vote ALP  Primary vote GRN  Primary vote ONP  Primary vote UAP  \\\n",
       "42              26.0              15.0              12.0               NaN   \n",
       "43              29.0              15.0               7.0               NaN   \n",
       "44              28.0              15.5               7.0               NaN   \n",
       "45              28.0              16.0               7.0               NaN   \n",
       "46              30.0              11.0               6.0               NaN   \n",
       "\n",
       "    Primary vote IND  Primary vote OTH  2pp vote ALP  2pp vote L/NP  \\\n",
       "42               NaN              12.0          48.5           51.5   \n",
       "43               NaN              14.0          50.0           50.0   \n",
       "44               NaN              13.5          49.5           50.5   \n",
       "45               NaN              13.0          49.5           50.5   \n",
       "46              10.0               4.0          47.0           53.0   \n",
       "\n",
       "   First Date  Mean Date  Last Date  \n",
       "42 2025-02-21 2025-02-24 2025-02-27  \n",
       "43 2025-02-28 2025-03-03 2025-03-06  \n",
       "44 2025-03-07 2025-03-10 2025-03-13  \n",
       "45 2025-03-14 2025-03-16 2025-03-19  \n",
       "46 2025-03-26 2025-03-28 2025-03-30  "
      ]
     },
     "metadata": {},
     "output_type": "display_data"
    },
    {
     "name": "stdout",
     "output_type": "stream",
     "text": [
      "\n",
      "VIC:\n"
     ]
    },
    {
     "data": {
      "application/vnd.microsoft.datawrangler.viewer.v0+json": {
       "columns": [
        {
         "name": "index",
         "rawType": "int64",
         "type": "integer"
        },
        {
         "name": "Date",
         "rawType": "object",
         "type": "string"
        },
        {
         "name": "Firm",
         "rawType": "object",
         "type": "string"
        },
        {
         "name": "Sample size",
         "rawType": "float64",
         "type": "float"
        },
        {
         "name": "Primary vote L/NP",
         "rawType": "float64",
         "type": "float"
        },
        {
         "name": "Primary vote ALP",
         "rawType": "float64",
         "type": "float"
        },
        {
         "name": "Primary vote GRN",
         "rawType": "float64",
         "type": "float"
        },
        {
         "name": "Primary vote UAP",
         "rawType": "float64",
         "type": "float"
        },
        {
         "name": "Primary vote ONP",
         "rawType": "float64",
         "type": "float"
        },
        {
         "name": "Primary vote IND",
         "rawType": "float64",
         "type": "float"
        },
        {
         "name": "Primary vote OTH",
         "rawType": "float64",
         "type": "float"
        },
        {
         "name": "2pp vote ALP",
         "rawType": "float64",
         "type": "float"
        },
        {
         "name": "2pp vote L/NP",
         "rawType": "float64",
         "type": "float"
        },
        {
         "name": "First Date",
         "rawType": "datetime64[ns]",
         "type": "datetime"
        },
        {
         "name": "Mean Date",
         "rawType": "datetime64[ns]",
         "type": "datetime"
        },
        {
         "name": "Last Date",
         "rawType": "datetime64[ns]",
         "type": "datetime"
        }
       ],
       "conversionMethod": "pd.DataFrame",
       "ref": "de34c701-9889-46ab-8393-c6d435397953",
       "rows": [
        [
         "44",
         "28 Feb – 6 Mar 2025",
         "YouGov",
         "379.0",
         "39.0",
         "30.0",
         "9.0",
         null,
         "6.0",
         null,
         "16.0",
         "48.0",
         "52.0",
         "2025-02-28 00:00:00",
         "2025-03-03 00:00:00",
         "2025-03-06 00:00:00"
        ],
        [
         "45",
         "7–13 Mar 2025",
         "YouGov",
         "384.0",
         "41.5",
         "28.5",
         "13.0",
         null,
         "5.0",
         null,
         "12.0",
         "47.5",
         "52.5",
         "2025-03-07 00:00:00",
         "2025-03-10 00:00:00",
         "2025-03-13 00:00:00"
        ],
        [
         "46",
         "14–19 Mar 2025",
         "YouGov",
         "474.0",
         "42.0",
         "29.0",
         "13.0",
         null,
         "5.0",
         null,
         "11.0",
         "47.5",
         "52.5",
         "2025-03-14 00:00:00",
         "2025-03-16 00:00:00",
         "2025-03-19 00:00:00"
        ],
        [
         "47",
         "17–21 Mar 2025",
         "DemosAU",
         "1006.0",
         "34.0",
         "29.0",
         "15.0",
         null,
         "8.0",
         null,
         "14.0",
         "51.0",
         "49.0",
         "2025-03-17 00:00:00",
         "2025-03-19 00:00:00",
         "2025-03-21 00:00:00"
        ],
        [
         "48",
         "26–30 Mar 2025",
         "Resolve Strategic",
         "817.0",
         "35.0",
         "27.0",
         "14.0",
         null,
         "6.0",
         "10.0",
         "7.0",
         "49.5",
         "50.5",
         "2025-03-26 00:00:00",
         "2025-03-28 00:00:00",
         "2025-03-30 00:00:00"
        ]
       ],
       "shape": {
        "columns": 15,
        "rows": 5
       }
      },
      "text/html": [
       "<div>\n",
       "<style scoped>\n",
       "    .dataframe tbody tr th:only-of-type {\n",
       "        vertical-align: middle;\n",
       "    }\n",
       "\n",
       "    .dataframe tbody tr th {\n",
       "        vertical-align: top;\n",
       "    }\n",
       "\n",
       "    .dataframe thead th {\n",
       "        text-align: right;\n",
       "    }\n",
       "</style>\n",
       "<table border=\"1\" class=\"dataframe\">\n",
       "  <thead>\n",
       "    <tr style=\"text-align: right;\">\n",
       "      <th></th>\n",
       "      <th>Date</th>\n",
       "      <th>Firm</th>\n",
       "      <th>Sample size</th>\n",
       "      <th>Primary vote L/NP</th>\n",
       "      <th>Primary vote ALP</th>\n",
       "      <th>Primary vote GRN</th>\n",
       "      <th>Primary vote UAP</th>\n",
       "      <th>Primary vote ONP</th>\n",
       "      <th>Primary vote IND</th>\n",
       "      <th>Primary vote OTH</th>\n",
       "      <th>2pp vote ALP</th>\n",
       "      <th>2pp vote L/NP</th>\n",
       "      <th>First Date</th>\n",
       "      <th>Mean Date</th>\n",
       "      <th>Last Date</th>\n",
       "    </tr>\n",
       "  </thead>\n",
       "  <tbody>\n",
       "    <tr>\n",
       "      <th>44</th>\n",
       "      <td>28 Feb – 6 Mar 2025</td>\n",
       "      <td>YouGov</td>\n",
       "      <td>379.0</td>\n",
       "      <td>39.0</td>\n",
       "      <td>30.0</td>\n",
       "      <td>9.0</td>\n",
       "      <td>NaN</td>\n",
       "      <td>6.0</td>\n",
       "      <td>NaN</td>\n",
       "      <td>16.0</td>\n",
       "      <td>48.0</td>\n",
       "      <td>52.0</td>\n",
       "      <td>2025-02-28</td>\n",
       "      <td>2025-03-03</td>\n",
       "      <td>2025-03-06</td>\n",
       "    </tr>\n",
       "    <tr>\n",
       "      <th>45</th>\n",
       "      <td>7–13 Mar 2025</td>\n",
       "      <td>YouGov</td>\n",
       "      <td>384.0</td>\n",
       "      <td>41.5</td>\n",
       "      <td>28.5</td>\n",
       "      <td>13.0</td>\n",
       "      <td>NaN</td>\n",
       "      <td>5.0</td>\n",
       "      <td>NaN</td>\n",
       "      <td>12.0</td>\n",
       "      <td>47.5</td>\n",
       "      <td>52.5</td>\n",
       "      <td>2025-03-07</td>\n",
       "      <td>2025-03-10</td>\n",
       "      <td>2025-03-13</td>\n",
       "    </tr>\n",
       "    <tr>\n",
       "      <th>46</th>\n",
       "      <td>14–19 Mar 2025</td>\n",
       "      <td>YouGov</td>\n",
       "      <td>474.0</td>\n",
       "      <td>42.0</td>\n",
       "      <td>29.0</td>\n",
       "      <td>13.0</td>\n",
       "      <td>NaN</td>\n",
       "      <td>5.0</td>\n",
       "      <td>NaN</td>\n",
       "      <td>11.0</td>\n",
       "      <td>47.5</td>\n",
       "      <td>52.5</td>\n",
       "      <td>2025-03-14</td>\n",
       "      <td>2025-03-16</td>\n",
       "      <td>2025-03-19</td>\n",
       "    </tr>\n",
       "    <tr>\n",
       "      <th>47</th>\n",
       "      <td>17–21 Mar 2025</td>\n",
       "      <td>DemosAU</td>\n",
       "      <td>1006.0</td>\n",
       "      <td>34.0</td>\n",
       "      <td>29.0</td>\n",
       "      <td>15.0</td>\n",
       "      <td>NaN</td>\n",
       "      <td>8.0</td>\n",
       "      <td>NaN</td>\n",
       "      <td>14.0</td>\n",
       "      <td>51.0</td>\n",
       "      <td>49.0</td>\n",
       "      <td>2025-03-17</td>\n",
       "      <td>2025-03-19</td>\n",
       "      <td>2025-03-21</td>\n",
       "    </tr>\n",
       "    <tr>\n",
       "      <th>48</th>\n",
       "      <td>26–30 Mar 2025</td>\n",
       "      <td>Resolve Strategic</td>\n",
       "      <td>817.0</td>\n",
       "      <td>35.0</td>\n",
       "      <td>27.0</td>\n",
       "      <td>14.0</td>\n",
       "      <td>NaN</td>\n",
       "      <td>6.0</td>\n",
       "      <td>10.0</td>\n",
       "      <td>7.0</td>\n",
       "      <td>49.5</td>\n",
       "      <td>50.5</td>\n",
       "      <td>2025-03-26</td>\n",
       "      <td>2025-03-28</td>\n",
       "      <td>2025-03-30</td>\n",
       "    </tr>\n",
       "  </tbody>\n",
       "</table>\n",
       "</div>"
      ],
      "text/plain": [
       "                   Date               Firm  Sample size  Primary vote L/NP  \\\n",
       "44  28 Feb – 6 Mar 2025             YouGov        379.0               39.0   \n",
       "45        7–13 Mar 2025             YouGov        384.0               41.5   \n",
       "46       14–19 Mar 2025             YouGov        474.0               42.0   \n",
       "47       17–21 Mar 2025            DemosAU       1006.0               34.0   \n",
       "48       26–30 Mar 2025  Resolve Strategic        817.0               35.0   \n",
       "\n",
       "    Primary vote ALP  Primary vote GRN  Primary vote UAP  Primary vote ONP  \\\n",
       "44              30.0               9.0               NaN               6.0   \n",
       "45              28.5              13.0               NaN               5.0   \n",
       "46              29.0              13.0               NaN               5.0   \n",
       "47              29.0              15.0               NaN               8.0   \n",
       "48              27.0              14.0               NaN               6.0   \n",
       "\n",
       "    Primary vote IND  Primary vote OTH  2pp vote ALP  2pp vote L/NP  \\\n",
       "44               NaN              16.0          48.0           52.0   \n",
       "45               NaN              12.0          47.5           52.5   \n",
       "46               NaN              11.0          47.5           52.5   \n",
       "47               NaN              14.0          51.0           49.0   \n",
       "48              10.0               7.0          49.5           50.5   \n",
       "\n",
       "   First Date  Mean Date  Last Date  \n",
       "44 2025-02-28 2025-03-03 2025-03-06  \n",
       "45 2025-03-07 2025-03-10 2025-03-13  \n",
       "46 2025-03-14 2025-03-16 2025-03-19  \n",
       "47 2025-03-17 2025-03-19 2025-03-21  \n",
       "48 2025-03-26 2025-03-28 2025-03-30  "
      ]
     },
     "metadata": {},
     "output_type": "display_data"
    },
    {
     "name": "stdout",
     "output_type": "stream",
     "text": [
      "\n",
      "QLD:\n"
     ]
    },
    {
     "data": {
      "application/vnd.microsoft.datawrangler.viewer.v0+json": {
       "columns": [
        {
         "name": "index",
         "rawType": "int64",
         "type": "integer"
        },
        {
         "name": "Date",
         "rawType": "object",
         "type": "string"
        },
        {
         "name": "Firm",
         "rawType": "object",
         "type": "string"
        },
        {
         "name": "Sample size",
         "rawType": "float64",
         "type": "float"
        },
        {
         "name": "Primary vote LNP",
         "rawType": "float64",
         "type": "float"
        },
        {
         "name": "Primary vote ALP",
         "rawType": "float64",
         "type": "float"
        },
        {
         "name": "Primary vote GRN",
         "rawType": "float64",
         "type": "float"
        },
        {
         "name": "Primary vote ONP",
         "rawType": "float64",
         "type": "float"
        },
        {
         "name": "Primary vote UAP",
         "rawType": "float64",
         "type": "float"
        },
        {
         "name": "Primary vote IND",
         "rawType": "float64",
         "type": "float"
        },
        {
         "name": "Primary vote OTH",
         "rawType": "float64",
         "type": "float"
        },
        {
         "name": "2pp vote LNP",
         "rawType": "float64",
         "type": "float"
        },
        {
         "name": "2pp vote ALP",
         "rawType": "float64",
         "type": "float"
        },
        {
         "name": "First Date",
         "rawType": "datetime64[ns]",
         "type": "datetime"
        },
        {
         "name": "Mean Date",
         "rawType": "datetime64[ns]",
         "type": "datetime"
        },
        {
         "name": "Last Date",
         "rawType": "datetime64[ns]",
         "type": "datetime"
        }
       ],
       "conversionMethod": "pd.DataFrame",
       "ref": "7046ca12-c389-4b33-a05c-3fe07e8657f7",
       "rows": [
        [
         "43",
         "18–23 Feb 2025",
         "Resolve Strategic",
         "306.0",
         "41.0",
         "25.0",
         "12.0",
         "8.0",
         null,
         "9.0",
         "4.0",
         "56.5",
         "43.5",
         "2025-02-18 00:00:00",
         "2025-02-20 00:00:00",
         "2025-02-23 00:00:00"
        ],
        [
         "44",
         "21–27 Feb 2025",
         "YouGov",
         "302.0",
         "47.0",
         "23.0",
         "8.0",
         "10.0",
         null,
         null,
         "12.0",
         "62.0",
         "38.0",
         "2025-02-21 00:00:00",
         "2025-02-24 00:00:00",
         "2025-02-27 00:00:00"
        ],
        [
         "45",
         "7–13 Mar 2025",
         "YouGov",
         "312.0",
         "34.0",
         "29.5",
         "15.5",
         "10.5",
         null,
         null,
         "10.5",
         "50.5",
         "49.5",
         "2025-03-07 00:00:00",
         "2025-03-10 00:00:00",
         "2025-03-13 00:00:00"
        ],
        [
         "46",
         "14–19 Mar 2025",
         "YouGov",
         "378.0",
         "34.0",
         "29.0",
         "15.0",
         "10.0",
         null,
         null,
         "12.0",
         "51.0",
         "49.0",
         "2025-03-14 00:00:00",
         "2025-03-16 00:00:00",
         "2025-03-19 00:00:00"
        ],
        [
         "47",
         "26–30 Mar 2025",
         "Resolve Strategic",
         "658.0",
         "39.0",
         "25.0",
         "13.0",
         "12.0",
         null,
         "6.0",
         "6.0",
         "56.5",
         "43.5",
         "2025-03-26 00:00:00",
         "2025-03-28 00:00:00",
         "2025-03-30 00:00:00"
        ]
       ],
       "shape": {
        "columns": 15,
        "rows": 5
       }
      },
      "text/html": [
       "<div>\n",
       "<style scoped>\n",
       "    .dataframe tbody tr th:only-of-type {\n",
       "        vertical-align: middle;\n",
       "    }\n",
       "\n",
       "    .dataframe tbody tr th {\n",
       "        vertical-align: top;\n",
       "    }\n",
       "\n",
       "    .dataframe thead th {\n",
       "        text-align: right;\n",
       "    }\n",
       "</style>\n",
       "<table border=\"1\" class=\"dataframe\">\n",
       "  <thead>\n",
       "    <tr style=\"text-align: right;\">\n",
       "      <th></th>\n",
       "      <th>Date</th>\n",
       "      <th>Firm</th>\n",
       "      <th>Sample size</th>\n",
       "      <th>Primary vote LNP</th>\n",
       "      <th>Primary vote ALP</th>\n",
       "      <th>Primary vote GRN</th>\n",
       "      <th>Primary vote ONP</th>\n",
       "      <th>Primary vote UAP</th>\n",
       "      <th>Primary vote IND</th>\n",
       "      <th>Primary vote OTH</th>\n",
       "      <th>2pp vote LNP</th>\n",
       "      <th>2pp vote ALP</th>\n",
       "      <th>First Date</th>\n",
       "      <th>Mean Date</th>\n",
       "      <th>Last Date</th>\n",
       "    </tr>\n",
       "  </thead>\n",
       "  <tbody>\n",
       "    <tr>\n",
       "      <th>43</th>\n",
       "      <td>18–23 Feb 2025</td>\n",
       "      <td>Resolve Strategic</td>\n",
       "      <td>306.0</td>\n",
       "      <td>41.0</td>\n",
       "      <td>25.0</td>\n",
       "      <td>12.0</td>\n",
       "      <td>8.0</td>\n",
       "      <td>NaN</td>\n",
       "      <td>9.0</td>\n",
       "      <td>4.0</td>\n",
       "      <td>56.5</td>\n",
       "      <td>43.5</td>\n",
       "      <td>2025-02-18</td>\n",
       "      <td>2025-02-20</td>\n",
       "      <td>2025-02-23</td>\n",
       "    </tr>\n",
       "    <tr>\n",
       "      <th>44</th>\n",
       "      <td>21–27 Feb 2025</td>\n",
       "      <td>YouGov</td>\n",
       "      <td>302.0</td>\n",
       "      <td>47.0</td>\n",
       "      <td>23.0</td>\n",
       "      <td>8.0</td>\n",
       "      <td>10.0</td>\n",
       "      <td>NaN</td>\n",
       "      <td>NaN</td>\n",
       "      <td>12.0</td>\n",
       "      <td>62.0</td>\n",
       "      <td>38.0</td>\n",
       "      <td>2025-02-21</td>\n",
       "      <td>2025-02-24</td>\n",
       "      <td>2025-02-27</td>\n",
       "    </tr>\n",
       "    <tr>\n",
       "      <th>45</th>\n",
       "      <td>7–13 Mar 2025</td>\n",
       "      <td>YouGov</td>\n",
       "      <td>312.0</td>\n",
       "      <td>34.0</td>\n",
       "      <td>29.5</td>\n",
       "      <td>15.5</td>\n",
       "      <td>10.5</td>\n",
       "      <td>NaN</td>\n",
       "      <td>NaN</td>\n",
       "      <td>10.5</td>\n",
       "      <td>50.5</td>\n",
       "      <td>49.5</td>\n",
       "      <td>2025-03-07</td>\n",
       "      <td>2025-03-10</td>\n",
       "      <td>2025-03-13</td>\n",
       "    </tr>\n",
       "    <tr>\n",
       "      <th>46</th>\n",
       "      <td>14–19 Mar 2025</td>\n",
       "      <td>YouGov</td>\n",
       "      <td>378.0</td>\n",
       "      <td>34.0</td>\n",
       "      <td>29.0</td>\n",
       "      <td>15.0</td>\n",
       "      <td>10.0</td>\n",
       "      <td>NaN</td>\n",
       "      <td>NaN</td>\n",
       "      <td>12.0</td>\n",
       "      <td>51.0</td>\n",
       "      <td>49.0</td>\n",
       "      <td>2025-03-14</td>\n",
       "      <td>2025-03-16</td>\n",
       "      <td>2025-03-19</td>\n",
       "    </tr>\n",
       "    <tr>\n",
       "      <th>47</th>\n",
       "      <td>26–30 Mar 2025</td>\n",
       "      <td>Resolve Strategic</td>\n",
       "      <td>658.0</td>\n",
       "      <td>39.0</td>\n",
       "      <td>25.0</td>\n",
       "      <td>13.0</td>\n",
       "      <td>12.0</td>\n",
       "      <td>NaN</td>\n",
       "      <td>6.0</td>\n",
       "      <td>6.0</td>\n",
       "      <td>56.5</td>\n",
       "      <td>43.5</td>\n",
       "      <td>2025-03-26</td>\n",
       "      <td>2025-03-28</td>\n",
       "      <td>2025-03-30</td>\n",
       "    </tr>\n",
       "  </tbody>\n",
       "</table>\n",
       "</div>"
      ],
      "text/plain": [
       "              Date               Firm  Sample size  Primary vote LNP  \\\n",
       "43  18–23 Feb 2025  Resolve Strategic        306.0              41.0   \n",
       "44  21–27 Feb 2025             YouGov        302.0              47.0   \n",
       "45   7–13 Mar 2025             YouGov        312.0              34.0   \n",
       "46  14–19 Mar 2025             YouGov        378.0              34.0   \n",
       "47  26–30 Mar 2025  Resolve Strategic        658.0              39.0   \n",
       "\n",
       "    Primary vote ALP  Primary vote GRN  Primary vote ONP  Primary vote UAP  \\\n",
       "43              25.0              12.0               8.0               NaN   \n",
       "44              23.0               8.0              10.0               NaN   \n",
       "45              29.5              15.5              10.5               NaN   \n",
       "46              29.0              15.0              10.0               NaN   \n",
       "47              25.0              13.0              12.0               NaN   \n",
       "\n",
       "    Primary vote IND  Primary vote OTH  2pp vote LNP  2pp vote ALP First Date  \\\n",
       "43               9.0               4.0          56.5          43.5 2025-02-18   \n",
       "44               NaN              12.0          62.0          38.0 2025-02-21   \n",
       "45               NaN              10.5          50.5          49.5 2025-03-07   \n",
       "46               NaN              12.0          51.0          49.0 2025-03-14   \n",
       "47               6.0               6.0          56.5          43.5 2025-03-26   \n",
       "\n",
       "    Mean Date  Last Date  \n",
       "43 2025-02-20 2025-02-23  \n",
       "44 2025-02-24 2025-02-27  \n",
       "45 2025-03-10 2025-03-13  \n",
       "46 2025-03-16 2025-03-19  \n",
       "47 2025-03-28 2025-03-30  "
      ]
     },
     "metadata": {},
     "output_type": "display_data"
    },
    {
     "name": "stdout",
     "output_type": "stream",
     "text": [
      "\n",
      "WA:\n"
     ]
    },
    {
     "data": {
      "application/vnd.microsoft.datawrangler.viewer.v0+json": {
       "columns": [
        {
         "name": "index",
         "rawType": "int64",
         "type": "integer"
        },
        {
         "name": "Date",
         "rawType": "object",
         "type": "string"
        },
        {
         "name": "Firm",
         "rawType": "object",
         "type": "string"
        },
        {
         "name": "Sample size",
         "rawType": "float64",
         "type": "float"
        },
        {
         "name": "Primary vote ALP",
         "rawType": "float64",
         "type": "float"
        },
        {
         "name": "Primary vote L/NP",
         "rawType": "float64",
         "type": "float"
        },
        {
         "name": "Primary vote GRN",
         "rawType": "float64",
         "type": "float"
        },
        {
         "name": "Primary vote ONP",
         "rawType": "float64",
         "type": "float"
        },
        {
         "name": "Primary vote UAP",
         "rawType": "float64",
         "type": "float"
        },
        {
         "name": "Primary vote OTH",
         "rawType": "float64",
         "type": "float"
        },
        {
         "name": "Primary vote UND",
         "rawType": "float64",
         "type": "float"
        },
        {
         "name": "2pp vote ALP",
         "rawType": "float64",
         "type": "float"
        },
        {
         "name": "2pp vote L/NP",
         "rawType": "float64",
         "type": "float"
        },
        {
         "name": "First Date",
         "rawType": "datetime64[ns]",
         "type": "datetime"
        },
        {
         "name": "Mean Date",
         "rawType": "datetime64[ns]",
         "type": "datetime"
        },
        {
         "name": "Last Date",
         "rawType": "datetime64[ns]",
         "type": "datetime"
        }
       ],
       "conversionMethod": "pd.DataFrame",
       "ref": "0f953de3-6636-4d6a-a612-9c876ca3beec",
       "rows": [
        [
         "13",
         "20 Jan – 7 Mar 2025",
         "Newspoll",
         "374.0",
         "37.0",
         "34.0",
         "11.0",
         "9.0",
         null,
         "9.0",
         null,
         "54.0",
         "46.0",
         "2025-01-20 00:00:00",
         "2025-02-12 00:00:00",
         "2025-03-07 00:00:00"
        ],
        [
         "14",
         "17 Jan – 15 Mar 2025",
         "Freshwater Strategy",
         "318.0",
         "33.0",
         "35.0",
         "15.0",
         null,
         null,
         "17.0",
         null,
         "52.0",
         "48.0",
         "2025-01-17 00:00:00",
         "2025-02-14 00:00:00",
         "2025-03-15 00:00:00"
        ],
        [
         "15",
         "4–5 March 2025",
         "DemosAU",
         "1126.0",
         "36.0",
         "38.0",
         "11.0",
         "6.0",
         null,
         "9.0",
         null,
         "52.0",
         "48.0",
         "2025-03-04 00:00:00",
         "2025-03-04 00:00:00",
         "2025-03-05 00:00:00"
        ],
        [
         "16",
         "7–13 Mar 2025",
         "YouGov",
         "155.0",
         "42.5",
         "34.5",
         "8.0",
         "9.0",
         null,
         "6.0",
         null,
         "54.0",
         "46.0",
         "2025-03-07 00:00:00",
         "2025-03-10 00:00:00",
         "2025-03-13 00:00:00"
        ],
        [
         "17",
         "14–19 Mar 2025",
         "YouGov",
         "111.0",
         "43.0",
         "34.0",
         "8.0",
         "9.0",
         null,
         "6.0",
         null,
         "54.0",
         "46.0",
         "2025-03-14 00:00:00",
         "2025-03-16 00:00:00",
         "2025-03-19 00:00:00"
        ]
       ],
       "shape": {
        "columns": 15,
        "rows": 5
       }
      },
      "text/html": [
       "<div>\n",
       "<style scoped>\n",
       "    .dataframe tbody tr th:only-of-type {\n",
       "        vertical-align: middle;\n",
       "    }\n",
       "\n",
       "    .dataframe tbody tr th {\n",
       "        vertical-align: top;\n",
       "    }\n",
       "\n",
       "    .dataframe thead th {\n",
       "        text-align: right;\n",
       "    }\n",
       "</style>\n",
       "<table border=\"1\" class=\"dataframe\">\n",
       "  <thead>\n",
       "    <tr style=\"text-align: right;\">\n",
       "      <th></th>\n",
       "      <th>Date</th>\n",
       "      <th>Firm</th>\n",
       "      <th>Sample size</th>\n",
       "      <th>Primary vote ALP</th>\n",
       "      <th>Primary vote L/NP</th>\n",
       "      <th>Primary vote GRN</th>\n",
       "      <th>Primary vote ONP</th>\n",
       "      <th>Primary vote UAP</th>\n",
       "      <th>Primary vote OTH</th>\n",
       "      <th>Primary vote UND</th>\n",
       "      <th>2pp vote ALP</th>\n",
       "      <th>2pp vote L/NP</th>\n",
       "      <th>First Date</th>\n",
       "      <th>Mean Date</th>\n",
       "      <th>Last Date</th>\n",
       "    </tr>\n",
       "  </thead>\n",
       "  <tbody>\n",
       "    <tr>\n",
       "      <th>13</th>\n",
       "      <td>20 Jan – 7 Mar 2025</td>\n",
       "      <td>Newspoll</td>\n",
       "      <td>374.0</td>\n",
       "      <td>37.0</td>\n",
       "      <td>34.0</td>\n",
       "      <td>11.0</td>\n",
       "      <td>9.0</td>\n",
       "      <td>NaN</td>\n",
       "      <td>9.0</td>\n",
       "      <td>NaN</td>\n",
       "      <td>54.0</td>\n",
       "      <td>46.0</td>\n",
       "      <td>2025-01-20</td>\n",
       "      <td>2025-02-12</td>\n",
       "      <td>2025-03-07</td>\n",
       "    </tr>\n",
       "    <tr>\n",
       "      <th>14</th>\n",
       "      <td>17 Jan – 15 Mar 2025</td>\n",
       "      <td>Freshwater Strategy</td>\n",
       "      <td>318.0</td>\n",
       "      <td>33.0</td>\n",
       "      <td>35.0</td>\n",
       "      <td>15.0</td>\n",
       "      <td>NaN</td>\n",
       "      <td>NaN</td>\n",
       "      <td>17.0</td>\n",
       "      <td>NaN</td>\n",
       "      <td>52.0</td>\n",
       "      <td>48.0</td>\n",
       "      <td>2025-01-17</td>\n",
       "      <td>2025-02-14</td>\n",
       "      <td>2025-03-15</td>\n",
       "    </tr>\n",
       "    <tr>\n",
       "      <th>15</th>\n",
       "      <td>4–5 March 2025</td>\n",
       "      <td>DemosAU</td>\n",
       "      <td>1126.0</td>\n",
       "      <td>36.0</td>\n",
       "      <td>38.0</td>\n",
       "      <td>11.0</td>\n",
       "      <td>6.0</td>\n",
       "      <td>NaN</td>\n",
       "      <td>9.0</td>\n",
       "      <td>NaN</td>\n",
       "      <td>52.0</td>\n",
       "      <td>48.0</td>\n",
       "      <td>2025-03-04</td>\n",
       "      <td>2025-03-04</td>\n",
       "      <td>2025-03-05</td>\n",
       "    </tr>\n",
       "    <tr>\n",
       "      <th>16</th>\n",
       "      <td>7–13 Mar 2025</td>\n",
       "      <td>YouGov</td>\n",
       "      <td>155.0</td>\n",
       "      <td>42.5</td>\n",
       "      <td>34.5</td>\n",
       "      <td>8.0</td>\n",
       "      <td>9.0</td>\n",
       "      <td>NaN</td>\n",
       "      <td>6.0</td>\n",
       "      <td>NaN</td>\n",
       "      <td>54.0</td>\n",
       "      <td>46.0</td>\n",
       "      <td>2025-03-07</td>\n",
       "      <td>2025-03-10</td>\n",
       "      <td>2025-03-13</td>\n",
       "    </tr>\n",
       "    <tr>\n",
       "      <th>17</th>\n",
       "      <td>14–19 Mar 2025</td>\n",
       "      <td>YouGov</td>\n",
       "      <td>111.0</td>\n",
       "      <td>43.0</td>\n",
       "      <td>34.0</td>\n",
       "      <td>8.0</td>\n",
       "      <td>9.0</td>\n",
       "      <td>NaN</td>\n",
       "      <td>6.0</td>\n",
       "      <td>NaN</td>\n",
       "      <td>54.0</td>\n",
       "      <td>46.0</td>\n",
       "      <td>2025-03-14</td>\n",
       "      <td>2025-03-16</td>\n",
       "      <td>2025-03-19</td>\n",
       "    </tr>\n",
       "  </tbody>\n",
       "</table>\n",
       "</div>"
      ],
      "text/plain": [
       "                    Date                 Firm  Sample size  Primary vote ALP  \\\n",
       "13   20 Jan – 7 Mar 2025             Newspoll        374.0              37.0   \n",
       "14  17 Jan – 15 Mar 2025  Freshwater Strategy        318.0              33.0   \n",
       "15        4–5 March 2025              DemosAU       1126.0              36.0   \n",
       "16         7–13 Mar 2025               YouGov        155.0              42.5   \n",
       "17        14–19 Mar 2025               YouGov        111.0              43.0   \n",
       "\n",
       "    Primary vote L/NP  Primary vote GRN  Primary vote ONP  Primary vote UAP  \\\n",
       "13               34.0              11.0               9.0               NaN   \n",
       "14               35.0              15.0               NaN               NaN   \n",
       "15               38.0              11.0               6.0               NaN   \n",
       "16               34.5               8.0               9.0               NaN   \n",
       "17               34.0               8.0               9.0               NaN   \n",
       "\n",
       "    Primary vote OTH  Primary vote UND  2pp vote ALP  2pp vote L/NP  \\\n",
       "13               9.0               NaN          54.0           46.0   \n",
       "14              17.0               NaN          52.0           48.0   \n",
       "15               9.0               NaN          52.0           48.0   \n",
       "16               6.0               NaN          54.0           46.0   \n",
       "17               6.0               NaN          54.0           46.0   \n",
       "\n",
       "   First Date  Mean Date  Last Date  \n",
       "13 2025-01-20 2025-02-12 2025-03-07  \n",
       "14 2025-01-17 2025-02-14 2025-03-15  \n",
       "15 2025-03-04 2025-03-04 2025-03-05  \n",
       "16 2025-03-07 2025-03-10 2025-03-13  \n",
       "17 2025-03-14 2025-03-16 2025-03-19  "
      ]
     },
     "metadata": {},
     "output_type": "display_data"
    },
    {
     "name": "stdout",
     "output_type": "stream",
     "text": [
      "\n",
      "SA:\n"
     ]
    },
    {
     "data": {
      "application/vnd.microsoft.datawrangler.viewer.v0+json": {
       "columns": [
        {
         "name": "index",
         "rawType": "int64",
         "type": "integer"
        },
        {
         "name": "Date",
         "rawType": "object",
         "type": "string"
        },
        {
         "name": "Firm",
         "rawType": "object",
         "type": "string"
        },
        {
         "name": "Sample size",
         "rawType": "float64",
         "type": "float"
        },
        {
         "name": "Primary vote L/NP",
         "rawType": "float64",
         "type": "float"
        },
        {
         "name": "Primary vote ALP",
         "rawType": "float64",
         "type": "float"
        },
        {
         "name": "Primary vote GRN",
         "rawType": "float64",
         "type": "float"
        },
        {
         "name": "Primary vote ONP",
         "rawType": "float64",
         "type": "float"
        },
        {
         "name": "Primary vote UAP",
         "rawType": "float64",
         "type": "float"
        },
        {
         "name": "Primary vote OTH",
         "rawType": "float64",
         "type": "float"
        },
        {
         "name": "Primary vote UND",
         "rawType": "float64",
         "type": "float"
        },
        {
         "name": "2pp vote ALP",
         "rawType": "float64",
         "type": "float"
        },
        {
         "name": "2pp vote L/NP",
         "rawType": "float64",
         "type": "float"
        },
        {
         "name": "First Date",
         "rawType": "datetime64[ns]",
         "type": "datetime"
        },
        {
         "name": "Mean Date",
         "rawType": "datetime64[ns]",
         "type": "datetime"
        },
        {
         "name": "Last Date",
         "rawType": "datetime64[ns]",
         "type": "datetime"
        }
       ],
       "conversionMethod": "pd.DataFrame",
       "ref": "8eae99dc-a1a2-4f83-b061-b74d3b2ee21e",
       "rows": [
        [
         "9",
         "7 Oct – 6 Dec 2024",
         "Newspoll",
         "280.0",
         "37.0",
         "35.0",
         "9.0",
         "7.0",
         null,
         "12.0",
         null,
         "53.0",
         "47.0",
         "2024-10-07 00:00:00",
         "2024-11-06 00:00:00",
         "2024-12-06 00:00:00"
        ],
        [
         "10",
         "20 Jan – 7 Mar 2025",
         "Newspoll",
         "271.0",
         "37.0",
         "32.0",
         "11.0",
         "11.0",
         null,
         "9.0",
         null,
         "50.0",
         "50.0",
         "2025-01-20 00:00:00",
         "2025-02-12 00:00:00",
         "2025-03-07 00:00:00"
        ],
        [
         "11",
         "18–23 Feb 2025",
         "DemosAU",
         "440.0",
         "35.0",
         "34.0",
         "11.0",
         "6.0",
         null,
         "14.0",
         null,
         "53.0",
         "47.0",
         "2025-02-18 00:00:00",
         "2025-02-20 00:00:00",
         "2025-02-23 00:00:00"
        ],
        [
         "12",
         "7–13 Mar 2025",
         "YouGov",
         "113.0",
         "33.5",
         "33.0",
         "9.5",
         "8.0",
         null,
         "16.0",
         null,
         "51.0",
         "49.0",
         "2025-03-07 00:00:00",
         "2025-03-10 00:00:00",
         "2025-03-13 00:00:00"
        ],
        [
         "13",
         "14–19 Mar 2025",
         "YouGov",
         "307.0",
         "33.5",
         "32.5",
         "10.0",
         "8.0",
         null,
         "16.0",
         null,
         "50.5",
         "49.5",
         "2025-03-14 00:00:00",
         "2025-03-16 00:00:00",
         "2025-03-19 00:00:00"
        ]
       ],
       "shape": {
        "columns": 15,
        "rows": 5
       }
      },
      "text/html": [
       "<div>\n",
       "<style scoped>\n",
       "    .dataframe tbody tr th:only-of-type {\n",
       "        vertical-align: middle;\n",
       "    }\n",
       "\n",
       "    .dataframe tbody tr th {\n",
       "        vertical-align: top;\n",
       "    }\n",
       "\n",
       "    .dataframe thead th {\n",
       "        text-align: right;\n",
       "    }\n",
       "</style>\n",
       "<table border=\"1\" class=\"dataframe\">\n",
       "  <thead>\n",
       "    <tr style=\"text-align: right;\">\n",
       "      <th></th>\n",
       "      <th>Date</th>\n",
       "      <th>Firm</th>\n",
       "      <th>Sample size</th>\n",
       "      <th>Primary vote L/NP</th>\n",
       "      <th>Primary vote ALP</th>\n",
       "      <th>Primary vote GRN</th>\n",
       "      <th>Primary vote ONP</th>\n",
       "      <th>Primary vote UAP</th>\n",
       "      <th>Primary vote OTH</th>\n",
       "      <th>Primary vote UND</th>\n",
       "      <th>2pp vote ALP</th>\n",
       "      <th>2pp vote L/NP</th>\n",
       "      <th>First Date</th>\n",
       "      <th>Mean Date</th>\n",
       "      <th>Last Date</th>\n",
       "    </tr>\n",
       "  </thead>\n",
       "  <tbody>\n",
       "    <tr>\n",
       "      <th>9</th>\n",
       "      <td>7 Oct – 6 Dec 2024</td>\n",
       "      <td>Newspoll</td>\n",
       "      <td>280.0</td>\n",
       "      <td>37.0</td>\n",
       "      <td>35.0</td>\n",
       "      <td>9.0</td>\n",
       "      <td>7.0</td>\n",
       "      <td>NaN</td>\n",
       "      <td>12.0</td>\n",
       "      <td>NaN</td>\n",
       "      <td>53.0</td>\n",
       "      <td>47.0</td>\n",
       "      <td>2024-10-07</td>\n",
       "      <td>2024-11-06</td>\n",
       "      <td>2024-12-06</td>\n",
       "    </tr>\n",
       "    <tr>\n",
       "      <th>10</th>\n",
       "      <td>20 Jan – 7 Mar 2025</td>\n",
       "      <td>Newspoll</td>\n",
       "      <td>271.0</td>\n",
       "      <td>37.0</td>\n",
       "      <td>32.0</td>\n",
       "      <td>11.0</td>\n",
       "      <td>11.0</td>\n",
       "      <td>NaN</td>\n",
       "      <td>9.0</td>\n",
       "      <td>NaN</td>\n",
       "      <td>50.0</td>\n",
       "      <td>50.0</td>\n",
       "      <td>2025-01-20</td>\n",
       "      <td>2025-02-12</td>\n",
       "      <td>2025-03-07</td>\n",
       "    </tr>\n",
       "    <tr>\n",
       "      <th>11</th>\n",
       "      <td>18–23 Feb 2025</td>\n",
       "      <td>DemosAU</td>\n",
       "      <td>440.0</td>\n",
       "      <td>35.0</td>\n",
       "      <td>34.0</td>\n",
       "      <td>11.0</td>\n",
       "      <td>6.0</td>\n",
       "      <td>NaN</td>\n",
       "      <td>14.0</td>\n",
       "      <td>NaN</td>\n",
       "      <td>53.0</td>\n",
       "      <td>47.0</td>\n",
       "      <td>2025-02-18</td>\n",
       "      <td>2025-02-20</td>\n",
       "      <td>2025-02-23</td>\n",
       "    </tr>\n",
       "    <tr>\n",
       "      <th>12</th>\n",
       "      <td>7–13 Mar 2025</td>\n",
       "      <td>YouGov</td>\n",
       "      <td>113.0</td>\n",
       "      <td>33.5</td>\n",
       "      <td>33.0</td>\n",
       "      <td>9.5</td>\n",
       "      <td>8.0</td>\n",
       "      <td>NaN</td>\n",
       "      <td>16.0</td>\n",
       "      <td>NaN</td>\n",
       "      <td>51.0</td>\n",
       "      <td>49.0</td>\n",
       "      <td>2025-03-07</td>\n",
       "      <td>2025-03-10</td>\n",
       "      <td>2025-03-13</td>\n",
       "    </tr>\n",
       "    <tr>\n",
       "      <th>13</th>\n",
       "      <td>14–19 Mar 2025</td>\n",
       "      <td>YouGov</td>\n",
       "      <td>307.0</td>\n",
       "      <td>33.5</td>\n",
       "      <td>32.5</td>\n",
       "      <td>10.0</td>\n",
       "      <td>8.0</td>\n",
       "      <td>NaN</td>\n",
       "      <td>16.0</td>\n",
       "      <td>NaN</td>\n",
       "      <td>50.5</td>\n",
       "      <td>49.5</td>\n",
       "      <td>2025-03-14</td>\n",
       "      <td>2025-03-16</td>\n",
       "      <td>2025-03-19</td>\n",
       "    </tr>\n",
       "  </tbody>\n",
       "</table>\n",
       "</div>"
      ],
      "text/plain": [
       "                   Date      Firm  Sample size  Primary vote L/NP  \\\n",
       "9    7 Oct – 6 Dec 2024  Newspoll        280.0               37.0   \n",
       "10  20 Jan – 7 Mar 2025  Newspoll        271.0               37.0   \n",
       "11       18–23 Feb 2025   DemosAU        440.0               35.0   \n",
       "12        7–13 Mar 2025    YouGov        113.0               33.5   \n",
       "13       14–19 Mar 2025    YouGov        307.0               33.5   \n",
       "\n",
       "    Primary vote ALP  Primary vote GRN  Primary vote ONP  Primary vote UAP  \\\n",
       "9               35.0               9.0               7.0               NaN   \n",
       "10              32.0              11.0              11.0               NaN   \n",
       "11              34.0              11.0               6.0               NaN   \n",
       "12              33.0               9.5               8.0               NaN   \n",
       "13              32.5              10.0               8.0               NaN   \n",
       "\n",
       "    Primary vote OTH  Primary vote UND  2pp vote ALP  2pp vote L/NP  \\\n",
       "9               12.0               NaN          53.0           47.0   \n",
       "10               9.0               NaN          50.0           50.0   \n",
       "11              14.0               NaN          53.0           47.0   \n",
       "12              16.0               NaN          51.0           49.0   \n",
       "13              16.0               NaN          50.5           49.5   \n",
       "\n",
       "   First Date  Mean Date  Last Date  \n",
       "9  2024-10-07 2024-11-06 2024-12-06  \n",
       "10 2025-01-20 2025-02-12 2025-03-07  \n",
       "11 2025-02-18 2025-02-20 2025-02-23  \n",
       "12 2025-03-07 2025-03-10 2025-03-13  \n",
       "13 2025-03-14 2025-03-16 2025-03-19  "
      ]
     },
     "metadata": {},
     "output_type": "display_data"
    },
    {
     "name": "stdout",
     "output_type": "stream",
     "text": [
      "\n",
      "TAS:\n"
     ]
    },
    {
     "data": {
      "application/vnd.microsoft.datawrangler.viewer.v0+json": {
       "columns": [
        {
         "name": "index",
         "rawType": "int64",
         "type": "integer"
        },
        {
         "name": "Date",
         "rawType": "object",
         "type": "string"
        },
        {
         "name": "Firm",
         "rawType": "object",
         "type": "string"
        },
        {
         "name": "Sample size",
         "rawType": "float64",
         "type": "float"
        },
        {
         "name": "Primary vote L/NP",
         "rawType": "float64",
         "type": "float"
        },
        {
         "name": "Primary vote ALP",
         "rawType": "float64",
         "type": "float"
        },
        {
         "name": "Primary vote GRN",
         "rawType": "float64",
         "type": "float"
        },
        {
         "name": "Primary vote JLN",
         "rawType": "float64",
         "type": "float"
        },
        {
         "name": "Primary vote UAP",
         "rawType": "float64",
         "type": "float"
        },
        {
         "name": "Primary vote IND",
         "rawType": "float64",
         "type": "float"
        },
        {
         "name": "Primary vote OTH",
         "rawType": "float64",
         "type": "float"
        },
        {
         "name": "2pp vote ALP",
         "rawType": "float64",
         "type": "float"
        },
        {
         "name": "2pp vote L/NP",
         "rawType": "float64",
         "type": "float"
        },
        {
         "name": "First Date",
         "rawType": "datetime64[ns]",
         "type": "datetime"
        },
        {
         "name": "Mean Date",
         "rawType": "datetime64[ns]",
         "type": "datetime"
        },
        {
         "name": "Last Date",
         "rawType": "datetime64[ns]",
         "type": "datetime"
        }
       ],
       "conversionMethod": "pd.DataFrame",
       "ref": "d59eca65-27fc-4747-98a3-2e3fb6df41de",
       "rows": [
        [
         "0",
         "21 Jun 2022",
         "Roy Morgan",
         null,
         null,
         null,
         null,
         null,
         null,
         null,
         null,
         "63.0",
         "37.0",
         "2022-06-21 00:00:00",
         "2022-06-21 00:00:00",
         "2022-06-21 00:00:00"
        ],
        [
         "1",
         "28 Aug – 12 Oct 2023",
         "Newspoll",
         "366.0",
         "25.0",
         "30.0",
         "13.0",
         null,
         null,
         null,
         "27.0",
         "57.0",
         "43.0",
         "2023-08-28 00:00:00",
         "2023-09-19 00:00:00",
         "2023-10-12 00:00:00"
        ],
        [
         "2",
         "1 Feb – 26 May 2024",
         "Accent/RedBridge",
         "107.0",
         "30.0",
         "29.0",
         "15.0",
         null,
         null,
         null,
         "26.0",
         "54.0",
         "46.0",
         "2024-02-01 00:00:00",
         "2024-03-29 00:00:00",
         "2024-05-26 00:00:00"
        ],
        [
         "3",
         "10 Jul – 27 Aug 2024",
         "Accent/RedBridge",
         "107.0",
         "35.0",
         "25.0",
         "12.0",
         null,
         null,
         null,
         "28.0",
         "48.0",
         "52.0",
         "2024-07-10 00:00:00",
         "2024-08-03 00:00:00",
         "2024-08-27 00:00:00"
        ]
       ],
       "shape": {
        "columns": 15,
        "rows": 4
       }
      },
      "text/html": [
       "<div>\n",
       "<style scoped>\n",
       "    .dataframe tbody tr th:only-of-type {\n",
       "        vertical-align: middle;\n",
       "    }\n",
       "\n",
       "    .dataframe tbody tr th {\n",
       "        vertical-align: top;\n",
       "    }\n",
       "\n",
       "    .dataframe thead th {\n",
       "        text-align: right;\n",
       "    }\n",
       "</style>\n",
       "<table border=\"1\" class=\"dataframe\">\n",
       "  <thead>\n",
       "    <tr style=\"text-align: right;\">\n",
       "      <th></th>\n",
       "      <th>Date</th>\n",
       "      <th>Firm</th>\n",
       "      <th>Sample size</th>\n",
       "      <th>Primary vote L/NP</th>\n",
       "      <th>Primary vote ALP</th>\n",
       "      <th>Primary vote GRN</th>\n",
       "      <th>Primary vote JLN</th>\n",
       "      <th>Primary vote UAP</th>\n",
       "      <th>Primary vote IND</th>\n",
       "      <th>Primary vote OTH</th>\n",
       "      <th>2pp vote ALP</th>\n",
       "      <th>2pp vote L/NP</th>\n",
       "      <th>First Date</th>\n",
       "      <th>Mean Date</th>\n",
       "      <th>Last Date</th>\n",
       "    </tr>\n",
       "  </thead>\n",
       "  <tbody>\n",
       "    <tr>\n",
       "      <th>0</th>\n",
       "      <td>21 Jun 2022</td>\n",
       "      <td>Roy Morgan</td>\n",
       "      <td>NaN</td>\n",
       "      <td>NaN</td>\n",
       "      <td>NaN</td>\n",
       "      <td>NaN</td>\n",
       "      <td>NaN</td>\n",
       "      <td>NaN</td>\n",
       "      <td>NaN</td>\n",
       "      <td>NaN</td>\n",
       "      <td>63.0</td>\n",
       "      <td>37.0</td>\n",
       "      <td>2022-06-21</td>\n",
       "      <td>2022-06-21</td>\n",
       "      <td>2022-06-21</td>\n",
       "    </tr>\n",
       "    <tr>\n",
       "      <th>1</th>\n",
       "      <td>28 Aug – 12 Oct 2023</td>\n",
       "      <td>Newspoll</td>\n",
       "      <td>366.0</td>\n",
       "      <td>25.0</td>\n",
       "      <td>30.0</td>\n",
       "      <td>13.0</td>\n",
       "      <td>NaN</td>\n",
       "      <td>NaN</td>\n",
       "      <td>NaN</td>\n",
       "      <td>27.0</td>\n",
       "      <td>57.0</td>\n",
       "      <td>43.0</td>\n",
       "      <td>2023-08-28</td>\n",
       "      <td>2023-09-19</td>\n",
       "      <td>2023-10-12</td>\n",
       "    </tr>\n",
       "    <tr>\n",
       "      <th>2</th>\n",
       "      <td>1 Feb – 26 May 2024</td>\n",
       "      <td>Accent/RedBridge</td>\n",
       "      <td>107.0</td>\n",
       "      <td>30.0</td>\n",
       "      <td>29.0</td>\n",
       "      <td>15.0</td>\n",
       "      <td>NaN</td>\n",
       "      <td>NaN</td>\n",
       "      <td>NaN</td>\n",
       "      <td>26.0</td>\n",
       "      <td>54.0</td>\n",
       "      <td>46.0</td>\n",
       "      <td>2024-02-01</td>\n",
       "      <td>2024-03-29</td>\n",
       "      <td>2024-05-26</td>\n",
       "    </tr>\n",
       "    <tr>\n",
       "      <th>3</th>\n",
       "      <td>10 Jul – 27 Aug 2024</td>\n",
       "      <td>Accent/RedBridge</td>\n",
       "      <td>107.0</td>\n",
       "      <td>35.0</td>\n",
       "      <td>25.0</td>\n",
       "      <td>12.0</td>\n",
       "      <td>NaN</td>\n",
       "      <td>NaN</td>\n",
       "      <td>NaN</td>\n",
       "      <td>28.0</td>\n",
       "      <td>48.0</td>\n",
       "      <td>52.0</td>\n",
       "      <td>2024-07-10</td>\n",
       "      <td>2024-08-03</td>\n",
       "      <td>2024-08-27</td>\n",
       "    </tr>\n",
       "  </tbody>\n",
       "</table>\n",
       "</div>"
      ],
      "text/plain": [
       "                   Date              Firm  Sample size  Primary vote L/NP  \\\n",
       "0           21 Jun 2022        Roy Morgan          NaN                NaN   \n",
       "1  28 Aug – 12 Oct 2023          Newspoll        366.0               25.0   \n",
       "2   1 Feb – 26 May 2024  Accent/RedBridge        107.0               30.0   \n",
       "3  10 Jul – 27 Aug 2024  Accent/RedBridge        107.0               35.0   \n",
       "\n",
       "   Primary vote ALP  Primary vote GRN  Primary vote JLN  Primary vote UAP  \\\n",
       "0               NaN               NaN               NaN               NaN   \n",
       "1              30.0              13.0               NaN               NaN   \n",
       "2              29.0              15.0               NaN               NaN   \n",
       "3              25.0              12.0               NaN               NaN   \n",
       "\n",
       "   Primary vote IND  Primary vote OTH  2pp vote ALP  2pp vote L/NP First Date  \\\n",
       "0               NaN               NaN          63.0           37.0 2022-06-21   \n",
       "1               NaN              27.0          57.0           43.0 2023-08-28   \n",
       "2               NaN              26.0          54.0           46.0 2024-02-01   \n",
       "3               NaN              28.0          48.0           52.0 2024-07-10   \n",
       "\n",
       "   Mean Date  Last Date  \n",
       "0 2022-06-21 2022-06-21  \n",
       "1 2023-09-19 2023-10-12  \n",
       "2 2024-03-29 2024-05-26  \n",
       "3 2024-08-03 2024-08-27  "
      ]
     },
     "metadata": {},
     "output_type": "display_data"
    },
    {
     "name": "stdout",
     "output_type": "stream",
     "text": [
      "\n",
      "NT:\n"
     ]
    },
    {
     "data": {
      "application/vnd.microsoft.datawrangler.viewer.v0+json": {
       "columns": [
        {
         "name": "index",
         "rawType": "int64",
         "type": "integer"
        },
        {
         "name": "Date",
         "rawType": "object",
         "type": "string"
        },
        {
         "name": "Firm",
         "rawType": "object",
         "type": "string"
        },
        {
         "name": "Sample size",
         "rawType": "float64",
         "type": "float"
        },
        {
         "name": "Primary vote CLP",
         "rawType": "float64",
         "type": "float"
        },
        {
         "name": "Primary vote ALP",
         "rawType": "float64",
         "type": "float"
        },
        {
         "name": "Primary vote GRN",
         "rawType": "float64",
         "type": "float"
        },
        {
         "name": "Primary vote ONP",
         "rawType": "float64",
         "type": "float"
        },
        {
         "name": "Primary vote IND",
         "rawType": "float64",
         "type": "float"
        },
        {
         "name": "Primary vote OTH",
         "rawType": "float64",
         "type": "float"
        },
        {
         "name": "2pp vote ALP",
         "rawType": "float64",
         "type": "float"
        },
        {
         "name": "2pp vote CLP",
         "rawType": "float64",
         "type": "float"
        },
        {
         "name": "First Date",
         "rawType": "datetime64[ns]",
         "type": "datetime"
        },
        {
         "name": "Mean Date",
         "rawType": "datetime64[ns]",
         "type": "datetime"
        },
        {
         "name": "Last Date",
         "rawType": "datetime64[ns]",
         "type": "datetime"
        }
       ],
       "conversionMethod": "pd.DataFrame",
       "ref": "28bbbbda-dbfd-456f-aaf4-8dcfc5ac9bf7",
       "rows": [
        [
         "0",
         "16–18 Nov 2023",
         "Redbridge Group",
         "601.0",
         "40.4",
         "22.2",
         "11.1",
         "11.7",
         "7.2",
         "7.4",
         "43.9",
         "56.1",
         "2023-11-16 00:00:00",
         "2023-11-17 00:00:00",
         "2023-11-18 00:00:00"
        ]
       ],
       "shape": {
        "columns": 14,
        "rows": 1
       }
      },
      "text/html": [
       "<div>\n",
       "<style scoped>\n",
       "    .dataframe tbody tr th:only-of-type {\n",
       "        vertical-align: middle;\n",
       "    }\n",
       "\n",
       "    .dataframe tbody tr th {\n",
       "        vertical-align: top;\n",
       "    }\n",
       "\n",
       "    .dataframe thead th {\n",
       "        text-align: right;\n",
       "    }\n",
       "</style>\n",
       "<table border=\"1\" class=\"dataframe\">\n",
       "  <thead>\n",
       "    <tr style=\"text-align: right;\">\n",
       "      <th></th>\n",
       "      <th>Date</th>\n",
       "      <th>Firm</th>\n",
       "      <th>Sample size</th>\n",
       "      <th>Primary vote CLP</th>\n",
       "      <th>Primary vote ALP</th>\n",
       "      <th>Primary vote GRN</th>\n",
       "      <th>Primary vote ONP</th>\n",
       "      <th>Primary vote IND</th>\n",
       "      <th>Primary vote OTH</th>\n",
       "      <th>2pp vote ALP</th>\n",
       "      <th>2pp vote CLP</th>\n",
       "      <th>First Date</th>\n",
       "      <th>Mean Date</th>\n",
       "      <th>Last Date</th>\n",
       "    </tr>\n",
       "  </thead>\n",
       "  <tbody>\n",
       "    <tr>\n",
       "      <th>0</th>\n",
       "      <td>16–18 Nov 2023</td>\n",
       "      <td>Redbridge Group</td>\n",
       "      <td>601.0</td>\n",
       "      <td>40.4</td>\n",
       "      <td>22.2</td>\n",
       "      <td>11.1</td>\n",
       "      <td>11.7</td>\n",
       "      <td>7.2</td>\n",
       "      <td>7.4</td>\n",
       "      <td>43.9</td>\n",
       "      <td>56.1</td>\n",
       "      <td>2023-11-16</td>\n",
       "      <td>2023-11-17</td>\n",
       "      <td>2023-11-18</td>\n",
       "    </tr>\n",
       "  </tbody>\n",
       "</table>\n",
       "</div>"
      ],
      "text/plain": [
       "             Date             Firm  Sample size  Primary vote CLP  \\\n",
       "0  16–18 Nov 2023  Redbridge Group        601.0              40.4   \n",
       "\n",
       "   Primary vote ALP  Primary vote GRN  Primary vote ONP  Primary vote IND  \\\n",
       "0              22.2              11.1              11.7               7.2   \n",
       "\n",
       "   Primary vote OTH  2pp vote ALP  2pp vote CLP First Date  Mean Date  \\\n",
       "0               7.4          43.9          56.1 2023-11-16 2023-11-17   \n",
       "\n",
       "   Last Date  \n",
       "0 2023-11-18  "
      ]
     },
     "metadata": {},
     "output_type": "display_data"
    },
    {
     "name": "stdout",
     "output_type": "stream",
     "text": [
      "\n"
     ]
    }
   ],
   "source": [
    "def quick_look(n=5):\n",
    "    \"\"\"\n",
    "    Display the last n rows of each table.\n",
    "    \"\"\"\n",
    "\n",
    "    for label_, table_ in data.items():\n",
    "        print(f\"{label_}:\")\n",
    "        display(table_.tail(n))\n",
    "        print()\n",
    "\n",
    "\n",
    "quick_look()"
   ]
  },
  {
   "cell_type": "markdown",
   "id": "1bde4357",
   "metadata": {},
   "source": [
    "### Standardise column names"
   ]
  },
  {
   "cell_type": "code",
   "execution_count": 7,
   "id": "286231e7",
   "metadata": {},
   "outputs": [
    {
     "name": "stdout",
     "output_type": "stream",
     "text": [
      "voting-intention fixed col from Sample size to Sample size\n",
      "attitudinal fixed col from Firm to Brand\n",
      "attitudinal fixed col from Sample to Sample size\n",
      "NSW fixed col from Firm to Brand\n",
      "NSW fixed col from Sample size to Sample size\n",
      "VIC fixed col from Firm to Brand\n",
      "VIC fixed col from Sample size to Sample size\n",
      "QLD fixed col from Firm to Brand\n",
      "QLD fixed col from Sample size to Sample size\n",
      "WA fixed col from Firm to Brand\n",
      "WA fixed col from Sample size to Sample size\n",
      "SA fixed col from Firm to Brand\n",
      "SA fixed col from Sample size to Sample size\n",
      "TAS fixed col from Firm to Brand\n",
      "TAS fixed col from Sample size to Sample size\n",
      "NT fixed col from Firm to Brand\n",
      "NT fixed col from Sample size to Sample size\n"
     ]
    },
    {
     "data": {
      "text/plain": [
       "dict_keys(['voting-intention', 'attitudinal', 'NSW', 'VIC', 'QLD', 'WA', 'SA', 'TAS', 'NT'])"
      ]
     },
     "execution_count": 7,
     "metadata": {},
     "output_type": "execute_result"
    }
   ],
   "source": [
    "def fix_col_names(input_: dict[str, pd.DataFrame]) -> dict[str, pd.DataFrame]:\n",
    "    \"\"\"\n",
    "    Standardise the column names in the tables. For some reason,\n",
    "    the voting intention and attitudinal tables at Wikipedia have\n",
    "    different column names for the same information.\n",
    "    \"\"\"\n",
    "\n",
    "    fix = {\n",
    "        # from : to\n",
    "        \"Firm\": \"Brand\",\n",
    "        \"Sample\": \"Sample size\",\n",
    "    }\n",
    "\n",
    "    output = {}\n",
    "    for label_, table_ in input_.items():\n",
    "        for old_col, new_col in fix.items():\n",
    "            fix_me_list = table_.columns[\n",
    "                table_.columns.str.contains(old_col, case=False)\n",
    "            ]\n",
    "            if len(fix_me_list) == 1:\n",
    "                fix_me_string = fix_me_list[0]\n",
    "                table_ = table_.rename(columns={fix_me_string: new_col})\n",
    "                print(f\"{label_} fixed col from {fix_me_string} to {new_col}\")\n",
    "                output[label_] = table_\n",
    "\n",
    "    return output\n",
    "\n",
    "\n",
    "data = fix_col_names(data)\n",
    "data.keys()"
   ]
  },
  {
   "cell_type": "markdown",
   "id": "6c688b08",
   "metadata": {},
   "source": [
    "### Remove MRP polls\n",
    "MRP = multi-regression post-stratification polls"
   ]
  },
  {
   "cell_type": "code",
   "execution_count": 8,
   "id": "318e8df6",
   "metadata": {},
   "outputs": [
    {
     "name": "stdout",
     "output_type": "stream",
     "text": [
      "voting-intention MRP about to drop:\n"
     ]
    },
    {
     "data": {
      "application/vnd.microsoft.datawrangler.viewer.v0+json": {
       "columns": [
        {
         "name": "index",
         "rawType": "int64",
         "type": "integer"
        },
        {
         "name": "Date",
         "rawType": "object",
         "type": "string"
        },
        {
         "name": "Brand",
         "rawType": "object",
         "type": "string"
        },
        {
         "name": "Interview mode",
         "rawType": "object",
         "type": "string"
        },
        {
         "name": "Sample size",
         "rawType": "float64",
         "type": "float"
        },
        {
         "name": "Primary vote L/NP",
         "rawType": "float64",
         "type": "float"
        },
        {
         "name": "Primary vote ALP",
         "rawType": "float64",
         "type": "float"
        },
        {
         "name": "Primary vote GRN",
         "rawType": "float64",
         "type": "float"
        },
        {
         "name": "Primary vote ONP",
         "rawType": "float64",
         "type": "float"
        },
        {
         "name": "Primary vote TOP",
         "rawType": "float64",
         "type": "float"
        },
        {
         "name": "Primary vote OTH",
         "rawType": "float64",
         "type": "float"
        },
        {
         "name": "Primary vote UND",
         "rawType": "float64",
         "type": "float"
        },
        {
         "name": "2pp vote ALP",
         "rawType": "float64",
         "type": "float"
        },
        {
         "name": "2pp vote L/NP",
         "rawType": "float64",
         "type": "float"
        },
        {
         "name": "Primary vote UAP",
         "rawType": "float64",
         "type": "float"
        },
        {
         "name": "First Date",
         "rawType": "datetime64[ns]",
         "type": "datetime"
        },
        {
         "name": "Mean Date",
         "rawType": "datetime64[ns]",
         "type": "datetime"
        },
        {
         "name": "Last Date",
         "rawType": "datetime64[ns]",
         "type": "datetime"
        }
       ],
       "conversionMethod": "pd.DataFrame",
       "ref": "ddd1b765-31a8-460c-bd02-387ceaa99ca4",
       "rows": [
        [
         "165",
         "10 Jul – 27 Aug 2024",
         "Accent Research/ RedBridge Group",
         "Online",
         "5976.0",
         "38.0",
         "32.0",
         "12.0",
         null,
         null,
         "18.0",
         null,
         "50.0",
         "50.0",
         null,
         "2024-07-10 00:00:00",
         "2024-08-03 00:00:00",
         "2024-08-27 00:00:00"
        ],
        [
         "205",
         "29 Oct – 20 Nov 2024",
         "Accent Research/ RedBridge Group",
         "Online",
         "4909.0",
         "39.0",
         "31.0",
         "11.0",
         null,
         null,
         "19.0",
         null,
         "49.0",
         "51.0",
         null,
         "2024-10-29 00:00:00",
         "2024-11-09 00:00:00",
         "2024-11-20 00:00:00"
        ],
        [
         "232",
         "22 Jan – 12 Feb 2025",
         "YouGov MRP",
         "Online",
         "8732.0",
         "37.4",
         "29.1",
         "12.7",
         "9.1",
         null,
         "11.7",
         null,
         "48.9",
         "51.1",
         null,
         "2025-01-22 00:00:00",
         "2025-02-01 00:00:00",
         "2025-02-12 00:00:00"
        ],
        [
         "235",
         "4–11 Feb 2025",
         "RedBridge/Accent",
         "Online",
         "1002.0",
         "43.0",
         "33.0",
         "12.0",
         null,
         null,
         "12.0",
         null,
         "48.0",
         "52.0",
         null,
         "2025-02-04 00:00:00",
         "2025-02-07 00:00:00",
         "2025-02-11 00:00:00"
        ],
        [
         "242",
         "20–25 Feb 2025",
         "RedBridge/Accent",
         "Online",
         "1002.0",
         "41.0",
         "34.0",
         "12.0",
         null,
         null,
         "13.0",
         null,
         "49.5",
         "50.5",
         null,
         "2025-02-20 00:00:00",
         "2025-02-22 00:00:00",
         "2025-02-25 00:00:00"
        ],
        [
         "251",
         "27 Feb – 26 Mar 2025",
         "YouGov MRP",
         "Online",
         "10217.0",
         "35.5",
         "29.8",
         "13.2",
         "9.3",
         null,
         "12.2",
         null,
         "50.2",
         "49.8",
         null,
         "2025-02-27 00:00:00",
         "2025-03-12 00:00:00",
         "2025-03-26 00:00:00"
        ]
       ],
       "shape": {
        "columns": 17,
        "rows": 6
       }
      },
      "text/html": [
       "<div>\n",
       "<style scoped>\n",
       "    .dataframe tbody tr th:only-of-type {\n",
       "        vertical-align: middle;\n",
       "    }\n",
       "\n",
       "    .dataframe tbody tr th {\n",
       "        vertical-align: top;\n",
       "    }\n",
       "\n",
       "    .dataframe thead th {\n",
       "        text-align: right;\n",
       "    }\n",
       "</style>\n",
       "<table border=\"1\" class=\"dataframe\">\n",
       "  <thead>\n",
       "    <tr style=\"text-align: right;\">\n",
       "      <th></th>\n",
       "      <th>Date</th>\n",
       "      <th>Brand</th>\n",
       "      <th>Interview mode</th>\n",
       "      <th>Sample size</th>\n",
       "      <th>Primary vote L/NP</th>\n",
       "      <th>Primary vote ALP</th>\n",
       "      <th>Primary vote GRN</th>\n",
       "      <th>Primary vote ONP</th>\n",
       "      <th>Primary vote TOP</th>\n",
       "      <th>Primary vote OTH</th>\n",
       "      <th>Primary vote UND</th>\n",
       "      <th>2pp vote ALP</th>\n",
       "      <th>2pp vote L/NP</th>\n",
       "      <th>Primary vote UAP</th>\n",
       "      <th>First Date</th>\n",
       "      <th>Mean Date</th>\n",
       "      <th>Last Date</th>\n",
       "    </tr>\n",
       "  </thead>\n",
       "  <tbody>\n",
       "    <tr>\n",
       "      <th>165</th>\n",
       "      <td>10 Jul – 27 Aug 2024</td>\n",
       "      <td>Accent Research/ RedBridge Group</td>\n",
       "      <td>Online</td>\n",
       "      <td>5976.0</td>\n",
       "      <td>38.0</td>\n",
       "      <td>32.0</td>\n",
       "      <td>12.0</td>\n",
       "      <td>NaN</td>\n",
       "      <td>NaN</td>\n",
       "      <td>18.0</td>\n",
       "      <td>NaN</td>\n",
       "      <td>50.0</td>\n",
       "      <td>50.0</td>\n",
       "      <td>NaN</td>\n",
       "      <td>2024-07-10</td>\n",
       "      <td>2024-08-03</td>\n",
       "      <td>2024-08-27</td>\n",
       "    </tr>\n",
       "    <tr>\n",
       "      <th>205</th>\n",
       "      <td>29 Oct – 20 Nov 2024</td>\n",
       "      <td>Accent Research/ RedBridge Group</td>\n",
       "      <td>Online</td>\n",
       "      <td>4909.0</td>\n",
       "      <td>39.0</td>\n",
       "      <td>31.0</td>\n",
       "      <td>11.0</td>\n",
       "      <td>NaN</td>\n",
       "      <td>NaN</td>\n",
       "      <td>19.0</td>\n",
       "      <td>NaN</td>\n",
       "      <td>49.0</td>\n",
       "      <td>51.0</td>\n",
       "      <td>NaN</td>\n",
       "      <td>2024-10-29</td>\n",
       "      <td>2024-11-09</td>\n",
       "      <td>2024-11-20</td>\n",
       "    </tr>\n",
       "    <tr>\n",
       "      <th>232</th>\n",
       "      <td>22 Jan – 12 Feb 2025</td>\n",
       "      <td>YouGov MRP</td>\n",
       "      <td>Online</td>\n",
       "      <td>8732.0</td>\n",
       "      <td>37.4</td>\n",
       "      <td>29.1</td>\n",
       "      <td>12.7</td>\n",
       "      <td>9.1</td>\n",
       "      <td>NaN</td>\n",
       "      <td>11.7</td>\n",
       "      <td>NaN</td>\n",
       "      <td>48.9</td>\n",
       "      <td>51.1</td>\n",
       "      <td>NaN</td>\n",
       "      <td>2025-01-22</td>\n",
       "      <td>2025-02-01</td>\n",
       "      <td>2025-02-12</td>\n",
       "    </tr>\n",
       "    <tr>\n",
       "      <th>235</th>\n",
       "      <td>4–11 Feb 2025</td>\n",
       "      <td>RedBridge/Accent</td>\n",
       "      <td>Online</td>\n",
       "      <td>1002.0</td>\n",
       "      <td>43.0</td>\n",
       "      <td>33.0</td>\n",
       "      <td>12.0</td>\n",
       "      <td>NaN</td>\n",
       "      <td>NaN</td>\n",
       "      <td>12.0</td>\n",
       "      <td>NaN</td>\n",
       "      <td>48.0</td>\n",
       "      <td>52.0</td>\n",
       "      <td>NaN</td>\n",
       "      <td>2025-02-04</td>\n",
       "      <td>2025-02-07</td>\n",
       "      <td>2025-02-11</td>\n",
       "    </tr>\n",
       "    <tr>\n",
       "      <th>242</th>\n",
       "      <td>20–25 Feb 2025</td>\n",
       "      <td>RedBridge/Accent</td>\n",
       "      <td>Online</td>\n",
       "      <td>1002.0</td>\n",
       "      <td>41.0</td>\n",
       "      <td>34.0</td>\n",
       "      <td>12.0</td>\n",
       "      <td>NaN</td>\n",
       "      <td>NaN</td>\n",
       "      <td>13.0</td>\n",
       "      <td>NaN</td>\n",
       "      <td>49.5</td>\n",
       "      <td>50.5</td>\n",
       "      <td>NaN</td>\n",
       "      <td>2025-02-20</td>\n",
       "      <td>2025-02-22</td>\n",
       "      <td>2025-02-25</td>\n",
       "    </tr>\n",
       "    <tr>\n",
       "      <th>251</th>\n",
       "      <td>27 Feb – 26 Mar 2025</td>\n",
       "      <td>YouGov MRP</td>\n",
       "      <td>Online</td>\n",
       "      <td>10217.0</td>\n",
       "      <td>35.5</td>\n",
       "      <td>29.8</td>\n",
       "      <td>13.2</td>\n",
       "      <td>9.3</td>\n",
       "      <td>NaN</td>\n",
       "      <td>12.2</td>\n",
       "      <td>NaN</td>\n",
       "      <td>50.2</td>\n",
       "      <td>49.8</td>\n",
       "      <td>NaN</td>\n",
       "      <td>2025-02-27</td>\n",
       "      <td>2025-03-12</td>\n",
       "      <td>2025-03-26</td>\n",
       "    </tr>\n",
       "  </tbody>\n",
       "</table>\n",
       "</div>"
      ],
      "text/plain": [
       "                     Date                             Brand Interview mode  \\\n",
       "165  10 Jul – 27 Aug 2024  Accent Research/ RedBridge Group         Online   \n",
       "205  29 Oct – 20 Nov 2024  Accent Research/ RedBridge Group         Online   \n",
       "232  22 Jan – 12 Feb 2025                        YouGov MRP         Online   \n",
       "235         4–11 Feb 2025                  RedBridge/Accent         Online   \n",
       "242        20–25 Feb 2025                  RedBridge/Accent         Online   \n",
       "251  27 Feb – 26 Mar 2025                        YouGov MRP         Online   \n",
       "\n",
       "     Sample size  Primary vote L/NP  Primary vote ALP  Primary vote GRN  \\\n",
       "165       5976.0               38.0              32.0              12.0   \n",
       "205       4909.0               39.0              31.0              11.0   \n",
       "232       8732.0               37.4              29.1              12.7   \n",
       "235       1002.0               43.0              33.0              12.0   \n",
       "242       1002.0               41.0              34.0              12.0   \n",
       "251      10217.0               35.5              29.8              13.2   \n",
       "\n",
       "     Primary vote ONP  Primary vote TOP  Primary vote OTH  Primary vote UND  \\\n",
       "165               NaN               NaN              18.0               NaN   \n",
       "205               NaN               NaN              19.0               NaN   \n",
       "232               9.1               NaN              11.7               NaN   \n",
       "235               NaN               NaN              12.0               NaN   \n",
       "242               NaN               NaN              13.0               NaN   \n",
       "251               9.3               NaN              12.2               NaN   \n",
       "\n",
       "     2pp vote ALP  2pp vote L/NP  Primary vote UAP First Date  Mean Date  \\\n",
       "165          50.0           50.0               NaN 2024-07-10 2024-08-03   \n",
       "205          49.0           51.0               NaN 2024-10-29 2024-11-09   \n",
       "232          48.9           51.1               NaN 2025-01-22 2025-02-01   \n",
       "235          48.0           52.0               NaN 2025-02-04 2025-02-07   \n",
       "242          49.5           50.5               NaN 2025-02-20 2025-02-22   \n",
       "251          50.2           49.8               NaN 2025-02-27 2025-03-12   \n",
       "\n",
       "     Last Date  \n",
       "165 2024-08-27  \n",
       "205 2024-11-20  \n",
       "232 2025-02-12  \n",
       "235 2025-02-11  \n",
       "242 2025-02-25  \n",
       "251 2025-03-26  "
      ]
     },
     "metadata": {},
     "output_type": "display_data"
    },
    {
     "name": "stdout",
     "output_type": "stream",
     "text": [
      "attitudinal MRP about to drop:\n"
     ]
    },
    {
     "data": {
      "application/vnd.microsoft.datawrangler.viewer.v0+json": {
       "columns": [
        {
         "name": "index",
         "rawType": "int64",
         "type": "integer"
        },
        {
         "name": "Date",
         "rawType": "object",
         "type": "string"
        },
        {
         "name": "Brand",
         "rawType": "object",
         "type": "string"
        },
        {
         "name": "Interview mode",
         "rawType": "object",
         "type": "string"
        },
        {
         "name": "Sample size",
         "rawType": "float64",
         "type": "float"
        },
        {
         "name": "Preferred prime minister Albanese",
         "rawType": "float64",
         "type": "float"
        },
        {
         "name": "Preferred prime minister Dutton",
         "rawType": "float64",
         "type": "float"
        },
        {
         "name": "Preferred prime minister Don't Know",
         "rawType": "float64",
         "type": "float"
        },
        {
         "name": "Preferred prime minister Net",
         "rawType": "float64",
         "type": "float"
        },
        {
         "name": "Albanese Satisfied",
         "rawType": "float64",
         "type": "float"
        },
        {
         "name": "Albanese Dissatisfied",
         "rawType": "float64",
         "type": "float"
        },
        {
         "name": "Albanese Don't Know",
         "rawType": "float64",
         "type": "float"
        },
        {
         "name": "Albanese Net",
         "rawType": "float64",
         "type": "float"
        },
        {
         "name": "Dutton Satisfied",
         "rawType": "float64",
         "type": "float"
        },
        {
         "name": "Dutton Dissatisfied",
         "rawType": "float64",
         "type": "float"
        },
        {
         "name": "Dutton Don't Know",
         "rawType": "float64",
         "type": "float"
        },
        {
         "name": "Dutton Net",
         "rawType": "float64",
         "type": "float"
        },
        {
         "name": "First Date",
         "rawType": "datetime64[ns]",
         "type": "datetime"
        },
        {
         "name": "Mean Date",
         "rawType": "datetime64[ns]",
         "type": "datetime"
        },
        {
         "name": "Last Date",
         "rawType": "datetime64[ns]",
         "type": "datetime"
        }
       ],
       "conversionMethod": "pd.DataFrame",
       "ref": "cb3e2956-cc5e-450c-ab49-fb23cbbc23d7",
       "rows": [
        [
         "130",
         "4–11 Feb 2025",
         "RedBridge/Accent",
         "Online",
         null,
         null,
         null,
         null,
         null,
         "29.0",
         "45.0",
         "26.0",
         "-16.0",
         "31.0",
         "42.0",
         "27.0",
         "-11.0",
         "2025-02-04 00:00:00",
         "2025-02-07 00:00:00",
         "2025-02-11 00:00:00"
        ],
        [
         "134",
         "20–25 Feb 2025",
         "RedBridge/Accent",
         "Online",
         null,
         null,
         null,
         null,
         null,
         "30.0",
         "43.0",
         "27.0",
         "-13.0",
         "39.0",
         "43.0",
         "18.0",
         "-4.0",
         "2025-02-20 00:00:00",
         "2025-02-22 00:00:00",
         "2025-02-25 00:00:00"
        ]
       ],
       "shape": {
        "columns": 19,
        "rows": 2
       }
      },
      "text/html": [
       "<div>\n",
       "<style scoped>\n",
       "    .dataframe tbody tr th:only-of-type {\n",
       "        vertical-align: middle;\n",
       "    }\n",
       "\n",
       "    .dataframe tbody tr th {\n",
       "        vertical-align: top;\n",
       "    }\n",
       "\n",
       "    .dataframe thead th {\n",
       "        text-align: right;\n",
       "    }\n",
       "</style>\n",
       "<table border=\"1\" class=\"dataframe\">\n",
       "  <thead>\n",
       "    <tr style=\"text-align: right;\">\n",
       "      <th></th>\n",
       "      <th>Date</th>\n",
       "      <th>Brand</th>\n",
       "      <th>Interview mode</th>\n",
       "      <th>Sample size</th>\n",
       "      <th>Preferred prime minister Albanese</th>\n",
       "      <th>Preferred prime minister Dutton</th>\n",
       "      <th>Preferred prime minister Don't Know</th>\n",
       "      <th>Preferred prime minister Net</th>\n",
       "      <th>Albanese Satisfied</th>\n",
       "      <th>Albanese Dissatisfied</th>\n",
       "      <th>Albanese Don't Know</th>\n",
       "      <th>Albanese Net</th>\n",
       "      <th>Dutton Satisfied</th>\n",
       "      <th>Dutton Dissatisfied</th>\n",
       "      <th>Dutton Don't Know</th>\n",
       "      <th>Dutton Net</th>\n",
       "      <th>First Date</th>\n",
       "      <th>Mean Date</th>\n",
       "      <th>Last Date</th>\n",
       "    </tr>\n",
       "  </thead>\n",
       "  <tbody>\n",
       "    <tr>\n",
       "      <th>130</th>\n",
       "      <td>4–11 Feb 2025</td>\n",
       "      <td>RedBridge/Accent</td>\n",
       "      <td>Online</td>\n",
       "      <td>NaN</td>\n",
       "      <td>NaN</td>\n",
       "      <td>NaN</td>\n",
       "      <td>NaN</td>\n",
       "      <td>NaN</td>\n",
       "      <td>29.0</td>\n",
       "      <td>45.0</td>\n",
       "      <td>26.0</td>\n",
       "      <td>-16.0</td>\n",
       "      <td>31.0</td>\n",
       "      <td>42.0</td>\n",
       "      <td>27.0</td>\n",
       "      <td>-11.0</td>\n",
       "      <td>2025-02-04</td>\n",
       "      <td>2025-02-07</td>\n",
       "      <td>2025-02-11</td>\n",
       "    </tr>\n",
       "    <tr>\n",
       "      <th>134</th>\n",
       "      <td>20–25 Feb 2025</td>\n",
       "      <td>RedBridge/Accent</td>\n",
       "      <td>Online</td>\n",
       "      <td>NaN</td>\n",
       "      <td>NaN</td>\n",
       "      <td>NaN</td>\n",
       "      <td>NaN</td>\n",
       "      <td>NaN</td>\n",
       "      <td>30.0</td>\n",
       "      <td>43.0</td>\n",
       "      <td>27.0</td>\n",
       "      <td>-13.0</td>\n",
       "      <td>39.0</td>\n",
       "      <td>43.0</td>\n",
       "      <td>18.0</td>\n",
       "      <td>-4.0</td>\n",
       "      <td>2025-02-20</td>\n",
       "      <td>2025-02-22</td>\n",
       "      <td>2025-02-25</td>\n",
       "    </tr>\n",
       "  </tbody>\n",
       "</table>\n",
       "</div>"
      ],
      "text/plain": [
       "               Date             Brand Interview mode  Sample size  \\\n",
       "130   4–11 Feb 2025  RedBridge/Accent         Online          NaN   \n",
       "134  20–25 Feb 2025  RedBridge/Accent         Online          NaN   \n",
       "\n",
       "     Preferred prime minister Albanese  Preferred prime minister Dutton  \\\n",
       "130                                NaN                              NaN   \n",
       "134                                NaN                              NaN   \n",
       "\n",
       "     Preferred prime minister Don't Know  Preferred prime minister Net  \\\n",
       "130                                  NaN                           NaN   \n",
       "134                                  NaN                           NaN   \n",
       "\n",
       "     Albanese Satisfied  Albanese Dissatisfied  Albanese Don't Know  \\\n",
       "130                29.0                   45.0                 26.0   \n",
       "134                30.0                   43.0                 27.0   \n",
       "\n",
       "     Albanese Net  Dutton Satisfied  Dutton Dissatisfied  Dutton Don't Know  \\\n",
       "130         -16.0              31.0                 42.0               27.0   \n",
       "134         -13.0              39.0                 43.0               18.0   \n",
       "\n",
       "     Dutton Net First Date  Mean Date  Last Date  \n",
       "130       -11.0 2025-02-04 2025-02-07 2025-02-11  \n",
       "134        -4.0 2025-02-20 2025-02-22 2025-02-25  "
      ]
     },
     "metadata": {},
     "output_type": "display_data"
    },
    {
     "data": {
      "text/plain": [
       "dict_keys(['voting-intention', 'attitudinal', 'NSW', 'VIC', 'QLD', 'WA', 'SA', 'TAS', 'NT'])"
      ]
     },
     "execution_count": 8,
     "metadata": {},
     "output_type": "execute_result"
    }
   ],
   "source": [
    "def remove_mrp_polls(input_: dict[str, pd.DataFrame]) -> dict[str, pd.DataFrame]:\n",
    "    \"\"\"\n",
    "    Remove aggregated 'polls' conducted by Multilevel\n",
    "    Regression and Post-stratification (MRP).\n",
    "    \"\"\"\n",
    "\n",
    "    output = {}\n",
    "\n",
    "    for label_, table_ in input_.items():\n",
    "        if label_ in STATES:\n",
    "            # Happy to keep the MRP polls for the states\n",
    "            output[label_] = table_\n",
    "            continue\n",
    "\n",
    "        # drop by Brand Name\n",
    "        drop_bool = table_[\"Brand\"].str.contains(\"Accent\", na=False) & table_[\n",
    "            \"Brand\"\n",
    "        ].str.contains(\"RedBridge\", na=False)\n",
    "        drop_index = drop_bool[drop_bool].index\n",
    "\n",
    "        # drop bt MRP label\n",
    "        drop_bool = table_[\"Brand\"].str.contains(\"MRP\", na=False)\n",
    "        drop_index = drop_index.union(drop_bool[drop_bool].index)\n",
    "\n",
    "        if len(drop_index) > 0:\n",
    "            # adjust the table\n",
    "            print(f\"{label_} MRP about to drop:\")\n",
    "            display(table_.loc[drop_index])\n",
    "            table_ = table_.drop(drop_index)\n",
    "\n",
    "        # In future we might want to drop by other criteria\n",
    "\n",
    "        # save the table\n",
    "        output[label_] = table_\n",
    "\n",
    "    return output\n",
    "\n",
    "\n",
    "data = remove_mrp_polls(data)\n",
    "data.keys()"
   ]
  },
  {
   "cell_type": "code",
   "execution_count": 9,
   "id": "f9d0753f",
   "metadata": {},
   "outputs": [
    {
     "name": "stdout",
     "output_type": "stream",
     "text": [
      "Index([62, 172, 197, 261], dtype='int64')\n",
      "voting-intention: --CHECK-- Based on sample size, these rows might be MRP data:\n"
     ]
    },
    {
     "data": {
      "application/vnd.microsoft.datawrangler.viewer.v0+json": {
       "columns": [
        {
         "name": "index",
         "rawType": "int64",
         "type": "integer"
        },
        {
         "name": "Date",
         "rawType": "object",
         "type": "string"
        },
        {
         "name": "Brand",
         "rawType": "object",
         "type": "string"
        },
        {
         "name": "Interview mode",
         "rawType": "object",
         "type": "string"
        },
        {
         "name": "Sample size",
         "rawType": "float64",
         "type": "float"
        },
        {
         "name": "Primary vote L/NP",
         "rawType": "float64",
         "type": "float"
        },
        {
         "name": "Primary vote ALP",
         "rawType": "float64",
         "type": "float"
        },
        {
         "name": "Primary vote GRN",
         "rawType": "float64",
         "type": "float"
        },
        {
         "name": "Primary vote ONP",
         "rawType": "float64",
         "type": "float"
        },
        {
         "name": "Primary vote TOP",
         "rawType": "float64",
         "type": "float"
        },
        {
         "name": "Primary vote OTH",
         "rawType": "float64",
         "type": "float"
        },
        {
         "name": "Primary vote UND",
         "rawType": "float64",
         "type": "float"
        },
        {
         "name": "2pp vote ALP",
         "rawType": "float64",
         "type": "float"
        },
        {
         "name": "2pp vote L/NP",
         "rawType": "float64",
         "type": "float"
        },
        {
         "name": "Primary vote UAP",
         "rawType": "float64",
         "type": "float"
        },
        {
         "name": "First Date",
         "rawType": "datetime64[ns]",
         "type": "datetime"
        },
        {
         "name": "Mean Date",
         "rawType": "datetime64[ns]",
         "type": "datetime"
        },
        {
         "name": "Last Date",
         "rawType": "datetime64[ns]",
         "type": "datetime"
        }
       ],
       "conversionMethod": "pd.DataFrame",
       "ref": "f5827f84-7075-4650-9621-84cd11e16055",
       "rows": [
        [
         "62",
         "22 Sep – 4 Oct 2023",
         "Resolve Strategic",
         "Online",
         "4728.0",
         "31.0",
         "37.0",
         "12.0",
         "7.0",
         null,
         "11.0",
         null,
         "57.0",
         "43.0",
         "2.0",
         "2023-09-22 00:00:00",
         "2023-09-28 00:00:00",
         "2023-10-04 00:00:00"
        ],
        [
         "172",
         "6–29 Aug 2024",
         "Wolf & Smith",
         "Online",
         "10239.0",
         "36.0",
         "29.0",
         "13.0",
         "6.0",
         null,
         "15.0",
         null,
         "51.0",
         "49.0",
         null,
         "2024-08-06 00:00:00",
         "2024-08-17 00:00:00",
         "2024-08-29 00:00:00"
        ],
        [
         "197",
         "14–25 Oct 2024",
         "ANU",
         "Online",
         "3622.0",
         "38.2",
         "31.8",
         "11.8",
         null,
         null,
         null,
         "9.5",
         "50.0",
         "50.0",
         null,
         "2024-10-14 00:00:00",
         "2024-10-19 00:00:00",
         "2024-10-25 00:00:00"
        ],
        [
         "261",
         "26–30 Mar 2025",
         "Resolve Strategic",
         "Online",
         "3237.0",
         "37.0",
         "29.0",
         "13.0",
         "7.0",
         null,
         "14.0",
         null,
         "50.0",
         "50.0",
         null,
         "2025-03-26 00:00:00",
         "2025-03-28 00:00:00",
         "2025-03-30 00:00:00"
        ]
       ],
       "shape": {
        "columns": 17,
        "rows": 4
       }
      },
      "text/html": [
       "<div>\n",
       "<style scoped>\n",
       "    .dataframe tbody tr th:only-of-type {\n",
       "        vertical-align: middle;\n",
       "    }\n",
       "\n",
       "    .dataframe tbody tr th {\n",
       "        vertical-align: top;\n",
       "    }\n",
       "\n",
       "    .dataframe thead th {\n",
       "        text-align: right;\n",
       "    }\n",
       "</style>\n",
       "<table border=\"1\" class=\"dataframe\">\n",
       "  <thead>\n",
       "    <tr style=\"text-align: right;\">\n",
       "      <th></th>\n",
       "      <th>Date</th>\n",
       "      <th>Brand</th>\n",
       "      <th>Interview mode</th>\n",
       "      <th>Sample size</th>\n",
       "      <th>Primary vote L/NP</th>\n",
       "      <th>Primary vote ALP</th>\n",
       "      <th>Primary vote GRN</th>\n",
       "      <th>Primary vote ONP</th>\n",
       "      <th>Primary vote TOP</th>\n",
       "      <th>Primary vote OTH</th>\n",
       "      <th>Primary vote UND</th>\n",
       "      <th>2pp vote ALP</th>\n",
       "      <th>2pp vote L/NP</th>\n",
       "      <th>Primary vote UAP</th>\n",
       "      <th>First Date</th>\n",
       "      <th>Mean Date</th>\n",
       "      <th>Last Date</th>\n",
       "    </tr>\n",
       "  </thead>\n",
       "  <tbody>\n",
       "    <tr>\n",
       "      <th>62</th>\n",
       "      <td>22 Sep – 4 Oct 2023</td>\n",
       "      <td>Resolve Strategic</td>\n",
       "      <td>Online</td>\n",
       "      <td>4728.0</td>\n",
       "      <td>31.0</td>\n",
       "      <td>37.0</td>\n",
       "      <td>12.0</td>\n",
       "      <td>7.0</td>\n",
       "      <td>NaN</td>\n",
       "      <td>11.0</td>\n",
       "      <td>NaN</td>\n",
       "      <td>57.0</td>\n",
       "      <td>43.0</td>\n",
       "      <td>2.0</td>\n",
       "      <td>2023-09-22</td>\n",
       "      <td>2023-09-28</td>\n",
       "      <td>2023-10-04</td>\n",
       "    </tr>\n",
       "    <tr>\n",
       "      <th>172</th>\n",
       "      <td>6–29 Aug 2024</td>\n",
       "      <td>Wolf &amp; Smith</td>\n",
       "      <td>Online</td>\n",
       "      <td>10239.0</td>\n",
       "      <td>36.0</td>\n",
       "      <td>29.0</td>\n",
       "      <td>13.0</td>\n",
       "      <td>6.0</td>\n",
       "      <td>NaN</td>\n",
       "      <td>15.0</td>\n",
       "      <td>NaN</td>\n",
       "      <td>51.0</td>\n",
       "      <td>49.0</td>\n",
       "      <td>NaN</td>\n",
       "      <td>2024-08-06</td>\n",
       "      <td>2024-08-17</td>\n",
       "      <td>2024-08-29</td>\n",
       "    </tr>\n",
       "    <tr>\n",
       "      <th>197</th>\n",
       "      <td>14–25 Oct 2024</td>\n",
       "      <td>ANU</td>\n",
       "      <td>Online</td>\n",
       "      <td>3622.0</td>\n",
       "      <td>38.2</td>\n",
       "      <td>31.8</td>\n",
       "      <td>11.8</td>\n",
       "      <td>NaN</td>\n",
       "      <td>NaN</td>\n",
       "      <td>NaN</td>\n",
       "      <td>9.5</td>\n",
       "      <td>50.0</td>\n",
       "      <td>50.0</td>\n",
       "      <td>NaN</td>\n",
       "      <td>2024-10-14</td>\n",
       "      <td>2024-10-19</td>\n",
       "      <td>2024-10-25</td>\n",
       "    </tr>\n",
       "    <tr>\n",
       "      <th>261</th>\n",
       "      <td>26–30 Mar 2025</td>\n",
       "      <td>Resolve Strategic</td>\n",
       "      <td>Online</td>\n",
       "      <td>3237.0</td>\n",
       "      <td>37.0</td>\n",
       "      <td>29.0</td>\n",
       "      <td>13.0</td>\n",
       "      <td>7.0</td>\n",
       "      <td>NaN</td>\n",
       "      <td>14.0</td>\n",
       "      <td>NaN</td>\n",
       "      <td>50.0</td>\n",
       "      <td>50.0</td>\n",
       "      <td>NaN</td>\n",
       "      <td>2025-03-26</td>\n",
       "      <td>2025-03-28</td>\n",
       "      <td>2025-03-30</td>\n",
       "    </tr>\n",
       "  </tbody>\n",
       "</table>\n",
       "</div>"
      ],
      "text/plain": [
       "                    Date              Brand Interview mode  Sample size  \\\n",
       "62   22 Sep – 4 Oct 2023  Resolve Strategic         Online       4728.0   \n",
       "172        6–29 Aug 2024       Wolf & Smith         Online      10239.0   \n",
       "197       14–25 Oct 2024                ANU         Online       3622.0   \n",
       "261       26–30 Mar 2025  Resolve Strategic         Online       3237.0   \n",
       "\n",
       "     Primary vote L/NP  Primary vote ALP  Primary vote GRN  Primary vote ONP  \\\n",
       "62                31.0              37.0              12.0               7.0   \n",
       "172               36.0              29.0              13.0               6.0   \n",
       "197               38.2              31.8              11.8               NaN   \n",
       "261               37.0              29.0              13.0               7.0   \n",
       "\n",
       "     Primary vote TOP  Primary vote OTH  Primary vote UND  2pp vote ALP  \\\n",
       "62                NaN              11.0               NaN          57.0   \n",
       "172               NaN              15.0               NaN          51.0   \n",
       "197               NaN               NaN               9.5          50.0   \n",
       "261               NaN              14.0               NaN          50.0   \n",
       "\n",
       "     2pp vote L/NP  Primary vote UAP First Date  Mean Date  Last Date  \n",
       "62            43.0               2.0 2023-09-22 2023-09-28 2023-10-04  \n",
       "172           49.0               NaN 2024-08-06 2024-08-17 2024-08-29  \n",
       "197           50.0               NaN 2024-10-14 2024-10-19 2024-10-25  \n",
       "261           50.0               NaN 2025-03-26 2025-03-28 2025-03-30  "
      ]
     },
     "metadata": {},
     "output_type": "display_data"
    },
    {
     "name": "stdout",
     "output_type": "stream",
     "text": [
      "========================================\n",
      "Index([0, 38], dtype='int64')\n",
      "attitudinal: --CHECK-- Based on sample size, these rows might be MRP data:\n"
     ]
    },
    {
     "data": {
      "application/vnd.microsoft.datawrangler.viewer.v0+json": {
       "columns": [
        {
         "name": "index",
         "rawType": "int64",
         "type": "integer"
        },
        {
         "name": "Date",
         "rawType": "object",
         "type": "string"
        },
        {
         "name": "Brand",
         "rawType": "object",
         "type": "string"
        },
        {
         "name": "Interview mode",
         "rawType": "object",
         "type": "string"
        },
        {
         "name": "Sample size",
         "rawType": "float64",
         "type": "float"
        },
        {
         "name": "Preferred prime minister Albanese",
         "rawType": "float64",
         "type": "float"
        },
        {
         "name": "Preferred prime minister Dutton",
         "rawType": "float64",
         "type": "float"
        },
        {
         "name": "Preferred prime minister Don't Know",
         "rawType": "float64",
         "type": "float"
        },
        {
         "name": "Preferred prime minister Net",
         "rawType": "float64",
         "type": "float"
        },
        {
         "name": "Albanese Satisfied",
         "rawType": "float64",
         "type": "float"
        },
        {
         "name": "Albanese Dissatisfied",
         "rawType": "float64",
         "type": "float"
        },
        {
         "name": "Albanese Don't Know",
         "rawType": "float64",
         "type": "float"
        },
        {
         "name": "Albanese Net",
         "rawType": "float64",
         "type": "float"
        },
        {
         "name": "Dutton Satisfied",
         "rawType": "float64",
         "type": "float"
        },
        {
         "name": "Dutton Dissatisfied",
         "rawType": "float64",
         "type": "float"
        },
        {
         "name": "Dutton Don't Know",
         "rawType": "float64",
         "type": "float"
        },
        {
         "name": "Dutton Net",
         "rawType": "float64",
         "type": "float"
        },
        {
         "name": "First Date",
         "rawType": "datetime64[ns]",
         "type": "datetime"
        },
        {
         "name": "Mean Date",
         "rawType": "datetime64[ns]",
         "type": "datetime"
        },
        {
         "name": "Last Date",
         "rawType": "datetime64[ns]",
         "type": "datetime"
        }
       ],
       "conversionMethod": "pd.DataFrame",
       "ref": "22a94f9f-5c9b-4a2a-903c-9fbf508eda72",
       "rows": [
        [
         "0",
         "23–31 May 2022",
         "Morning Consult",
         "Online",
         "3770.0",
         null,
         null,
         null,
         null,
         "51.0",
         "24.0",
         "25.0",
         "27.0",
         null,
         null,
         null,
         null,
         "2022-05-23 00:00:00",
         "2022-05-27 00:00:00",
         "2022-05-31 00:00:00"
        ],
        [
         "38",
         "29 May – 12 Jun 2023",
         "CT Group",
         "Online",
         "3000.0",
         null,
         null,
         null,
         null,
         "42.0",
         "36.0",
         "22.0",
         "6.0",
         null,
         null,
         null,
         null,
         "2023-05-29 00:00:00",
         "2023-06-05 00:00:00",
         "2023-06-12 00:00:00"
        ]
       ],
       "shape": {
        "columns": 19,
        "rows": 2
       }
      },
      "text/html": [
       "<div>\n",
       "<style scoped>\n",
       "    .dataframe tbody tr th:only-of-type {\n",
       "        vertical-align: middle;\n",
       "    }\n",
       "\n",
       "    .dataframe tbody tr th {\n",
       "        vertical-align: top;\n",
       "    }\n",
       "\n",
       "    .dataframe thead th {\n",
       "        text-align: right;\n",
       "    }\n",
       "</style>\n",
       "<table border=\"1\" class=\"dataframe\">\n",
       "  <thead>\n",
       "    <tr style=\"text-align: right;\">\n",
       "      <th></th>\n",
       "      <th>Date</th>\n",
       "      <th>Brand</th>\n",
       "      <th>Interview mode</th>\n",
       "      <th>Sample size</th>\n",
       "      <th>Preferred prime minister Albanese</th>\n",
       "      <th>Preferred prime minister Dutton</th>\n",
       "      <th>Preferred prime minister Don't Know</th>\n",
       "      <th>Preferred prime minister Net</th>\n",
       "      <th>Albanese Satisfied</th>\n",
       "      <th>Albanese Dissatisfied</th>\n",
       "      <th>Albanese Don't Know</th>\n",
       "      <th>Albanese Net</th>\n",
       "      <th>Dutton Satisfied</th>\n",
       "      <th>Dutton Dissatisfied</th>\n",
       "      <th>Dutton Don't Know</th>\n",
       "      <th>Dutton Net</th>\n",
       "      <th>First Date</th>\n",
       "      <th>Mean Date</th>\n",
       "      <th>Last Date</th>\n",
       "    </tr>\n",
       "  </thead>\n",
       "  <tbody>\n",
       "    <tr>\n",
       "      <th>0</th>\n",
       "      <td>23–31 May 2022</td>\n",
       "      <td>Morning Consult</td>\n",
       "      <td>Online</td>\n",
       "      <td>3770.0</td>\n",
       "      <td>NaN</td>\n",
       "      <td>NaN</td>\n",
       "      <td>NaN</td>\n",
       "      <td>NaN</td>\n",
       "      <td>51.0</td>\n",
       "      <td>24.0</td>\n",
       "      <td>25.0</td>\n",
       "      <td>27.0</td>\n",
       "      <td>NaN</td>\n",
       "      <td>NaN</td>\n",
       "      <td>NaN</td>\n",
       "      <td>NaN</td>\n",
       "      <td>2022-05-23</td>\n",
       "      <td>2022-05-27</td>\n",
       "      <td>2022-05-31</td>\n",
       "    </tr>\n",
       "    <tr>\n",
       "      <th>38</th>\n",
       "      <td>29 May – 12 Jun 2023</td>\n",
       "      <td>CT Group</td>\n",
       "      <td>Online</td>\n",
       "      <td>3000.0</td>\n",
       "      <td>NaN</td>\n",
       "      <td>NaN</td>\n",
       "      <td>NaN</td>\n",
       "      <td>NaN</td>\n",
       "      <td>42.0</td>\n",
       "      <td>36.0</td>\n",
       "      <td>22.0</td>\n",
       "      <td>6.0</td>\n",
       "      <td>NaN</td>\n",
       "      <td>NaN</td>\n",
       "      <td>NaN</td>\n",
       "      <td>NaN</td>\n",
       "      <td>2023-05-29</td>\n",
       "      <td>2023-06-05</td>\n",
       "      <td>2023-06-12</td>\n",
       "    </tr>\n",
       "  </tbody>\n",
       "</table>\n",
       "</div>"
      ],
      "text/plain": [
       "                    Date            Brand Interview mode  Sample size  \\\n",
       "0         23–31 May 2022  Morning Consult         Online       3770.0   \n",
       "38  29 May – 12 Jun 2023         CT Group         Online       3000.0   \n",
       "\n",
       "    Preferred prime minister Albanese  Preferred prime minister Dutton  \\\n",
       "0                                 NaN                              NaN   \n",
       "38                                NaN                              NaN   \n",
       "\n",
       "    Preferred prime minister Don't Know  Preferred prime minister Net  \\\n",
       "0                                   NaN                           NaN   \n",
       "38                                  NaN                           NaN   \n",
       "\n",
       "    Albanese Satisfied  Albanese Dissatisfied  Albanese Don't Know  \\\n",
       "0                 51.0                   24.0                 25.0   \n",
       "38                42.0                   36.0                 22.0   \n",
       "\n",
       "    Albanese Net  Dutton Satisfied  Dutton Dissatisfied  Dutton Don't Know  \\\n",
       "0           27.0               NaN                  NaN                NaN   \n",
       "38           6.0               NaN                  NaN                NaN   \n",
       "\n",
       "    Dutton Net First Date  Mean Date  Last Date  \n",
       "0          NaN 2022-05-23 2022-05-27 2022-05-31  \n",
       "38         NaN 2023-05-29 2023-06-05 2023-06-12  "
      ]
     },
     "metadata": {},
     "output_type": "display_data"
    },
    {
     "name": "stdout",
     "output_type": "stream",
     "text": [
      "========================================\n",
      "Index([], dtype='int64')\n",
      "Index([], dtype='int64')\n",
      "Index([], dtype='int64')\n",
      "Index([], dtype='int64')\n",
      "Index([], dtype='int64')\n",
      "Index([], dtype='int64')\n",
      "Index([], dtype='int64')\n"
     ]
    }
   ],
   "source": [
    "def check_for_large_samples(\n",
    "    data_dict: dict[str, pd.DataFrame],\n",
    "    threshold: int = 3000,\n",
    ") -> None:\n",
    "    \"\"\"\n",
    "    Check for unusually large sample sizes - may be MRP polling.\n",
    "    \"\"\"\n",
    "\n",
    "    for name, t in data_dict.items():\n",
    "        sample_col = t.columns[t.columns.str.contains(\"sample\", case=False)][0]\n",
    "        odd = t.index[t[sample_col].notna() & (t[sample_col] >= threshold)]\n",
    "        print(odd)\n",
    "        if len(odd):\n",
    "            print(\n",
    "                f\"{name}: --CHECK-- Based on sample size, these rows might be MRP data:\"\n",
    "            )\n",
    "            display(t.loc[odd])\n",
    "            print(\"=\" * 40)\n",
    "\n",
    "\n",
    "check_for_large_samples(data)"
   ]
  },
  {
   "cell_type": "markdown",
   "id": "00cd4ecd-7632-4b56-838d-dfeb931c8e71",
   "metadata": {},
   "source": [
    "## Preliminary data validation"
   ]
  },
  {
   "cell_type": "markdown",
   "id": "27d213fc-3ccc-4dd5-bb3f-c060526b86e2",
   "metadata": {},
   "source": [
    "### Distribute undecideds if the pollster has not\n",
    "\n",
    "Mostly affects the Essential poll."
   ]
  },
  {
   "cell_type": "code",
   "execution_count": 10,
   "id": "73a4d733-00bf-4950-b342-d0f499b551a6",
   "metadata": {},
   "outputs": [
    {
     "name": "stdout",
     "output_type": "stream",
     "text": [
      "For Primary vote distributed undecideds over 22.96% of rows.\n",
      "For 2pp vote distributed undecideds over 22.96% of rows.\n"
     ]
    },
    {
     "data": {
      "text/plain": [
       "dict_keys(['voting-intention', 'attitudinal', 'NSW', 'VIC', 'QLD', 'WA', 'SA', 'TAS', 'NT'])"
      ]
     },
     "execution_count": 10,
     "metadata": {},
     "output_type": "execute_result"
    }
   ],
   "source": [
    "def distribute_undecided(data_dict: dict[str, pd.DataFrame]) -> dict[str, pd.DataFrame]:\n",
    "    \"\"\"\n",
    "    Distribute undecided voters to the primary and 2pp vote.\n",
    "\n",
    "    Note: Essential often does not distribute undecideds to\n",
    "    the 2pp Vote share.\n",
    "    \"\"\"\n",
    "\n",
    "    if dc.UNDECIDED_COLUMN in data_dict[VOTING_INTENTION]:\n",
    "        revised = dc.distribute_undecideds(\n",
    "            table=data_dict[VOTING_INTENTION].copy(),\n",
    "            col_pattern_list=[\"Primary vote\", \"2pp vote\"],\n",
    "        )\n",
    "        revised = revised.drop(columns=dc.UNDECIDED_COLUMN)\n",
    "        data_dict[VOTING_INTENTION] = revised\n",
    "    else:\n",
    "        print(\"CHECK: this step was not applied\")\n",
    "        print(\"Most likely because it has already been applied.\")\n",
    "\n",
    "    return data_dict\n",
    "\n",
    "\n",
    "data = distribute_undecided(data)\n",
    "data.keys()"
   ]
  },
  {
   "cell_type": "markdown",
   "id": "62685440",
   "metadata": {},
   "source": [
    "### Add in Primary Other if the pollster has not"
   ]
  },
  {
   "cell_type": "code",
   "execution_count": 11,
   "id": "4924f9cd",
   "metadata": {},
   "outputs": [
    {
     "name": "stdout",
     "output_type": "stream",
     "text": [
      "Changed from ...\n"
     ]
    },
    {
     "data": {
      "application/vnd.microsoft.datawrangler.viewer.v0+json": {
       "columns": [
        {
         "name": "index",
         "rawType": "int64",
         "type": "integer"
        },
        {
         "name": "Date",
         "rawType": "object",
         "type": "string"
        },
        {
         "name": "Brand",
         "rawType": "object",
         "type": "string"
        },
        {
         "name": "Interview mode",
         "rawType": "object",
         "type": "string"
        },
        {
         "name": "Sample size",
         "rawType": "float64",
         "type": "float"
        },
        {
         "name": "Primary vote L/NP",
         "rawType": "float64",
         "type": "float"
        },
        {
         "name": "Primary vote ALP",
         "rawType": "float64",
         "type": "float"
        },
        {
         "name": "Primary vote GRN",
         "rawType": "float64",
         "type": "float"
        },
        {
         "name": "Primary vote ONP",
         "rawType": "float64",
         "type": "float"
        },
        {
         "name": "Primary vote TOP",
         "rawType": "float64",
         "type": "float"
        },
        {
         "name": "Primary vote OTH",
         "rawType": "float64",
         "type": "float"
        },
        {
         "name": "2pp vote ALP",
         "rawType": "float64",
         "type": "float"
        },
        {
         "name": "2pp vote L/NP",
         "rawType": "float64",
         "type": "float"
        },
        {
         "name": "Primary vote UAP",
         "rawType": "float64",
         "type": "float"
        },
        {
         "name": "First Date",
         "rawType": "datetime64[ns]",
         "type": "datetime"
        },
        {
         "name": "Mean Date",
         "rawType": "datetime64[ns]",
         "type": "datetime"
        },
        {
         "name": "Last Date",
         "rawType": "datetime64[ns]",
         "type": "datetime"
        }
       ],
       "conversionMethod": "pd.DataFrame",
       "ref": "d15684b8-52bc-41bb-888b-efaf656ba3f8",
       "rows": [
        [
         "197",
         "14–25 Oct 2024",
         "ANU",
         "Online",
         "3622.0",
         "42.636430317848415",
         "35.49315403422983",
         "13.170415647921761",
         null,
         null,
         null,
         "54.75",
         "54.75",
         null,
         "2024-10-14 00:00:00",
         "2024-10-19 00:00:00",
         "2024-10-25 00:00:00"
        ]
       ],
       "shape": {
        "columns": 16,
        "rows": 1
       }
      },
      "text/html": [
       "<div>\n",
       "<style scoped>\n",
       "    .dataframe tbody tr th:only-of-type {\n",
       "        vertical-align: middle;\n",
       "    }\n",
       "\n",
       "    .dataframe tbody tr th {\n",
       "        vertical-align: top;\n",
       "    }\n",
       "\n",
       "    .dataframe thead th {\n",
       "        text-align: right;\n",
       "    }\n",
       "</style>\n",
       "<table border=\"1\" class=\"dataframe\">\n",
       "  <thead>\n",
       "    <tr style=\"text-align: right;\">\n",
       "      <th></th>\n",
       "      <th>Date</th>\n",
       "      <th>Brand</th>\n",
       "      <th>Interview mode</th>\n",
       "      <th>Sample size</th>\n",
       "      <th>Primary vote L/NP</th>\n",
       "      <th>Primary vote ALP</th>\n",
       "      <th>Primary vote GRN</th>\n",
       "      <th>Primary vote ONP</th>\n",
       "      <th>Primary vote TOP</th>\n",
       "      <th>Primary vote OTH</th>\n",
       "      <th>2pp vote ALP</th>\n",
       "      <th>2pp vote L/NP</th>\n",
       "      <th>Primary vote UAP</th>\n",
       "      <th>First Date</th>\n",
       "      <th>Mean Date</th>\n",
       "      <th>Last Date</th>\n",
       "    </tr>\n",
       "  </thead>\n",
       "  <tbody>\n",
       "    <tr>\n",
       "      <th>197</th>\n",
       "      <td>14–25 Oct 2024</td>\n",
       "      <td>ANU</td>\n",
       "      <td>Online</td>\n",
       "      <td>3622.0</td>\n",
       "      <td>42.63643</td>\n",
       "      <td>35.493154</td>\n",
       "      <td>13.170416</td>\n",
       "      <td>NaN</td>\n",
       "      <td>NaN</td>\n",
       "      <td>NaN</td>\n",
       "      <td>54.75</td>\n",
       "      <td>54.75</td>\n",
       "      <td>NaN</td>\n",
       "      <td>2024-10-14</td>\n",
       "      <td>2024-10-19</td>\n",
       "      <td>2024-10-25</td>\n",
       "    </tr>\n",
       "  </tbody>\n",
       "</table>\n",
       "</div>"
      ],
      "text/plain": [
       "               Date Brand Interview mode  Sample size  Primary vote L/NP  \\\n",
       "197  14–25 Oct 2024   ANU         Online       3622.0           42.63643   \n",
       "\n",
       "     Primary vote ALP  Primary vote GRN  Primary vote ONP  Primary vote TOP  \\\n",
       "197         35.493154         13.170416               NaN               NaN   \n",
       "\n",
       "     Primary vote OTH  2pp vote ALP  2pp vote L/NP  Primary vote UAP  \\\n",
       "197               NaN         54.75          54.75               NaN   \n",
       "\n",
       "    First Date  Mean Date  Last Date  \n",
       "197 2024-10-14 2024-10-19 2024-10-25  "
      ]
     },
     "metadata": {},
     "output_type": "display_data"
    },
    {
     "name": "stdout",
     "output_type": "stream",
     "text": [
      "Changed to ...\n"
     ]
    },
    {
     "data": {
      "application/vnd.microsoft.datawrangler.viewer.v0+json": {
       "columns": [
        {
         "name": "index",
         "rawType": "int64",
         "type": "integer"
        },
        {
         "name": "Date",
         "rawType": "object",
         "type": "string"
        },
        {
         "name": "Brand",
         "rawType": "object",
         "type": "string"
        },
        {
         "name": "Interview mode",
         "rawType": "object",
         "type": "string"
        },
        {
         "name": "Sample size",
         "rawType": "float64",
         "type": "float"
        },
        {
         "name": "Primary vote L/NP",
         "rawType": "float64",
         "type": "float"
        },
        {
         "name": "Primary vote ALP",
         "rawType": "float64",
         "type": "float"
        },
        {
         "name": "Primary vote GRN",
         "rawType": "float64",
         "type": "float"
        },
        {
         "name": "Primary vote ONP",
         "rawType": "float64",
         "type": "float"
        },
        {
         "name": "Primary vote TOP",
         "rawType": "float64",
         "type": "float"
        },
        {
         "name": "Primary vote OTH",
         "rawType": "float64",
         "type": "float"
        },
        {
         "name": "2pp vote ALP",
         "rawType": "float64",
         "type": "float"
        },
        {
         "name": "2pp vote L/NP",
         "rawType": "float64",
         "type": "float"
        },
        {
         "name": "Primary vote UAP",
         "rawType": "float64",
         "type": "float"
        },
        {
         "name": "First Date",
         "rawType": "datetime64[ns]",
         "type": "datetime"
        },
        {
         "name": "Mean Date",
         "rawType": "datetime64[ns]",
         "type": "datetime"
        },
        {
         "name": "Last Date",
         "rawType": "datetime64[ns]",
         "type": "datetime"
        }
       ],
       "conversionMethod": "pd.DataFrame",
       "ref": "c8f6f752-7f01-4857-ac9d-1fe1703f986b",
       "rows": [
        [
         "197",
         "14–25 Oct 2024",
         "ANU",
         "Online",
         "3622.0",
         "42.636430317848415",
         "35.49315403422983",
         "13.170415647921761",
         null,
         null,
         "8.700000000000003",
         "54.75",
         "54.75",
         null,
         "2024-10-14 00:00:00",
         "2024-10-19 00:00:00",
         "2024-10-25 00:00:00"
        ]
       ],
       "shape": {
        "columns": 16,
        "rows": 1
       }
      },
      "text/html": [
       "<div>\n",
       "<style scoped>\n",
       "    .dataframe tbody tr th:only-of-type {\n",
       "        vertical-align: middle;\n",
       "    }\n",
       "\n",
       "    .dataframe tbody tr th {\n",
       "        vertical-align: top;\n",
       "    }\n",
       "\n",
       "    .dataframe thead th {\n",
       "        text-align: right;\n",
       "    }\n",
       "</style>\n",
       "<table border=\"1\" class=\"dataframe\">\n",
       "  <thead>\n",
       "    <tr style=\"text-align: right;\">\n",
       "      <th></th>\n",
       "      <th>Date</th>\n",
       "      <th>Brand</th>\n",
       "      <th>Interview mode</th>\n",
       "      <th>Sample size</th>\n",
       "      <th>Primary vote L/NP</th>\n",
       "      <th>Primary vote ALP</th>\n",
       "      <th>Primary vote GRN</th>\n",
       "      <th>Primary vote ONP</th>\n",
       "      <th>Primary vote TOP</th>\n",
       "      <th>Primary vote OTH</th>\n",
       "      <th>2pp vote ALP</th>\n",
       "      <th>2pp vote L/NP</th>\n",
       "      <th>Primary vote UAP</th>\n",
       "      <th>First Date</th>\n",
       "      <th>Mean Date</th>\n",
       "      <th>Last Date</th>\n",
       "    </tr>\n",
       "  </thead>\n",
       "  <tbody>\n",
       "    <tr>\n",
       "      <th>197</th>\n",
       "      <td>14–25 Oct 2024</td>\n",
       "      <td>ANU</td>\n",
       "      <td>Online</td>\n",
       "      <td>3622.0</td>\n",
       "      <td>42.63643</td>\n",
       "      <td>35.493154</td>\n",
       "      <td>13.170416</td>\n",
       "      <td>NaN</td>\n",
       "      <td>NaN</td>\n",
       "      <td>8.7</td>\n",
       "      <td>54.75</td>\n",
       "      <td>54.75</td>\n",
       "      <td>NaN</td>\n",
       "      <td>2024-10-14</td>\n",
       "      <td>2024-10-19</td>\n",
       "      <td>2024-10-25</td>\n",
       "    </tr>\n",
       "  </tbody>\n",
       "</table>\n",
       "</div>"
      ],
      "text/plain": [
       "               Date Brand Interview mode  Sample size  Primary vote L/NP  \\\n",
       "197  14–25 Oct 2024   ANU         Online       3622.0           42.63643   \n",
       "\n",
       "     Primary vote ALP  Primary vote GRN  Primary vote ONP  Primary vote TOP  \\\n",
       "197         35.493154         13.170416               NaN               NaN   \n",
       "\n",
       "     Primary vote OTH  2pp vote ALP  2pp vote L/NP  Primary vote UAP  \\\n",
       "197               8.7         54.75          54.75               NaN   \n",
       "\n",
       "    First Date  Mean Date  Last Date  \n",
       "197 2024-10-14 2024-10-19 2024-10-25  "
      ]
     },
     "metadata": {},
     "output_type": "display_data"
    },
    {
     "name": "stdout",
     "output_type": "stream",
     "text": [
      "dict_keys(['voting-intention', 'attitudinal', 'NSW', 'VIC', 'QLD', 'WA', 'SA', 'TAS', 'NT'])\n"
     ]
    }
   ],
   "source": [
    "def fix_primary_other(data_dict: dict[str, pd.DataFrame]) -> dict[str, pd.DataFrame]:\n",
    "    \"\"\"\n",
    "    Ensure that the 'Primary vote OTH' column is data populated.\n",
    "    \"\"\"\n",
    "\n",
    "    other = \"Primary vote OTH\"\n",
    "    majors = [\"L/NP\", \"ALP\", \"GRN\"]\n",
    "    minor_p = [\n",
    "        x\n",
    "        for x in data[VOTING_INTENTION].columns\n",
    "        if \"Primary\" in x and not any(z in x for z in majors)\n",
    "    ]\n",
    "    major_p = [\n",
    "        x\n",
    "        for x in data[VOTING_INTENTION].columns\n",
    "        if \"Primary\" in x and any(z in x for z in majors)\n",
    "    ]\n",
    "\n",
    "    rows = data[VOTING_INTENTION][minor_p].isna().sum(axis=1) == len(minor_p)\n",
    "    if rows.sum() > 0:\n",
    "        print(\"Changed from ...\")\n",
    "        display(data[VOTING_INTENTION].loc[rows])\n",
    "        data[VOTING_INTENTION].loc[rows, other] = 100 - data[VOTING_INTENTION].loc[\n",
    "            rows, major_p\n",
    "        ].sum(axis=1)\n",
    "\n",
    "        print(\"Changed to ...\")\n",
    "        display(data[VOTING_INTENTION].loc[rows])\n",
    "\n",
    "    return data_dict\n",
    "\n",
    "\n",
    "data = fix_primary_other(data)\n",
    "print(data.keys())"
   ]
  },
  {
   "cell_type": "markdown",
   "id": "a900cff3-2ba2-43dd-a32d-54ee78695cb5",
   "metadata": {},
   "source": [
    "## Forced data normalisation\n",
    "\n",
    "Force columns that should sum to 100 to sum to 100. \n",
    "(But we only normalise if the sum is <99 or >101.)\n",
    "\n",
    "This is a very aggressive treatment, and the rows being forced into\n",
    "submission need to be considered and reflected upon from time to time."
   ]
  },
  {
   "cell_type": "code",
   "execution_count": 12,
   "id": "d1013a70-f49a-46f1-9de8-9cfda1a1f061",
   "metadata": {},
   "outputs": [
    {
     "name": "stdout",
     "output_type": "stream",
     "text": [
      "17.90% of rows need normalisation - for voting-intention, Primary.\n",
      "7.39% of rows need normalisation - for voting-intention, 2pp.\n",
      "9.40% of rows need normalisation - for attitudinal, ^Dutton (Satisfied|Dissatisfied|Don't Know).\n",
      "14.09% of rows need normalisation - for attitudinal, ^Albanese (Satisfied|Dissatisfied|Don't Know).\n",
      "1.34% of rows need normalisation - for attitudinal, Preferred [Pp]rime [Mm]inister (Dutton|Albanese|Don't Know).\n",
      "31.91% of rows need normalisation - for NSW, Primary.\n",
      "0.00% of rows need normalisation - for NSW, 2pp.\n",
      "30.61% of rows need normalisation - for VIC, Primary.\n",
      "0.00% of rows need normalisation - for VIC, 2pp.\n",
      "31.25% of rows need normalisation - for QLD, Primary.\n",
      "0.00% of rows need normalisation - for QLD, 2pp.\n",
      "5.56% of rows need normalisation - for WA, Primary.\n",
      "0.00% of rows need normalisation - for WA, 2pp.\n",
      "0.00% of rows need normalisation - for SA, Primary.\n",
      "0.00% of rows need normalisation - for SA, 2pp.\n",
      "25.00% of rows need normalisation - for TAS, Primary.\n",
      "0.00% of rows need normalisation - for TAS, 2pp.\n",
      "0.00% of rows need normalisation - for NT, Primary.\n",
      "0.00% of rows need normalisation - for NT, 2pp.\n",
      "dict_keys(['voting-intention', 'attitudinal', 'NSW', 'VIC', 'QLD', 'WA', 'SA', 'TAS', 'NT'])\n"
     ]
    }
   ],
   "source": [
    "# All the columns that match the CHECKABLE_100 patterns\n",
    "# are checked to ensure that they sum to 100. If not, they\n",
    "# are upweighted/downweighted to sum to 100.\n",
    "\n",
    "CHECKABLE_100: dict[str, list[str]] = {\n",
    "    # label: [list of regex-patterns],\n",
    "    VOTING_INTENTION: [\n",
    "        r\"Primary\",\n",
    "        r\"2pp\",\n",
    "    ],\n",
    "    ATTITUDINAL: [\n",
    "        r\"^Dutton (Satisfied|Dissatisfied|Don't Know)\",\n",
    "        r\"^Albanese (Satisfied|Dissatisfied|Don't Know)\",\n",
    "        r\"Preferred [Pp]rime [Mm]inister (Dutton|Albanese|Don't Know)\",\n",
    "    ],\n",
    "}\n",
    "for state in STATES:\n",
    "    CHECKABLE_100[state] = CHECKABLE_100[VOTING_INTENTION].copy()\n",
    "\n",
    "data = dc.normalise(data, CHECKABLE_100, verbose=False)\n",
    "\n",
    "print(data.keys())"
   ]
  },
  {
   "cell_type": "markdown",
   "id": "601f62cb",
   "metadata": {},
   "source": [
    "### Recalculate Net attitudinal"
   ]
  },
  {
   "cell_type": "code",
   "execution_count": 13,
   "id": "a3ec9bef",
   "metadata": {},
   "outputs": [],
   "source": [
    "# still to write this function"
   ]
  },
  {
   "cell_type": "markdown",
   "id": "8ae956f5-23ae-4440-b82e-57537a44fee5",
   "metadata": {},
   "source": [
    "## Manage methodology changes"
   ]
  },
  {
   "cell_type": "code",
   "execution_count": 14,
   "id": "54fe434e-fcef-46c4-be07-47e94af33ba0",
   "metadata": {},
   "outputs": [
    {
     "name": "stdout",
     "output_type": "stream",
     "text": [
      "dict_keys(['voting-intention', 'attitudinal', 'NSW', 'VIC', 'QLD', 'WA', 'SA', 'TAS', 'NT'])\n"
     ]
    }
   ],
   "source": [
    "def methodology_change(data_dict: dict[str, pd.DataFrame]) -> dict[str, pd.DataFrame]:\n",
    "    \"\"\"\n",
    "    If a pollster firm substantially change the way in which they\n",
    "    collect data we need to reflect this in the branding for the poll.\n",
    "    \"\"\"\n",
    "\n",
    "    # Essential added education into its weighting\n",
    "    # from the last poll in October 2023.\n",
    "    effective_date = \"2023-10-24\"\n",
    "    change_from = \"Essential\"\n",
    "    change_to = \"Essential 2\"\n",
    "    data_dict = dc.methodology(data_dict, effective_date, change_from, change_to)\n",
    "\n",
    "    # Resolve Strategic appears to have changed in 2024\n",
    "    effective_date = \"2024-01-01\"\n",
    "    change_from = \"Resolve Strategic\"\n",
    "    change_to = \"Resolve Strategic 2\"\n",
    "    data_dict = dc.methodology(data_dict, effective_date, change_from, change_to)\n",
    "\n",
    "    # Newspoll changed its methodology in 2025\n",
    "    effective_date = \"2025-02-01\"\n",
    "    change_from = \"Newspoll\"\n",
    "    change_to = \"Newspoll 2\"\n",
    "    data_dict = dc.methodology(data_dict, effective_date, change_from, change_to)\n",
    "\n",
    "    return data_dict\n",
    "\n",
    "\n",
    "data = methodology_change(data)\n",
    "print(data.keys())"
   ]
  },
  {
   "cell_type": "markdown",
   "id": "4be81eee-d733-48f9-a68f-8679ed68c596",
   "metadata": {},
   "source": [
    "## Final data validation\n",
    "\n",
    "Please check any rows identified as a result of this step."
   ]
  },
  {
   "cell_type": "code",
   "execution_count": 15,
   "id": "64fa4e68-7112-4cce-8ab6-2ec485f89ef1",
   "metadata": {},
   "outputs": [
    {
     "name": "stdout",
     "output_type": "stream",
     "text": [
      "Row-sum check: voting-intention ['Primary', '2pp'] looks good.\n",
      "\n",
      "Row-sum check: attitudinal [\"^Dutton (Satisfied|Dissatisfied|Don't Know)\", \"^Albanese (Satisfied|Dissatisfied|Don't Know)\", \"Preferred [Pp]rime [Mm]inister (Dutton|Albanese|Don't Know)\"] looks good.\n",
      "\n",
      "Row-sum check: NSW ['Primary', '2pp'] looks good.\n",
      "\n",
      "VIC ['Primary', '2pp']: Major Primary Vote looks PROBLEMATIC!\n"
     ]
    },
    {
     "data": {
      "application/vnd.microsoft.datawrangler.viewer.v0+json": {
       "columns": [
        {
         "name": "index",
         "rawType": "int64",
         "type": "integer"
        },
        {
         "name": "Date",
         "rawType": "object",
         "type": "string"
        },
        {
         "name": "Brand",
         "rawType": "object",
         "type": "string"
        },
        {
         "name": "Sample size",
         "rawType": "float64",
         "type": "float"
        },
        {
         "name": "Primary vote L/NP",
         "rawType": "float64",
         "type": "float"
        },
        {
         "name": "Primary vote ALP",
         "rawType": "float64",
         "type": "float"
        },
        {
         "name": "Primary vote GRN",
         "rawType": "float64",
         "type": "float"
        },
        {
         "name": "Primary vote UAP",
         "rawType": "float64",
         "type": "float"
        },
        {
         "name": "Primary vote ONP",
         "rawType": "float64",
         "type": "float"
        },
        {
         "name": "Primary vote IND",
         "rawType": "float64",
         "type": "float"
        },
        {
         "name": "Primary vote OTH",
         "rawType": "float64",
         "type": "float"
        },
        {
         "name": "2pp vote ALP",
         "rawType": "float64",
         "type": "float"
        },
        {
         "name": "2pp vote L/NP",
         "rawType": "float64",
         "type": "float"
        },
        {
         "name": "First Date",
         "rawType": "datetime64[ns]",
         "type": "datetime"
        },
        {
         "name": "Mean Date",
         "rawType": "datetime64[ns]",
         "type": "datetime"
        },
        {
         "name": "Last Date",
         "rawType": "datetime64[ns]",
         "type": "datetime"
        }
       ],
       "conversionMethod": "pd.DataFrame",
       "ref": "531cec1f-5521-4ced-9b03-207a67ca4207",
       "rows": [
        [
         "38",
         "4–11 Feb 2025",
         "RedBridge/Accent",
         "261.0",
         "51.0",
         "31.0",
         "8.0",
         null,
         null,
         null,
         "10.0",
         "42.0",
         "57.99999999999999",
         "2025-02-04 00:00:00",
         "2025-02-07 00:00:00",
         "2025-02-11 00:00:00"
        ]
       ],
       "shape": {
        "columns": 15,
        "rows": 1
       }
      },
      "text/html": [
       "<div>\n",
       "<style scoped>\n",
       "    .dataframe tbody tr th:only-of-type {\n",
       "        vertical-align: middle;\n",
       "    }\n",
       "\n",
       "    .dataframe tbody tr th {\n",
       "        vertical-align: top;\n",
       "    }\n",
       "\n",
       "    .dataframe thead th {\n",
       "        text-align: right;\n",
       "    }\n",
       "</style>\n",
       "<table border=\"1\" class=\"dataframe\">\n",
       "  <thead>\n",
       "    <tr style=\"text-align: right;\">\n",
       "      <th></th>\n",
       "      <th>Date</th>\n",
       "      <th>Brand</th>\n",
       "      <th>Sample size</th>\n",
       "      <th>Primary vote L/NP</th>\n",
       "      <th>Primary vote ALP</th>\n",
       "      <th>Primary vote GRN</th>\n",
       "      <th>Primary vote UAP</th>\n",
       "      <th>Primary vote ONP</th>\n",
       "      <th>Primary vote IND</th>\n",
       "      <th>Primary vote OTH</th>\n",
       "      <th>2pp vote ALP</th>\n",
       "      <th>2pp vote L/NP</th>\n",
       "      <th>First Date</th>\n",
       "      <th>Mean Date</th>\n",
       "      <th>Last Date</th>\n",
       "    </tr>\n",
       "  </thead>\n",
       "  <tbody>\n",
       "    <tr>\n",
       "      <th>38</th>\n",
       "      <td>4–11 Feb 2025</td>\n",
       "      <td>RedBridge/Accent</td>\n",
       "      <td>261.0</td>\n",
       "      <td>51.0</td>\n",
       "      <td>31.0</td>\n",
       "      <td>8.0</td>\n",
       "      <td>NaN</td>\n",
       "      <td>NaN</td>\n",
       "      <td>NaN</td>\n",
       "      <td>10.0</td>\n",
       "      <td>42.0</td>\n",
       "      <td>58.0</td>\n",
       "      <td>2025-02-04</td>\n",
       "      <td>2025-02-07</td>\n",
       "      <td>2025-02-11</td>\n",
       "    </tr>\n",
       "  </tbody>\n",
       "</table>\n",
       "</div>"
      ],
      "text/plain": [
       "             Date             Brand  Sample size  Primary vote L/NP  \\\n",
       "38  4–11 Feb 2025  RedBridge/Accent        261.0               51.0   \n",
       "\n",
       "    Primary vote ALP  Primary vote GRN  Primary vote UAP  Primary vote ONP  \\\n",
       "38              31.0               8.0               NaN               NaN   \n",
       "\n",
       "    Primary vote IND  Primary vote OTH  2pp vote ALP  2pp vote L/NP  \\\n",
       "38               NaN              10.0          42.0           58.0   \n",
       "\n",
       "   First Date  Mean Date  Last Date  \n",
       "38 2025-02-04 2025-02-07 2025-02-11  "
      ]
     },
     "metadata": {},
     "output_type": "display_data"
    },
    {
     "name": "stdout",
     "output_type": "stream",
     "text": [
      "Row-sum check: VIC ['Primary', '2pp'] looks good.\n",
      "\n",
      "Row-sum check: QLD ['Primary', '2pp'] looks good.\n",
      "\n",
      "WA ['Primary', '2pp']: Major Primary Vote looks PROBLEMATIC!\n"
     ]
    },
    {
     "data": {
      "application/vnd.microsoft.datawrangler.viewer.v0+json": {
       "columns": [
        {
         "name": "index",
         "rawType": "int64",
         "type": "integer"
        },
        {
         "name": "Date",
         "rawType": "object",
         "type": "string"
        },
        {
         "name": "Brand",
         "rawType": "object",
         "type": "string"
        },
        {
         "name": "Sample size",
         "rawType": "float64",
         "type": "float"
        },
        {
         "name": "Primary vote ALP",
         "rawType": "float64",
         "type": "float"
        },
        {
         "name": "Primary vote L/NP",
         "rawType": "float64",
         "type": "float"
        },
        {
         "name": "Primary vote GRN",
         "rawType": "float64",
         "type": "float"
        },
        {
         "name": "Primary vote ONP",
         "rawType": "float64",
         "type": "float"
        },
        {
         "name": "Primary vote UAP",
         "rawType": "float64",
         "type": "float"
        },
        {
         "name": "Primary vote OTH",
         "rawType": "float64",
         "type": "float"
        },
        {
         "name": "Primary vote UND",
         "rawType": "float64",
         "type": "float"
        },
        {
         "name": "2pp vote ALP",
         "rawType": "float64",
         "type": "float"
        },
        {
         "name": "2pp vote L/NP",
         "rawType": "float64",
         "type": "float"
        },
        {
         "name": "First Date",
         "rawType": "datetime64[ns]",
         "type": "datetime"
        },
        {
         "name": "Mean Date",
         "rawType": "datetime64[ns]",
         "type": "datetime"
        },
        {
         "name": "Last Date",
         "rawType": "datetime64[ns]",
         "type": "datetime"
        }
       ],
       "conversionMethod": "pd.DataFrame",
       "ref": "cfa4299c-950f-44f2-b1f2-44e82f554a9e",
       "rows": [
        [
         "9",
         "1–10 Oct 2024",
         "Redbridge",
         "1514.0",
         "50.72463768115942",
         "49.275362318840585",
         null,
         null,
         null,
         null,
         null,
         "54.50000000000001",
         "45.5",
         "2024-10-01 00:00:00",
         "2024-10-05 00:00:00",
         "2024-10-10 00:00:00"
        ]
       ],
       "shape": {
        "columns": 15,
        "rows": 1
       }
      },
      "text/html": [
       "<div>\n",
       "<style scoped>\n",
       "    .dataframe tbody tr th:only-of-type {\n",
       "        vertical-align: middle;\n",
       "    }\n",
       "\n",
       "    .dataframe tbody tr th {\n",
       "        vertical-align: top;\n",
       "    }\n",
       "\n",
       "    .dataframe thead th {\n",
       "        text-align: right;\n",
       "    }\n",
       "</style>\n",
       "<table border=\"1\" class=\"dataframe\">\n",
       "  <thead>\n",
       "    <tr style=\"text-align: right;\">\n",
       "      <th></th>\n",
       "      <th>Date</th>\n",
       "      <th>Brand</th>\n",
       "      <th>Sample size</th>\n",
       "      <th>Primary vote ALP</th>\n",
       "      <th>Primary vote L/NP</th>\n",
       "      <th>Primary vote GRN</th>\n",
       "      <th>Primary vote ONP</th>\n",
       "      <th>Primary vote UAP</th>\n",
       "      <th>Primary vote OTH</th>\n",
       "      <th>Primary vote UND</th>\n",
       "      <th>2pp vote ALP</th>\n",
       "      <th>2pp vote L/NP</th>\n",
       "      <th>First Date</th>\n",
       "      <th>Mean Date</th>\n",
       "      <th>Last Date</th>\n",
       "    </tr>\n",
       "  </thead>\n",
       "  <tbody>\n",
       "    <tr>\n",
       "      <th>9</th>\n",
       "      <td>1–10 Oct 2024</td>\n",
       "      <td>Redbridge</td>\n",
       "      <td>1514.0</td>\n",
       "      <td>50.724638</td>\n",
       "      <td>49.275362</td>\n",
       "      <td>NaN</td>\n",
       "      <td>NaN</td>\n",
       "      <td>NaN</td>\n",
       "      <td>NaN</td>\n",
       "      <td>NaN</td>\n",
       "      <td>54.5</td>\n",
       "      <td>45.5</td>\n",
       "      <td>2024-10-01</td>\n",
       "      <td>2024-10-05</td>\n",
       "      <td>2024-10-10</td>\n",
       "    </tr>\n",
       "  </tbody>\n",
       "</table>\n",
       "</div>"
      ],
      "text/plain": [
       "            Date      Brand  Sample size  Primary vote ALP  Primary vote L/NP  \\\n",
       "9  1–10 Oct 2024  Redbridge       1514.0         50.724638          49.275362   \n",
       "\n",
       "   Primary vote GRN  Primary vote ONP  Primary vote UAP  Primary vote OTH  \\\n",
       "9               NaN               NaN               NaN               NaN   \n",
       "\n",
       "   Primary vote UND  2pp vote ALP  2pp vote L/NP First Date  Mean Date  \\\n",
       "9               NaN          54.5           45.5 2024-10-01 2024-10-05   \n",
       "\n",
       "   Last Date  \n",
       "9 2024-10-10  "
      ]
     },
     "metadata": {},
     "output_type": "display_data"
    },
    {
     "name": "stdout",
     "output_type": "stream",
     "text": [
      "Row-sum check: WA ['Primary', '2pp'] looks good.\n",
      "\n",
      "Row-sum check: SA ['Primary', '2pp'] looks good.\n",
      "\n",
      "Row-sum check: TAS ['Primary', '2pp'] looks good.\n",
      "\n",
      "Row-sum check: NT ['Primary', '2pp'] looks good.\n",
      "\n"
     ]
    }
   ],
   "source": [
    "def final_check(data_dict: dict[str, pd.DataFrame]) -> None:\n",
    "    \"\"\"Check the final data for any anomalies.\"\"\"\n",
    "\n",
    "    for label, check_list in CHECKABLE_100.items():\n",
    "        # check for primary vote columns where:\n",
    "        # - major party voting is too high\n",
    "        # - green vote is too low or too high\n",
    "\n",
    "        too_much_major_party_vote = 80\n",
    "        too_little_major_party_vote = 55\n",
    "        green_too_low = 6\n",
    "        green_too_high = 17\n",
    "\n",
    "        if \"Primary\" in check_list:\n",
    "\n",
    "            # check major primary vote share\n",
    "            table = data_dict[label]\n",
    "            m = table.columns[table.columns.str.contains(\"Primary\")]\n",
    "            m = m[m.str.contains(\"ALP|L/NP|CLP|LNP\")]\n",
    "            row_sums = table[m].sum(axis=1, skipna=True)  # ignore NaNs\n",
    "            t = table.loc[\n",
    "                (row_sums > 0)  # ignore how NaN rows are row-summed\n",
    "                & (\n",
    "                    (row_sums < too_little_major_party_vote)\n",
    "                    | (row_sums > too_much_major_party_vote)\n",
    "                )\n",
    "            ]\n",
    "            if not t.empty:\n",
    "                print(f\"{label} {check_list}: Major Primary Vote looks PROBLEMATIC!\")\n",
    "                display(t)\n",
    "\n",
    "            # check Green vote is too low or too high\n",
    "            g = table[\"Primary vote GRN\"]\n",
    "            t = table.loc[(g < green_too_low) | (g > green_too_high)]\n",
    "            if not t.empty:\n",
    "                print(f\"{label} {check_list}: Green Primary Vote looks PROBLEMATIC!\")\n",
    "                display(t)\n",
    "\n",
    "        # check row sums to 100\n",
    "        row_check: pd.DataFrame | None = dc.row_sum_check(\n",
    "            data_dict[label], check_list, tolerance=1.01\n",
    "        )\n",
    "        if row_check is None or row_check.empty:\n",
    "            print(f\"Row-sum check: {label} {check_list} looks good.\\n\")\n",
    "            continue\n",
    "        print(label, check_list)\n",
    "        display(row_check)\n",
    "        print(\"\\n\")\n",
    "\n",
    "\n",
    "final_check(data)"
   ]
  },
  {
   "cell_type": "code",
   "execution_count": 16,
   "id": "be2234f3",
   "metadata": {},
   "outputs": [
    {
     "name": "stdout",
     "output_type": "stream",
     "text": [
      "dict_keys(['voting-intention', 'attitudinal', 'NSW', 'VIC', 'QLD', 'WA', 'SA', 'TAS', 'NT'])\n"
     ]
    }
   ],
   "source": [
    "print(data.keys())"
   ]
  },
  {
   "cell_type": "markdown",
   "id": "0b0465ed-e9a2-4f5d-82bc-42f317de3a85",
   "metadata": {},
   "source": [
    "## Save the checked data"
   ]
  },
  {
   "cell_type": "code",
   "execution_count": 17,
   "id": "a9afa44e-32b7-40cf-8429-ba83c584246b",
   "metadata": {},
   "outputs": [],
   "source": [
    "dc.store(data)"
   ]
  },
  {
   "cell_type": "markdown",
   "id": "0ebaf4dd-cd57-46c1-8212-b9786256c6e9",
   "metadata": {},
   "source": [
    "## All done"
   ]
  },
  {
   "cell_type": "code",
   "execution_count": 18,
   "id": "77121a70-203f-4178-9818-42e44aee0aeb",
   "metadata": {},
   "outputs": [
    {
     "name": "stdout",
     "output_type": "stream",
     "text": [
      "Python implementation: CPython\n",
      "Python version       : 3.13.2\n",
      "IPython version      : 9.0.2\n",
      "\n",
      "conda environment: 313\n",
      "\n",
      "Compiler    : Clang 18.1.8 \n",
      "OS          : Darwin\n",
      "Release     : 24.3.0\n",
      "Machine     : arm64\n",
      "Processor   : arm\n",
      "CPU cores   : 14\n",
      "Architecture: 64bit\n",
      "\n",
      "pandas : 2.2.3\n",
      "IPython: 9.0.2\n",
      "\n",
      "Watermark: 2.5.0\n",
      "\n"
     ]
    }
   ],
   "source": [
    "%load_ext watermark\n",
    "%watermark --python --machine --conda --iversions --watermark"
   ]
  },
  {
   "cell_type": "code",
   "execution_count": 19,
   "id": "7dbae4fc-61f1-40db-b434-4e234a397230",
   "metadata": {},
   "outputs": [
    {
     "name": "stdout",
     "output_type": "stream",
     "text": [
      "Finished\n"
     ]
    }
   ],
   "source": [
    "print(\"Finished\")"
   ]
  }
 ],
 "metadata": {
  "kernelspec": {
   "display_name": "313",
   "language": "python",
   "name": "python3"
  },
  "language_info": {
   "codemirror_mode": {
    "name": "ipython",
    "version": 3
   },
   "file_extension": ".py",
   "mimetype": "text/x-python",
   "name": "python",
   "nbconvert_exporter": "python",
   "pygments_lexer": "ipython3",
   "version": "3.13.2"
  },
  "latex_envs": {
   "LaTeX_envs_menu_present": true,
   "autoclose": false,
   "autocomplete": true,
   "bibliofile": "biblio.bib",
   "cite_by": "apalike",
   "current_citInitial": 1,
   "eqLabelWithNumbers": true,
   "eqNumInitial": 1,
   "hotkeys": {
    "equation": "Ctrl-E",
    "itemize": "Ctrl-I"
   },
   "labels_anchors": false,
   "latex_user_defs": false,
   "report_style_numbering": false,
   "user_envs_cfg": false
  },
  "toc": {
   "base_numbering": 1,
   "nav_menu": {},
   "number_sections": true,
   "sideBar": true,
   "skip_h1_title": true,
   "title_cell": "Table of Contents",
   "title_sidebar": "Contents",
   "toc_cell": true,
   "toc_position": {
    "height": "calc(100% - 180px)",
    "left": "10px",
    "top": "150px",
    "width": "236.10714721679688px"
   },
   "toc_section_display": true,
   "toc_window_display": true
  },
  "varInspector": {
   "cols": {
    "lenName": 16,
    "lenType": 16,
    "lenVar": 40
   },
   "kernels_config": {
    "python": {
     "delete_cmd_postfix": "",
     "delete_cmd_prefix": "del ",
     "library": "var_list.py",
     "varRefreshCmd": "print(var_dic_list())"
    },
    "r": {
     "delete_cmd_postfix": ") ",
     "delete_cmd_prefix": "rm(",
     "library": "var_list.r",
     "varRefreshCmd": "cat(var_dic_list()) "
    }
   },
   "types_to_exclude": [
    "module",
    "function",
    "builtin_function_or_method",
    "instance",
    "_Feature"
   ],
   "window_display": false
  }
 },
 "nbformat": 4,
 "nbformat_minor": 5
}
