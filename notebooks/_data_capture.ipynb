{
 "cells": [
  {
   "cell_type": "markdown",
   "id": "2bb64488",
   "metadata": {},
   "source": [
    "# Polling data capture from Wikipedia\n",
    "\n",
    "**Make sure to:**\n",
    " * run before doing any analysis; and\n",
    " * check the data validation before moving on to the analysis."
   ]
  },
  {
   "cell_type": "markdown",
   "id": "1c6f7a2c",
   "metadata": {},
   "source": [
    "## Python setup"
   ]
  },
  {
   "cell_type": "code",
   "execution_count": 1,
   "id": "4b90d24a",
   "metadata": {
    "ExecuteTime": {
     "end_time": "2022-03-13T22:25:13.328981Z",
     "start_time": "2022-03-13T22:24:53.839884Z"
    }
   },
   "outputs": [],
   "source": [
    "# analytic imports\n",
    "import pandas as pd"
   ]
  },
  {
   "cell_type": "code",
   "execution_count": 2,
   "id": "8b669b39-b527-48b0-8022-58b33614ae8d",
   "metadata": {},
   "outputs": [],
   "source": [
    "# local imports\n",
    "import data_capture as dc\n",
    "from common import ATTITUDINAL, MIDDLE_DATE, VOTING_INTENTION"
   ]
  },
  {
   "cell_type": "markdown",
   "id": "3fe40d91-94ed-46a4-8e65-68b3d5e44ecf",
   "metadata": {},
   "source": [
    "## Get raw polling data from Wikipedia"
   ]
  },
  {
   "cell_type": "markdown",
   "id": "e94f9836-f478-4cb1-a1f3-994f02aa046b",
   "metadata": {},
   "source": [
    "Note: web-scraping of data is fragile. \n",
    "This code will need to be checked from time to time."
   ]
  },
  {
   "cell_type": "markdown",
   "id": "5e62901a-37eb-4193-af8a-c612c0d69015",
   "metadata": {},
   "source": [
    "### Get all tables from the Wikipedia web page"
   ]
  },
  {
   "cell_type": "code",
   "execution_count": 3,
   "id": "e79f5630-3d91-4b72-9a4c-a980e258d719",
   "metadata": {},
   "outputs": [
    {
     "name": "stdout",
     "output_type": "stream",
     "text": [
      "Total number of tables on page: 42\n"
     ]
    }
   ],
   "source": [
    "URL = (\n",
    "    \"https://en.wikipedia.org/wiki/\" +\n",
    "    \"Opinion_polling_for_the_2025_Australian_federal_election\"\n",
    "    #\"Opinion_polling_for_the_next_Australian_federal_election\"  # changed November 2025\n",
    ")\n",
    "df_list = dc.get_table_list(URL)\n",
    "print(f\"Total number of tables on page: {len(df_list)}\")"
   ]
  },
  {
   "cell_type": "code",
   "execution_count": 4,
   "id": "5a910ecf-c48c-460d-9957-5506e096b2cc",
   "metadata": {},
   "outputs": [],
   "source": [
    "# KEEP CELL - quick overview of all the tables at Wiki ...\n",
    "if False:  # True to print\n",
    "    for i, table in enumerate(df_list):\n",
    "        print(f\"{i}: {table.columns}\\n\")"
   ]
  },
  {
   "cell_type": "markdown",
   "id": "535835fe-5209-408e-a9cf-085d8583877d",
   "metadata": {},
   "source": [
    "### Data select, merge and clean"
   ]
  },
  {
   "cell_type": "markdown",
   "id": "4ef5f4f8-de1b-499a-ac15-eacf42ae06ed",
   "metadata": {},
   "source": [
    "Note: For this election cycle, Wikipedia has separate tables for each\n",
    "calendar year. These tables will need to be updated below each year`m"
   ]
  },
  {
   "cell_type": "code",
   "execution_count": 5,
   "id": "c27b1fd5-8aef-4d66-8a55-2ed1368b9b2e",
   "metadata": {},
   "outputs": [
    {
     "name": "stdout",
     "output_type": "stream",
     "text": [
      "Collating: voting-intention (3, 4, 5, 6)\n"
     ]
    },
    {
     "ename": "AttributeError",
     "evalue": "'DataFrame' object has no attribute 'str'",
     "output_type": "error",
     "traceback": [
      "\u001b[0;31m---------------------------------------------------------------------------\u001b[0m",
      "\u001b[0;31mAttributeError\u001b[0m                            Traceback (most recent call last)",
      "\u001b[0;32m/var/folders/96/8bhlz_x975z93glbxq_2_yqr0000gn/T/ipykernel_2308/4014663984.py\u001b[0m in \u001b[0;36m?\u001b[0;34m()\u001b[0m\n\u001b[1;32m      7\u001b[0m \u001b[0mdata\u001b[0m \u001b[0;34m=\u001b[0m \u001b[0;34m{\u001b[0m\u001b[0;34m}\u001b[0m\u001b[0;34m\u001b[0m\u001b[0;34m\u001b[0m\u001b[0m\n\u001b[1;32m      8\u001b[0m \u001b[0;32mfor\u001b[0m \u001b[0mlabel\u001b[0m\u001b[0;34m,\u001b[0m \u001b[0mtable_list\u001b[0m \u001b[0;32min\u001b[0m \u001b[0mprep\u001b[0m\u001b[0;34m.\u001b[0m\u001b[0mitems\u001b[0m\u001b[0;34m(\u001b[0m\u001b[0;34m)\u001b[0m\u001b[0;34m:\u001b[0m\u001b[0;34m\u001b[0m\u001b[0;34m\u001b[0m\u001b[0m\n\u001b[1;32m      9\u001b[0m     \u001b[0mprint\u001b[0m\u001b[0;34m(\u001b[0m\u001b[0;34m\"Collating:\"\u001b[0m\u001b[0;34m,\u001b[0m \u001b[0mlabel\u001b[0m\u001b[0;34m,\u001b[0m \u001b[0mtable_list\u001b[0m\u001b[0;34m)\u001b[0m\u001b[0;34m\u001b[0m\u001b[0;34m\u001b[0m\u001b[0m\n\u001b[1;32m     10\u001b[0m     \u001b[0mtable\u001b[0m \u001b[0;34m=\u001b[0m \u001b[0mdc\u001b[0m\u001b[0;34m.\u001b[0m\u001b[0mget_combined_table\u001b[0m\u001b[0;34m(\u001b[0m\u001b[0mdf_list\u001b[0m\u001b[0;34m,\u001b[0m \u001b[0mtable_list\u001b[0m\u001b[0;34m,\u001b[0m \u001b[0mverbose\u001b[0m\u001b[0;34m=\u001b[0m\u001b[0;32mFalse\u001b[0m\u001b[0;34m)\u001b[0m\u001b[0;34m.\u001b[0m\u001b[0mcopy\u001b[0m\u001b[0;34m(\u001b[0m\u001b[0;34m)\u001b[0m\u001b[0;34m\u001b[0m\u001b[0;34m\u001b[0m\u001b[0m\n\u001b[0;32m---> 11\u001b[0;31m     \u001b[0mtable\u001b[0m \u001b[0;34m=\u001b[0m \u001b[0mdc\u001b[0m\u001b[0;34m.\u001b[0m\u001b[0mclean\u001b[0m\u001b[0;34m(\u001b[0m\u001b[0mtable\u001b[0m\u001b[0;34m)\u001b[0m\u001b[0;34m\u001b[0m\u001b[0;34m\u001b[0m\u001b[0m\n\u001b[0m\u001b[1;32m     12\u001b[0m     \u001b[0mdata\u001b[0m\u001b[0;34m[\u001b[0m\u001b[0mlabel\u001b[0m\u001b[0;34m]\u001b[0m \u001b[0;34m=\u001b[0m \u001b[0mtable\u001b[0m\u001b[0;34m\u001b[0m\u001b[0;34m\u001b[0m\u001b[0m\n\u001b[1;32m     13\u001b[0m     \u001b[0mprint\u001b[0m\u001b[0;34m(\u001b[0m\u001b[0;34mf\"\u001b[0m\u001b[0;34m{\u001b[0m\u001b[0mlabel\u001b[0m\u001b[0;34m}\u001b[0m\u001b[0;34m: \u001b[0m\u001b[0;34m{\u001b[0m\u001b[0mlen\u001b[0m\u001b[0;34m(\u001b[0m\u001b[0mtable\u001b[0m\u001b[0;34m)\u001b[0m\u001b[0;34m}\u001b[0m\u001b[0;34m rows \u001b[0m\u001b[0;34m{\u001b[0m\u001b[0mtable\u001b[0m\u001b[0;34m.\u001b[0m\u001b[0mindex\u001b[0m\u001b[0;34m}\u001b[0m\u001b[0;34m\"\u001b[0m\u001b[0;34m)\u001b[0m\u001b[0;34m\u001b[0m\u001b[0;34m\u001b[0m\u001b[0m\n\u001b[1;32m     14\u001b[0m \u001b[0;34m\u001b[0m\u001b[0m\n",
      "\u001b[0;32m~/Australian-Federal-Election-2025/notebooks/data_capture.py\u001b[0m in \u001b[0;36m?\u001b[0;34m(table)\u001b[0m\n\u001b[1;32m    281\u001b[0m     \u001b[0mt\u001b[0m \u001b[0;34m=\u001b[0m \u001b[0mremove_event_rows\u001b[0m\u001b[0;34m(\u001b[0m\u001b[0mt\u001b[0m\u001b[0;34m)\u001b[0m\u001b[0;34m\u001b[0m\u001b[0;34m\u001b[0m\u001b[0m\n\u001b[1;32m    282\u001b[0m     \u001b[0mt\u001b[0m \u001b[0;34m=\u001b[0m \u001b[0mdrop_empty\u001b[0m\u001b[0;34m(\u001b[0m\u001b[0mt\u001b[0m\u001b[0;34m)\u001b[0m\u001b[0;34m\u001b[0m\u001b[0;34m\u001b[0m\u001b[0m\n\u001b[1;32m    283\u001b[0m     \u001b[0mt\u001b[0m \u001b[0;34m=\u001b[0m \u001b[0mfix_numerical_cols\u001b[0m\u001b[0;34m(\u001b[0m\u001b[0mt\u001b[0m\u001b[0;34m)\u001b[0m\u001b[0;34m\u001b[0m\u001b[0;34m\u001b[0m\u001b[0m\n\u001b[1;32m    284\u001b[0m     \u001b[0mt\u001b[0m \u001b[0;34m=\u001b[0m \u001b[0mfix_column_names\u001b[0m\u001b[0;34m(\u001b[0m\u001b[0mt\u001b[0m\u001b[0;34m)\u001b[0m\u001b[0;34m\u001b[0m\u001b[0;34m\u001b[0m\u001b[0m\n\u001b[0;32m--> 285\u001b[0;31m     \u001b[0mt\u001b[0m \u001b[0;34m=\u001b[0m \u001b[0mremove_footnotes\u001b[0m\u001b[0;34m(\u001b[0m\u001b[0mt\u001b[0m\u001b[0;34m)\u001b[0m\u001b[0;34m\u001b[0m\u001b[0;34m\u001b[0m\u001b[0m\n\u001b[0m\u001b[1;32m    286\u001b[0m     \u001b[0mt\u001b[0m \u001b[0;34m=\u001b[0m \u001b[0mget_relevant_dates\u001b[0m\u001b[0;34m(\u001b[0m\u001b[0mt\u001b[0m\u001b[0;34m)\u001b[0m\u001b[0;34m\u001b[0m\u001b[0;34m\u001b[0m\u001b[0m\n\u001b[1;32m    287\u001b[0m     \u001b[0mt\u001b[0m \u001b[0;34m=\u001b[0m \u001b[0mt\u001b[0m\u001b[0;34m.\u001b[0m\u001b[0msort_values\u001b[0m\u001b[0;34m(\u001b[0m\u001b[0mMIDDLE_DATE\u001b[0m\u001b[0;34m,\u001b[0m \u001b[0mascending\u001b[0m\u001b[0;34m=\u001b[0m\u001b[0;32mTrue\u001b[0m\u001b[0;34m)\u001b[0m\u001b[0;34m\u001b[0m\u001b[0;34m\u001b[0m\u001b[0m\n\u001b[1;32m    288\u001b[0m     \u001b[0mt\u001b[0m \u001b[0;34m=\u001b[0m \u001b[0mt\u001b[0m\u001b[0;34m.\u001b[0m\u001b[0mreset_index\u001b[0m\u001b[0;34m(\u001b[0m\u001b[0mdrop\u001b[0m\u001b[0;34m=\u001b[0m\u001b[0;32mTrue\u001b[0m\u001b[0;34m)\u001b[0m  \u001b[0;31m# Ensure a unique index\u001b[0m\u001b[0;34m\u001b[0m\u001b[0;34m\u001b[0m\u001b[0m\n",
      "\u001b[0;32m~/Australian-Federal-Election-2025/notebooks/data_capture.py\u001b[0m in \u001b[0;36m?\u001b[0;34m(t)\u001b[0m\n\u001b[1;32m    182\u001b[0m         \u001b[0mensure\u001b[0m\u001b[0;34m(\u001b[0m\u001b[0mlen\u001b[0m\u001b[0;34m(\u001b[0m\u001b[0mcol\u001b[0m\u001b[0;34m)\u001b[0m \u001b[0;34m==\u001b[0m \u001b[0;36m1\u001b[0m\u001b[0;34m)\u001b[0m\u001b[0;34m\u001b[0m\u001b[0;34m\u001b[0m\u001b[0m\n\u001b[1;32m    183\u001b[0m         t[col] = (\n\u001b[1;32m    184\u001b[0m             \u001b[0mt\u001b[0m\u001b[0;34m[\u001b[0m\u001b[0mcol\u001b[0m\u001b[0;34m]\u001b[0m\u001b[0;34m\u001b[0m\u001b[0;34m\u001b[0m\u001b[0m\n\u001b[1;32m    185\u001b[0m             \u001b[0;34m.\u001b[0m\u001b[0mcopy\u001b[0m\u001b[0;34m(\u001b[0m\u001b[0;34m)\u001b[0m\u001b[0;34m\u001b[0m\u001b[0;34m\u001b[0m\u001b[0m\n\u001b[0;32m--> 186\u001b[0;31m             \u001b[0;34m.\u001b[0m\u001b[0mstr\u001b[0m\u001b[0;34m.\u001b[0m\u001b[0mreplace\u001b[0m\u001b[0;34m(\u001b[0m\u001b[0;34mr\"\\[.*\\]\"\u001b[0m\u001b[0;34m,\u001b[0m \u001b[0;34m\"\"\u001b[0m\u001b[0;34m,\u001b[0m \u001b[0mregex\u001b[0m\u001b[0;34m=\u001b[0m\u001b[0;32mTrue\u001b[0m\u001b[0;34m)\u001b[0m  \u001b[0;31m# remove footnotes\u001b[0m\u001b[0;34m\u001b[0m\u001b[0;34m\u001b[0m\u001b[0m\n\u001b[0m\u001b[1;32m    187\u001b[0m             \u001b[0;34m.\u001b[0m\u001b[0mstr\u001b[0m\u001b[0;34m.\u001b[0m\u001b[0mstrip\u001b[0m\u001b[0;34m(\u001b[0m\u001b[0;34m)\u001b[0m  \u001b[0;31m# remove any leading/trailing whitespaces\u001b[0m\u001b[0;34m\u001b[0m\u001b[0;34m\u001b[0m\u001b[0m\n\u001b[1;32m    188\u001b[0m         \u001b[0;34m)\u001b[0m\u001b[0;34m\u001b[0m\u001b[0;34m\u001b[0m\u001b[0m\n\u001b[1;32m    189\u001b[0m         \u001b[0mensure\u001b[0m\u001b[0;34m(\u001b[0m\u001b[0mlen\u001b[0m\u001b[0;34m(\u001b[0m\u001b[0mcol\u001b[0m\u001b[0;34m)\u001b[0m \u001b[0;34m==\u001b[0m \u001b[0;36m1\u001b[0m\u001b[0;34m)\u001b[0m\u001b[0;34m\u001b[0m\u001b[0;34m\u001b[0m\u001b[0m\n",
      "\u001b[0;32m~/micromamba/envs/312/lib/python3.12/site-packages/pandas/core/generic.py\u001b[0m in \u001b[0;36m?\u001b[0;34m(self, name)\u001b[0m\n\u001b[1;32m   6295\u001b[0m             \u001b[0;32mand\u001b[0m \u001b[0mname\u001b[0m \u001b[0;32mnot\u001b[0m \u001b[0;32min\u001b[0m \u001b[0mself\u001b[0m\u001b[0;34m.\u001b[0m\u001b[0m_accessors\u001b[0m\u001b[0;34m\u001b[0m\u001b[0;34m\u001b[0m\u001b[0m\n\u001b[1;32m   6296\u001b[0m             \u001b[0;32mand\u001b[0m \u001b[0mself\u001b[0m\u001b[0;34m.\u001b[0m\u001b[0m_info_axis\u001b[0m\u001b[0;34m.\u001b[0m\u001b[0m_can_hold_identifiers_and_holds_name\u001b[0m\u001b[0;34m(\u001b[0m\u001b[0mname\u001b[0m\u001b[0;34m)\u001b[0m\u001b[0;34m\u001b[0m\u001b[0;34m\u001b[0m\u001b[0m\n\u001b[1;32m   6297\u001b[0m         \u001b[0;34m)\u001b[0m\u001b[0;34m:\u001b[0m\u001b[0;34m\u001b[0m\u001b[0;34m\u001b[0m\u001b[0m\n\u001b[1;32m   6298\u001b[0m             \u001b[0;32mreturn\u001b[0m \u001b[0mself\u001b[0m\u001b[0;34m[\u001b[0m\u001b[0mname\u001b[0m\u001b[0;34m]\u001b[0m\u001b[0;34m\u001b[0m\u001b[0;34m\u001b[0m\u001b[0m\n\u001b[0;32m-> 6299\u001b[0;31m         \u001b[0;32mreturn\u001b[0m \u001b[0mobject\u001b[0m\u001b[0;34m.\u001b[0m\u001b[0m__getattribute__\u001b[0m\u001b[0;34m(\u001b[0m\u001b[0mself\u001b[0m\u001b[0;34m,\u001b[0m \u001b[0mname\u001b[0m\u001b[0;34m)\u001b[0m\u001b[0;34m\u001b[0m\u001b[0;34m\u001b[0m\u001b[0m\n\u001b[0m",
      "\u001b[0;31mAttributeError\u001b[0m: 'DataFrame' object has no attribute 'str'"
     ]
    }
   ],
   "source": [
    "# The Wikipedia table numbers will need updating each year ...\n",
    "# And whenever the Wikipedia page is reorganised (such that the tables are renumbered)\n",
    "VOTING_TABLES = (3, 4, 5, 6)\n",
    "ATTITUDINAL_TABLES = (7, 8, 9)  \n",
    "\n",
    "prep = {VOTING_INTENTION: VOTING_TABLES, ATTITUDINAL: ATTITUDINAL_TABLES}\n",
    "data = {}\n",
    "for label, table_list in prep.items():\n",
    "    print(\"Collating:\", label, table_list)\n",
    "    table = dc.get_combined_table(df_list, table_list, verbose=False).copy()\n",
    "    table = dc.clean(table)\n",
    "    data[label] = table\n",
    "    print(f\"{label}: {len(table)} rows {table.index}\")\n",
    "    "
   ]
  },
  {
   "cell_type": "markdown",
   "id": "b134ae39-c77f-4fbc-8cd0-00bf4e42186f",
   "metadata": {},
   "source": [
    "### Quick look at most recent N polls"
   ]
  },
  {
   "cell_type": "code",
   "execution_count": null,
   "id": "8bec4be8-860e-47ff-a5c8-2a2e8defba0f",
   "metadata": {},
   "outputs": [],
   "source": [
    "# Let's look at the last N polls\n",
    "N = 3\n",
    "for label, table in data.items():\n",
    "    print(f\"{label}:\")\n",
    "    #display(table.head(N))\n",
    "    display(table.tail(N))\n",
    "    print()"
   ]
  },
  {
   "cell_type": "markdown",
   "id": "1bde4357",
   "metadata": {},
   "source": [
    "### Standardise column names"
   ]
  },
  {
   "cell_type": "code",
   "execution_count": null,
   "id": "286231e7",
   "metadata": {},
   "outputs": [],
   "source": [
    "fix = {\n",
    "    # from : to\n",
    "    \"Firm\": \"Brand\",\n",
    "    \"Sample\": \"Sample size\",\n",
    "}\n",
    "\n",
    "for label, table in data.items():\n",
    "    for old_col, new_col in fix.items():\n",
    "        fix_me_list = table.columns[table.columns.str.contains(old_col, case=False)]\n",
    "        if len(fix_me_list) == 1:\n",
    "            fix_me_string = fix_me_list[0]\n",
    "            table = table.rename(columns={fix_me_string: new_col})\n",
    "            print(f\"{label} fixed col from {fix_me_string} to {new_col}\")\n",
    "            data[label] = table"
   ]
  },
  {
   "cell_type": "markdown",
   "id": "6c688b08",
   "metadata": {},
   "source": [
    "### Remove MRP polls\n",
    "MRP = multi-regression post-stratification polls"
   ]
  },
  {
   "cell_type": "code",
   "execution_count": null,
   "id": "318e8df6",
   "metadata": {},
   "outputs": [],
   "source": [
    "# Drop where interview mode is MRP\n",
    "for label, table in data.items():\n",
    "    drop_bool = (\n",
    "        table['Brand'].str.contains('Accent Research', na=False) &\n",
    "        table['Brand'].str.contains('RedBridge', na=False)\n",
    "    )\n",
    "    drop_index = drop_bool[drop_bool].index\n",
    "\n",
    "    if len(drop_index) > 0:\n",
    "        print(f\"{label} MRP about to drop:\")\n",
    "        display(table.loc[drop_index])\n",
    "        table = table.drop(drop_index)\n",
    "        data[label] = table"
   ]
  },
  {
   "cell_type": "code",
   "execution_count": null,
   "id": "f9d0753f",
   "metadata": {},
   "outputs": [],
   "source": [
    "# Check for unusally large sample sizes - may be MRP polling\n",
    "SAMPLE_CHECK = 3000\n",
    "\n",
    "for label, table in data.items():\n",
    "    sample_col = table.columns[table.columns.str.contains(\"sample\", case=False)][0]\n",
    "    odd = table.index[table[sample_col].notna() & (table[sample_col] >= SAMPLE_CHECK)]\n",
    "    print(odd)\n",
    "    if len(odd):\n",
    "        print(f\"{label}: --CHECK-- Based on sample size, these rows might be MRP data:\")\n",
    "        display(table.loc[odd])\n",
    "        print('=' * 40)\n"
   ]
  },
  {
   "cell_type": "markdown",
   "id": "00cd4ecd-7632-4b56-838d-dfeb931c8e71",
   "metadata": {},
   "source": [
    "## Preliminary data validation\n",
    "\n",
    "Note:Essential often does not distribute undecideds to the 2pp Vote share."
   ]
  },
  {
   "cell_type": "markdown",
   "id": "2216e5ef",
   "metadata": {},
   "source": []
  },
  {
   "cell_type": "code",
   "execution_count": 10,
   "id": "d1013a70-f49a-46f1-9de8-9cfda1a1f061",
   "metadata": {},
   "outputs": [],
   "source": [
    "# Identify the groups of columns that should add across to 100\n",
    "# We use this mechanism a few times below.\n",
    "\n",
    "checkable_100: dict[str, list[str]] = {\n",
    "    # label: [list of regex-patterns],\n",
    "    VOTING_INTENTION: [\n",
    "        r\"Primary\",\n",
    "        r\"2pp\",\n",
    "    ],\n",
    "    ATTITUDINAL: [\n",
    "        r\"^Dutton (Satisfied|Dissatisfied|Don't Know)\",\n",
    "        r\"^Albanese (Satisfied|Dissatisfied|Don't Know)\",\n",
    "        r\"Preferred Prime Minister (Dutton|Albanese|Don't Know)\",\n",
    "    ],\n",
    "}"
   ]
  },
  {
   "cell_type": "code",
   "execution_count": 11,
   "id": "a77b9a75-e591-4dc0-927a-51d1b85810e8",
   "metadata": {},
   "outputs": [],
   "source": [
    "# Check the columns that should add across to 100 actually do\n",
    "\n",
    "if False:  # not always useful at this point\n",
    "    for label, check_list in checkable_100.items():\n",
    "        display(dc.row_sum_check(data[label], check_list))"
   ]
  },
  {
   "cell_type": "markdown",
   "id": "27d213fc-3ccc-4dd5-bb3f-c060526b86e2",
   "metadata": {},
   "source": [
    "## Distribute undecideds if the pollster has not\n",
    "\n",
    "Mostly affects the Essential poll."
   ]
  },
  {
   "cell_type": "code",
   "execution_count": null,
   "id": "73a4d733-00bf-4950-b342-d0f499b551a6",
   "metadata": {},
   "outputs": [],
   "source": [
    "if dc.UNDECIDED_COLUMN in data[VOTING_INTENTION]:\n",
    "    revised = dc.distribute_undecideds(\n",
    "        table=data[VOTING_INTENTION].copy(),\n",
    "        col_pattern_list=[\"Primary vote\", \"2pp vote\"],\n",
    "    )\n",
    "    revised = revised.drop(columns=dc.UNDECIDED_COLUMN)\n",
    "    data[VOTING_INTENTION] = revised\n",
    "else:\n",
    "    print(\"CHECK: this step was not applied\")\n",
    "    print(\"Most likely because it has already been applied.\")"
   ]
  },
  {
   "cell_type": "markdown",
   "id": "a900cff3-2ba2-43dd-a32d-54ee78695cb5",
   "metadata": {},
   "source": [
    "## Forced data normalisation\n",
    "\n",
    "Force columns that should sum to 100 to sum to 100.\n",
    "\n",
    "This is an aggressive treatment, and the rows being forced into\n",
    "submission need to be considered and reflected upon from time to time."
   ]
  },
  {
   "cell_type": "code",
   "execution_count": null,
   "id": "f858c970-0635-4d8f-a250-5166c1bae268",
   "metadata": {},
   "outputs": [],
   "source": [
    "forced_checkable = {x: checkable_100[x] for x in checkable_100 if x == VOTING_INTENTION}\n",
    "\n",
    "data = dc.normalise(data, forced_checkable)"
   ]
  },
  {
   "cell_type": "markdown",
   "id": "4be81eee-d733-48f9-a68f-8679ed68c596",
   "metadata": {},
   "source": [
    "## Final data validation\n",
    "\n",
    "Please check any rows identified as a result of this step."
   ]
  },
  {
   "cell_type": "code",
   "execution_count": null,
   "id": "64fa4e68-7112-4cce-8ab6-2ec485f89ef1",
   "metadata": {},
   "outputs": [],
   "source": [
    "for label, check_list in checkable_100.items():\n",
    "    row_check = dc.row_sum_check(data[label], check_list, tolerance=1.01)\n",
    "    if row_check is None or not len(row_check):\n",
    "        print(f\"{label} {check_list} looks good.\\n\")\n",
    "        continue\n",
    "    print(label, check_list)\n",
    "    display(row_check)\n",
    "    print(\"\\n\")"
   ]
  },
  {
   "cell_type": "markdown",
   "id": "8ae956f5-23ae-4440-b82e-57537a44fee5",
   "metadata": {},
   "source": [
    "## Manage methodology changes\n",
    "\n",
    "If a pollster firm substantially change the way in which they collect data we need to reflect this in the branding for the poll."
   ]
  },
  {
   "cell_type": "code",
   "execution_count": 15,
   "id": "54fe434e-fcef-46c4-be07-47e94af33ba0",
   "metadata": {},
   "outputs": [],
   "source": [
    "# Essential added education into its weighting\n",
    "# from the last poll in October 2023.\n",
    "\n",
    "effective_date = pd.Timestamp(\"2023-10-24\")\n",
    "change_from = \"Essential\"\n",
    "change_to = \"Essential 2\"\n",
    "data = dc.methodology(data, effective_date, change_from, change_to)"
   ]
  },
  {
   "cell_type": "code",
   "execution_count": 16,
   "id": "58049ee4",
   "metadata": {},
   "outputs": [],
   "source": [
    "# Resolve Strategic appears to have changed in 2024\n",
    "\n",
    "effective_date = pd.Timestamp(\"2024-01-01\")\n",
    "change_from = \"Resolve Strategic\"\n",
    "change_to = \"Resolve Strategic 2\"\n",
    "data = dc.methodology(data, effective_date, change_from, change_to)"
   ]
  },
  {
   "cell_type": "markdown",
   "id": "0b0465ed-e9a2-4f5d-82bc-42f317de3a85",
   "metadata": {},
   "source": [
    "## Save the checked data"
   ]
  },
  {
   "cell_type": "code",
   "execution_count": 17,
   "id": "a9afa44e-32b7-40cf-8429-ba83c584246b",
   "metadata": {},
   "outputs": [],
   "source": [
    "dc.store(data)"
   ]
  },
  {
   "cell_type": "markdown",
   "id": "0ebaf4dd-cd57-46c1-8212-b9786256c6e9",
   "metadata": {},
   "source": [
    "## All done"
   ]
  },
  {
   "cell_type": "code",
   "execution_count": null,
   "id": "77121a70-203f-4178-9818-42e44aee0aeb",
   "metadata": {},
   "outputs": [],
   "source": [
    "%load_ext watermark\n",
    "%watermark --python --machine --conda --iversions --watermark"
   ]
  },
  {
   "cell_type": "code",
   "execution_count": null,
   "id": "7dbae4fc-61f1-40db-b434-4e234a397230",
   "metadata": {},
   "outputs": [],
   "source": [
    "print(\"Finished\")"
   ]
  }
 ],
 "metadata": {
  "kernelspec": {
   "display_name": "312",
   "language": "python",
   "name": "python3"
  },
  "language_info": {
   "codemirror_mode": {
    "name": "ipython",
    "version": 3
   },
   "file_extension": ".py",
   "mimetype": "text/x-python",
   "name": "python",
   "nbconvert_exporter": "python",
   "pygments_lexer": "ipython3",
   "version": "3.12.8"
  },
  "latex_envs": {
   "LaTeX_envs_menu_present": true,
   "autoclose": false,
   "autocomplete": true,
   "bibliofile": "biblio.bib",
   "cite_by": "apalike",
   "current_citInitial": 1,
   "eqLabelWithNumbers": true,
   "eqNumInitial": 1,
   "hotkeys": {
    "equation": "Ctrl-E",
    "itemize": "Ctrl-I"
   },
   "labels_anchors": false,
   "latex_user_defs": false,
   "report_style_numbering": false,
   "user_envs_cfg": false
  },
  "toc": {
   "base_numbering": 1,
   "nav_menu": {},
   "number_sections": true,
   "sideBar": true,
   "skip_h1_title": true,
   "title_cell": "Table of Contents",
   "title_sidebar": "Contents",
   "toc_cell": true,
   "toc_position": {
    "height": "calc(100% - 180px)",
    "left": "10px",
    "top": "150px",
    "width": "236.10714721679688px"
   },
   "toc_section_display": true,
   "toc_window_display": true
  },
  "varInspector": {
   "cols": {
    "lenName": 16,
    "lenType": 16,
    "lenVar": 40
   },
   "kernels_config": {
    "python": {
     "delete_cmd_postfix": "",
     "delete_cmd_prefix": "del ",
     "library": "var_list.py",
     "varRefreshCmd": "print(var_dic_list())"
    },
    "r": {
     "delete_cmd_postfix": ") ",
     "delete_cmd_prefix": "rm(",
     "library": "var_list.r",
     "varRefreshCmd": "cat(var_dic_list()) "
    }
   },
   "types_to_exclude": [
    "module",
    "function",
    "builtin_function_or_method",
    "instance",
    "_Feature"
   ],
   "window_display": false
  }
 },
 "nbformat": 4,
 "nbformat_minor": 5
}
