{
 "cells": [
  {
   "cell_type": "markdown",
   "metadata": {},
   "source": [
    "## Imports"
   ]
  },
  {
   "cell_type": "code",
   "execution_count": 1,
   "metadata": {},
   "outputs": [],
   "source": [
    "import cmdstanpy\n",
    "from pathlib import Path"
   ]
  },
  {
   "cell_type": "markdown",
   "metadata": {},
   "source": [
    "## Show environment"
   ]
  },
  {
   "cell_type": "code",
   "execution_count": 2,
   "metadata": {},
   "outputs": [
    {
     "name": "stdout",
     "output_type": "stream",
     "text": [
      "Python implementation: CPython\n",
      "Python version       : 3.12.8\n",
      "IPython version      : 8.31.0\n",
      "\n",
      "conda environment: 312\n",
      "\n",
      "Compiler    : Clang 18.1.8 \n",
      "OS          : Darwin\n",
      "Release     : 24.2.0\n",
      "Machine     : arm64\n",
      "Processor   : arm\n",
      "CPU cores   : 14\n",
      "Architecture: 64bit\n",
      "\n",
      "cmdstanpy: 1.2.5\n",
      "\n",
      "Watermark: 2.5.0\n",
      "\n"
     ]
    }
   ],
   "source": [
    "%load_ext watermark\n",
    "%watermark --python --machine --conda --iversions --watermark"
   ]
  },
  {
   "cell_type": "markdown",
   "metadata": {},
   "source": [
    "## Install CmdStan"
   ]
  },
  {
   "cell_type": "code",
   "execution_count": 3,
   "metadata": {},
   "outputs": [
    {
     "name": "stdout",
     "output_type": "stream",
     "text": [
      "CmdStan install directory: /Users/bryanpalmer/.cmdstan\n",
      "CmdStan version 2.36.0 already installed\n",
      "Test model compilation\n"
     ]
    },
    {
     "data": {
      "text/plain": [
       "True"
      ]
     },
     "execution_count": 3,
     "metadata": {},
     "output_type": "execute_result"
    }
   ],
   "source": [
    "cmdstanpy.install_cmdstan()"
   ]
  },
  {
   "cell_type": "markdown",
   "metadata": {},
   "source": [
    "## Compile the model"
   ]
  },
  {
   "cell_type": "code",
   "execution_count": 4,
   "metadata": {},
   "outputs": [
    {
     "name": "stderr",
     "output_type": "stream",
     "text": [
      "09:41:10 - cmdstanpy - INFO - compiling stan file /Users/bryanpalmer/Australian-Federal-Election-2025/notebooks/bernoulli.stan to exe file /Users/bryanpalmer/Australian-Federal-Election-2025/notebooks/bernoulli\n",
      "09:41:13 - cmdstanpy - INFO - compiled model executable: /Users/bryanpalmer/Australian-Federal-Election-2025/notebooks/bernoulli\n"
     ]
    },
    {
     "data": {
      "text/plain": [
       "CmdStanModel: name=bernoulli\n",
       "\t stan_file=/Users/bryanpalmer/Australian-Federal-Election-2025/notebooks/bernoulli.stan\n",
       "\t exe_file=/Users/bryanpalmer/Australian-Federal-Election-2025/notebooks/bernoulli\n",
       "\t compiler_options=stanc_options={}, cpp_options={}"
      ]
     },
     "execution_count": 4,
     "metadata": {},
     "output_type": "execute_result"
    }
   ],
   "source": [
    "model_text = \"\"\"\n",
    "data {\n",
    "  int<lower=0> N;\n",
    "  array[N] int<lower=0, upper=1> y;\n",
    "}\n",
    "parameters {\n",
    "  real<lower=0, upper=1> theta;\n",
    "}\n",
    "model {\n",
    "  theta ~ beta(1, 1);\n",
    "  y ~ bernoulli(theta);\n",
    "}\n",
    "\"\"\"\n",
    "\n",
    "stan_file = Path('bernoulli.stan')\n",
    "stan_file.write_text(model_text)\n",
    "model = cmdstanpy.CmdStanModel(stan_file=stan_file)\n",
    "model"
   ]
  },
  {
   "cell_type": "markdown",
   "metadata": {},
   "source": [
    "## Fit the model to the data"
   ]
  },
  {
   "cell_type": "code",
   "execution_count": 5,
   "metadata": {},
   "outputs": [
    {
     "name": "stderr",
     "output_type": "stream",
     "text": [
      "09:41:13 - cmdstanpy - INFO - Chain [1] start processing\n",
      "09:41:13 - cmdstanpy - INFO - Chain [2] start processing\n",
      "09:41:13 - cmdstanpy - INFO - Chain [3] start processing\n",
      "09:41:13 - cmdstanpy - INFO - Chain [4] start processing\n",
      "09:41:13 - cmdstanpy - INFO - Chain [1] done processing\n",
      "09:41:13 - cmdstanpy - INFO - Chain [2] done processing\n",
      "09:41:13 - cmdstanpy - ERROR - Chain [1] error: terminated by signal 6 Unknown error: -6\n",
      "09:41:13 - cmdstanpy - ERROR - Chain [2] error: terminated by signal 6 Unknown error: -6\n",
      "09:41:13 - cmdstanpy - INFO - Chain [3] done processing\n",
      "09:41:13 - cmdstanpy - ERROR - Chain [3] error: terminated by signal 6 Unknown error: -6\n",
      "09:41:13 - cmdstanpy - INFO - Chain [4] done processing\n",
      "09:41:13 - cmdstanpy - ERROR - Chain [4] error: terminated by signal 6 Unknown error: -6\n"
     ]
    },
    {
     "name": "stdout",
     "output_type": "stream",
     "text": [
      "Chain [1] dyld[973]: Symbol not found: __ZN3tbb4task13note_affinityEt\n",
      "Chain [1]   Referenced from: <8B09C6F4-74D6-322A-A46B-A44AEBC8C511> /Users/bryanpalmer/Australian-Federal-Election-2025/notebooks/bernoulli\n",
      "Chain [1]   Expected in:     <C03BD9C9-CCFA-3818-BF4D-F779B8FAE283> /Users/bryanpalmer/micromamba/envs/312/lib/libtbb.12.14.dylib\n",
      "Chain [1] \n",
      "Chain [2] dyld[974]: Symbol not found: __ZN3tbb4task13note_affinityEt\n",
      "Chain [2]   Referenced from: <8B09C6F4-74D6-322A-A46B-A44AEBC8C511> /Users/bryanpalmer/Australian-Federal-Election-2025/notebooks/bernoulli\n",
      "Chain [2]   Expected in:     <C03BD9C9-CCFA-3818-BF4D-F779B8FAE283> /Users/bryanpalmer/micromamba/envs/312/lib/libtbb.12.14.dylib\n",
      "Chain [2] \n",
      "Chain [3] dyld[975]: Symbol not found: __ZN3tbb4task13note_affinityEt\n",
      "Chain [3]   Referenced from: <8B09C6F4-74D6-322A-A46B-A44AEBC8C511> /Users/bryanpalmer/Australian-Federal-Election-2025/notebooks/bernoulli\n",
      "Chain [3]   Expected in:     <C03BD9C9-CCFA-3818-BF4D-F779B8FAE283> /Users/bryanpalmer/micromamba/envs/312/lib/libtbb.12.14.dylib\n",
      "Chain [3] \n",
      "Chain [4] dyld[976]: Symbol not found: __ZN3tbb4task13note_affinityEt\n",
      "Chain [4] Referenced from: <8B09C6F4-74D6-322A-A46B-A44AEBC8C511> /Users/bryanpalmer/Australian-Federal-Election-2025/notebooks/bernoulli\n",
      "Chain [4] Expected in:     <C03BD9C9-CCFA-3818-BF4D-F779B8FAE283> /Users/bryanpalmer/micromamba/envs/312/lib/libtbb.12.14.dylib\n",
      "Chain [4] \n"
     ]
    },
    {
     "ename": "RuntimeError",
     "evalue": "Error during sampling:\n\nCommand and output files:\nRunSet: chains=4, chain_ids=[1, 2, 3, 4], num_processes=4\n cmd (chain 1):\n\t['/Users/bryanpalmer/Australian-Federal-Election-2025/notebooks/bernoulli', 'id=1', 'random', 'seed=13903', 'data', 'file=/var/folders/96/8bhlz_x975z93glbxq_2_yqr0000gn/T/tmp2giltdhf/ms_hm4i2.json', 'output', 'file=/var/folders/96/8bhlz_x975z93glbxq_2_yqr0000gn/T/tmp2giltdhf/bernoulliisuebo8y/bernoulli-20250120094113_1.csv', 'method=sample', 'algorithm=hmc', 'adapt', 'engaged=1']\n retcodes=[-6, -6, -6, -6]\n per-chain output files (showing chain 1 only):\n csv_file:\n\t/var/folders/96/8bhlz_x975z93glbxq_2_yqr0000gn/T/tmp2giltdhf/bernoulliisuebo8y/bernoulli-20250120094113_1.csv\n console_msgs (if any):\n\t/var/folders/96/8bhlz_x975z93glbxq_2_yqr0000gn/T/tmp2giltdhf/bernoulliisuebo8y/bernoulli-20250120094113_0-stdout.txt",
     "output_type": "error",
     "traceback": [
      "\u001b[0;31m---------------------------------------------------------------------------\u001b[0m",
      "\u001b[0;31mRuntimeError\u001b[0m                              Traceback (most recent call last)",
      "Cell \u001b[0;32mIn[5], line 2\u001b[0m\n\u001b[1;32m      1\u001b[0m data \u001b[38;5;241m=\u001b[39m { \u001b[38;5;124m\"\u001b[39m\u001b[38;5;124mN\u001b[39m\u001b[38;5;124m\"\u001b[39m : \u001b[38;5;241m10\u001b[39m, \u001b[38;5;124m\"\u001b[39m\u001b[38;5;124my\u001b[39m\u001b[38;5;124m\"\u001b[39m : [\u001b[38;5;241m0\u001b[39m,\u001b[38;5;241m1\u001b[39m,\u001b[38;5;241m0\u001b[39m,\u001b[38;5;241m0\u001b[39m,\u001b[38;5;241m0\u001b[39m,\u001b[38;5;241m0\u001b[39m,\u001b[38;5;241m0\u001b[39m,\u001b[38;5;241m0\u001b[39m,\u001b[38;5;241m0\u001b[39m,\u001b[38;5;241m1\u001b[39m] }\n\u001b[0;32m----> 2\u001b[0m fit \u001b[38;5;241m=\u001b[39m \u001b[43mmodel\u001b[49m\u001b[38;5;241;43m.\u001b[39;49m\u001b[43msample\u001b[49m\u001b[43m(\u001b[49m\u001b[43mdata\u001b[49m\u001b[38;5;241;43m=\u001b[39;49m\u001b[43mdata\u001b[49m\u001b[43m,\u001b[49m\u001b[43m \u001b[49m\u001b[43mshow_console\u001b[49m\u001b[38;5;241;43m=\u001b[39;49m\u001b[38;5;28;43;01mTrue\u001b[39;49;00m\u001b[43m)\u001b[49m\n",
      "File \u001b[0;32m~/micromamba/envs/312/lib/python3.12/site-packages/cmdstanpy/model.py:1136\u001b[0m, in \u001b[0;36mCmdStanModel.sample\u001b[0;34m(self, data, chains, parallel_chains, threads_per_chain, seed, chain_ids, inits, iter_warmup, iter_sampling, save_warmup, thin, max_treedepth, metric, step_size, adapt_engaged, adapt_delta, adapt_init_phase, adapt_metric_window, adapt_step_size, fixed_param, output_dir, sig_figs, save_latent_dynamics, save_profile, show_progress, show_console, refresh, time_fmt, timeout, force_one_process_per_chain)\u001b[0m\n\u001b[1;32m   1131\u001b[0m     \u001b[38;5;28;01mif\u001b[39;00m \u001b[38;5;129;01mnot\u001b[39;00m show_console:\n\u001b[1;32m   1132\u001b[0m         msg \u001b[38;5;241m+\u001b[39m\u001b[38;5;241m=\u001b[39m (\n\u001b[1;32m   1133\u001b[0m             \u001b[38;5;124m'\u001b[39m\u001b[38;5;130;01m\\n\u001b[39;00m\u001b[38;5;124mConsider re-running with show_console=True if the\u001b[39m\u001b[38;5;124m'\u001b[39m\n\u001b[1;32m   1134\u001b[0m             \u001b[38;5;124m'\u001b[39m\u001b[38;5;124m above output is unclear!\u001b[39m\u001b[38;5;124m'\u001b[39m\n\u001b[1;32m   1135\u001b[0m         )\n\u001b[0;32m-> 1136\u001b[0m     \u001b[38;5;28;01mraise\u001b[39;00m \u001b[38;5;167;01mRuntimeError\u001b[39;00m(msg)\n\u001b[1;32m   1137\u001b[0m \u001b[38;5;28;01mif\u001b[39;00m errors:\n\u001b[1;32m   1138\u001b[0m     msg \u001b[38;5;241m=\u001b[39m \u001b[38;5;124mf\u001b[39m\u001b[38;5;124m'\u001b[39m\u001b[38;5;124mNon-fatal error during sampling:\u001b[39m\u001b[38;5;130;01m\\n\u001b[39;00m\u001b[38;5;132;01m{\u001b[39;00merrors\u001b[38;5;132;01m}\u001b[39;00m\u001b[38;5;124m'\u001b[39m\n",
      "\u001b[0;31mRuntimeError\u001b[0m: Error during sampling:\n\nCommand and output files:\nRunSet: chains=4, chain_ids=[1, 2, 3, 4], num_processes=4\n cmd (chain 1):\n\t['/Users/bryanpalmer/Australian-Federal-Election-2025/notebooks/bernoulli', 'id=1', 'random', 'seed=13903', 'data', 'file=/var/folders/96/8bhlz_x975z93glbxq_2_yqr0000gn/T/tmp2giltdhf/ms_hm4i2.json', 'output', 'file=/var/folders/96/8bhlz_x975z93glbxq_2_yqr0000gn/T/tmp2giltdhf/bernoulliisuebo8y/bernoulli-20250120094113_1.csv', 'method=sample', 'algorithm=hmc', 'adapt', 'engaged=1']\n retcodes=[-6, -6, -6, -6]\n per-chain output files (showing chain 1 only):\n csv_file:\n\t/var/folders/96/8bhlz_x975z93glbxq_2_yqr0000gn/T/tmp2giltdhf/bernoulliisuebo8y/bernoulli-20250120094113_1.csv\n console_msgs (if any):\n\t/var/folders/96/8bhlz_x975z93glbxq_2_yqr0000gn/T/tmp2giltdhf/bernoulliisuebo8y/bernoulli-20250120094113_0-stdout.txt"
     ]
    }
   ],
   "source": [
    "data = { \"N\" : 10, \"y\" : [0,1,0,0,0,0,0,0,0,1] }\n",
    "fit = model.sample(data=data, show_console=True)"
   ]
  }
 ],
 "metadata": {
  "kernelspec": {
   "display_name": "312",
   "language": "python",
   "name": "python3"
  },
  "language_info": {
   "codemirror_mode": {
    "name": "ipython",
    "version": 3
   },
   "file_extension": ".py",
   "mimetype": "text/x-python",
   "name": "python",
   "nbconvert_exporter": "python",
   "pygments_lexer": "ipython3",
   "version": "3.12.8"
  }
 },
 "nbformat": 4,
 "nbformat_minor": 2
}
