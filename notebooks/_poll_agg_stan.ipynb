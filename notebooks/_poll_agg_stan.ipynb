{
 "cells": [
  {
   "cell_type": "markdown",
   "id": "17deba81-0a52-461e-a50b-ea1489aeefa3",
   "metadata": {},
   "source": [
    "# Bayesian pooled polling charts (Using Stan)"
   ]
  },
  {
   "cell_type": "markdown",
   "id": "707e4242-81c1-417e-a9aa-4e0b1fccc639",
   "metadata": {},
   "source": [
    "## Set-up"
   ]
  },
  {
   "cell_type": "code",
   "execution_count": 1,
   "id": "f339aa15-4783-4269-8d7e-8daecc453361",
   "metadata": {},
   "outputs": [],
   "source": [
    "# system imports\n",
    "# import itertools\n",
    "from typing import Any\n",
    "from pathlib import Path\n",
    "import json\n",
    "\n",
    "# analytic imports\n",
    "# import matplotlib.pyplot as plt\n",
    "# import numpy as np\n",
    "# import pandas as pd\n",
    "import cmdstanpy\n",
    "from cmdstanpy import CmdStanModel"
   ]
  },
  {
   "cell_type": "code",
   "execution_count": 2,
   "id": "d5bfa5fe-e3da-45a6-a1c2-ca3c326eb18a",
   "metadata": {},
   "outputs": [],
   "source": [
    "# local import\n",
    "# import bayes_tools\n",
    "# import plotting\n",
    "from common import VOTING_INTENTION, ensure  # MIDDLE_DATE\n",
    "from data_capture import retrieve"
   ]
  },
  {
   "cell_type": "markdown",
   "id": "a62bab07",
   "metadata": {},
   "source": [
    "### Install CmdStan"
   ]
  },
  {
   "cell_type": "code",
   "execution_count": 3,
   "id": "3aa8c16d-8a42-445e-b364-43f0e7075754",
   "metadata": {},
   "outputs": [
    {
     "name": "stdout",
     "output_type": "stream",
     "text": [
      "cmdstanpy version: 1.2.5\n",
      "CmdStan install directory: /Users/bryanpalmer/.cmdstan\n",
      "CmdStan version 2.36.0 already installed\n",
      "Test model compilation\n"
     ]
    }
   ],
   "source": [
    "def install_cmdstan() -> Path:\n",
    "    \"\"\"Install CmdStan (if needed) and\n",
    "    returns a stan working directory Path.\n",
    "\n",
    "    Note: Takes up to a couple of minutes\n",
    "    if CmdStan is not installed.\"\"\"\n",
    "\n",
    "    # Install Stan\n",
    "    print(f\"cmdstanpy version: {cmdstanpy.__version__}\")\n",
    "    cmdstanpy.install_cmdstan()\n",
    "\n",
    "    # Create a stan working directory (if needed)\n",
    "    directory = Path(\"./stan-work/\")\n",
    "    directory.mkdir(parents=True, exist_ok=True)\n",
    "\n",
    "    return directory\n",
    "\n",
    "\n",
    "STAN_DIR = install_cmdstan()"
   ]
  },
  {
   "cell_type": "code",
   "execution_count": 4,
   "id": "fe8b3830-ca4b-4206-b3b2-591eed9038ac",
   "metadata": {},
   "outputs": [],
   "source": [
    "# plotting related\n",
    "MODEL_DIR = \"../model-images/\"\n",
    "Path(MODEL_DIR).mkdir(parents=True, exist_ok=True)\n",
    "\n",
    "SHOW = True  # show charts in the notebook\n",
    "SHOW_MODEL_MAPS = False  # show model maps in notebook"
   ]
  },
  {
   "cell_type": "markdown",
   "id": "112dc629-7ca1-4635-82e6-a3cbeb113177",
   "metadata": {},
   "source": [
    "## Get the raw input data"
   ]
  },
  {
   "cell_type": "code",
   "execution_count": 5,
   "id": "0e5db8c7-b3c8-4796-ba60-632c8aa4fce3",
   "metadata": {},
   "outputs": [
    {
     "name": "stdout",
     "output_type": "stream",
     "text": [
      "Latest poll (mean date): 2025-01-12\n",
      "Data columns:\n",
      "Index(['Date', 'Brand', 'Interview mode', 'Sample size', 'Primary vote L/NP',\n",
      "       'Primary vote ALP', 'Primary vote GRN', 'Primary vote ONP',\n",
      "       'Primary vote UAP', 'Primary vote OTH', '2pp vote ALP', '2pp vote L/NP',\n",
      "       'First Date', 'Mean Date', 'Last Date'],\n",
      "      dtype='object')\n",
      "Poll count by pollster:\n",
      "Brand\n",
      "ANU                     1\n",
      "DemosAU                 1\n",
      "Dynata                  1\n",
      "Essential              21\n",
      "Essential 2            28\n",
      "Freshwater Strategy    16\n",
      "Newspoll               30\n",
      "Newspoll-YouGov         3\n",
      "RedBridge Group         9\n",
      "Resolve Strategic      17\n",
      "Resolve Strategic 2    11\n",
      "Roy Morgan             66\n",
      "Wolf & Smith            1\n",
      "YouGov                 16\n",
      "Name: count, dtype: int64\n"
     ]
    }
   ],
   "source": [
    "data = retrieve()\n",
    "ensure(bool(data), \"You must run the data capture notebook every day.\")\n",
    "print(f\"Latest poll (mean date): {data[VOTING_INTENTION].iloc[:, -2].max()}\")\n",
    "print(f\"Data columns:\\n{data[VOTING_INTENTION].columns}\")\n",
    "print(\n",
    "    f\"Poll count by pollster:\\n{data[VOTING_INTENTION]['Brand'].value_counts().sort_index()}\"\n",
    ")"
   ]
  },
  {
   "cell_type": "markdown",
   "id": "d357d838-0dc0-405b-8b10-5c09b585c429",
   "metadata": {},
   "source": [
    "## Do the Bayesian pooling ..."
   ]
  },
  {
   "cell_type": "markdown",
   "id": "34c69fce",
   "metadata": {},
   "source": [
    "### Specify the aggregation model"
   ]
  },
  {
   "cell_type": "code",
   "execution_count": 6,
   "id": "4c8c93e3",
   "metadata": {},
   "outputs": [],
   "source": [
    "# The model\n",
    "MODEL_TEXT = \"\"\"\n",
    "data {\n",
    "    // data sizes\n",
    "    int<lower=1> n_polls;   // number of polls\n",
    "    int<lower=1> n_days;    // number of days from first to last poll\n",
    "    int<lower=1> n_houses;  // number of pollsters\n",
    "\n",
    "    // other initialisation data\n",
    "    real<lower=-3,upper=3> y_start;       // initial voting intention guess\n",
    "    real<lower=0,upper=2> polling_error;  // typical polling error (after scaling)\n",
    "    real<lower=0,upper=0.5> daily_drift;  // typical daily drift in scaled voting intention\n",
    "\n",
    "    // polling data\n",
    "    array[n_polls] real<lower=-5, upper=5> y;          // adj poll estimates\n",
    "    array[n_polls] int<lower=1,upper=n_houses> house;  // pollster number\n",
    "    array[n_polls] int<lower=1,upper=n_days> day;      // polling day\n",
    "}\n",
    "parameters {\n",
    "    array[n_days] real<lower=-5,upper=5> hidden_voting_intention;\n",
    "    vector[n_houses-1] rawHouseEffects;\n",
    "    real<lower=0,upper=0.5> daily_sigma;\n",
    "}\n",
    "transformed parameters {\n",
    "    // sum to zero constraint for house effects\n",
    "    vector[n_houses] houseEffect ;\n",
    "    houseEffect = append_row(rawHouseEffects, -sum(rawHouseEffects));\n",
    "}\n",
    "model{\n",
    "    // -- house effects model: pollsters have inate bias\n",
    "    //    that collectively sums to zero\n",
    "    rawHouseEffects ~ normal(0, 1.0); // weakly informative\n",
    "\n",
    "    // -- temporal model: voting intention drifts slowly each day\n",
    "    hidden_voting_intention[1] ~ normal(y_start, 0.5);\n",
    "    for(i in 2:n_days) {\n",
    "        hidden_voting_intention[i] \n",
    "        ~ normal(hidden_voting_intention[i-1], daily_drift);\n",
    "    }\n",
    "\n",
    "    // -- observational model, polling data is noisy and biased\n",
    "    //    around the true/hidden voting intention\n",
    "    for(poll in 1:n_polls) {\n",
    "        y[poll] ~ normal(\n",
    "            houseEffect[house[poll]] + hidden_voting_intention[day[poll]], \n",
    "            polling_error\n",
    "        );\n",
    "    }\n",
    "}\n",
    "\"\"\""
   ]
  },
  {
   "cell_type": "code",
   "execution_count": 7,
   "id": "9b47b083",
   "metadata": {},
   "outputs": [
    {
     "name": "stderr",
     "output_type": "stream",
     "text": [
      "08:31:52 - cmdstanpy - INFO - compiling stan file /Users/bryanpalmer/Australian-Federal-Election-2025/notebooks/stan-work/model.stan to exe file /Users/bryanpalmer/Australian-Federal-Election-2025/notebooks/stan-work/model\n",
      "08:31:56 - cmdstanpy - INFO - compiled model executable: /Users/bryanpalmer/Australian-Federal-Election-2025/notebooks/stan-work/model\n"
     ]
    },
    {
     "name": "stdout",
     "output_type": "stream",
     "text": [
      "CmdStanModel: name=model\n",
      "\t stan_file=/Users/bryanpalmer/Australian-Federal-Election-2025/notebooks/stan-work/model.stan\n",
      "\t exe_file=/Users/bryanpalmer/Australian-Federal-Election-2025/notebooks/stan-work/model\n",
      "\t compiler_options=stanc_options={}, cpp_options={}\n",
      "{}\n",
      "Model compiled successfully.\n"
     ]
    }
   ],
   "source": [
    "def compile_stan_model(text: str) -> CmdStanModel:\n",
    "    \"\"\"Compile and return the Stan model.\"\"\"\n",
    "\n",
    "    # write the model to a .stan file\n",
    "    filepath = STAN_DIR / \"model.stan\"\n",
    "    with filepath.open(\"w\") as f:\n",
    "        f.write(text)\n",
    "\n",
    "    # compile the model\n",
    "    model = CmdStanModel(stan_file=filepath)\n",
    "\n",
    "    # print compiled model info\n",
    "    print(model)\n",
    "    print(model.exe_info())\n",
    "    print(\"Model compiled successfully.\")\n",
    "\n",
    "    return model\n",
    "\n",
    "\n",
    "MODEL = compile_stan_model(MODEL_TEXT)"
   ]
  },
  {
   "cell_type": "markdown",
   "id": "33fbcbd9",
   "metadata": {},
   "source": [
    "### Fit the data to the model"
   ]
  },
  {
   "cell_type": "code",
   "execution_count": 8,
   "id": "f31b637c",
   "metadata": {},
   "outputs": [],
   "source": [
    "def prepare_input_data(\n",
    "    field=\"2pp vote ALP\",\n",
    ") -> tuple[Path, dict[str, Any], dict[str, Any]]:\n",
    "    \"\"\"Compile the data for the model.\n",
    "    Build the model inputs and context.\n",
    "    Save the model inputs to a file.\n",
    "    Return a tuple comprising:\n",
    "    - the path to the model inputs file,\n",
    "    - the model inputs, and\n",
    "    - the model context dictionary.\"\"\"\n",
    "\n",
    "    def report(d: dict[str, Any]) -> None:\n",
    "        for k, v in d.items():\n",
    "            print(f\"{k}: {v}\")\n",
    "        print(\"-------------\\n\")\n",
    "\n",
    "    vote = data[VOTING_INTENTION].loc[data[VOTING_INTENTION][field].notnull()].copy()\n",
    "    mean_offset = vote[field].mean()\n",
    "    scale = 5  # pick a scale to make the data within the range -2 to 2\n",
    "    y = (vote[field] - mean_offset) / scale  # scale to -2 to 2\n",
    "    house = vote[\"Brand\"].astype(\"category\").cat.codes\n",
    "    house_codes = dict(zip(house, vote[\"Brand\"]))\n",
    "    n_houses = len(house_codes)\n",
    "    first_date = vote[\"Mean Date\"].min()\n",
    "    day = (vote[\"Mean Date\"] - first_date).apply(lambda x: x.n)\n",
    "\n",
    "    model_inputs = {\n",
    "        #-- scalar values - model parameters\n",
    "        \"n_polls\": len(y),  # number of polls\n",
    "        \"n_days\": int(day.max() + 1),  # inclusive number of days from first to last poll\n",
    "        \"n_houses\": n_houses,\n",
    "        \"polling_error\": 2 / scale,  # weakly informative prior\n",
    "        \"daily_drift\": 1 / scale,  # weakly informative prior \n",
    "        \"y_start\": y[:10].mean(),  # initial guess for the hidden variable\n",
    "\n",
    "        # -- arrays of polling data\n",
    "        \"y\": y.tolist(),\n",
    "        \"house\": (house + 1).tolist(),  # Stan is 1-indexed\n",
    "        \"day\": (day + 1).tolist(),  # Stan is 1-indexed\n",
    "    }\n",
    "    datapath = STAN_DIR / f\"data-{field.replace(' ', '-').replace('/', '')}.json\"\n",
    "    with datapath.open(\"w\") as f:\n",
    "        json.dump(model_inputs, f)\n",
    "    print(f\"Model inputs saved to: {datapath}\")\n",
    "    report(model_inputs)\n",
    "\n",
    "    model_context = {\n",
    "        \"field\": field,\n",
    "        \"first day\": first_date,\n",
    "        \"mean offset\": mean_offset,\n",
    "        \"scale\": scale,\n",
    "        \"house codes\": house_codes,\n",
    "    }\n",
    "    print(\"Context:\")\n",
    "    report(model_context)\n",
    "\n",
    "    return datapath, model_inputs, model_context"
   ]
  },
  {
   "cell_type": "code",
   "execution_count": 9,
   "id": "f82d55a6",
   "metadata": {},
   "outputs": [],
   "source": [
    "def aggregate_series(field):\n",
    "    \"\"\"Produce a Bayesian aggregation of the voting intention\n",
    "    for a given field (e.g. '2pp vote ALP').\"\"\"\n",
    "\n",
    "    datapath,_model_inputs, _model_context = prepare_input_data(field)\n",
    "\n",
    "    fit = MODEL.sample(\n",
    "        data=datapath,\n",
    "        show_console=True,\n",
    "        iter_sampling=1000,\n",
    "        iter_warmup=500,\n",
    "        chains=4,\n",
    "    )\n",
    "\n",
    "    print(fit.summary())"
   ]
  },
  {
   "cell_type": "code",
   "execution_count": 10,
   "id": "6b7bdeee",
   "metadata": {},
   "outputs": [
    {
     "name": "stderr",
     "output_type": "stream",
     "text": [
      "08:31:57 - cmdstanpy - INFO - Chain [1] start processing\n",
      "08:31:57 - cmdstanpy - INFO - Chain [2] start processing\n",
      "08:31:57 - cmdstanpy - INFO - Chain [3] start processing\n",
      "08:31:57 - cmdstanpy - INFO - Chain [4] start processing\n",
      "08:31:57 - cmdstanpy - INFO - Chain [1] done processing\n",
      "08:31:57 - cmdstanpy - INFO - Chain [2] done processing\n",
      "08:31:57 - cmdstanpy - ERROR - Chain [1] error: terminated by signal 6 Unknown error: -6\n",
      "08:31:57 - cmdstanpy - ERROR - Chain [2] error: terminated by signal 6 Unknown error: -6\n",
      "08:31:57 - cmdstanpy - INFO - Chain [3] done processing\n",
      "08:31:57 - cmdstanpy - ERROR - Chain [3] error: terminated by signal 6 Unknown error: -6\n",
      "08:31:57 - cmdstanpy - INFO - Chain [4] done processing\n",
      "08:31:57 - cmdstanpy - ERROR - Chain [4] error: terminated by signal 6 Unknown error: -6\n"
     ]
    },
    {
     "name": "stdout",
     "output_type": "stream",
     "text": [
      "Field: 2pp vote L/NP\n",
      "Model inputs saved to: stan-work/data-2pp-vote-LNP.json\n",
      "n_polls: 221\n",
      "n_days: 943\n",
      "n_houses: 14\n",
      "polling_error: 0.4\n",
      "daily_drift: 0.2\n",
      "y_start: -0.8319779815971913\n",
      "y: [-0.042871598618468454, -0.20287159861846787, -0.8028715986184679, -1.8028715986184678, -1.002871598618468, -0.9028715986184679, -1.3028715986184678, -1.202871598618468, -0.6028715986184678, -0.4539354284057012, -0.6028715986184678, -1.6028715986184678, -0.3397137038816254, -0.4028715986184679, -1.6028715986184678, -0.7607663354605734, -1.002871598618468, -0.6028715986184678, -1.1818189670395198, -1.3028715986184678, -1.202871598618468, -0.5706135341023397, -0.9028715986184679, -0.4028715986184679, -0.5028715986184679, -0.1405060072206183, -1.6028715986184678, -0.5502400196710994, -0.6028715986184678, -0.7607663354605734, -0.5502400196710994, -1.9028715986184679, -0.8028715986184679, -0.8794673432993193, -1.8028715986184678, -0.6028715986184678, -0.7607663354605734, -0.0028715986184678854, -0.5502400196710994, -0.6028715986184678, -1.6028715986184678, -0.6667013858525109, -0.4028715986184679, -0.6667013858525109, -0.3397137038816254, -0.6028715986184678, -1.4028715986184679, -0.1291873880921514, -0.6667013858525109, -0.8028715986184679, -0.7228715986184682, -0.4539354284057012, -0.20287159861846787, -0.20287159861846787, -0.4539354284057012, -0.4228715986184682, -0.10287159861846788, -0.7028715986184679, -0.028403513512084543, -0.4028715986184679, 0.19712840138153212, -0.20287159861846787, -1.002871598618468, -0.12918738809215286, -0.20287159861846787, -0.20287159861846787, -0.4028715986184679, 0.49712840138153214, -0.20287159861846787, 0.18436244393472379, -0.3028715986184679, -0.0028715986184678854, -1.002871598618468, 0.3971284013815321, 0.18879506804819784, 0.19712840138153212, 0.49712840138153214, 0.3971284013815321, -0.10287159861846788, 0.2918652434867951, 0.19712840138153212, -0.6028715986184678, 0.19712840138153212, 0.08133892769732114, -0.1628715986184673, -0.0028715986184678854, 0.3971284013815321, 0.3971284013815321, 0.5971284013815321, 0.3971284013815321, 0.09712840138153211, -0.0028715986184678854, -0.10287159861846788, 0.2971284013815321, 0.18436244393472379, -0.0028715986184678854, -0.20287159861846787, 0.15712840138153156, -0.0028715986184678854, -0.0028715986184678854, -0.019538265285133603, -0.10287159861846788, 0.19712840138153212, -0.0028715986184678854, -0.0028715986184678854, 0.3971284013815321, 0.5023915592762691, -0.3028715986184679, -0.0028715986184678854, 0.2918652434867951, 0.09712840138153211, 0.19712840138153212, 0.09712840138153211, 0.19712840138153212, 0.3971284013815321, 1.035426273721957, -0.20287159861846787, 0.19712840138153212, 0.19712840138153212, 0.49712840138153214, 0.18436244393472379, 0.5971284013815321, 0.3971284013815321, 0.19712840138153212, -0.0028715986184678854, -0.0028715986184678854, 0.605461734714865, 0.3971284013815321, -0.0028715986184678854, -0.0028715986184678854, -0.0028715986184678854, 0.5046552831019625, -0.0028715986184678854, 0.3971284013815321, 0.2971284013815321, -0.0028715986184678854, 0.3971284013815321, 0.5046552831019625, 0.3971284013815321, 0.6971284013815321, -0.0028715986184678854, 0.3971284013815321, 0.3971284013815321, 0.3971284013815321, -0.3028715986184679, 0.19712840138153212, 0.3971284013815321, 0.18436244393472379, 0.3971284013815321, 0.19712840138153212, 0.19712840138153212, 0.19712840138153212, 0.5046552831019625, 0.7971284013815321, 0.49712840138153214, 0.3971284013815321, 0.6098943588283404, 0.19712840138153212, 0.6971284013815321, 0.19712840138153212, 0.5971284013815321, 0.5971284013815321, 0.2971284013815321, 0.28960151966110176, 0.09712840138153211, 0.3971284013815321, 0.3971284013815321, 0.3971284013815321, 0.3971284013815321, 0.2971284013815321, 0.19712840138153212, 0.5971284013815321, 0.18436244393472379, 0.49712840138153214, 0.2971284013815321, 0.3971284013815321, 0.3971284013815321, 0.2971284013815321, 0.3971284013815321, 0.3971284013815321, 0.19712840138153212, 0.2971284013815321, 0.7971284013815321, 0.3971284013815321, 0.3971284013815321, 0.2971284013815321, 0.5023915592762691, 0.5971284013815321, 0.3971284013815321, 0.3971284013815321, 0.18879506804819784, 0.5971284013815321, 0.3971284013815321, -0.0028715986184678854, 0.6098943588283404, 0.5971284013815321, 0.3971284013815321, 0.2971284013815321, 0.5971284013815321, 0.6054617347148664, 0.5971284013815321, 0.49712840138153214, 0.5971284013815321, 0.3971284013815321, 0.5971284013815321, 0.2918652434867951, 0.5971284013815321, 0.3971284013815321, 0.3971284013815321, 0.19712840138153212, 0.5971284013815321, 0.5023915592762691, 0.3971284013815321, 0.7971284013815321, 0.5971284013815321, 0.7971284013815321, 0.5023915592762691, 0.5971284013815321, 0.9971284013815321, 0.6971284013815321, 0.5971284013815321]\n",
      "house: [3, 12, 8, 10, 8, 10, 10, 10, 8, 4, 7, 10, 4, 6, 10, 4, 12, 7, 4, 12, 10, 4, 12, 7, 12, 4, 10, 4, 7, 4, 4, 10, 7, 4, 10, 7, 4, 6, 4, 7, 10, 4, 7, 4, 4, 7, 10, 4, 4, 10, 9, 4, 7, 12, 4, 9, 12, 10, 4, 7, 6, 14, 10, 4, 7, 14, 7, 12, 12, 5, 9, 7, 10, 12, 5, 14, 12, 7, 12, 5, 12, 10, 14, 5, 9, 7, 12, 6, 12, 6, 12, 14, 12, 12, 5, 7, 12, 9, 14, 12, 5, 12, 6, 7, 11, 12, 5, 12, 14, 5, 12, 6, 12, 7, 12, 5, 11, 14, 12, 12, 5, 12, 6, 7, 9, 12, 5, 11, 14, 12, 12, 5, 12, 14, 12, 7, 11, 5, 6, 12, 12, 5, 14, 7, 12, 11, 12, 5, 6, 12, 7, 12, 5, 12, 12, 11, 5, 14, 9, 7, 12, 6, 12, 5, 12, 7, 12, 5, 11, 12, 13, 6, 5, 12, 9, 14, 7, 12, 11, 5, 12, 12, 6, 14, 7, 12, 5, 12, 11, 12, 5, 7, 12, 12, 5, 6, 1, 12, 12, 5, 7, 12, 11, 9, 12, 5, 6, 14, 2, 12, 12, 5, 7, 12, 11, 12, 5, 6, 12, 12, 14]\n",
      "day: [1, 2, 44, 66, 79, 94, 115, 136, 136, 164, 170, 171, 178, 186, 219, 220, 226, 233, 234, 247, 248, 248, 254, 261, 261, 262, 273, 276, 289, 290, 304, 304, 310, 318, 331, 332, 332, 336, 346, 352, 359, 360, 371, 374, 388, 394, 394, 402, 416, 423, 424, 430, 442, 443, 444, 444, 450, 450, 458, 463, 466, 470, 471, 472, 477, 481, 481, 492, 499, 500, 503, 505, 507, 513, 514, 516, 520, 526, 527, 528, 534, 535, 537, 542, 542, 547, 548, 550, 569, 575, 576, 579, 583, 590, 591, 597, 597, 599, 600, 604, 605, 611, 613, 617, 618, 618, 619, 625, 625, 632, 632, 634, 639, 645, 646, 647, 647, 649, 653, 660, 661, 667, 669, 672, 672, 674, 675, 675, 677, 681, 688, 689, 695, 698, 702, 703, 703, 703, 704, 709, 716, 717, 719, 722, 723, 730, 730, 731, 732, 737, 743, 744, 745, 751, 758, 758, 759, 761, 761, 764, 765, 767, 772, 773, 779, 785, 786, 787, 787, 793, 795, 795, 800, 800, 801, 803, 806, 807, 814, 814, 814, 821, 823, 825, 827, 828, 829, 835, 842, 842, 843, 848, 849, 856, 857, 858, 858, 863, 870, 871, 876, 877, 877, 879, 884, 885, 886, 888, 890, 891, 898, 899, 904, 905, 906, 912, 913, 914, 933, 940, 943]\n",
      "-------------\n",
      "\n",
      "Context:\n",
      "field: 2pp vote L/NP\n",
      "first day: 2022-06-15\n",
      "mean offset: 48.01435799309234\n",
      "scale: 5\n",
      "house codes: {2: 'Dynata', 11: 'Roy Morgan', 7: 'Newspoll-YouGov', 9: 'Resolve Strategic', 3: 'Essential', 6: 'Newspoll', 5: 'Freshwater Strategy', 8: 'RedBridge Group', 13: 'YouGov', 4: 'Essential 2', 10: 'Resolve Strategic 2', 12: 'Wolf & Smith', 0: 'ANU', 1: 'DemosAU'}\n",
      "-------------\n",
      "\n",
      "Chain [1] dyld[95991]: Symbol not found: __ZN3tbb4task13note_affinityEt\n",
      "Chain [1]   Referenced from: <9F3CB0DE-C10D-341B-9E85-3B7397F5A7AB> /Users/bryanpalmer/Australian-Federal-Election-2025/notebooks/stan-work/model\n",
      "Chain [1]   Expected in:     <C03BD9C9-CCFA-3818-BF4D-F779B8FAE283> /Users/bryanpalmer/micromamba/envs/stan/lib/libtbb.12.14.dylib\n",
      "Chain [1] \n",
      "Chain [2] dyld[95992]: Symbol not found: __ZN3tbb4task13note_affinityEt\n",
      "Chain [2]   Referenced from: <9F3CB0DE-C10D-341B-9E85-3B7397F5A7AB> /Users/bryanpalmer/Australian-Federal-Election-2025/notebooks/stan-work/model\n",
      "Chain [2]   Expected in:     <C03BD9C9-CCFA-3818-BF4D-F779B8FAE283> /Users/bryanpalmer/micromamba/envs/stan/lib/libtbb.12.14.dylib\n",
      "Chain [2] \n",
      "Chain [3] dyld[95993]: Symbol not found: __ZN3tbb4task13note_affinityEt\n",
      "Chain [3]   Referenced from: <9F3CB0DE-C10D-341B-9E85-3B7397F5A7AB> /Users/bryanpalmer/Australian-Federal-Election-2025/notebooks/stan-work/model\n",
      "Chain [3]   Expected in:     <C03BD9C9-CCFA-3818-BF4D-F779B8FAE283> /Users/bryanpalmer/micromamba/envs/stan/lib/libtbb.12.14.dylib\n",
      "Chain [3] \n",
      "Chain [4] dyld[95994]: Symbol not found: __ZN3tbb4task13note_affinityEt\n",
      "Chain [4] Referenced from: <9F3CB0DE-C10D-341B-9E85-3B7397F5A7AB> /Users/bryanpalmer/Australian-Federal-Election-2025/notebooks/stan-work/model\n",
      "Chain [4] Expected in:     <C03BD9C9-CCFA-3818-BF4D-F779B8FAE283> /Users/bryanpalmer/micromamba/envs/stan/lib/libtbb.12.14.dylib\n",
      "Chain [4] \n"
     ]
    },
    {
     "ename": "RuntimeError",
     "evalue": "Error during sampling:\n\nCommand and output files:\nRunSet: chains=4, chain_ids=[1, 2, 3, 4], num_processes=4\n cmd (chain 1):\n\t['/Users/bryanpalmer/Australian-Federal-Election-2025/notebooks/stan-work/model', 'id=1', 'random', 'seed=45661', 'data', 'file=stan-work/data-2pp-vote-LNP.json', 'output', 'file=/var/folders/96/8bhlz_x975z93glbxq_2_yqr0000gn/T/tmpd17ivflf/modelv65vlmk3/model-20250120083157_1.csv', 'method=sample', 'num_samples=1000', 'num_warmup=500', 'algorithm=hmc', 'adapt', 'engaged=1']\n retcodes=[-6, -6, -6, -6]\n per-chain output files (showing chain 1 only):\n csv_file:\n\t/var/folders/96/8bhlz_x975z93glbxq_2_yqr0000gn/T/tmpd17ivflf/modelv65vlmk3/model-20250120083157_1.csv\n console_msgs (if any):\n\t/var/folders/96/8bhlz_x975z93glbxq_2_yqr0000gn/T/tmpd17ivflf/modelv65vlmk3/model-20250120083157_0-stdout.txt",
     "output_type": "error",
     "traceback": [
      "\u001b[0;31m---------------------------------------------------------------------------\u001b[0m",
      "\u001b[0;31mRuntimeError\u001b[0m                              Traceback (most recent call last)",
      "Cell \u001b[0;32mIn[10], line 16\u001b[0m\n\u001b[1;32m     12\u001b[0m         \u001b[38;5;28mprint\u001b[39m(\u001b[38;5;124mf\u001b[39m\u001b[38;5;124m\"\u001b[39m\u001b[38;5;124mField: \u001b[39m\u001b[38;5;132;01m{\u001b[39;00mfield\u001b[38;5;132;01m}\u001b[39;00m\u001b[38;5;124m\"\u001b[39m)\n\u001b[1;32m     13\u001b[0m         aggregate_series(field)\n\u001b[0;32m---> 16\u001b[0m \u001b[43mfor_all_fields\u001b[49m\u001b[43m(\u001b[49m\u001b[43m)\u001b[49m\n",
      "Cell \u001b[0;32mIn[10], line 13\u001b[0m, in \u001b[0;36mfor_all_fields\u001b[0;34m(fields)\u001b[0m\n\u001b[1;32m     11\u001b[0m \u001b[38;5;28;01mfor\u001b[39;00m field \u001b[38;5;129;01min\u001b[39;00m fields:\n\u001b[1;32m     12\u001b[0m     \u001b[38;5;28mprint\u001b[39m(\u001b[38;5;124mf\u001b[39m\u001b[38;5;124m\"\u001b[39m\u001b[38;5;124mField: \u001b[39m\u001b[38;5;132;01m{\u001b[39;00mfield\u001b[38;5;132;01m}\u001b[39;00m\u001b[38;5;124m\"\u001b[39m)\n\u001b[0;32m---> 13\u001b[0m     \u001b[43maggregate_series\u001b[49m\u001b[43m(\u001b[49m\u001b[43mfield\u001b[49m\u001b[43m)\u001b[49m\n",
      "Cell \u001b[0;32mIn[9], line 7\u001b[0m, in \u001b[0;36maggregate_series\u001b[0;34m(field)\u001b[0m\n\u001b[1;32m      2\u001b[0m \u001b[38;5;250m\u001b[39m\u001b[38;5;124;03m\"\"\"Produce a Bayesian aggregation of the voting intention\u001b[39;00m\n\u001b[1;32m      3\u001b[0m \u001b[38;5;124;03mfor a given field (e.g. '2pp vote ALP').\"\"\"\u001b[39;00m\n\u001b[1;32m      5\u001b[0m datapath,_model_inputs, _model_context \u001b[38;5;241m=\u001b[39m prepare_input_data(field)\n\u001b[0;32m----> 7\u001b[0m fit \u001b[38;5;241m=\u001b[39m \u001b[43mMODEL\u001b[49m\u001b[38;5;241;43m.\u001b[39;49m\u001b[43msample\u001b[49m\u001b[43m(\u001b[49m\n\u001b[1;32m      8\u001b[0m \u001b[43m    \u001b[49m\u001b[43mdata\u001b[49m\u001b[38;5;241;43m=\u001b[39;49m\u001b[43mdatapath\u001b[49m\u001b[43m,\u001b[49m\n\u001b[1;32m      9\u001b[0m \u001b[43m    \u001b[49m\u001b[43mshow_console\u001b[49m\u001b[38;5;241;43m=\u001b[39;49m\u001b[38;5;28;43;01mTrue\u001b[39;49;00m\u001b[43m,\u001b[49m\n\u001b[1;32m     10\u001b[0m \u001b[43m    \u001b[49m\u001b[43miter_sampling\u001b[49m\u001b[38;5;241;43m=\u001b[39;49m\u001b[38;5;241;43m1000\u001b[39;49m\u001b[43m,\u001b[49m\n\u001b[1;32m     11\u001b[0m \u001b[43m    \u001b[49m\u001b[43miter_warmup\u001b[49m\u001b[38;5;241;43m=\u001b[39;49m\u001b[38;5;241;43m500\u001b[39;49m\u001b[43m,\u001b[49m\n\u001b[1;32m     12\u001b[0m \u001b[43m    \u001b[49m\u001b[43mchains\u001b[49m\u001b[38;5;241;43m=\u001b[39;49m\u001b[38;5;241;43m4\u001b[39;49m\u001b[43m,\u001b[49m\n\u001b[1;32m     13\u001b[0m \u001b[43m\u001b[49m\u001b[43m)\u001b[49m\n\u001b[1;32m     15\u001b[0m \u001b[38;5;28mprint\u001b[39m(fit\u001b[38;5;241m.\u001b[39msummary())\n",
      "File \u001b[0;32m~/micromamba/envs/312/lib/python3.12/site-packages/cmdstanpy/model.py:1136\u001b[0m, in \u001b[0;36mCmdStanModel.sample\u001b[0;34m(self, data, chains, parallel_chains, threads_per_chain, seed, chain_ids, inits, iter_warmup, iter_sampling, save_warmup, thin, max_treedepth, metric, step_size, adapt_engaged, adapt_delta, adapt_init_phase, adapt_metric_window, adapt_step_size, fixed_param, output_dir, sig_figs, save_latent_dynamics, save_profile, show_progress, show_console, refresh, time_fmt, timeout, force_one_process_per_chain)\u001b[0m\n\u001b[1;32m   1131\u001b[0m     \u001b[38;5;28;01mif\u001b[39;00m \u001b[38;5;129;01mnot\u001b[39;00m show_console:\n\u001b[1;32m   1132\u001b[0m         msg \u001b[38;5;241m+\u001b[39m\u001b[38;5;241m=\u001b[39m (\n\u001b[1;32m   1133\u001b[0m             \u001b[38;5;124m'\u001b[39m\u001b[38;5;130;01m\\n\u001b[39;00m\u001b[38;5;124mConsider re-running with show_console=True if the\u001b[39m\u001b[38;5;124m'\u001b[39m\n\u001b[1;32m   1134\u001b[0m             \u001b[38;5;124m'\u001b[39m\u001b[38;5;124m above output is unclear!\u001b[39m\u001b[38;5;124m'\u001b[39m\n\u001b[1;32m   1135\u001b[0m         )\n\u001b[0;32m-> 1136\u001b[0m     \u001b[38;5;28;01mraise\u001b[39;00m \u001b[38;5;167;01mRuntimeError\u001b[39;00m(msg)\n\u001b[1;32m   1137\u001b[0m \u001b[38;5;28;01mif\u001b[39;00m errors:\n\u001b[1;32m   1138\u001b[0m     msg \u001b[38;5;241m=\u001b[39m \u001b[38;5;124mf\u001b[39m\u001b[38;5;124m'\u001b[39m\u001b[38;5;124mNon-fatal error during sampling:\u001b[39m\u001b[38;5;130;01m\\n\u001b[39;00m\u001b[38;5;132;01m{\u001b[39;00merrors\u001b[38;5;132;01m}\u001b[39;00m\u001b[38;5;124m'\u001b[39m\n",
      "\u001b[0;31mRuntimeError\u001b[0m: Error during sampling:\n\nCommand and output files:\nRunSet: chains=4, chain_ids=[1, 2, 3, 4], num_processes=4\n cmd (chain 1):\n\t['/Users/bryanpalmer/Australian-Federal-Election-2025/notebooks/stan-work/model', 'id=1', 'random', 'seed=45661', 'data', 'file=stan-work/data-2pp-vote-LNP.json', 'output', 'file=/var/folders/96/8bhlz_x975z93glbxq_2_yqr0000gn/T/tmpd17ivflf/modelv65vlmk3/model-20250120083157_1.csv', 'method=sample', 'num_samples=1000', 'num_warmup=500', 'algorithm=hmc', 'adapt', 'engaged=1']\n retcodes=[-6, -6, -6, -6]\n per-chain output files (showing chain 1 only):\n csv_file:\n\t/var/folders/96/8bhlz_x975z93glbxq_2_yqr0000gn/T/tmpd17ivflf/modelv65vlmk3/model-20250120083157_1.csv\n console_msgs (if any):\n\t/var/folders/96/8bhlz_x975z93glbxq_2_yqr0000gn/T/tmpd17ivflf/modelv65vlmk3/model-20250120083157_0-stdout.txt"
     ]
    }
   ],
   "source": [
    "def for_all_fields(fields: list[str] | None = None):\n",
    "    \"\"\"Undertake Bayesian aggregation for a selection of fields.\"\"\"\n",
    "\n",
    "    if fields is None:\n",
    "        fields = [\n",
    "            '2pp vote L/NP', '2pp vote ALP',\n",
    "            'Primary vote L/NP', 'Primary vote ALP', \n",
    "            'Primary vote GRN', 'Primary vote OTH'\n",
    "        ]   \n",
    "\n",
    "    for field in fields:\n",
    "        print(f\"Field: {field}\")\n",
    "        aggregate_series(field)\n",
    "\n",
    "\n",
    "for_all_fields()"
   ]
  },
  {
   "cell_type": "markdown",
   "id": "9b304faa",
   "metadata": {},
   "source": [
    "## Still to do"
   ]
  },
  {
   "cell_type": "code",
   "execution_count": null,
   "id": "58ec9524",
   "metadata": {},
   "outputs": [],
   "source": [
    "# to do"
   ]
  },
  {
   "cell_type": "markdown",
   "id": "4234d3bd-e617-4d2a-9dbf-9bd0b826f55d",
   "metadata": {},
   "source": [
    "## Finished"
   ]
  },
  {
   "cell_type": "code",
   "execution_count": 12,
   "id": "fbf1739b-37de-458f-b23b-ab39c915fdd8",
   "metadata": {},
   "outputs": [
    {
     "name": "stdout",
     "output_type": "stream",
     "text": [
      "The watermark extension is already loaded. To reload it, use:\n",
      "  %reload_ext watermark\n",
      "Python implementation: CPython\n",
      "Python version       : 3.12.8\n",
      "IPython version      : 8.31.0\n",
      "\n",
      "conda environment: stan\n",
      "\n",
      "Compiler    : Clang 18.1.8 \n",
      "OS          : Darwin\n",
      "Release     : 24.2.0\n",
      "Machine     : arm64\n",
      "Processor   : arm\n",
      "CPU cores   : 14\n",
      "Architecture: 64bit\n",
      "\n",
      "json     : 2.0.9\n",
      "cmdstanpy: 1.2.5\n",
      "\n",
      "Watermark: 2.5.0\n",
      "\n"
     ]
    }
   ],
   "source": [
    "%load_ext watermark\n",
    "%watermark --python --machine --conda --iversions --watermark"
   ]
  },
  {
   "cell_type": "code",
   "execution_count": null,
   "id": "89fda6ee-1daf-4402-9cca-0d21d7435fa2",
   "metadata": {},
   "outputs": [],
   "source": [
    "print(\"Finished\")"
   ]
  }
 ],
 "metadata": {
  "kernelspec": {
   "display_name": "312",
   "language": "python",
   "name": "python3"
  },
  "language_info": {
   "codemirror_mode": {
    "name": "ipython",
    "version": 3
   },
   "file_extension": ".py",
   "mimetype": "text/x-python",
   "name": "python",
   "nbconvert_exporter": "python",
   "pygments_lexer": "ipython3",
   "version": "3.12.8"
  }
 },
 "nbformat": 4,
 "nbformat_minor": 5
}
