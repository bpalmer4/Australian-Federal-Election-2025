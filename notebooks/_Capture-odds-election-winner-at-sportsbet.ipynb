{
 "cells": [
  {
   "cell_type": "markdown",
   "id": "7877f3e3",
   "metadata": {},
   "source": [
    "# Capture odds - election winner at sportsbet\n",
    "\n",
    "Note: this notebook is for ease of testing. Convert to a python file and move to the automated directory.\n",
    "\n",
    "To do this ...\n",
    "```\n",
    "jupyter nbconvert --to python _Capture-odds-election-winner-at-sportsbet.ipynb\n",
    "\n",
    "chmod 700 _Capture-odds-election-winner-at-sportsbet.py\n",
    "\n",
    "mv _Capture-odds-election-winner-at-sportsbet.py ../automated\n",
    "```"
   ]
  },
  {
   "cell_type": "markdown",
   "id": "544f708d-d0b5-4158-ac6c-ca849b825759",
   "metadata": {},
   "source": [
    "Shell file called by cron:\n",
    "```\n",
    "#!/bin/zsh\n",
    "#crontab: 57 11 * * * /Users/bryanpalmer/Australian-Federal-Election-2025/automated/election-winner.sh\n",
    "\n",
    "# set-up parameters\n",
    "home=/Users/bryanpalmer\n",
    "working=Australian-Federal-Election-2025/automated\n",
    "runrun=_Capture-odds-election-winner-at-sportsbet.py\n",
    "mmenv=p311\n",
    "\n",
    "# move to the home directory\n",
    "cd $home\n",
    "\n",
    "# activate the micromamba environment\n",
    "micromamba activate $mmenv\n",
    "\n",
    "# move to the working directory\n",
    "cd $working\n",
    "\n",
    "#initiate the data capture\n",
    "$home/micromamba/envs/$mmenv/bin/python ./$runrun >>log.log 2>> err.log\n",
    "```"
   ]
  },
  {
   "cell_type": "markdown",
   "id": "e9b68c04",
   "metadata": {},
   "source": [
    "## Python setup"
   ]
  },
  {
   "cell_type": "code",
   "execution_count": 1,
   "id": "564a76be",
   "metadata": {
    "ExecuteTime": {
     "end_time": "2022-01-26T01:00:39.903355Z",
     "start_time": "2022-01-26T01:00:39.048552Z"
    }
   },
   "outputs": [],
   "source": [
    "# data science imports\n",
    "# System imports\n",
    "import datetime\n",
    "from pathlib import Path\n",
    "\n",
    "import numpy as np\n",
    "import pandas as pd\n",
    "from bs4 import BeautifulSoup\n",
    "\n",
    "# web scraping imports\n",
    "from selenium import webdriver\n",
    "from selenium.webdriver.chrome.service import Service as ChromeService\n",
    "from webdriver_manager.chrome import ChromeDriverManager"
   ]
  },
  {
   "cell_type": "markdown",
   "id": "cef501ea",
   "metadata": {
    "ExecuteTime": {
     "end_time": "2021-12-19T03:37:57.611094Z",
     "start_time": "2021-12-19T03:37:57.608964Z"
    }
   },
   "source": [
    "## Set-up web-driver options"
   ]
  },
  {
   "cell_type": "code",
   "execution_count": 2,
   "id": "14a3e18d",
   "metadata": {
    "ExecuteTime": {
     "end_time": "2022-01-26T01:00:39.906566Z",
     "start_time": "2022-01-26T01:00:39.904520Z"
    }
   },
   "outputs": [],
   "source": [
    "options = webdriver.ChromeOptions()\n",
    "options.add_argument(\"--ignore-certificate-errors\")\n",
    "options.add_argument(\"--incognito\")\n",
    "options.add_argument(\"--headless\")"
   ]
  },
  {
   "cell_type": "markdown",
   "id": "989e2da1",
   "metadata": {},
   "source": [
    "## Extract website text using Selenium"
   ]
  },
  {
   "cell_type": "code",
   "execution_count": 3,
   "id": "37193332",
   "metadata": {
    "ExecuteTime": {
     "end_time": "2022-01-26T01:00:49.375962Z",
     "start_time": "2022-01-26T01:00:39.907457Z"
    }
   },
   "outputs": [],
   "source": [
    "# get the web page text\n",
    "driver = driver = webdriver.Chrome(\n",
    "    service=ChromeService(ChromeDriverManager().install()), options=options\n",
    ")\n",
    "driver.implicitly_wait(60)\n",
    "url = (\n",
    "    \"https://www.sportsbet.com.au/betting/politics/australian-federal-politics/\"\n",
    "    \"48th-parliament-of-australia-6560505\"\n",
    ")\n",
    "driver.get(url)\n",
    "soup = BeautifulSoup(driver.page_source, \"lxml\")\n",
    "driver.close()"
   ]
  },
  {
   "cell_type": "code",
   "execution_count": 4,
   "id": "e1d89b1b",
   "metadata": {
    "ExecuteTime": {
     "end_time": "2022-01-26T01:00:49.380172Z",
     "start_time": "2022-01-26T01:00:49.378178Z"
    },
    "scrolled": true
   },
   "outputs": [],
   "source": [
    "# print(soup.prettify())"
   ]
  },
  {
   "cell_type": "markdown",
   "id": "23288bdb",
   "metadata": {},
   "source": [
    "## Extract data of interest"
   ]
  },
  {
   "cell_type": "code",
   "execution_count": 5,
   "id": "abe17af2",
   "metadata": {
    "ExecuteTime": {
     "end_time": "2022-01-26T01:00:49.385848Z",
     "start_time": "2022-01-26T01:00:49.380984Z"
    },
    "scrolled": true
   },
   "outputs": [],
   "source": [
    "# Step one - get to the right bit of the page ...\n",
    "# <div class=\"background_fja218n\" data-automation-id=\"content-background\">\n",
    "div_name = \"content-background\"  # this looks fragile\n",
    "div = soup.find_all(\"div\", {\"data-automation-id\": div_name})[0]\n",
    "# print(div.prettify())"
   ]
  },
  {
   "cell_type": "code",
   "execution_count": 6,
   "id": "23b6ce28",
   "metadata": {
    "ExecuteTime": {
     "end_time": "2022-01-26T01:00:49.391781Z",
     "start_time": "2022-01-26T01:00:49.387249Z"
    }
   },
   "outputs": [
    {
     "data": {
      "text/plain": [
       "2"
      ]
     },
     "execution_count": 6,
     "metadata": {},
     "output_type": "execute_result"
    }
   ],
   "source": [
    "# step 2\n",
    "# <div class=\"outcomeCardItems_f4kk892\">\n",
    "odds = div.find_all(\"div\", {\"class\": \"outcomeCardItems_f4kk892\"})  # fragile\n",
    "len(odds)  # should be two: for a names row and a prices row"
   ]
  },
  {
   "cell_type": "code",
   "execution_count": 7,
   "id": "5895fde1",
   "metadata": {
    "ExecuteTime": {
     "end_time": "2022-01-26T01:00:49.396930Z",
     "start_time": "2022-01-26T01:00:49.392908Z"
    }
   },
   "outputs": [
    {
     "data": {
      "text/plain": [
       "{'Labor': '1.60', 'Coalition': '2.40', 'Any Other Party': '101.00'}"
      ]
     },
     "execution_count": 7,
     "metadata": {},
     "output_type": "execute_result"
    }
   ],
   "source": [
    "found = {}\n",
    "for k, v in zip(odds[0].contents, odds[1].contents):\n",
    "    found[k.text] = v.text\n",
    "found  # should be a dictionary of parties and prices/odds"
   ]
  },
  {
   "cell_type": "markdown",
   "id": "8bc0964d",
   "metadata": {},
   "source": [
    "## Append this data to a CSV file"
   ]
  },
  {
   "cell_type": "code",
   "execution_count": 8,
   "id": "ad7a36ad",
   "metadata": {
    "ExecuteTime": {
     "end_time": "2022-01-26T01:00:49.403316Z",
     "start_time": "2022-01-26T01:00:49.397938Z"
    }
   },
   "outputs": [],
   "source": [
    "# long format\n",
    "df = pd.DataFrame([found.keys(), found.values()], index=[\"variable\", \"value\"]).T\n",
    "df.index = np.repeat(datetime.datetime.now(), len(df))\n",
    "df.index.name = \"datetime\""
   ]
  },
  {
   "cell_type": "code",
   "execution_count": 9,
   "id": "7257ea12",
   "metadata": {
    "ExecuteTime": {
     "end_time": "2022-01-26T01:00:49.412685Z",
     "start_time": "2022-01-26T01:00:49.404298Z"
    }
   },
   "outputs": [
    {
     "data": {
      "text/html": [
       "<div>\n",
       "<style scoped>\n",
       "    .dataframe tbody tr th:only-of-type {\n",
       "        vertical-align: middle;\n",
       "    }\n",
       "\n",
       "    .dataframe tbody tr th {\n",
       "        vertical-align: top;\n",
       "    }\n",
       "\n",
       "    .dataframe thead th {\n",
       "        text-align: right;\n",
       "    }\n",
       "</style>\n",
       "<table border=\"1\" class=\"dataframe\">\n",
       "  <thead>\n",
       "    <tr style=\"text-align: right;\">\n",
       "      <th></th>\n",
       "      <th>variable</th>\n",
       "      <th>value</th>\n",
       "    </tr>\n",
       "    <tr>\n",
       "      <th>datetime</th>\n",
       "      <th></th>\n",
       "      <th></th>\n",
       "    </tr>\n",
       "  </thead>\n",
       "  <tbody>\n",
       "    <tr>\n",
       "      <th>2023-10-29 09:00:42.183511</th>\n",
       "      <td>Labor</td>\n",
       "      <td>1.60</td>\n",
       "    </tr>\n",
       "    <tr>\n",
       "      <th>2023-10-29 09:00:42.183511</th>\n",
       "      <td>Coalition</td>\n",
       "      <td>2.40</td>\n",
       "    </tr>\n",
       "    <tr>\n",
       "      <th>2023-10-29 09:00:42.183511</th>\n",
       "      <td>Any Other Party</td>\n",
       "      <td>101.00</td>\n",
       "    </tr>\n",
       "  </tbody>\n",
       "</table>\n",
       "</div>"
      ],
      "text/plain": [
       "                                   variable   value\n",
       "datetime                                           \n",
       "2023-10-29 09:00:42.183511            Labor    1.60\n",
       "2023-10-29 09:00:42.183511        Coalition    2.40\n",
       "2023-10-29 09:00:42.183511  Any Other Party  101.00"
      ]
     },
     "execution_count": 9,
     "metadata": {},
     "output_type": "execute_result"
    }
   ],
   "source": [
    "df"
   ]
  },
  {
   "cell_type": "code",
   "execution_count": 10,
   "id": "79bd1309",
   "metadata": {
    "ExecuteTime": {
     "end_time": "2022-01-26T01:00:49.421934Z",
     "start_time": "2022-01-26T01:00:49.415164Z"
    }
   },
   "outputs": [],
   "source": [
    "# save to file\n",
    "DIR = \"../betting-data\"\n",
    "Path(DIR).mkdir(parents=True, exist_ok=True)\n",
    "FILE = f\"{DIR}/sportsbet-2025-election-winner.csv\"\n",
    "df.to_csv(FILE, mode=\"a\", index=True, header=False)"
   ]
  },
  {
   "cell_type": "markdown",
   "id": "160c5841-4ef8-4e2b-870f-0549ae14c40f",
   "metadata": {},
   "source": [
    "## Done"
   ]
  },
  {
   "cell_type": "code",
   "execution_count": null,
   "id": "5d4503bc-707f-4d96-9768-0a9cc50e1b20",
   "metadata": {},
   "outputs": [],
   "source": []
  }
 ],
 "metadata": {
  "kernelspec": {
   "display_name": "Python 3 (ipykernel)",
   "language": "python",
   "name": "python3"
  },
  "language_info": {
   "codemirror_mode": {
    "name": "ipython",
    "version": 3
   },
   "file_extension": ".py",
   "mimetype": "text/x-python",
   "name": "python",
   "nbconvert_exporter": "python",
   "pygments_lexer": "ipython3",
   "version": "3.11.6"
  },
  "toc": {
   "base_numbering": 1,
   "nav_menu": {},
   "number_sections": true,
   "sideBar": true,
   "skip_h1_title": true,
   "title_cell": "Table of Contents",
   "title_sidebar": "Contents",
   "toc_cell": true,
   "toc_position": {},
   "toc_section_display": true,
   "toc_window_display": true
  },
  "varInspector": {
   "cols": {
    "lenName": 16,
    "lenType": 16,
    "lenVar": 40
   },
   "kernels_config": {
    "python": {
     "delete_cmd_postfix": "",
     "delete_cmd_prefix": "del ",
     "library": "var_list.py",
     "varRefreshCmd": "print(var_dic_list())"
    },
    "r": {
     "delete_cmd_postfix": ") ",
     "delete_cmd_prefix": "rm(",
     "library": "var_list.r",
     "varRefreshCmd": "cat(var_dic_list()) "
    }
   },
   "types_to_exclude": [
    "module",
    "function",
    "builtin_function_or_method",
    "instance",
    "_Feature"
   ],
   "window_display": false
  }
 },
 "nbformat": 4,
 "nbformat_minor": 5
}
