{
 "cells": [
  {
   "cell_type": "markdown",
   "id": "17deba81-0a52-461e-a50b-ea1489aeefa3",
   "metadata": {},
   "source": [
    "# Localised Regression charts"
   ]
  },
  {
   "cell_type": "markdown",
   "id": "707e4242-81c1-417e-a9aa-4e0b1fccc639",
   "metadata": {},
   "source": [
    "## Set-up"
   ]
  },
  {
   "cell_type": "code",
   "execution_count": 1,
   "id": "f339aa15-4783-4269-8d7e-8daecc453361",
   "metadata": {},
   "outputs": [],
   "source": [
    "import matplotlib.pyplot as plt\n",
    "import pandas as pd"
   ]
  },
  {
   "cell_type": "code",
   "execution_count": 2,
   "id": "d5bfa5fe-e3da-45a6-a1c2-ca3c326eb18a",
   "metadata": {},
   "outputs": [],
   "source": [
    "# local import\n",
    "import plotting\n",
    "from common import ATTITUDINAL, VOTING_INTENTION, ensure\n",
    "from data_capture import retrieve"
   ]
  },
  {
   "cell_type": "code",
   "execution_count": 3,
   "id": "fe8b3830-ca4b-4206-b3b2-591eed9038ac",
   "metadata": {},
   "outputs": [],
   "source": [
    "plt.style.use(\"fivethirtyeight\")\n",
    "SHOW = False"
   ]
  },
  {
   "cell_type": "markdown",
   "id": "112dc629-7ca1-4635-82e6-a3cbeb113177",
   "metadata": {},
   "source": [
    "## Get data"
   ]
  },
  {
   "cell_type": "code",
   "execution_count": 4,
   "id": "0e5db8c7-b3c8-4796-ba60-632c8aa4fce3",
   "metadata": {},
   "outputs": [],
   "source": [
    "data = retrieve()\n",
    "ensure(data, \"You must run the data capture notebook every day.\")"
   ]
  },
  {
   "cell_type": "code",
   "execution_count": 5,
   "id": "55f4a8b6-078a-4e17-80f8-148b382f7412",
   "metadata": {},
   "outputs": [],
   "source": [
    "# Double check that our voting intention data has been normalized ...\n",
    "# Ideally, this cell will show nothing is wrong.\n",
    "\n",
    "checkable = \"Primary\", \"2pp\"\n",
    "vi = data[VOTING_INTENTION]\n",
    "for check in checkable:\n",
    "    columns = [c for c in vi.columns if check in c and \"Other\" not in c]\n",
    "    check_these = vi[columns]\n",
    "    row_sum = check_these.sum(axis=1)\n",
    "    fail = check_these[(row_sum > 100.01) | (row_sum < 99.99)].copy()\n",
    "    if len(fail):\n",
    "        fail[\"TOTAL\"] = row_sum\n",
    "        display(fail)"
   ]
  },
  {
   "cell_type": "code",
   "execution_count": 6,
   "id": "e5e0bd81-3cb6-4e37-a39b-4b4ab77b623f",
   "metadata": {},
   "outputs": [
    {
     "data": {
      "text/plain": [
       "['Primary vote L/NP',\n",
       " 'Primary vote ALP',\n",
       " 'Primary vote GRN',\n",
       " 'Primary vote ONP',\n",
       " 'Primary vote UAP',\n",
       " 'Primary vote OTH',\n",
       " 'Primary vote Other']"
      ]
     },
     "execution_count": 6,
     "metadata": {},
     "output_type": "execute_result"
    }
   ],
   "source": [
    "# Amalgamate the ONP, UAP and OTH columns\n",
    "vi = plotting.amalgamate_other(data[VOTING_INTENTION])\n",
    "\n",
    "# let's look at the Primary Vote column names ...\n",
    "[x for x in vi.columns if \"Primary vote\" in x]"
   ]
  },
  {
   "cell_type": "markdown",
   "id": "c8c61b56-c9eb-4fc7-a4b5-2c8d032542ee",
   "metadata": {},
   "source": [
    "## And plot"
   ]
  },
  {
   "cell_type": "code",
   "execution_count": 7,
   "id": "7eb773d3-a63e-4183-aa8b-d87400398f0a",
   "metadata": {},
   "outputs": [],
   "source": [
    "# what we will plot ...\n",
    "plotable = {\n",
    "    VOTING_INTENTION: [\n",
    "        # regex patterns for matching desired columns\n",
    "        r\"2pp vote ALP\",\n",
    "        r\"2pp vote L/NP\",\n",
    "        r\"Primary vote (L/NP|ALP)\",\n",
    "        r\"Primary vote (GRN|Other)\",\n",
    "    ],\n",
    "    ATTITUDINAL: [\n",
    "        # regex patterns for matching desired columns\n",
    "        r\"^Dutton (Satisfied|Dissatisfied)\",\n",
    "        r\"^Albanese (Satisfied|Dissatisfied)\",\n",
    "        r\"Preferred Prime Minister (Dutton|Albanese)\",\n",
    "        r\"(Dutton|Albanese) Net\",\n",
    "    ],\n",
    "}\n",
    "\n",
    "plotting.plot_loess(data, plotable, show=SHOW)"
   ]
  },
  {
   "cell_type": "markdown",
   "id": "4234d3bd-e617-4d2a-9dbf-9bd0b826f55d",
   "metadata": {},
   "source": [
    "## Finished"
   ]
  },
  {
   "cell_type": "code",
   "execution_count": 8,
   "id": "fbf1739b-37de-458f-b23b-ab39c915fdd8",
   "metadata": {},
   "outputs": [
    {
     "name": "stdout",
     "output_type": "stream",
     "text": [
      "Last updated: Fri Dec 15 2023 17:46:34\n",
      "\n",
      "Python implementation: CPython\n",
      "Python version       : 3.11.6\n",
      "IPython version      : 8.18.1\n",
      "\n",
      "pandas    : 2.1.3\n",
      "matplotlib: 3.8.2\n",
      "\n",
      "Watermark: 2.4.3\n",
      "\n"
     ]
    }
   ],
   "source": [
    "%load_ext watermark\n",
    "%watermark -u -n -t -v -iv -w"
   ]
  },
  {
   "cell_type": "code",
   "execution_count": 9,
   "id": "89fda6ee-1daf-4402-9cca-0d21d7435fa2",
   "metadata": {},
   "outputs": [
    {
     "name": "stdout",
     "output_type": "stream",
     "text": [
      "Finished\n"
     ]
    }
   ],
   "source": [
    "print(\"Finished\")"
   ]
  },
  {
   "cell_type": "code",
   "execution_count": null,
   "id": "cb1231cd-3b31-4ace-8416-918f181850f2",
   "metadata": {},
   "outputs": [],
   "source": []
  }
 ],
 "metadata": {
  "kernelspec": {
   "display_name": "Python 3 (ipykernel)",
   "language": "python",
   "name": "python3"
  },
  "language_info": {
   "codemirror_mode": {
    "name": "ipython",
    "version": 3
   },
   "file_extension": ".py",
   "mimetype": "text/x-python",
   "name": "python",
   "nbconvert_exporter": "python",
   "pygments_lexer": "ipython3",
   "version": "3.11.6"
  }
 },
 "nbformat": 4,
 "nbformat_minor": 5
}
